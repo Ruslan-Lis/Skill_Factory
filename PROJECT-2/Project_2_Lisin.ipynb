{
  "cells": [
    {
      "attachments": {},
      "cell_type": "markdown",
      "id": "42289889-bd57-434e-9637-d3e354756316",
      "metadata": {
        "id": "42289889-bd57-434e-9637-d3e354756316"
      },
      "source": [
        "<center> <img src = https://raw.githubusercontent.com/AndreyRysistov/DatasetsForPandas/main/hh%20label.jpg alt=\"drawing\" style=\"width:400px;\">"
      ]
    },
    {
      "attachments": {},
      "cell_type": "markdown",
      "id": "829cb75b-f14e-4ba8-9195-7ba929a7d656",
      "metadata": {
        "id": "829cb75b-f14e-4ba8-9195-7ba929a7d656",
        "tags": []
      },
      "source": [
        "# <center> Проект: Анализ вакансий из HeadHunter\n",
        "   "
      ]
    },
    {
      "cell_type": "code",
      "execution_count": 64,
      "id": "dccfde33-2452-43fb-a8a5-5c6ebc02a71d",
      "metadata": {
        "id": "dccfde33-2452-43fb-a8a5-5c6ebc02a71d"
      },
      "outputs": [],
      "source": [
        "import pandas as pd\n",
        "import plotly.express as px\n",
        "import psycopg2\n",
        "import json"
      ]
    },
    {
      "cell_type": "code",
      "execution_count": 65,
      "id": "3cd3c627",
      "metadata": {},
      "outputs": [],
      "source": [
        "# загрузка параметров соединения из файла\n",
        "with open('sql_conection_param.json', 'r') as fp:\n",
        "    con = json.load(fp)\n",
        "    \n",
        "connection = f'postgresql+psycopg2://{con[\"USER\"]}:{con[\"PASSWORD\"]}@{con[\"HOST\"]}:{con[\"PORT\"]}/{con[\"DBNAME\"]}' "
      ]
    },
    {
      "attachments": {},
      "cell_type": "markdown",
      "id": "0dc6476b-7a00-44f1-ac93-6e3baed33a29",
      "metadata": {
        "id": "0dc6476b-7a00-44f1-ac93-6e3baed33a29"
      },
      "source": [
        "# Юнит 3. Предварительный анализ данных"
      ]
    },
    {
      "attachments": {},
      "cell_type": "markdown",
      "id": "889782b6-8d1c-410e-8920-e57f27917c64",
      "metadata": {
        "id": "889782b6-8d1c-410e-8920-e57f27917c64"
      },
      "source": [
        "1. Напишите запрос, который посчитает количество вакансий в нашей базе (вакансии находятся в таблице vacancies). "
      ]
    },
    {
      "cell_type": "code",
      "execution_count": 66,
      "id": "bc39e68e-ed02-4ee2-9235-7258a2f867a8",
      "metadata": {
        "id": "bc39e68e-ed02-4ee2-9235-7258a2f867a8"
      },
      "outputs": [],
      "source": [
        "query_3_1 = f'''\n",
        "    SELECT COUNT(id) count_vacancies\n",
        "    FROM public.vacancies\n",
        "'''"
      ]
    },
    {
      "cell_type": "code",
      "execution_count": 67,
      "id": "7mAwtsk4hEHY",
      "metadata": {
        "id": "7mAwtsk4hEHY"
      },
      "outputs": [
        {
          "data": {
            "text/html": [
              "<div>\n",
              "<style scoped>\n",
              "    .dataframe tbody tr th:only-of-type {\n",
              "        vertical-align: middle;\n",
              "    }\n",
              "\n",
              "    .dataframe tbody tr th {\n",
              "        vertical-align: top;\n",
              "    }\n",
              "\n",
              "    .dataframe thead th {\n",
              "        text-align: right;\n",
              "    }\n",
              "</style>\n",
              "<table border=\"1\" class=\"dataframe\">\n",
              "  <thead>\n",
              "    <tr style=\"text-align: right;\">\n",
              "      <th></th>\n",
              "      <th>count_vacancies</th>\n",
              "    </tr>\n",
              "  </thead>\n",
              "  <tbody>\n",
              "    <tr>\n",
              "      <th>0</th>\n",
              "      <td>49197</td>\n",
              "    </tr>\n",
              "  </tbody>\n",
              "</table>\n",
              "</div>"
            ],
            "text/plain": [
              "   count_vacancies\n",
              "0            49197"
            ]
          },
          "execution_count": 67,
          "metadata": {},
          "output_type": "execute_result"
        }
      ],
      "source": [
        "df_3_1 = pd.read_sql_query(query_3_1, connection)\n",
        "df_3_1"
      ]
    },
    {
      "attachments": {},
      "cell_type": "markdown",
      "id": "b583485d-1f9e-494e-ada4-80ffff7c53d6",
      "metadata": {
        "id": "b583485d-1f9e-494e-ada4-80ffff7c53d6"
      },
      "source": [
        "2. Напишите запрос, который посчитает количество работодателей (таблица employers). "
      ]
    },
    {
      "cell_type": "code",
      "execution_count": 68,
      "id": "5408c52c-3407-4a63-b25b-1aafa2322d28",
      "metadata": {
        "id": "5408c52c-3407-4a63-b25b-1aafa2322d28"
      },
      "outputs": [],
      "source": [
        "query_3_2 = f'''\n",
        "    SELECT COUNT(id) count_employers\n",
        "    FROM public.employers\n",
        "'''"
      ]
    },
    {
      "cell_type": "code",
      "execution_count": 69,
      "id": "jVL4eshKhdqc",
      "metadata": {
        "id": "jVL4eshKhdqc"
      },
      "outputs": [
        {
          "data": {
            "text/html": [
              "<div>\n",
              "<style scoped>\n",
              "    .dataframe tbody tr th:only-of-type {\n",
              "        vertical-align: middle;\n",
              "    }\n",
              "\n",
              "    .dataframe tbody tr th {\n",
              "        vertical-align: top;\n",
              "    }\n",
              "\n",
              "    .dataframe thead th {\n",
              "        text-align: right;\n",
              "    }\n",
              "</style>\n",
              "<table border=\"1\" class=\"dataframe\">\n",
              "  <thead>\n",
              "    <tr style=\"text-align: right;\">\n",
              "      <th></th>\n",
              "      <th>count_employers</th>\n",
              "    </tr>\n",
              "  </thead>\n",
              "  <tbody>\n",
              "    <tr>\n",
              "      <th>0</th>\n",
              "      <td>23501</td>\n",
              "    </tr>\n",
              "  </tbody>\n",
              "</table>\n",
              "</div>"
            ],
            "text/plain": [
              "   count_employers\n",
              "0            23501"
            ]
          },
          "execution_count": 69,
          "metadata": {},
          "output_type": "execute_result"
        }
      ],
      "source": [
        "df_3_2 = pd.read_sql_query(query_3_2, connection)\n",
        "df_3_2"
      ]
    },
    {
      "attachments": {},
      "cell_type": "markdown",
      "id": "a2bfff1f-c975-4bf6-84be-2185d79dcb76",
      "metadata": {
        "id": "a2bfff1f-c975-4bf6-84be-2185d79dcb76"
      },
      "source": [
        "3. Посчитате с помощью запроса количество регионов (таблица areas)."
      ]
    },
    {
      "cell_type": "code",
      "execution_count": 70,
      "id": "1m8QJwBYhey6",
      "metadata": {
        "id": "1m8QJwBYhey6"
      },
      "outputs": [],
      "source": [
        "query_3_3 = f'''\n",
        "    SELECT COUNT(id) count_areas\n",
        "    FROM public.areas\n",
        "'''"
      ]
    },
    {
      "cell_type": "code",
      "execution_count": 71,
      "id": "EZsn9tlfhe7f",
      "metadata": {
        "id": "EZsn9tlfhe7f"
      },
      "outputs": [
        {
          "data": {
            "text/html": [
              "<div>\n",
              "<style scoped>\n",
              "    .dataframe tbody tr th:only-of-type {\n",
              "        vertical-align: middle;\n",
              "    }\n",
              "\n",
              "    .dataframe tbody tr th {\n",
              "        vertical-align: top;\n",
              "    }\n",
              "\n",
              "    .dataframe thead th {\n",
              "        text-align: right;\n",
              "    }\n",
              "</style>\n",
              "<table border=\"1\" class=\"dataframe\">\n",
              "  <thead>\n",
              "    <tr style=\"text-align: right;\">\n",
              "      <th></th>\n",
              "      <th>count_areas</th>\n",
              "    </tr>\n",
              "  </thead>\n",
              "  <tbody>\n",
              "    <tr>\n",
              "      <th>0</th>\n",
              "      <td>1362</td>\n",
              "    </tr>\n",
              "  </tbody>\n",
              "</table>\n",
              "</div>"
            ],
            "text/plain": [
              "   count_areas\n",
              "0         1362"
            ]
          },
          "execution_count": 71,
          "metadata": {},
          "output_type": "execute_result"
        }
      ],
      "source": [
        "df_3_3 = pd.read_sql_query(query_3_3, connection)\n",
        "df_3_3"
      ]
    },
    {
      "attachments": {},
      "cell_type": "markdown",
      "id": "41bb59f3-53cc-4a67-a5bc-bedf573955e4",
      "metadata": {
        "id": "41bb59f3-53cc-4a67-a5bc-bedf573955e4"
      },
      "source": [
        "4. Посчитате с помощью запроса количество сфер деятельности в базе (таблица industries)."
      ]
    },
    {
      "cell_type": "code",
      "execution_count": 72,
      "id": "d286cf4c-707b-4cd2-9190-7ab3587d04a1",
      "metadata": {
        "id": "d286cf4c-707b-4cd2-9190-7ab3587d04a1"
      },
      "outputs": [],
      "source": [
        "query_3_4 = f'''\n",
        "    SELECT COUNT(id) count_industries\n",
        "    FROM public.industries\n",
        "'''"
      ]
    },
    {
      "cell_type": "code",
      "execution_count": 73,
      "id": "JYAaoZ4qhfzW",
      "metadata": {
        "id": "JYAaoZ4qhfzW"
      },
      "outputs": [
        {
          "data": {
            "text/html": [
              "<div>\n",
              "<style scoped>\n",
              "    .dataframe tbody tr th:only-of-type {\n",
              "        vertical-align: middle;\n",
              "    }\n",
              "\n",
              "    .dataframe tbody tr th {\n",
              "        vertical-align: top;\n",
              "    }\n",
              "\n",
              "    .dataframe thead th {\n",
              "        text-align: right;\n",
              "    }\n",
              "</style>\n",
              "<table border=\"1\" class=\"dataframe\">\n",
              "  <thead>\n",
              "    <tr style=\"text-align: right;\">\n",
              "      <th></th>\n",
              "      <th>count_industries</th>\n",
              "    </tr>\n",
              "  </thead>\n",
              "  <tbody>\n",
              "    <tr>\n",
              "      <th>0</th>\n",
              "      <td>294</td>\n",
              "    </tr>\n",
              "  </tbody>\n",
              "</table>\n",
              "</div>"
            ],
            "text/plain": [
              "   count_industries\n",
              "0               294"
            ]
          },
          "execution_count": 73,
          "metadata": {},
          "output_type": "execute_result"
        }
      ],
      "source": [
        "df_3_4 = pd.read_sql_query(query_3_4, connection)\n",
        "df_3_4"
      ]
    },
    {
      "attachments": {},
      "cell_type": "markdown",
      "id": "015d4756",
      "metadata": {},
      "source": [
        "5. Дополнительные исследования."
      ]
    },
    {
      "cell_type": "code",
      "execution_count": 74,
      "id": "cbff0aa3",
      "metadata": {},
      "outputs": [],
      "source": [
        "query_3_5 = f'''\n",
        "    /* поскольку в PostgreeSQL с переменными дело - труба, \n",
        "    пришлось в подзапросах дублировать все предыдущие запросы, \n",
        "    чтобы получить средние показатели из общих данных */\n",
        "    SELECT \n",
        "        ROUND ( -- округление до целого\n",
        "            (SELECT COUNT(id) FROM public.vacancies) / -- получаем количество и делим его\n",
        "            (SELECT COUNT(id) FROM public.employers)   -- на другое количество\n",
        "        )::int vacancies_per_employer, -- приведение к целому\n",
        "        ROUND (\n",
        "            (SELECT COUNT(id) FROM public.vacancies) / \n",
        "            (SELECT COUNT(id) FROM public.areas)\n",
        "        )::int vacancies_per_area,\n",
        "        ROUND (\n",
        "            (SELECT COUNT(id) FROM public.vacancies) / \n",
        "            (SELECT COUNT(id) FROM public.industries)\n",
        "        )::int vacancies_per_industry,\n",
        "        ROUND (\n",
        "            (SELECT COUNT(id) FROM public.employers) / \n",
        "            (SELECT COUNT(id) FROM public.industries)\n",
        "        )::int employers_per_industry,\n",
        "        ROUND (\n",
        "            (SELECT COUNT(id) FROM public.employers) / \n",
        "            (SELECT COUNT(id) FROM public.areas)\n",
        "        )::int employers_per_area        \n",
        "'''"
      ]
    },
    {
      "cell_type": "code",
      "execution_count": 75,
      "id": "371e0dcb",
      "metadata": {},
      "outputs": [
        {
          "data": {
            "text/html": [
              "<div>\n",
              "<style scoped>\n",
              "    .dataframe tbody tr th:only-of-type {\n",
              "        vertical-align: middle;\n",
              "    }\n",
              "\n",
              "    .dataframe tbody tr th {\n",
              "        vertical-align: top;\n",
              "    }\n",
              "\n",
              "    .dataframe thead th {\n",
              "        text-align: right;\n",
              "    }\n",
              "</style>\n",
              "<table border=\"1\" class=\"dataframe\">\n",
              "  <thead>\n",
              "    <tr style=\"text-align: right;\">\n",
              "      <th></th>\n",
              "      <th>vacancies_per_employer</th>\n",
              "      <th>vacancies_per_area</th>\n",
              "      <th>vacancies_per_industry</th>\n",
              "      <th>employers_per_industry</th>\n",
              "      <th>employers_per_area</th>\n",
              "    </tr>\n",
              "  </thead>\n",
              "  <tbody>\n",
              "    <tr>\n",
              "      <th>0</th>\n",
              "      <td>2</td>\n",
              "      <td>36</td>\n",
              "      <td>167</td>\n",
              "      <td>79</td>\n",
              "      <td>17</td>\n",
              "    </tr>\n",
              "  </tbody>\n",
              "</table>\n",
              "</div>"
            ],
            "text/plain": [
              "   vacancies_per_employer  vacancies_per_area  vacancies_per_industry  \\\n",
              "0                       2                  36                     167   \n",
              "\n",
              "   employers_per_industry  employers_per_area  \n",
              "0                      79                  17  "
            ]
          },
          "execution_count": 75,
          "metadata": {},
          "output_type": "execute_result"
        }
      ],
      "source": [
        "df_3_5 = pd.read_sql_query(query_3_5, connection)\n",
        "df_3_5"
      ]
    },
    {
      "attachments": {},
      "cell_type": "markdown",
      "id": "9a8a2181-6914-448b-85f1-38f5f18b8a93",
      "metadata": {
        "id": "9a8a2181-6914-448b-85f1-38f5f18b8a93"
      },
      "source": [
        "***"
      ]
    },
    {
      "attachments": {},
      "cell_type": "markdown",
      "id": "be4e9bd3-a4db-4a20-82fb-6b02fc2957e0",
      "metadata": {
        "id": "be4e9bd3-a4db-4a20-82fb-6b02fc2957e0"
      },
      "source": [
        "### выводы по предварительному анализу данных\n",
        "В базе данных:  \n",
        "\n",
        "* вакансий 49197  \n",
        "* работадателей 23501  \n",
        "* регионов 1362  \n",
        "* сфер деятельности 294  \n",
        "\n",
        "Довольно большая база в массштабе одного человека, но на страну с населением в 140 000 000, это возможно не так уж и много.   \n",
        "Нужно стравнивать с другими странами и отраслями.  \n",
        "\n",
        "Если бы распределение вакансий и работадателей было равномерным по регионам и т.д. то мы бы получили такие цифры:  \n",
        " \n",
        "в среднем 2 вакансии на 1 работадателя,  \n",
        "в среднем 36 вакансии на 1 регион,   \n",
        "в среднем 167 вакансий на 1 сферу деятельности,    \n",
        "в среднем 79 работадателей на 1 сферу деятельности,    \n",
        "в среднем 17 работадателей на 1 регион  \n",
        "\n",
        "Посмотрим, как на самом деле.\n"
      ]
    },
    {
      "attachments": {},
      "cell_type": "markdown",
      "id": "8d62a9f3-f64e-4fe7-bdac-c4dffa16155e",
      "metadata": {
        "id": "8d62a9f3-f64e-4fe7-bdac-c4dffa16155e"
      },
      "source": [
        "# Юнит 4. Детальный анализ вакансий"
      ]
    },
    {
      "attachments": {},
      "cell_type": "markdown",
      "id": "93053d3d-b284-481a-9cf7-012d7014c0e0",
      "metadata": {
        "id": "93053d3d-b284-481a-9cf7-012d7014c0e0"
      },
      "source": [
        "1. Напишите запрос, который позволит узнать, сколько (cnt) вакансий в каждом регионе (area).\n",
        "Отсортируйте по количеству вакансий в порядке убывания."
      ]
    },
    {
      "cell_type": "code",
      "execution_count": 76,
      "id": "3f069da6-fdc9-4ae7-b514-fafe2675efd3",
      "metadata": {
        "id": "3f069da6-fdc9-4ae7-b514-fafe2675efd3"
      },
      "outputs": [],
      "source": [
        "query_4_1 = f'''\n",
        "    SELECT \n",
        "        COUNT (v.id) count_vacancies,\n",
        "        a.name\n",
        "    FROM \n",
        "        public.vacancies v\n",
        "        JOIN public.areas a ON a.id = v.area_id\n",
        "    GROUP BY a.name\n",
        "    ORDER BY COUNT (v.id) DESC\n",
        "'''"
      ]
    },
    {
      "cell_type": "code",
      "execution_count": 77,
      "id": "P7QL86hrjhRJ",
      "metadata": {
        "id": "P7QL86hrjhRJ"
      },
      "outputs": [
        {
          "data": {
            "text/html": [
              "<div>\n",
              "<style scoped>\n",
              "    .dataframe tbody tr th:only-of-type {\n",
              "        vertical-align: middle;\n",
              "    }\n",
              "\n",
              "    .dataframe tbody tr th {\n",
              "        vertical-align: top;\n",
              "    }\n",
              "\n",
              "    .dataframe thead th {\n",
              "        text-align: right;\n",
              "    }\n",
              "</style>\n",
              "<table border=\"1\" class=\"dataframe\">\n",
              "  <thead>\n",
              "    <tr style=\"text-align: right;\">\n",
              "      <th></th>\n",
              "      <th>count_vacancies</th>\n",
              "      <th>name</th>\n",
              "    </tr>\n",
              "  </thead>\n",
              "  <tbody>\n",
              "    <tr>\n",
              "      <th>0</th>\n",
              "      <td>5333</td>\n",
              "      <td>Москва</td>\n",
              "    </tr>\n",
              "    <tr>\n",
              "      <th>1</th>\n",
              "      <td>2851</td>\n",
              "      <td>Санкт-Петербург</td>\n",
              "    </tr>\n",
              "    <tr>\n",
              "      <th>2</th>\n",
              "      <td>2112</td>\n",
              "      <td>Минск</td>\n",
              "    </tr>\n",
              "    <tr>\n",
              "      <th>3</th>\n",
              "      <td>2006</td>\n",
              "      <td>Новосибирск</td>\n",
              "    </tr>\n",
              "    <tr>\n",
              "      <th>4</th>\n",
              "      <td>1892</td>\n",
              "      <td>Алматы</td>\n",
              "    </tr>\n",
              "    <tr>\n",
              "      <th>...</th>\n",
              "      <td>...</td>\n",
              "      <td>...</td>\n",
              "    </tr>\n",
              "    <tr>\n",
              "      <th>764</th>\n",
              "      <td>1</td>\n",
              "      <td>Тарко-Сале</td>\n",
              "    </tr>\n",
              "    <tr>\n",
              "      <th>765</th>\n",
              "      <td>1</td>\n",
              "      <td>Новоаннинский</td>\n",
              "    </tr>\n",
              "    <tr>\n",
              "      <th>766</th>\n",
              "      <td>1</td>\n",
              "      <td>Бирск</td>\n",
              "    </tr>\n",
              "    <tr>\n",
              "      <th>767</th>\n",
              "      <td>1</td>\n",
              "      <td>Сасово</td>\n",
              "    </tr>\n",
              "    <tr>\n",
              "      <th>768</th>\n",
              "      <td>1</td>\n",
              "      <td>Анна</td>\n",
              "    </tr>\n",
              "  </tbody>\n",
              "</table>\n",
              "<p>769 rows × 2 columns</p>\n",
              "</div>"
            ],
            "text/plain": [
              "     count_vacancies             name\n",
              "0               5333           Москва\n",
              "1               2851  Санкт-Петербург\n",
              "2               2112            Минск\n",
              "3               2006      Новосибирск\n",
              "4               1892           Алматы\n",
              "..               ...              ...\n",
              "764                1       Тарко-Сале\n",
              "765                1    Новоаннинский\n",
              "766                1            Бирск\n",
              "767                1           Сасово\n",
              "768                1             Анна\n",
              "\n",
              "[769 rows x 2 columns]"
            ]
          },
          "execution_count": 77,
          "metadata": {},
          "output_type": "execute_result"
        }
      ],
      "source": [
        "df_4_1 = pd.read_sql_query(query_4_1, connection)\n",
        "df_4_1"
      ]
    },
    {
      "attachments": {},
      "cell_type": "markdown",
      "id": "4266f0b6-1646-492a-88b4-2f6a46502135",
      "metadata": {
        "id": "4266f0b6-1646-492a-88b4-2f6a46502135"
      },
      "source": [
        "2. Напишите запрос, чтобы определить у какого количества вакансий заполнено хотя бы одно из двух полей с зарплатой."
      ]
    },
    {
      "cell_type": "code",
      "execution_count": 78,
      "id": "0c44b350-72eb-4d65-8b54-a1fc449ba9fd",
      "metadata": {
        "id": "0c44b350-72eb-4d65-8b54-a1fc449ba9fd"
      },
      "outputs": [],
      "source": [
        "query_4_2 = f'''\n",
        "    SELECT COUNT(id) count_vacancies\n",
        "    FROM public.vacancies \n",
        "    WHERE salary_from IS NOT NULL OR salary_to IS NOT NULL\n",
        "'''"
      ]
    },
    {
      "cell_type": "code",
      "execution_count": 79,
      "id": "rhvwaMDkoWTi",
      "metadata": {
        "id": "rhvwaMDkoWTi"
      },
      "outputs": [
        {
          "data": {
            "text/html": [
              "<div>\n",
              "<style scoped>\n",
              "    .dataframe tbody tr th:only-of-type {\n",
              "        vertical-align: middle;\n",
              "    }\n",
              "\n",
              "    .dataframe tbody tr th {\n",
              "        vertical-align: top;\n",
              "    }\n",
              "\n",
              "    .dataframe thead th {\n",
              "        text-align: right;\n",
              "    }\n",
              "</style>\n",
              "<table border=\"1\" class=\"dataframe\">\n",
              "  <thead>\n",
              "    <tr style=\"text-align: right;\">\n",
              "      <th></th>\n",
              "      <th>count_vacancies</th>\n",
              "    </tr>\n",
              "  </thead>\n",
              "  <tbody>\n",
              "    <tr>\n",
              "      <th>0</th>\n",
              "      <td>24073</td>\n",
              "    </tr>\n",
              "  </tbody>\n",
              "</table>\n",
              "</div>"
            ],
            "text/plain": [
              "   count_vacancies\n",
              "0            24073"
            ]
          },
          "execution_count": 79,
          "metadata": {},
          "output_type": "execute_result"
        }
      ],
      "source": [
        "df_4_2 = pd.read_sql_query(query_4_2, connection)\n",
        "df_4_2"
      ]
    },
    {
      "attachments": {},
      "cell_type": "markdown",
      "id": "635c4d5d-f323-4c66-b428-50a088120aa0",
      "metadata": {
        "id": "635c4d5d-f323-4c66-b428-50a088120aa0"
      },
      "source": [
        "3. Найдите средние значения для нижней и верхней границы зарплатной вилки. Округлите значения до целого."
      ]
    },
    {
      "cell_type": "code",
      "execution_count": 80,
      "id": "603cdbe4-0ec3-4106-8eaf-c73fcdd29165",
      "metadata": {
        "id": "603cdbe4-0ec3-4106-8eaf-c73fcdd29165"
      },
      "outputs": [],
      "source": [
        "query_4_3 = f'''\n",
        "    SELECT \n",
        "        -- нижняя граница\n",
        "        ROUND(AVG(salary_from)):: int mean_salary_from,\n",
        "        -- верхняя граница\n",
        "        ROUND(AVG(salary_to)):: int mean_salary_to\n",
        "    FROM public.vacancies \n",
        "'''"
      ]
    },
    {
      "cell_type": "code",
      "execution_count": 81,
      "id": "pswpAb66ovZZ",
      "metadata": {
        "id": "pswpAb66ovZZ"
      },
      "outputs": [
        {
          "data": {
            "text/html": [
              "<div>\n",
              "<style scoped>\n",
              "    .dataframe tbody tr th:only-of-type {\n",
              "        vertical-align: middle;\n",
              "    }\n",
              "\n",
              "    .dataframe tbody tr th {\n",
              "        vertical-align: top;\n",
              "    }\n",
              "\n",
              "    .dataframe thead th {\n",
              "        text-align: right;\n",
              "    }\n",
              "</style>\n",
              "<table border=\"1\" class=\"dataframe\">\n",
              "  <thead>\n",
              "    <tr style=\"text-align: right;\">\n",
              "      <th></th>\n",
              "      <th>mean_salary_from</th>\n",
              "      <th>mean_salary_to</th>\n",
              "    </tr>\n",
              "  </thead>\n",
              "  <tbody>\n",
              "    <tr>\n",
              "      <th>0</th>\n",
              "      <td>71065</td>\n",
              "      <td>110537</td>\n",
              "    </tr>\n",
              "  </tbody>\n",
              "</table>\n",
              "</div>"
            ],
            "text/plain": [
              "   mean_salary_from  mean_salary_to\n",
              "0             71065          110537"
            ]
          },
          "execution_count": 81,
          "metadata": {},
          "output_type": "execute_result"
        }
      ],
      "source": [
        "df_4_3 = pd.read_sql_query(query_4_3, connection)\n",
        "df_4_3"
      ]
    },
    {
      "attachments": {},
      "cell_type": "markdown",
      "id": "f3fdaec9-5fd3-4260-9cf5-1d7406b628a5",
      "metadata": {
        "id": "f3fdaec9-5fd3-4260-9cf5-1d7406b628a5"
      },
      "source": [
        "4. Напишите запрос, который выведет количество вакансий для каждого сочетания типа рабочего графика (schedule) и типа трудоустройства (employment), используемого в вакансиях. Результат отсортируйте по убыванию количества.\n"
      ]
    },
    {
      "cell_type": "code",
      "execution_count": 82,
      "id": "1ea710ec-871b-431e-9462-c7d0fd87011b",
      "metadata": {
        "id": "1ea710ec-871b-431e-9462-c7d0fd87011b"
      },
      "outputs": [],
      "source": [
        "query_4_4 = f'''\n",
        "    SELECT\n",
        "        -- создадим колонку сочетаний типов графика и трудоустройства\n",
        "        schedule ||' - '|| employment schedule_employment,\n",
        "        -- посчитаем количество сочетаний\n",
        "        COUNT(schedule ||' - '|| employment) count\n",
        "    FROM vacancies\n",
        "    GROUP BY schedule_employment\n",
        "    ORDER BY count DESC\n",
        "'''"
      ]
    },
    {
      "cell_type": "code",
      "execution_count": 83,
      "id": "lGUVqavdo4JQ",
      "metadata": {
        "id": "lGUVqavdo4JQ"
      },
      "outputs": [
        {
          "data": {
            "text/html": [
              "<div>\n",
              "<style scoped>\n",
              "    .dataframe tbody tr th:only-of-type {\n",
              "        vertical-align: middle;\n",
              "    }\n",
              "\n",
              "    .dataframe tbody tr th {\n",
              "        vertical-align: top;\n",
              "    }\n",
              "\n",
              "    .dataframe thead th {\n",
              "        text-align: right;\n",
              "    }\n",
              "</style>\n",
              "<table border=\"1\" class=\"dataframe\">\n",
              "  <thead>\n",
              "    <tr style=\"text-align: right;\">\n",
              "      <th></th>\n",
              "      <th>schedule_employment</th>\n",
              "      <th>count</th>\n",
              "    </tr>\n",
              "  </thead>\n",
              "  <tbody>\n",
              "    <tr>\n",
              "      <th>0</th>\n",
              "      <td>Полный день - Полная занятость</td>\n",
              "      <td>35367</td>\n",
              "    </tr>\n",
              "    <tr>\n",
              "      <th>1</th>\n",
              "      <td>Удаленная работа - Полная занятость</td>\n",
              "      <td>7802</td>\n",
              "    </tr>\n",
              "    <tr>\n",
              "      <th>2</th>\n",
              "      <td>Гибкий график - Полная занятость</td>\n",
              "      <td>1593</td>\n",
              "    </tr>\n",
              "    <tr>\n",
              "      <th>3</th>\n",
              "      <td>Удаленная работа - Частичная занятость</td>\n",
              "      <td>1312</td>\n",
              "    </tr>\n",
              "    <tr>\n",
              "      <th>4</th>\n",
              "      <td>Сменный график - Полная занятость</td>\n",
              "      <td>940</td>\n",
              "    </tr>\n",
              "    <tr>\n",
              "      <th>5</th>\n",
              "      <td>Полный день - Стажировка</td>\n",
              "      <td>569</td>\n",
              "    </tr>\n",
              "    <tr>\n",
              "      <th>6</th>\n",
              "      <td>Вахтовый метод - Полная занятость</td>\n",
              "      <td>367</td>\n",
              "    </tr>\n",
              "    <tr>\n",
              "      <th>7</th>\n",
              "      <td>Полный день - Частичная занятость</td>\n",
              "      <td>347</td>\n",
              "    </tr>\n",
              "    <tr>\n",
              "      <th>8</th>\n",
              "      <td>Гибкий график - Частичная занятость</td>\n",
              "      <td>312</td>\n",
              "    </tr>\n",
              "    <tr>\n",
              "      <th>9</th>\n",
              "      <td>Полный день - Проектная работа</td>\n",
              "      <td>141</td>\n",
              "    </tr>\n",
              "    <tr>\n",
              "      <th>10</th>\n",
              "      <td>Удаленная работа - Проектная работа</td>\n",
              "      <td>133</td>\n",
              "    </tr>\n",
              "    <tr>\n",
              "      <th>11</th>\n",
              "      <td>Гибкий график - Стажировка</td>\n",
              "      <td>116</td>\n",
              "    </tr>\n",
              "    <tr>\n",
              "      <th>12</th>\n",
              "      <td>Сменный график - Частичная занятость</td>\n",
              "      <td>101</td>\n",
              "    </tr>\n",
              "    <tr>\n",
              "      <th>13</th>\n",
              "      <td>Удаленная работа - Стажировка</td>\n",
              "      <td>64</td>\n",
              "    </tr>\n",
              "    <tr>\n",
              "      <th>14</th>\n",
              "      <td>Гибкий график - Проектная работа</td>\n",
              "      <td>18</td>\n",
              "    </tr>\n",
              "    <tr>\n",
              "      <th>15</th>\n",
              "      <td>Сменный график - Стажировка</td>\n",
              "      <td>12</td>\n",
              "    </tr>\n",
              "    <tr>\n",
              "      <th>16</th>\n",
              "      <td>Вахтовый метод - Проектная работа</td>\n",
              "      <td>2</td>\n",
              "    </tr>\n",
              "    <tr>\n",
              "      <th>17</th>\n",
              "      <td>Сменный график - Проектная работа</td>\n",
              "      <td>1</td>\n",
              "    </tr>\n",
              "  </tbody>\n",
              "</table>\n",
              "</div>"
            ],
            "text/plain": [
              "                       schedule_employment  count\n",
              "0           Полный день - Полная занятость  35367\n",
              "1      Удаленная работа - Полная занятость   7802\n",
              "2         Гибкий график - Полная занятость   1593\n",
              "3   Удаленная работа - Частичная занятость   1312\n",
              "4        Сменный график - Полная занятость    940\n",
              "5                 Полный день - Стажировка    569\n",
              "6        Вахтовый метод - Полная занятость    367\n",
              "7        Полный день - Частичная занятость    347\n",
              "8      Гибкий график - Частичная занятость    312\n",
              "9           Полный день - Проектная работа    141\n",
              "10     Удаленная работа - Проектная работа    133\n",
              "11              Гибкий график - Стажировка    116\n",
              "12    Сменный график - Частичная занятость    101\n",
              "13           Удаленная работа - Стажировка     64\n",
              "14        Гибкий график - Проектная работа     18\n",
              "15             Сменный график - Стажировка     12\n",
              "16       Вахтовый метод - Проектная работа      2\n",
              "17       Сменный график - Проектная работа      1"
            ]
          },
          "execution_count": 83,
          "metadata": {},
          "output_type": "execute_result"
        }
      ],
      "source": [
        "df_4_4 = pd.read_sql_query(query_4_4, connection)\n",
        "df_4_4"
      ]
    },
    {
      "attachments": {},
      "cell_type": "markdown",
      "id": "0136ffee-0ead-4a6b-b608-61d1c753a438",
      "metadata": {
        "id": "0136ffee-0ead-4a6b-b608-61d1c753a438"
      },
      "source": [
        "5. Напишите запрос, выводящий значения поля Требуемый опыт работы (experience) в порядке возрастания количества вакансий, в которых указан данный вариант опыта. "
      ]
    },
    {
      "cell_type": "code",
      "execution_count": 84,
      "id": "5b3a8e79-f7ab-4008-b767-12aea3a205ea",
      "metadata": {
        "id": "5b3a8e79-f7ab-4008-b767-12aea3a205ea"
      },
      "outputs": [],
      "source": [
        "query_4_5 = f'''\n",
        "    SELECT \n",
        "        experience,\n",
        "        COUNT(*) count\n",
        "    FROM vacancies\n",
        "    GROUP BY experience\n",
        "    ORDER BY count \n",
        "'''"
      ]
    },
    {
      "cell_type": "code",
      "execution_count": 85,
      "id": "3Is64Y-hpDpq",
      "metadata": {
        "id": "3Is64Y-hpDpq"
      },
      "outputs": [
        {
          "data": {
            "text/html": [
              "<div>\n",
              "<style scoped>\n",
              "    .dataframe tbody tr th:only-of-type {\n",
              "        vertical-align: middle;\n",
              "    }\n",
              "\n",
              "    .dataframe tbody tr th {\n",
              "        vertical-align: top;\n",
              "    }\n",
              "\n",
              "    .dataframe thead th {\n",
              "        text-align: right;\n",
              "    }\n",
              "</style>\n",
              "<table border=\"1\" class=\"dataframe\">\n",
              "  <thead>\n",
              "    <tr style=\"text-align: right;\">\n",
              "      <th></th>\n",
              "      <th>experience</th>\n",
              "      <th>count</th>\n",
              "    </tr>\n",
              "  </thead>\n",
              "  <tbody>\n",
              "    <tr>\n",
              "      <th>0</th>\n",
              "      <td>Более 6 лет</td>\n",
              "      <td>1337</td>\n",
              "    </tr>\n",
              "    <tr>\n",
              "      <th>1</th>\n",
              "      <td>Нет опыта</td>\n",
              "      <td>7197</td>\n",
              "    </tr>\n",
              "    <tr>\n",
              "      <th>2</th>\n",
              "      <td>От 3 до 6 лет</td>\n",
              "      <td>14511</td>\n",
              "    </tr>\n",
              "    <tr>\n",
              "      <th>3</th>\n",
              "      <td>От 1 года до 3 лет</td>\n",
              "      <td>26152</td>\n",
              "    </tr>\n",
              "  </tbody>\n",
              "</table>\n",
              "</div>"
            ],
            "text/plain": [
              "           experience  count\n",
              "0         Более 6 лет   1337\n",
              "1           Нет опыта   7197\n",
              "2       От 3 до 6 лет  14511\n",
              "3  От 1 года до 3 лет  26152"
            ]
          },
          "execution_count": 85,
          "metadata": {},
          "output_type": "execute_result"
        }
      ],
      "source": [
        "df_4_5 = pd.read_sql_query(query_4_5, connection)\n",
        "df_4_5"
      ]
    },
    {
      "attachments": {},
      "cell_type": "markdown",
      "id": "oq2b7n1QpIka",
      "metadata": {
        "id": "oq2b7n1QpIka"
      },
      "source": [
        "***"
      ]
    },
    {
      "attachments": {},
      "cell_type": "markdown",
      "id": "e91f87ed-e25c-4f96-9f92-b642e8c0b4fa",
      "metadata": {
        "id": "e91f87ed-e25c-4f96-9f92-b642e8c0b4fa"
      },
      "source": [
        "### выводы по детальному анализу вакансий\n",
        "\n",
        "* Как и следовало ожидать распределение вакансий и близко не равномерное.  \n",
        "Большинство вакансий в крупных гордах среди которых лидер (более 10% вакансий) - Москва.  \n",
        "В превой пятёрке лидеров находятся столица Беларуси - Минск и бывшая столица Казахстана - Алматы,  \n",
        "а значит эта база данных включает в себя вакансии не только из РФ.  \n",
        "* Примерно у половины вакансий не указана зарплата.  \n",
        "* У половины вакансий средняя зарплатная вилка от 71065 руб, до 110537 руб, что выше средней ЗП в РФ на май 2023 г (59 340 руб).\n",
        "* Большинство вакансий (35367) предлагают полный день и полную занятость.  \n",
        "* В более чем половине вакансий требуется опыт работы от 1 года до 3 лет, т.е.  юных, но имеющих опыт.\n"
      ]
    },
    {
      "attachments": {},
      "cell_type": "markdown",
      "id": "7ea20ab6-04a7-40a0-adec-443a0e5a42c3",
      "metadata": {
        "id": "7ea20ab6-04a7-40a0-adec-443a0e5a42c3"
      },
      "source": [
        "# Юнит 5. Анализ работодателей"
      ]
    },
    {
      "attachments": {},
      "cell_type": "markdown",
      "id": "968aed80-74ef-4ffb-b5bf-c65b84e9caea",
      "metadata": {
        "id": "968aed80-74ef-4ffb-b5bf-c65b84e9caea"
      },
      "source": [
        "1. Напишите запрос, который позволит узнать, какие работодатели находятся на первом и пятом месте по количеству вакансий."
      ]
    },
    {
      "cell_type": "code",
      "execution_count": 86,
      "id": "f2d62796-d400-4ec1-a675-88112739a50e",
      "metadata": {
        "id": "f2d62796-d400-4ec1-a675-88112739a50e"
      },
      "outputs": [],
      "source": [
        "query_5_1 = f'''\n",
        "    SELECT name\n",
        "    FROM(\n",
        "        SELECT  -- подзапрос\n",
        "            e.name,\n",
        "            -- с помощью оконной функции вычисляем номера строк у работадателей \n",
        "            -- сгруппированных по количеству вакансий \n",
        "            ROW_NUMBER() OVER(ORDER BY COUNT(v.id) DESC) number\n",
        "        FROM \n",
        "            vacancies v\tJOIN employers e ON e.id = v.employer_id \n",
        "        GROUP BY e.name\n",
        "        ) sample\n",
        "    WHERE number IN (1, 5) -- выбор 1 и 5 строки, согласно тз\n",
        "'''"
      ]
    },
    {
      "cell_type": "code",
      "execution_count": 87,
      "id": "64tOMkAxqkQk",
      "metadata": {
        "id": "64tOMkAxqkQk"
      },
      "outputs": [
        {
          "data": {
            "text/html": [
              "<div>\n",
              "<style scoped>\n",
              "    .dataframe tbody tr th:only-of-type {\n",
              "        vertical-align: middle;\n",
              "    }\n",
              "\n",
              "    .dataframe tbody tr th {\n",
              "        vertical-align: top;\n",
              "    }\n",
              "\n",
              "    .dataframe thead th {\n",
              "        text-align: right;\n",
              "    }\n",
              "</style>\n",
              "<table border=\"1\" class=\"dataframe\">\n",
              "  <thead>\n",
              "    <tr style=\"text-align: right;\">\n",
              "      <th></th>\n",
              "      <th>name</th>\n",
              "    </tr>\n",
              "  </thead>\n",
              "  <tbody>\n",
              "    <tr>\n",
              "      <th>0</th>\n",
              "      <td>Яндекс</td>\n",
              "    </tr>\n",
              "    <tr>\n",
              "      <th>1</th>\n",
              "      <td>Газпром нефть</td>\n",
              "    </tr>\n",
              "  </tbody>\n",
              "</table>\n",
              "</div>"
            ],
            "text/plain": [
              "            name\n",
              "0         Яндекс\n",
              "1  Газпром нефть"
            ]
          },
          "execution_count": 87,
          "metadata": {},
          "output_type": "execute_result"
        }
      ],
      "source": [
        "df_5_1 = pd.read_sql_query(query_5_1, connection)\n",
        "df_5_1"
      ]
    },
    {
      "attachments": {},
      "cell_type": "markdown",
      "id": "68377cfc-b378-43dc-ab7d-1195abf2c515",
      "metadata": {
        "id": "68377cfc-b378-43dc-ab7d-1195abf2c515"
      },
      "source": [
        "2. Напишите запрос, который для каждого региона выведет количество работодателей и вакансий в нём.\n",
        "Среди регионов, в которых нет вакансий, найдите тот, в котором наибольшее количество работодателей.\n"
      ]
    },
    {
      "cell_type": "code",
      "execution_count": 88,
      "id": "dd7df27a-e3e8-412e-a21a-5d389b71e891",
      "metadata": {
        "id": "dd7df27a-e3e8-412e-a21a-5d389b71e891"
      },
      "outputs": [],
      "source": [
        "query_5_2 = f'''\n",
        "    SELECT \n",
        "        a.name,\n",
        "        COUNT(e.id) employers_count,\n",
        "        COUNT(v.id) vacancies_count\n",
        "    FROM \n",
        "        areas a \n",
        "        LEFT JOIN vacancies v ON a.id = v.area_id \n",
        "        LEFT JOIN employers e ON e.area = a.id\n",
        "    GROUP BY a.name\n",
        "    HAVING COUNT(v.id) = 0 \n",
        "    ORDER BY employers_count DESC\n",
        "    LIMIT 1 \n",
        "'''"
      ]
    },
    {
      "cell_type": "code",
      "execution_count": 89,
      "id": "x1ikWbydrbf6",
      "metadata": {
        "id": "x1ikWbydrbf6"
      },
      "outputs": [
        {
          "data": {
            "text/html": [
              "<div>\n",
              "<style scoped>\n",
              "    .dataframe tbody tr th:only-of-type {\n",
              "        vertical-align: middle;\n",
              "    }\n",
              "\n",
              "    .dataframe tbody tr th {\n",
              "        vertical-align: top;\n",
              "    }\n",
              "\n",
              "    .dataframe thead th {\n",
              "        text-align: right;\n",
              "    }\n",
              "</style>\n",
              "<table border=\"1\" class=\"dataframe\">\n",
              "  <thead>\n",
              "    <tr style=\"text-align: right;\">\n",
              "      <th></th>\n",
              "      <th>name</th>\n",
              "      <th>employers_count</th>\n",
              "      <th>vacancies_count</th>\n",
              "    </tr>\n",
              "  </thead>\n",
              "  <tbody>\n",
              "    <tr>\n",
              "      <th>0</th>\n",
              "      <td>Россия</td>\n",
              "      <td>410</td>\n",
              "      <td>0</td>\n",
              "    </tr>\n",
              "  </tbody>\n",
              "</table>\n",
              "</div>"
            ],
            "text/plain": [
              "     name  employers_count  vacancies_count\n",
              "0  Россия              410                0"
            ]
          },
          "execution_count": 89,
          "metadata": {},
          "output_type": "execute_result"
        }
      ],
      "source": [
        "df_5_2 = pd.read_sql_query(query_5_2, connection)\n",
        "df_5_2"
      ]
    },
    {
      "attachments": {},
      "cell_type": "markdown",
      "id": "f2fe0acb-ab1a-4e15-9326-2560e22d73c1",
      "metadata": {
        "id": "f2fe0acb-ab1a-4e15-9326-2560e22d73c1"
      },
      "source": [
        "3. Для каждого работодателя посчитайте количество регионов, в которых он публикует свои вакансии. Отсортируйте результат по убыванию количества.\n"
      ]
    },
    {
      "cell_type": "code",
      "execution_count": 90,
      "id": "6271f8ad-bd2e-4196-ae4a-5b39c4c1010e",
      "metadata": {
        "id": "6271f8ad-bd2e-4196-ae4a-5b39c4c1010e"
      },
      "outputs": [],
      "source": [
        "query_5_3 = f'''\n",
        "    SELECT \n",
        "        e.name \"employer's name\",\n",
        "        COUNT(DISTINCT (area_id)) areas_count\n",
        "    FROM \n",
        "        employers e\n",
        "        LEFT JOIN vacancies v ON e.id = v.employer_id \n",
        "    GROUP BY e.name\n",
        "    ORDER BY areas_count DESC    \n",
        "'''"
      ]
    },
    {
      "cell_type": "code",
      "execution_count": 91,
      "id": "1EIvX3HasH4F",
      "metadata": {
        "id": "1EIvX3HasH4F"
      },
      "outputs": [
        {
          "data": {
            "text/html": [
              "<div>\n",
              "<style scoped>\n",
              "    .dataframe tbody tr th:only-of-type {\n",
              "        vertical-align: middle;\n",
              "    }\n",
              "\n",
              "    .dataframe tbody tr th {\n",
              "        vertical-align: top;\n",
              "    }\n",
              "\n",
              "    .dataframe thead th {\n",
              "        text-align: right;\n",
              "    }\n",
              "</style>\n",
              "<table border=\"1\" class=\"dataframe\">\n",
              "  <thead>\n",
              "    <tr style=\"text-align: right;\">\n",
              "      <th></th>\n",
              "      <th>employer's name</th>\n",
              "      <th>areas_count</th>\n",
              "    </tr>\n",
              "  </thead>\n",
              "  <tbody>\n",
              "    <tr>\n",
              "      <th>0</th>\n",
              "      <td>Яндекс</td>\n",
              "      <td>181</td>\n",
              "    </tr>\n",
              "    <tr>\n",
              "      <th>1</th>\n",
              "      <td>Ростелеком</td>\n",
              "      <td>152</td>\n",
              "    </tr>\n",
              "    <tr>\n",
              "      <th>2</th>\n",
              "      <td>Спецремонт</td>\n",
              "      <td>116</td>\n",
              "    </tr>\n",
              "    <tr>\n",
              "      <th>3</th>\n",
              "      <td>Поляков Денис Иванович</td>\n",
              "      <td>88</td>\n",
              "    </tr>\n",
              "    <tr>\n",
              "      <th>4</th>\n",
              "      <td>ООО ЕФИН</td>\n",
              "      <td>71</td>\n",
              "    </tr>\n",
              "    <tr>\n",
              "      <th>...</th>\n",
              "      <td>...</td>\n",
              "      <td>...</td>\n",
              "    </tr>\n",
              "    <tr>\n",
              "      <th>23170</th>\n",
              "      <td>СДЕЛКА</td>\n",
              "      <td>0</td>\n",
              "    </tr>\n",
              "    <tr>\n",
              "      <th>23171</th>\n",
              "      <td>Alandr Group</td>\n",
              "      <td>0</td>\n",
              "    </tr>\n",
              "    <tr>\n",
              "      <th>23172</th>\n",
              "      <td>СДК</td>\n",
              "      <td>0</td>\n",
              "    </tr>\n",
              "    <tr>\n",
              "      <th>23173</th>\n",
              "      <td>Lemon Land Lombard</td>\n",
              "      <td>0</td>\n",
              "    </tr>\n",
              "    <tr>\n",
              "      <th>23174</th>\n",
              "      <td>Махина</td>\n",
              "      <td>0</td>\n",
              "    </tr>\n",
              "  </tbody>\n",
              "</table>\n",
              "<p>23175 rows × 2 columns</p>\n",
              "</div>"
            ],
            "text/plain": [
              "              employer's name  areas_count\n",
              "0                      Яндекс          181\n",
              "1                  Ростелеком          152\n",
              "2                  Спецремонт          116\n",
              "3      Поляков Денис Иванович           88\n",
              "4                   ООО ЕФИН            71\n",
              "...                       ...          ...\n",
              "23170                  СДЕЛКА            0\n",
              "23171            Alandr Group            0\n",
              "23172                     СДК            0\n",
              "23173      Lemon Land Lombard            0\n",
              "23174                  Махина            0\n",
              "\n",
              "[23175 rows x 2 columns]"
            ]
          },
          "execution_count": 91,
          "metadata": {},
          "output_type": "execute_result"
        }
      ],
      "source": [
        "df_5_3 = pd.read_sql_query(query_5_3, connection)\n",
        "df_5_3"
      ]
    },
    {
      "attachments": {},
      "cell_type": "markdown",
      "id": "eab2206d-d95b-468b-8e5f-34381abf0ce7",
      "metadata": {
        "id": "eab2206d-d95b-468b-8e5f-34381abf0ce7"
      },
      "source": [
        "4. Напишите запрос для подсчёта количества работодателей, у которых не указана сфера деятельности. "
      ]
    },
    {
      "cell_type": "code",
      "execution_count": 92,
      "id": "80defb23-bfb1-4a18-8be6-bf36aa7165d5",
      "metadata": {
        "id": "80defb23-bfb1-4a18-8be6-bf36aa7165d5"
      },
      "outputs": [],
      "source": [
        "query_5_4 = f'''\n",
        "    SELECT \n",
        "        COUNT(DISTINCT (e.id)) employers_count\n",
        "    FROM \n",
        "        employers e\n",
        "        LEFT JOIN employers_industries ei ON e.id = ei.employer_id \n",
        "        LEFT JOIN industries i ON ei.industry_id = i.id\n",
        "    WHERE i.name IS NULL\n",
        "'''"
      ]
    },
    {
      "cell_type": "code",
      "execution_count": 93,
      "id": "Dp_yCx6ysQSu",
      "metadata": {
        "id": "Dp_yCx6ysQSu"
      },
      "outputs": [
        {
          "data": {
            "text/html": [
              "<div>\n",
              "<style scoped>\n",
              "    .dataframe tbody tr th:only-of-type {\n",
              "        vertical-align: middle;\n",
              "    }\n",
              "\n",
              "    .dataframe tbody tr th {\n",
              "        vertical-align: top;\n",
              "    }\n",
              "\n",
              "    .dataframe thead th {\n",
              "        text-align: right;\n",
              "    }\n",
              "</style>\n",
              "<table border=\"1\" class=\"dataframe\">\n",
              "  <thead>\n",
              "    <tr style=\"text-align: right;\">\n",
              "      <th></th>\n",
              "      <th>employers_count</th>\n",
              "    </tr>\n",
              "  </thead>\n",
              "  <tbody>\n",
              "    <tr>\n",
              "      <th>0</th>\n",
              "      <td>8419</td>\n",
              "    </tr>\n",
              "  </tbody>\n",
              "</table>\n",
              "</div>"
            ],
            "text/plain": [
              "   employers_count\n",
              "0             8419"
            ]
          },
          "execution_count": 93,
          "metadata": {},
          "output_type": "execute_result"
        }
      ],
      "source": [
        "df_5_4 = pd.read_sql_query(query_5_4, connection)\n",
        "df_5_4"
      ]
    },
    {
      "attachments": {},
      "cell_type": "markdown",
      "id": "0112af31-f6b0-4e3b-82ab-71296e752e5e",
      "metadata": {
        "id": "0112af31-f6b0-4e3b-82ab-71296e752e5e"
      },
      "source": [
        "5. Напишите запрос, чтобы узнать название компании, находящейся на третьем месте в алфавитном списке (по названию) компаний, у которых указано четыре сферы деятельности. "
      ]
    },
    {
      "cell_type": "code",
      "execution_count": 94,
      "id": "973b0cfc-a972-470a-8b4a-68744ef220c4",
      "metadata": {
        "id": "973b0cfc-a972-470a-8b4a-68744ef220c4"
      },
      "outputs": [],
      "source": [
        "query_5_5 = f'''\n",
        "    SELECT e.name\n",
        "    FROM \n",
        "        employers e\n",
        "        LEFT JOIN employers_industries ei ON e.id = ei.employer_id \n",
        "        LEFT JOIN industries i ON ei.industry_id = i.id\n",
        "    GROUP BY e.name\n",
        "    HAVING COUNT(DISTINCT (i.id)) = 4 \n",
        "    ORDER BY e.name\n",
        "    OFFSET 2\n",
        "    LIMIT 1\n",
        "'''"
      ]
    },
    {
      "cell_type": "code",
      "execution_count": 95,
      "id": "xsPtpp8EsaED",
      "metadata": {
        "id": "xsPtpp8EsaED"
      },
      "outputs": [
        {
          "data": {
            "text/html": [
              "<div>\n",
              "<style scoped>\n",
              "    .dataframe tbody tr th:only-of-type {\n",
              "        vertical-align: middle;\n",
              "    }\n",
              "\n",
              "    .dataframe tbody tr th {\n",
              "        vertical-align: top;\n",
              "    }\n",
              "\n",
              "    .dataframe thead th {\n",
              "        text-align: right;\n",
              "    }\n",
              "</style>\n",
              "<table border=\"1\" class=\"dataframe\">\n",
              "  <thead>\n",
              "    <tr style=\"text-align: right;\">\n",
              "      <th></th>\n",
              "      <th>name</th>\n",
              "    </tr>\n",
              "  </thead>\n",
              "  <tbody>\n",
              "    <tr>\n",
              "      <th>0</th>\n",
              "      <td>2ГИС</td>\n",
              "    </tr>\n",
              "  </tbody>\n",
              "</table>\n",
              "</div>"
            ],
            "text/plain": [
              "   name\n",
              "0  2ГИС"
            ]
          },
          "execution_count": 95,
          "metadata": {},
          "output_type": "execute_result"
        }
      ],
      "source": [
        "df_5_5 = pd.read_sql_query(query_5_5, connection)\n",
        "df_5_5"
      ]
    },
    {
      "attachments": {},
      "cell_type": "markdown",
      "id": "3bfcfdaf-755d-4d2b-8ed8-326201dc07ab",
      "metadata": {
        "id": "3bfcfdaf-755d-4d2b-8ed8-326201dc07ab"
      },
      "source": [
        "6. С помощью запроса выясните, у какого количества работодателей в качестве сферы деятельности указана Разработка программного обеспечения.\n"
      ]
    },
    {
      "cell_type": "code",
      "execution_count": 96,
      "id": "ad3f270f-2991-47eb-929b-e8f88a55b0d1",
      "metadata": {
        "id": "ad3f270f-2991-47eb-929b-e8f88a55b0d1"
      },
      "outputs": [],
      "source": [
        "query_5_6 = f'''\n",
        "    SELECT \n",
        "        COUNT(DISTINCT (e.id)) employers_count\n",
        "    FROM \n",
        "        employers e\n",
        "        LEFT JOIN employers_industries ei ON e.id = ei.employer_id \n",
        "        LEFT JOIN industries i ON ei.industry_id = i.id\n",
        "    WHERE i.name = 'Разработка программного обеспечения'\n",
        "'''"
      ]
    },
    {
      "cell_type": "code",
      "execution_count": 97,
      "id": "H72qxWM0shPR",
      "metadata": {
        "id": "H72qxWM0shPR"
      },
      "outputs": [
        {
          "data": {
            "text/html": [
              "<div>\n",
              "<style scoped>\n",
              "    .dataframe tbody tr th:only-of-type {\n",
              "        vertical-align: middle;\n",
              "    }\n",
              "\n",
              "    .dataframe tbody tr th {\n",
              "        vertical-align: top;\n",
              "    }\n",
              "\n",
              "    .dataframe thead th {\n",
              "        text-align: right;\n",
              "    }\n",
              "</style>\n",
              "<table border=\"1\" class=\"dataframe\">\n",
              "  <thead>\n",
              "    <tr style=\"text-align: right;\">\n",
              "      <th></th>\n",
              "      <th>employers_count</th>\n",
              "    </tr>\n",
              "  </thead>\n",
              "  <tbody>\n",
              "    <tr>\n",
              "      <th>0</th>\n",
              "      <td>3553</td>\n",
              "    </tr>\n",
              "  </tbody>\n",
              "</table>\n",
              "</div>"
            ],
            "text/plain": [
              "   employers_count\n",
              "0             3553"
            ]
          },
          "execution_count": 97,
          "metadata": {},
          "output_type": "execute_result"
        }
      ],
      "source": [
        "df_5_6 = pd.read_sql_query(query_5_6, connection)\n",
        "df_5_6"
      ]
    },
    {
      "attachments": {},
      "cell_type": "markdown",
      "id": "7b02bb86-0546-40fb-94a4-242f050a5c57",
      "metadata": {
        "id": "7b02bb86-0546-40fb-94a4-242f050a5c57"
      },
      "source": [
        "7. Для компании «Яндекс» выведите список регионов-миллионников, в которых представлены вакансии компании, вместе с количеством вакансий в этих регионах. Также добавьте строку Total с общим количеством вакансий компании. Результат отсортируйте по возрастанию количества.\n",
        "\n",
        "Список городов-милионников надо взять [отсюда](https://ru.wikipedia.org/wiki/%D0%93%D0%BE%D1%80%D0%BE%D0%B4%D0%B0-%D0%BC%D0%B8%D0%BB%D0%BB%D0%B8%D0%BE%D0%BD%D0%B5%D1%80%D1%8B_%D0%A0%D0%BE%D1%81%D1%81%D0%B8%D0%B8). \n",
        "\n",
        "Если возникнут трудности с этим задание посмотрите материалы модуля  PYTHON-17. Как получать данные из веб-источников и API. "
      ]
    },
    {
      "cell_type": "code",
      "execution_count": 98,
      "id": "ZdfrL6gIs1Pn",
      "metadata": {
        "id": "ZdfrL6gIs1Pn"
      },
      "outputs": [
        {
          "data": {
            "text/plain": [
              "('Москва',\n",
              " 'Санкт-Петербург',\n",
              " 'Новосибирск',\n",
              " 'Екатеринбург',\n",
              " 'Казань',\n",
              " 'Нижний Новгород',\n",
              " 'Красноярск',\n",
              " 'Челябинск',\n",
              " 'Самара',\n",
              " 'Уфа',\n",
              " 'Ростов-на-Дону',\n",
              " 'Краснодар',\n",
              " 'Омск',\n",
              " 'Воронеж',\n",
              " 'Пермь',\n",
              " 'Волгоград')"
            ]
          },
          "execution_count": 98,
          "metadata": {},
          "output_type": "execute_result"
        }
      ],
      "source": [
        "# код для получения списка городов-милионников\n",
        "url = 'https://ru.wikipedia.org/wiki/%D0%93%D0%BE%D1%80%D0%BE%D0%B4%D0%B0-%D0%BC%D0%B8%D0%BB%D0%BB%D0%B8%D0%BE%D0%BD%D0%B5%D1%80%D1%8B_%D0%A0%D0%BE%D1%81%D1%81%D0%B8%D0%B8'\n",
        "cities = tuple(pd.read_html(url)[1]['Город'].to_list())\n",
        "cities"
      ]
    },
    {
      "cell_type": "code",
      "execution_count": 99,
      "id": "5a0e32a4-e68a-4365-8a39-2fe24c542c36",
      "metadata": {
        "id": "5a0e32a4-e68a-4365-8a39-2fe24c542c36"
      },
      "outputs": [],
      "source": [
        "query_5_7 = f'''\n",
        "    WITH yandex AS ( -- создаём таблицу Яндекс с городами миллионниками\n",
        "        SELECT \n",
        "            a.name,\n",
        "            COUNT(DISTINCT v.id) vacancies_count\n",
        "        FROM \n",
        "            employers e\n",
        "            LEFT JOIN vacancies v ON e.id = v.employer_id\n",
        "            LEFT JOIN areas a ON v.area_id = a.id\n",
        "        WHERE a.name IN {cities}\n",
        "            AND e.name = 'Яндекс'\n",
        "        GROUP BY a.name\n",
        "        ORDER BY vacancies_count\n",
        "    )\n",
        "    (  -- объединим полученную выше таблицу с суммой по колонке количества какансий\n",
        "        SELECT *\n",
        "        FROM yandex\n",
        "    )\n",
        "    UNION ALL\n",
        "    (\n",
        "        SELECT \n",
        "            'Total' AS name,\n",
        "            SUM(vacancies_count) vacancies_count\n",
        "        FROM yandex\n",
        "    )\n",
        "    ORDER BY vacancies_count\n",
        "'''"
      ]
    },
    {
      "cell_type": "code",
      "execution_count": 100,
      "id": "ttPhiO1rsvPq",
      "metadata": {
        "id": "ttPhiO1rsvPq"
      },
      "outputs": [
        {
          "data": {
            "text/html": [
              "<div>\n",
              "<style scoped>\n",
              "    .dataframe tbody tr th:only-of-type {\n",
              "        vertical-align: middle;\n",
              "    }\n",
              "\n",
              "    .dataframe tbody tr th {\n",
              "        vertical-align: top;\n",
              "    }\n",
              "\n",
              "    .dataframe thead th {\n",
              "        text-align: right;\n",
              "    }\n",
              "</style>\n",
              "<table border=\"1\" class=\"dataframe\">\n",
              "  <thead>\n",
              "    <tr style=\"text-align: right;\">\n",
              "      <th></th>\n",
              "      <th>name</th>\n",
              "      <th>vacancies_count</th>\n",
              "    </tr>\n",
              "  </thead>\n",
              "  <tbody>\n",
              "    <tr>\n",
              "      <th>0</th>\n",
              "      <td>Омск</td>\n",
              "      <td>21.0</td>\n",
              "    </tr>\n",
              "    <tr>\n",
              "      <th>1</th>\n",
              "      <td>Челябинск</td>\n",
              "      <td>22.0</td>\n",
              "    </tr>\n",
              "    <tr>\n",
              "      <th>2</th>\n",
              "      <td>Красноярск</td>\n",
              "      <td>23.0</td>\n",
              "    </tr>\n",
              "    <tr>\n",
              "      <th>3</th>\n",
              "      <td>Волгоград</td>\n",
              "      <td>24.0</td>\n",
              "    </tr>\n",
              "    <tr>\n",
              "      <th>4</th>\n",
              "      <td>Пермь</td>\n",
              "      <td>25.0</td>\n",
              "    </tr>\n",
              "    <tr>\n",
              "      <th>5</th>\n",
              "      <td>Казань</td>\n",
              "      <td>25.0</td>\n",
              "    </tr>\n",
              "    <tr>\n",
              "      <th>6</th>\n",
              "      <td>Ростов-на-Дону</td>\n",
              "      <td>25.0</td>\n",
              "    </tr>\n",
              "    <tr>\n",
              "      <th>7</th>\n",
              "      <td>Уфа</td>\n",
              "      <td>26.0</td>\n",
              "    </tr>\n",
              "    <tr>\n",
              "      <th>8</th>\n",
              "      <td>Самара</td>\n",
              "      <td>26.0</td>\n",
              "    </tr>\n",
              "    <tr>\n",
              "      <th>9</th>\n",
              "      <td>Краснодар</td>\n",
              "      <td>30.0</td>\n",
              "    </tr>\n",
              "    <tr>\n",
              "      <th>10</th>\n",
              "      <td>Воронеж</td>\n",
              "      <td>32.0</td>\n",
              "    </tr>\n",
              "    <tr>\n",
              "      <th>11</th>\n",
              "      <td>Новосибирск</td>\n",
              "      <td>35.0</td>\n",
              "    </tr>\n",
              "    <tr>\n",
              "      <th>12</th>\n",
              "      <td>Нижний Новгород</td>\n",
              "      <td>36.0</td>\n",
              "    </tr>\n",
              "    <tr>\n",
              "      <th>13</th>\n",
              "      <td>Екатеринбург</td>\n",
              "      <td>39.0</td>\n",
              "    </tr>\n",
              "    <tr>\n",
              "      <th>14</th>\n",
              "      <td>Санкт-Петербург</td>\n",
              "      <td>42.0</td>\n",
              "    </tr>\n",
              "    <tr>\n",
              "      <th>15</th>\n",
              "      <td>Москва</td>\n",
              "      <td>54.0</td>\n",
              "    </tr>\n",
              "    <tr>\n",
              "      <th>16</th>\n",
              "      <td>Total</td>\n",
              "      <td>485.0</td>\n",
              "    </tr>\n",
              "  </tbody>\n",
              "</table>\n",
              "</div>"
            ],
            "text/plain": [
              "               name  vacancies_count\n",
              "0              Омск             21.0\n",
              "1         Челябинск             22.0\n",
              "2        Красноярск             23.0\n",
              "3         Волгоград             24.0\n",
              "4             Пермь             25.0\n",
              "5            Казань             25.0\n",
              "6    Ростов-на-Дону             25.0\n",
              "7               Уфа             26.0\n",
              "8            Самара             26.0\n",
              "9         Краснодар             30.0\n",
              "10          Воронеж             32.0\n",
              "11      Новосибирск             35.0\n",
              "12  Нижний Новгород             36.0\n",
              "13     Екатеринбург             39.0\n",
              "14  Санкт-Петербург             42.0\n",
              "15           Москва             54.0\n",
              "16            Total            485.0"
            ]
          },
          "execution_count": 100,
          "metadata": {},
          "output_type": "execute_result"
        }
      ],
      "source": [
        "df_5_7 = pd.read_sql_query(query_5_7, connection)\n",
        "df_5_7"
      ]
    },
    {
      "attachments": {},
      "cell_type": "markdown",
      "id": "c538339b",
      "metadata": {},
      "source": [
        "доп исследования"
      ]
    },
    {
      "cell_type": "code",
      "execution_count": 101,
      "id": "6bc963af",
      "metadata": {},
      "outputs": [],
      "source": [
        "# посмотрим на состав  компаний, которым требуются специалисты.\n",
        "query_5_8 = f'''\n",
        "    SELECT \n",
        "\t\te.name company_name,\n",
        "\t\tCOUNT(v.id) vacansies_count\n",
        "\tFROM \n",
        "\t\tvacancies v\tJOIN employers e ON e.id = v.employer_id \n",
        "\tGROUP BY e.name\n",
        " \tORDER BY vacansies_count DESC\n",
        "'''"
      ]
    },
    {
      "cell_type": "code",
      "execution_count": 102,
      "id": "8e3e3be3",
      "metadata": {},
      "outputs": [
        {
          "data": {
            "text/html": [
              "<div>\n",
              "<style scoped>\n",
              "    .dataframe tbody tr th:only-of-type {\n",
              "        vertical-align: middle;\n",
              "    }\n",
              "\n",
              "    .dataframe tbody tr th {\n",
              "        vertical-align: top;\n",
              "    }\n",
              "\n",
              "    .dataframe thead th {\n",
              "        text-align: right;\n",
              "    }\n",
              "</style>\n",
              "<table border=\"1\" class=\"dataframe\">\n",
              "  <thead>\n",
              "    <tr style=\"text-align: right;\">\n",
              "      <th></th>\n",
              "      <th>company_name</th>\n",
              "      <th>vacansies_count</th>\n",
              "    </tr>\n",
              "  </thead>\n",
              "  <tbody>\n",
              "    <tr>\n",
              "      <th>0</th>\n",
              "      <td>Яндекс</td>\n",
              "      <td>1933</td>\n",
              "    </tr>\n",
              "    <tr>\n",
              "      <th>1</th>\n",
              "      <td>Ростелеком</td>\n",
              "      <td>491</td>\n",
              "    </tr>\n",
              "    <tr>\n",
              "      <th>2</th>\n",
              "      <td>Тинькофф</td>\n",
              "      <td>444</td>\n",
              "    </tr>\n",
              "    <tr>\n",
              "      <th>3</th>\n",
              "      <td>СБЕР</td>\n",
              "      <td>428</td>\n",
              "    </tr>\n",
              "    <tr>\n",
              "      <th>4</th>\n",
              "      <td>Газпром нефть</td>\n",
              "      <td>331</td>\n",
              "    </tr>\n",
              "    <tr>\n",
              "      <th>...</th>\n",
              "      <td>...</td>\n",
              "      <td>...</td>\n",
              "    </tr>\n",
              "    <tr>\n",
              "      <th>14761</th>\n",
              "      <td>им. Тьюринга</td>\n",
              "      <td>1</td>\n",
              "    </tr>\n",
              "    <tr>\n",
              "      <th>14762</th>\n",
              "      <td>LLC Novalab Tech</td>\n",
              "      <td>1</td>\n",
              "    </tr>\n",
              "    <tr>\n",
              "      <th>14763</th>\n",
              "      <td>Компания Мир упаковки</td>\n",
              "      <td>1</td>\n",
              "    </tr>\n",
              "    <tr>\n",
              "      <th>14764</th>\n",
              "      <td>Лифинцев Олег Иванович</td>\n",
              "      <td>1</td>\n",
              "    </tr>\n",
              "    <tr>\n",
              "      <th>14765</th>\n",
              "      <td>ТрансЭнергоХолдинг</td>\n",
              "      <td>1</td>\n",
              "    </tr>\n",
              "  </tbody>\n",
              "</table>\n",
              "<p>14766 rows × 2 columns</p>\n",
              "</div>"
            ],
            "text/plain": [
              "                 company_name  vacansies_count\n",
              "0                      Яндекс             1933\n",
              "1                  Ростелеком              491\n",
              "2                    Тинькофф              444\n",
              "3                        СБЕР              428\n",
              "4               Газпром нефть              331\n",
              "...                       ...              ...\n",
              "14761            им. Тьюринга                1\n",
              "14762        LLC Novalab Tech                1\n",
              "14763   Компания Мир упаковки                1\n",
              "14764  Лифинцев Олег Иванович                1\n",
              "14765      ТрансЭнергоХолдинг                1\n",
              "\n",
              "[14766 rows x 2 columns]"
            ]
          },
          "execution_count": 102,
          "metadata": {},
          "output_type": "execute_result"
        }
      ],
      "source": [
        "df_5_8 = pd.read_sql_query(query_5_8, connection)\n",
        "df_5_8"
      ]
    },
    {
      "cell_type": "code",
      "execution_count": 103,
      "id": "13f4b124",
      "metadata": {},
      "outputs": [],
      "source": [
        "# посмотрим на состав регионов, в которыхесть работадатели, но нет вакансий\n",
        "query_5_9 = f'''\n",
        "    SELECT \n",
        "        a.name,\n",
        "        COUNT(e.id) employers_count,\n",
        "        COUNT(v.id) vacancies_count\n",
        "    FROM \n",
        "        areas a \n",
        "        LEFT JOIN vacancies v ON a.id = v.area_id \n",
        "        LEFT JOIN employers e ON e.area = a.id\n",
        "    GROUP BY a.name\n",
        "    HAVING COUNT(v.id) = 0 AND COUNT(e.id) > 0\n",
        "    ORDER BY employers_count DESC\n",
        "'''"
      ]
    },
    {
      "cell_type": "code",
      "execution_count": 104,
      "id": "72a3571c",
      "metadata": {},
      "outputs": [
        {
          "data": {
            "text/html": [
              "<div>\n",
              "<style scoped>\n",
              "    .dataframe tbody tr th:only-of-type {\n",
              "        vertical-align: middle;\n",
              "    }\n",
              "\n",
              "    .dataframe tbody tr th {\n",
              "        vertical-align: top;\n",
              "    }\n",
              "\n",
              "    .dataframe thead th {\n",
              "        text-align: right;\n",
              "    }\n",
              "</style>\n",
              "<table border=\"1\" class=\"dataframe\">\n",
              "  <thead>\n",
              "    <tr style=\"text-align: right;\">\n",
              "      <th></th>\n",
              "      <th>name</th>\n",
              "      <th>employers_count</th>\n",
              "      <th>vacancies_count</th>\n",
              "    </tr>\n",
              "  </thead>\n",
              "  <tbody>\n",
              "    <tr>\n",
              "      <th>0</th>\n",
              "      <td>Россия</td>\n",
              "      <td>410</td>\n",
              "      <td>0</td>\n",
              "    </tr>\n",
              "    <tr>\n",
              "      <th>1</th>\n",
              "      <td>Казахстан</td>\n",
              "      <td>207</td>\n",
              "      <td>0</td>\n",
              "    </tr>\n",
              "    <tr>\n",
              "      <th>2</th>\n",
              "      <td>Московская область</td>\n",
              "      <td>75</td>\n",
              "      <td>0</td>\n",
              "    </tr>\n",
              "    <tr>\n",
              "      <th>3</th>\n",
              "      <td>Краснодарский край</td>\n",
              "      <td>19</td>\n",
              "      <td>0</td>\n",
              "    </tr>\n",
              "    <tr>\n",
              "      <th>4</th>\n",
              "      <td>Беларусь</td>\n",
              "      <td>18</td>\n",
              "      <td>0</td>\n",
              "    </tr>\n",
              "    <tr>\n",
              "      <th>...</th>\n",
              "      <td>...</td>\n",
              "      <td>...</td>\n",
              "      <td>...</td>\n",
              "    </tr>\n",
              "    <tr>\n",
              "      <th>181</th>\n",
              "      <td>Удобная</td>\n",
              "      <td>1</td>\n",
              "      <td>0</td>\n",
              "    </tr>\n",
              "    <tr>\n",
              "      <th>182</th>\n",
              "      <td>Майна (Ульяновская область)</td>\n",
              "      <td>1</td>\n",
              "      <td>0</td>\n",
              "    </tr>\n",
              "    <tr>\n",
              "      <th>183</th>\n",
              "      <td>Верхнетуломский</td>\n",
              "      <td>1</td>\n",
              "      <td>0</td>\n",
              "    </tr>\n",
              "    <tr>\n",
              "      <th>184</th>\n",
              "      <td>Жаркент</td>\n",
              "      <td>1</td>\n",
              "      <td>0</td>\n",
              "    </tr>\n",
              "    <tr>\n",
              "      <th>185</th>\n",
              "      <td>Михайловка (Уфимский район, Башкортостан)</td>\n",
              "      <td>1</td>\n",
              "      <td>0</td>\n",
              "    </tr>\n",
              "  </tbody>\n",
              "</table>\n",
              "<p>186 rows × 3 columns</p>\n",
              "</div>"
            ],
            "text/plain": [
              "                                          name  employers_count  \\\n",
              "0                                       Россия              410   \n",
              "1                                    Казахстан              207   \n",
              "2                           Московская область               75   \n",
              "3                           Краснодарский край               19   \n",
              "4                                     Беларусь               18   \n",
              "..                                         ...              ...   \n",
              "181                                    Удобная                1   \n",
              "182                Майна (Ульяновская область)                1   \n",
              "183                            Верхнетуломский                1   \n",
              "184                                    Жаркент                1   \n",
              "185  Михайловка (Уфимский район, Башкортостан)                1   \n",
              "\n",
              "     vacancies_count  \n",
              "0                  0  \n",
              "1                  0  \n",
              "2                  0  \n",
              "3                  0  \n",
              "4                  0  \n",
              "..               ...  \n",
              "181                0  \n",
              "182                0  \n",
              "183                0  \n",
              "184                0  \n",
              "185                0  \n",
              "\n",
              "[186 rows x 3 columns]"
            ]
          },
          "execution_count": 104,
          "metadata": {},
          "output_type": "execute_result"
        }
      ],
      "source": [
        "df_5_9 = pd.read_sql_query(query_5_9, connection)\n",
        "df_5_9"
      ]
    },
    {
      "cell_type": "code",
      "execution_count": 105,
      "id": "0dbcf29b",
      "metadata": {},
      "outputs": [],
      "source": [
        "# проверим наличие подразделений яндекса и количества вакансий у них\n",
        "query_5_10 = f'''\n",
        "    SELECT \n",
        "        e.name company_name,\n",
        "        COUNT(v.id) vacansies_count\n",
        "    FROM \n",
        "        vacancies v\tJOIN employers e ON e.id = v.employer_id \n",
        "    WHERE e.name ILIKE '%%яндекс%%'\n",
        "    GROUP BY e.name\n",
        "    ORDER BY vacansies_count DESC\n",
        "'''"
      ]
    },
    {
      "cell_type": "code",
      "execution_count": 106,
      "id": "7185cb22",
      "metadata": {},
      "outputs": [
        {
          "data": {
            "text/html": [
              "<div>\n",
              "<style scoped>\n",
              "    .dataframe tbody tr th:only-of-type {\n",
              "        vertical-align: middle;\n",
              "    }\n",
              "\n",
              "    .dataframe tbody tr th {\n",
              "        vertical-align: top;\n",
              "    }\n",
              "\n",
              "    .dataframe thead th {\n",
              "        text-align: right;\n",
              "    }\n",
              "</style>\n",
              "<table border=\"1\" class=\"dataframe\">\n",
              "  <thead>\n",
              "    <tr style=\"text-align: right;\">\n",
              "      <th></th>\n",
              "      <th>company_name</th>\n",
              "      <th>vacansies_count</th>\n",
              "    </tr>\n",
              "  </thead>\n",
              "  <tbody>\n",
              "    <tr>\n",
              "      <th>0</th>\n",
              "      <td>Яндекс</td>\n",
              "      <td>1933</td>\n",
              "    </tr>\n",
              "    <tr>\n",
              "      <th>1</th>\n",
              "      <td>Яндекс Практикум</td>\n",
              "      <td>8</td>\n",
              "    </tr>\n",
              "  </tbody>\n",
              "</table>\n",
              "</div>"
            ],
            "text/plain": [
              "       company_name  vacansies_count\n",
              "0            Яндекс             1933\n",
              "1  Яндекс Практикум                8"
            ]
          },
          "execution_count": 106,
          "metadata": {},
          "output_type": "execute_result"
        }
      ],
      "source": [
        "df_5_10 = pd.read_sql_query(query_5_10, connection)\n",
        "df_5_10"
      ]
    },
    {
      "cell_type": "code",
      "execution_count": 107,
      "id": "b9bef119",
      "metadata": {},
      "outputs": [],
      "source": [
        "# проверим наличие подразделений яндекса и количества вакансий у них\n",
        "query_5_11 = f'''\n",
        "    SELECT \n",
        "        e.name,\n",
        "        v.name,\n",
        "        COUNT(DISTINCT(area_id)) areas_count\n",
        "    FROM \n",
        "        employers e\n",
        "        LEFT JOIN vacancies v ON e.id = v.employer_id \n",
        "    WHERE -- только яндекс и ростелеком\n",
        "        e.name ILIKE ANY(ARRAY['яндекс', 'ростелеком'])\n",
        "    GROUP BY \n",
        "        e.name,\n",
        "        v.name\n",
        "    -- рассмотрим только те вакансии, которые представлены в 10 и более регионах\n",
        "    HAVING COUNT(DISTINCT(area_id)) > 10 \n",
        "    ORDER BY \n",
        "        e.name,\n",
        "        areas_count DESC\n",
        "'''"
      ]
    },
    {
      "cell_type": "code",
      "execution_count": 108,
      "id": "5b762989",
      "metadata": {},
      "outputs": [
        {
          "data": {
            "text/html": [
              "<div>\n",
              "<style scoped>\n",
              "    .dataframe tbody tr th:only-of-type {\n",
              "        vertical-align: middle;\n",
              "    }\n",
              "\n",
              "    .dataframe tbody tr th {\n",
              "        vertical-align: top;\n",
              "    }\n",
              "\n",
              "    .dataframe thead th {\n",
              "        text-align: right;\n",
              "    }\n",
              "</style>\n",
              "<table border=\"1\" class=\"dataframe\">\n",
              "  <thead>\n",
              "    <tr style=\"text-align: right;\">\n",
              "      <th></th>\n",
              "      <th>name</th>\n",
              "      <th>name</th>\n",
              "      <th>areas_count</th>\n",
              "    </tr>\n",
              "  </thead>\n",
              "  <tbody>\n",
              "    <tr>\n",
              "      <th>0</th>\n",
              "      <td>Ростелеком</td>\n",
              "      <td>Мастер по обслуживанию абонентов</td>\n",
              "      <td>39</td>\n",
              "    </tr>\n",
              "    <tr>\n",
              "      <th>1</th>\n",
              "      <td>Ростелеком</td>\n",
              "      <td>Инженер технической поддержки</td>\n",
              "      <td>16</td>\n",
              "    </tr>\n",
              "    <tr>\n",
              "      <th>2</th>\n",
              "      <td>Ростелеком</td>\n",
              "      <td>Инженер комплексной технической поддержки</td>\n",
              "      <td>15</td>\n",
              "    </tr>\n",
              "    <tr>\n",
              "      <th>3</th>\n",
              "      <td>Ростелеком</td>\n",
              "      <td>Инженер</td>\n",
              "      <td>12</td>\n",
              "    </tr>\n",
              "    <tr>\n",
              "      <th>4</th>\n",
              "      <td>Яндекс</td>\n",
              "      <td>Младший специалист ручного тестирования</td>\n",
              "      <td>169</td>\n",
              "    </tr>\n",
              "    <tr>\n",
              "      <th>5</th>\n",
              "      <td>Яндекс</td>\n",
              "      <td>Специалист службы поддержки в Яндекс Бизнес</td>\n",
              "      <td>168</td>\n",
              "    </tr>\n",
              "    <tr>\n",
              "      <th>6</th>\n",
              "      <td>Яндекс</td>\n",
              "      <td>Специалист службы поддержки Рекламной сети Янд...</td>\n",
              "      <td>139</td>\n",
              "    </tr>\n",
              "    <tr>\n",
              "      <th>7</th>\n",
              "      <td>Яндекс</td>\n",
              "      <td>Специалист службы поддержки пользователей</td>\n",
              "      <td>100</td>\n",
              "    </tr>\n",
              "    <tr>\n",
              "      <th>8</th>\n",
              "      <td>Яндекс</td>\n",
              "      <td>Технический писатель (дистанционный автор)</td>\n",
              "      <td>99</td>\n",
              "    </tr>\n",
              "    <tr>\n",
              "      <th>9</th>\n",
              "      <td>Яндекс</td>\n",
              "      <td>Сотрудник поддержки поиска Яндекса</td>\n",
              "      <td>99</td>\n",
              "    </tr>\n",
              "    <tr>\n",
              "      <th>10</th>\n",
              "      <td>Яндекс</td>\n",
              "      <td>Специалист поддержки в Yandex Cloud</td>\n",
              "      <td>97</td>\n",
              "    </tr>\n",
              "    <tr>\n",
              "      <th>11</th>\n",
              "      <td>Яндекс</td>\n",
              "      <td>Специалист службы поддержки с техническими зна...</td>\n",
              "      <td>84</td>\n",
              "    </tr>\n",
              "    <tr>\n",
              "      <th>12</th>\n",
              "      <td>Яндекс</td>\n",
              "      <td>Специалист службы поддержки с техническими зна...</td>\n",
              "      <td>75</td>\n",
              "    </tr>\n",
              "    <tr>\n",
              "      <th>13</th>\n",
              "      <td>Яндекс</td>\n",
              "      <td>Специалист поддержки в Толоку со знанием англи...</td>\n",
              "      <td>61</td>\n",
              "    </tr>\n",
              "    <tr>\n",
              "      <th>14</th>\n",
              "      <td>Яндекс</td>\n",
              "      <td>Тимлид клиентского сервиса</td>\n",
              "      <td>58</td>\n",
              "    </tr>\n",
              "    <tr>\n",
              "      <th>15</th>\n",
              "      <td>Яндекс</td>\n",
              "      <td>Разработчик (поисковая выдача)</td>\n",
              "      <td>54</td>\n",
              "    </tr>\n",
              "    <tr>\n",
              "      <th>16</th>\n",
              "      <td>Яндекс</td>\n",
              "      <td>Сотрудник службы поддержки с техническими знан...</td>\n",
              "      <td>51</td>\n",
              "    </tr>\n",
              "    <tr>\n",
              "      <th>17</th>\n",
              "      <td>Яндекс</td>\n",
              "      <td>Сотрудник службы поддержки с техническими знан...</td>\n",
              "      <td>50</td>\n",
              "    </tr>\n",
              "    <tr>\n",
              "      <th>18</th>\n",
              "      <td>Яндекс</td>\n",
              "      <td>Консультант онлайн-поддержки с техническими зн...</td>\n",
              "      <td>40</td>\n",
              "    </tr>\n",
              "    <tr>\n",
              "      <th>19</th>\n",
              "      <td>Яндекс</td>\n",
              "      <td>Эксперт по ответам на вопросы о Яндекс Бизнесе</td>\n",
              "      <td>36</td>\n",
              "    </tr>\n",
              "    <tr>\n",
              "      <th>20</th>\n",
              "      <td>Яндекс</td>\n",
              "      <td>Специалист по общению с клиентами в Яндекс Бизнес</td>\n",
              "      <td>35</td>\n",
              "    </tr>\n",
              "    <tr>\n",
              "      <th>21</th>\n",
              "      <td>Яндекс</td>\n",
              "      <td>Специалист службы поддержки с техническими зна...</td>\n",
              "      <td>33</td>\n",
              "    </tr>\n",
              "    <tr>\n",
              "      <th>22</th>\n",
              "      <td>Яндекс</td>\n",
              "      <td>Специалист поддержки в Яндекс Бизнес</td>\n",
              "      <td>32</td>\n",
              "    </tr>\n",
              "    <tr>\n",
              "      <th>23</th>\n",
              "      <td>Яндекс</td>\n",
              "      <td>Специалист службы поддержки с техническими зна...</td>\n",
              "      <td>31</td>\n",
              "    </tr>\n",
              "    <tr>\n",
              "      <th>24</th>\n",
              "      <td>Яндекс</td>\n",
              "      <td>Сотрудник службы поддержки в Яндекс Бизнес</td>\n",
              "      <td>29</td>\n",
              "    </tr>\n",
              "    <tr>\n",
              "      <th>25</th>\n",
              "      <td>Яндекс</td>\n",
              "      <td>Консультант службы поддержки в Yandex Cloud</td>\n",
              "      <td>22</td>\n",
              "    </tr>\n",
              "    <tr>\n",
              "      <th>26</th>\n",
              "      <td>Яндекс</td>\n",
              "      <td>Специалист службы поддержки с техническими зна...</td>\n",
              "      <td>22</td>\n",
              "    </tr>\n",
              "    <tr>\n",
              "      <th>27</th>\n",
              "      <td>Яндекс</td>\n",
              "      <td>Специалист службы поддержки в Yandex Cloud</td>\n",
              "      <td>19</td>\n",
              "    </tr>\n",
              "    <tr>\n",
              "      <th>28</th>\n",
              "      <td>Яндекс</td>\n",
              "      <td>Специалист службы поддержки в Директ</td>\n",
              "      <td>17</td>\n",
              "    </tr>\n",
              "    <tr>\n",
              "      <th>29</th>\n",
              "      <td>Яндекс</td>\n",
              "      <td>Специалист службы поддержки с техническими зна...</td>\n",
              "      <td>16</td>\n",
              "    </tr>\n",
              "    <tr>\n",
              "      <th>30</th>\n",
              "      <td>Яндекс</td>\n",
              "      <td>Специалист службы поддержки с техническими зна...</td>\n",
              "      <td>15</td>\n",
              "    </tr>\n",
              "    <tr>\n",
              "      <th>31</th>\n",
              "      <td>Яндекс</td>\n",
              "      <td>Специалист службы поддержки (с техническими зн...</td>\n",
              "      <td>15</td>\n",
              "    </tr>\n",
              "    <tr>\n",
              "      <th>32</th>\n",
              "      <td>Яндекс</td>\n",
              "      <td>Оператор поддержки удалённых сотрудников</td>\n",
              "      <td>15</td>\n",
              "    </tr>\n",
              "    <tr>\n",
              "      <th>33</th>\n",
              "      <td>Яндекс</td>\n",
              "      <td>Специалист службы поддержки сервиса К50 Ecom</td>\n",
              "      <td>13</td>\n",
              "    </tr>\n",
              "    <tr>\n",
              "      <th>34</th>\n",
              "      <td>Яндекс</td>\n",
              "      <td>Специалист службы поддержки с техническими зна...</td>\n",
              "      <td>12</td>\n",
              "    </tr>\n",
              "    <tr>\n",
              "      <th>35</th>\n",
              "      <td>Яндекс</td>\n",
              "      <td>Специалист службы поддержки с техническими зна...</td>\n",
              "      <td>12</td>\n",
              "    </tr>\n",
              "    <tr>\n",
              "      <th>36</th>\n",
              "      <td>Яндекс</td>\n",
              "      <td>Специалист технической поддержки в Метрику (по...</td>\n",
              "      <td>12</td>\n",
              "    </tr>\n",
              "    <tr>\n",
              "      <th>37</th>\n",
              "      <td>Яндекс</td>\n",
              "      <td>Специалист службы поддержки с техническими зна...</td>\n",
              "      <td>11</td>\n",
              "    </tr>\n",
              "  </tbody>\n",
              "</table>\n",
              "</div>"
            ],
            "text/plain": [
              "          name                                               name  areas_count\n",
              "0   Ростелеком                   Мастер по обслуживанию абонентов           39\n",
              "1   Ростелеком                      Инженер технической поддержки           16\n",
              "2   Ростелеком          Инженер комплексной технической поддержки           15\n",
              "3   Ростелеком                                            Инженер           12\n",
              "4       Яндекс            Младший специалист ручного тестирования          169\n",
              "5       Яндекс        Специалист службы поддержки в Яндекс Бизнес          168\n",
              "6       Яндекс  Специалист службы поддержки Рекламной сети Янд...          139\n",
              "7       Яндекс          Специалист службы поддержки пользователей          100\n",
              "8       Яндекс         Технический писатель (дистанционный автор)           99\n",
              "9       Яндекс                 Сотрудник поддержки поиска Яндекса           99\n",
              "10      Яндекс                Специалист поддержки в Yandex Cloud           97\n",
              "11      Яндекс  Специалист службы поддержки с техническими зна...           84\n",
              "12      Яндекс  Специалист службы поддержки с техническими зна...           75\n",
              "13      Яндекс  Специалист поддержки в Толоку со знанием англи...           61\n",
              "14      Яндекс                         Тимлид клиентского сервиса           58\n",
              "15      Яндекс                     Разработчик (поисковая выдача)           54\n",
              "16      Яндекс  Сотрудник службы поддержки с техническими знан...           51\n",
              "17      Яндекс  Сотрудник службы поддержки с техническими знан...           50\n",
              "18      Яндекс  Консультант онлайн-поддержки с техническими зн...           40\n",
              "19      Яндекс     Эксперт по ответам на вопросы о Яндекс Бизнесе           36\n",
              "20      Яндекс  Специалист по общению с клиентами в Яндекс Бизнес           35\n",
              "21      Яндекс  Специалист службы поддержки с техническими зна...           33\n",
              "22      Яндекс               Специалист поддержки в Яндекс Бизнес           32\n",
              "23      Яндекс  Специалист службы поддержки с техническими зна...           31\n",
              "24      Яндекс         Сотрудник службы поддержки в Яндекс Бизнес           29\n",
              "25      Яндекс        Консультант службы поддержки в Yandex Cloud           22\n",
              "26      Яндекс  Специалист службы поддержки с техническими зна...           22\n",
              "27      Яндекс         Специалист службы поддержки в Yandex Cloud           19\n",
              "28      Яндекс               Специалист службы поддержки в Директ           17\n",
              "29      Яндекс  Специалист службы поддержки с техническими зна...           16\n",
              "30      Яндекс  Специалист службы поддержки с техническими зна...           15\n",
              "31      Яндекс  Специалист службы поддержки (с техническими зн...           15\n",
              "32      Яндекс           Оператор поддержки удалённых сотрудников           15\n",
              "33      Яндекс       Специалист службы поддержки сервиса К50 Ecom           13\n",
              "34      Яндекс  Специалист службы поддержки с техническими зна...           12\n",
              "35      Яндекс  Специалист службы поддержки с техническими зна...           12\n",
              "36      Яндекс  Специалист технической поддержки в Метрику (по...           12\n",
              "37      Яндекс  Специалист службы поддержки с техническими зна...           11"
            ]
          },
          "execution_count": 108,
          "metadata": {},
          "output_type": "execute_result"
        }
      ],
      "source": [
        "df_5_11 = pd.read_sql_query(query_5_11, connection)\n",
        "df_5_11"
      ]
    },
    {
      "attachments": {},
      "cell_type": "markdown",
      "id": "04966e40-3bc3-4dc8-9ba2-e80580ce3abc",
      "metadata": {
        "id": "04966e40-3bc3-4dc8-9ba2-e80580ce3abc"
      },
      "source": [
        "***"
      ]
    },
    {
      "attachments": {},
      "cell_type": "markdown",
      "id": "aGGyER-yt4SR",
      "metadata": {
        "id": "aGGyER-yt4SR"
      },
      "source": [
        "### выводы по анализу работодателей\n",
        "\n",
        "* с огромным отрывом от остальных участников рынка по количеству вакансий идёт Яндекс - 1933 вакансии.  \n",
        "следом идёт Ростелеком, Тинькофф, СБЕР, Газпром нефть.  \n",
        "IT гигант, по всей видимости, расширял штат сотрудников под какую-то крупную задачу на момент формирования датасета.  \n",
        "Специалисты востребованы в крупных финтех предприятиях, в компании связи и лишь на пятом месте представитель крупной промышленности.  \n",
        "* В датасете присутствуют 186 регионов, в которых нет вакансий, но присутствуют работадатели. Лидером этого списка является Россия.  \n",
        "Сложно сказать несёт ли это полезную информацию, поскольку среди таких \"пустых\" регионов присутствуют регионы входящие в состав России, например Московская область, кроме того есть в датасете и г. Москва, который тоже в составе России, но у него есть вакансии.  \n",
        "То-же самое касается Казахстана, Беларуси и других стран.  \n",
        "* Любопытно, две первые строки в выборке работодателей по количеству регионов где они размещают свои вакансии совпадают с двумя превыми строками по количеству вакансий из превого пункта. А именно: Яндекс разместил вакансии в 181 регионе и Ростелеком разместил вакансии в 152 регионах.  \n",
        "Вероятно это связано с покрытием своими услугами географии. Яндекс имеет кучу дочек типа Яндекс маркета, еды или такси, а Ростелеком предоставляет услуги связи по всей стране. Вероятно в каждом крупном городе у этих компаний есть региональный офис, в которм IT специалисты должны решать местные IT проблемы. Для подтверждения этого тезиса нужно смотреть какие именно специалисты нужны в этих компаниях, в разрезе регионов.  \n",
        "В датасете Яндекс представлен только двумя наименованиями, собственно Яндексом и Яндекс-практикумом.  \n",
        "Судя по составу вакансий в Яндексе требуются специалисты службы поддержки и тестировщики. А в Ростелеком мастера по обслуживанию абонентов.  \n",
        "Это подтверждает тезис о том что у этих компаний есть офисы по разным регионам и им нужны люди на местах.\n",
        "* У 8419 работодателей не указали сферу деятельности. На данном этапе это ни о чём не говорит.  \n",
        "* У 3553 работодателей в качестве сферы деятельности указана разработка ПО. Это 15 % от датасета.\n",
        "* У компании яндекс 485 вакансий в городах миллионниках. Больше всего в столице 54. \n",
        "\n",
        " \n"
      ]
    },
    {
      "attachments": {},
      "cell_type": "markdown",
      "id": "b1ef156a-efcb-49ce-bb23-90763e7f35b2",
      "metadata": {
        "id": "b1ef156a-efcb-49ce-bb23-90763e7f35b2",
        "tags": []
      },
      "source": [
        "# Юнит 6. Предметный анализ"
      ]
    },
    {
      "attachments": {},
      "cell_type": "markdown",
      "id": "b9cd50a0-992d-4988-8463-2b2b1c4629b4",
      "metadata": {
        "id": "b9cd50a0-992d-4988-8463-2b2b1c4629b4"
      },
      "source": [
        "1. Сколько вакансий имеет отношение к данным?\n",
        "\n",
        "Считаем, что вакансия имеет отношение к данным, если в её названии содержатся слова 'data' или 'данн'.\n",
        "\n",
        "*Подсказка: Обратите внимание, что названия вакансий могут быть написаны в любом регистре.* \n"
      ]
    },
    {
      "cell_type": "code",
      "execution_count": 109,
      "id": "54ab0e50-c0f1-47cc-a54b-bc5c8bc363f9",
      "metadata": {
        "id": "54ab0e50-c0f1-47cc-a54b-bc5c8bc363f9"
      },
      "outputs": [],
      "source": [
        "# текст запроса\n",
        "query_6_1 = f'''\n",
        "    SELECT \n",
        "\t\tCOUNT(DISTINCT v.id) data_vacancies_count\n",
        "\tFROM \n",
        "\t\tvacancies v\n",
        "\tWHERE \n",
        "\t\t-- приведём текст к нижнему регистру, чтобы не плодить шаблоны\n",
        " \t\tLOWER(v.name) LIKE '%%data%%' \n",
        "   \t\tOR LOWER(v.name) LIKE '%%данн%%'\n",
        "'''"
      ]
    },
    {
      "cell_type": "code",
      "execution_count": 110,
      "id": "9F1meAqsuUjd",
      "metadata": {
        "id": "9F1meAqsuUjd"
      },
      "outputs": [
        {
          "data": {
            "text/html": [
              "<div>\n",
              "<style scoped>\n",
              "    .dataframe tbody tr th:only-of-type {\n",
              "        vertical-align: middle;\n",
              "    }\n",
              "\n",
              "    .dataframe tbody tr th {\n",
              "        vertical-align: top;\n",
              "    }\n",
              "\n",
              "    .dataframe thead th {\n",
              "        text-align: right;\n",
              "    }\n",
              "</style>\n",
              "<table border=\"1\" class=\"dataframe\">\n",
              "  <thead>\n",
              "    <tr style=\"text-align: right;\">\n",
              "      <th></th>\n",
              "      <th>data_vacancies_count</th>\n",
              "    </tr>\n",
              "  </thead>\n",
              "  <tbody>\n",
              "    <tr>\n",
              "      <th>0</th>\n",
              "      <td>1771</td>\n",
              "    </tr>\n",
              "  </tbody>\n",
              "</table>\n",
              "</div>"
            ],
            "text/plain": [
              "   data_vacancies_count\n",
              "0                  1771"
            ]
          },
          "execution_count": 110,
          "metadata": {},
          "output_type": "execute_result"
        }
      ],
      "source": [
        "# результат запроса\n",
        "df_6_1 = pd.read_sql_query(query_6_1, connection)\n",
        "df_6_1"
      ]
    },
    {
      "attachments": {},
      "cell_type": "markdown",
      "id": "4dea20cb-a36b-474a-a0b9-e08e8e3857a5",
      "metadata": {
        "id": "4dea20cb-a36b-474a-a0b9-e08e8e3857a5"
      },
      "source": [
        "2. Сколько есть подходящих вакансий для начинающего дата-сайентиста? \n",
        "Будем считать вакансиями для дата-сайентистов такие, в названии которых есть хотя бы одно из следующих сочетаний:\n",
        "* 'data scientist'\n",
        "* 'data science'\n",
        "* 'исследователь данных'\n",
        "* 'ML' (здесь не нужно брать вакансии по HTML)\n",
        "* 'machine learning'\n",
        "* 'машинн%обучен%'\n",
        "\n",
        "** В следующих заданиях мы продолжим работать с вакансиями по этому условию.*\n",
        "\n",
        "Считаем вакансиями для специалистов уровня Junior следующие:\n",
        "* в названии есть слово 'junior' *или*\n",
        "* требуемый опыт — Нет опыта *или*\n",
        "* тип трудоустройства — Стажировка.\n",
        " "
      ]
    },
    {
      "cell_type": "code",
      "execution_count": 111,
      "id": "9c61b3c0-bb66-46c9-ae1e-81d3f5752b4a",
      "metadata": {
        "id": "9c61b3c0-bb66-46c9-ae1e-81d3f5752b4a"
      },
      "outputs": [],
      "source": [
        "# фильтр по DS\n",
        "ds_only = '''\n",
        "        ( -- без учёта регистра, любой шаблон из масива\n",
        "        v.name ILIKE ANY(ARRAY[\n",
        "            '%%data science%%',\n",
        "            '%%data scientist%%', \n",
        "            '%%исследователь данных%%',\n",
        "            '%%machine learning%%',\n",
        "            '%%машинн%%обучен%%'])\n",
        "        OR ( -- с учётом ресистра, конкретные позиции\n",
        "            v.name LIKE '%%ML%%'\n",
        "            AND v.name NOT LIKE '%%HTML%%'\n",
        "            )\n",
        "        )\n",
        "'''\n",
        "# фильтр по джунам\n",
        "junior = '''\n",
        "    (\n",
        "    v.name ILIKE '%%junior%%'\n",
        "    OR v.experience ILIKE '%%нет опыта%%'\n",
        "    OR v.employment ILIKE '%%стажировка%%'\n",
        "    )\n",
        "'''\n",
        "# текст запроса\n",
        "query_6_2 = f'''\n",
        "    SELECT COUNT(DISTINCT v.id) vacancies_count\n",
        "    FROM vacancies v\n",
        "    WHERE {ds_only} AND {junior}\n",
        "'''"
      ]
    },
    {
      "cell_type": "code",
      "execution_count": 112,
      "id": "ZNM-LLYuu1dj",
      "metadata": {
        "id": "ZNM-LLYuu1dj"
      },
      "outputs": [
        {
          "data": {
            "text/html": [
              "<div>\n",
              "<style scoped>\n",
              "    .dataframe tbody tr th:only-of-type {\n",
              "        vertical-align: middle;\n",
              "    }\n",
              "\n",
              "    .dataframe tbody tr th {\n",
              "        vertical-align: top;\n",
              "    }\n",
              "\n",
              "    .dataframe thead th {\n",
              "        text-align: right;\n",
              "    }\n",
              "</style>\n",
              "<table border=\"1\" class=\"dataframe\">\n",
              "  <thead>\n",
              "    <tr style=\"text-align: right;\">\n",
              "      <th></th>\n",
              "      <th>vacancies_count</th>\n",
              "    </tr>\n",
              "  </thead>\n",
              "  <tbody>\n",
              "    <tr>\n",
              "      <th>0</th>\n",
              "      <td>51</td>\n",
              "    </tr>\n",
              "  </tbody>\n",
              "</table>\n",
              "</div>"
            ],
            "text/plain": [
              "   vacancies_count\n",
              "0               51"
            ]
          },
          "execution_count": 112,
          "metadata": {},
          "output_type": "execute_result"
        }
      ],
      "source": [
        "# результат запроса\n",
        "df_6_2 = pd.read_sql_query(query_6_2, connection)\n",
        "df_6_2"
      ]
    },
    {
      "attachments": {},
      "cell_type": "markdown",
      "id": "eedceb80-c5ca-480e-b27a-278dfb8b4438",
      "metadata": {
        "id": "eedceb80-c5ca-480e-b27a-278dfb8b4438"
      },
      "source": [
        "3. Сколько есть вакансий для DS, в которых в качестве ключевого навыка указан SQL или postgres?\n",
        "\n",
        "** Критерии для отнесения вакансии к DS указаны в предыдущем задании.*"
      ]
    },
    {
      "cell_type": "code",
      "execution_count": 113,
      "id": "69621713-0cc5-4f1b-a1d7-bb144fa6148c",
      "metadata": {
        "id": "69621713-0cc5-4f1b-a1d7-bb144fa6148c"
      },
      "outputs": [],
      "source": [
        "# текст запроса\n",
        "query_6_3 = f'''\n",
        "    SELECT \n",
        "     \tCOUNT(DISTINCT v.id) vacancies_count\n",
        "    FROM \n",
        "        vacancies v\n",
        "    WHERE \n",
        "        {ds_only} AND (\n",
        "        v.key_skills LIKE '%%SQL%%'\n",
        "        OR v.key_skills ILIKE '%%postgres%%'\n",
        "        )\n",
        "'''"
      ]
    },
    {
      "cell_type": "code",
      "execution_count": 114,
      "id": "alA8WEAAvGdf",
      "metadata": {
        "id": "alA8WEAAvGdf"
      },
      "outputs": [
        {
          "data": {
            "text/html": [
              "<div>\n",
              "<style scoped>\n",
              "    .dataframe tbody tr th:only-of-type {\n",
              "        vertical-align: middle;\n",
              "    }\n",
              "\n",
              "    .dataframe tbody tr th {\n",
              "        vertical-align: top;\n",
              "    }\n",
              "\n",
              "    .dataframe thead th {\n",
              "        text-align: right;\n",
              "    }\n",
              "</style>\n",
              "<table border=\"1\" class=\"dataframe\">\n",
              "  <thead>\n",
              "    <tr style=\"text-align: right;\">\n",
              "      <th></th>\n",
              "      <th>vacancies_count</th>\n",
              "    </tr>\n",
              "  </thead>\n",
              "  <tbody>\n",
              "    <tr>\n",
              "      <th>0</th>\n",
              "      <td>201</td>\n",
              "    </tr>\n",
              "  </tbody>\n",
              "</table>\n",
              "</div>"
            ],
            "text/plain": [
              "   vacancies_count\n",
              "0              201"
            ]
          },
          "execution_count": 114,
          "metadata": {},
          "output_type": "execute_result"
        }
      ],
      "source": [
        "# результат запроса\n",
        "df_6_3 = pd.read_sql_query(query_6_3, connection)\n",
        "df_6_3"
      ]
    },
    {
      "attachments": {},
      "cell_type": "markdown",
      "id": "1be1e9c6-37cf-4a5f-bfeb-04cab799dc80",
      "metadata": {
        "id": "1be1e9c6-37cf-4a5f-bfeb-04cab799dc80"
      },
      "source": [
        "4. Проверьте, насколько популярен Python в требованиях работодателей к DS.Для этого вычислите количество вакансий, в которых в качестве ключевого навыка указан Python.\n",
        "\n",
        "** Это можно сделать помощью запроса, аналогичного предыдущему.*"
      ]
    },
    {
      "cell_type": "code",
      "execution_count": 115,
      "id": "0036a355-9ccf-4564-8b01-73d8194297e7",
      "metadata": {
        "id": "0036a355-9ccf-4564-8b01-73d8194297e7"
      },
      "outputs": [],
      "source": [
        "# текст запроса\n",
        "query_6_4 = f'''\n",
        "    SELECT \n",
        "        COUNT(DISTINCT v.id) vacancies_count\n",
        "    FROM \n",
        "        vacancies v\n",
        "    WHERE \n",
        "        {ds_only} AND (LOWER(v.key_skills) LIKE '%%python%%')\n",
        "'''"
      ]
    },
    {
      "cell_type": "code",
      "execution_count": 116,
      "id": "1i-5WyucvQ6v",
      "metadata": {
        "id": "1i-5WyucvQ6v"
      },
      "outputs": [
        {
          "data": {
            "text/html": [
              "<div>\n",
              "<style scoped>\n",
              "    .dataframe tbody tr th:only-of-type {\n",
              "        vertical-align: middle;\n",
              "    }\n",
              "\n",
              "    .dataframe tbody tr th {\n",
              "        vertical-align: top;\n",
              "    }\n",
              "\n",
              "    .dataframe thead th {\n",
              "        text-align: right;\n",
              "    }\n",
              "</style>\n",
              "<table border=\"1\" class=\"dataframe\">\n",
              "  <thead>\n",
              "    <tr style=\"text-align: right;\">\n",
              "      <th></th>\n",
              "      <th>vacancies_count</th>\n",
              "    </tr>\n",
              "  </thead>\n",
              "  <tbody>\n",
              "    <tr>\n",
              "      <th>0</th>\n",
              "      <td>351</td>\n",
              "    </tr>\n",
              "  </tbody>\n",
              "</table>\n",
              "</div>"
            ],
            "text/plain": [
              "   vacancies_count\n",
              "0              351"
            ]
          },
          "execution_count": 116,
          "metadata": {},
          "output_type": "execute_result"
        }
      ],
      "source": [
        "# результат запроса\n",
        "df_6_4 = pd.read_sql_query(query_6_4, connection)\n",
        "df_6_4"
      ]
    },
    {
      "attachments": {},
      "cell_type": "markdown",
      "id": "ec3c8db7-fa21-4a41-a994-1af63742a642",
      "metadata": {
        "id": "ec3c8db7-fa21-4a41-a994-1af63742a642"
      },
      "source": [
        "5. Сколько ключевых навыков в среднем указывают в вакансиях для DS?\n",
        "Ответ округлите до двух знаков после точки-разделителя."
      ]
    },
    {
      "cell_type": "code",
      "execution_count": 117,
      "id": "949132bc-d5b6-4611-8218-0b9a504d74f4",
      "metadata": {
        "id": "949132bc-d5b6-4611-8218-0b9a504d74f4"
      },
      "outputs": [],
      "source": [
        "# текст запроса\n",
        "query_6_5 = f'''\n",
        "    SELECT \n",
        "        ROUND( -- общее число символов - число символов без табуляции + 1 = кол-во навыков\n",
        "            AVG(LENGTH(v.key_skills) - LENGTH(REPLACE(v.key_skills, '\\t', '')) + 1),\n",
        "            2) mean_key_skills  \n",
        "    FROM vacancies v\n",
        "    WHERE {ds_only} -- фильтр по DS \n",
        "'''"
      ]
    },
    {
      "cell_type": "code",
      "execution_count": 118,
      "id": "a3V24Tvmviqk",
      "metadata": {
        "id": "a3V24Tvmviqk"
      },
      "outputs": [
        {
          "data": {
            "text/html": [
              "<div>\n",
              "<style scoped>\n",
              "    .dataframe tbody tr th:only-of-type {\n",
              "        vertical-align: middle;\n",
              "    }\n",
              "\n",
              "    .dataframe tbody tr th {\n",
              "        vertical-align: top;\n",
              "    }\n",
              "\n",
              "    .dataframe thead th {\n",
              "        text-align: right;\n",
              "    }\n",
              "</style>\n",
              "<table border=\"1\" class=\"dataframe\">\n",
              "  <thead>\n",
              "    <tr style=\"text-align: right;\">\n",
              "      <th></th>\n",
              "      <th>mean_key_skills</th>\n",
              "    </tr>\n",
              "  </thead>\n",
              "  <tbody>\n",
              "    <tr>\n",
              "      <th>0</th>\n",
              "      <td>6.41</td>\n",
              "    </tr>\n",
              "  </tbody>\n",
              "</table>\n",
              "</div>"
            ],
            "text/plain": [
              "   mean_key_skills\n",
              "0             6.41"
            ]
          },
          "execution_count": 118,
          "metadata": {},
          "output_type": "execute_result"
        }
      ],
      "source": [
        "# результат запроса\n",
        "df_6_5 = pd.read_sql_query(query_6_5, connection)\n",
        "df_6_5"
      ]
    },
    {
      "attachments": {},
      "cell_type": "markdown",
      "id": "1041c17a-ca8f-4543-a0ca-32778914fb00",
      "metadata": {
        "id": "1041c17a-ca8f-4543-a0ca-32778914fb00"
      },
      "source": [
        "6. Напишите запрос, позволяющий вычислить, какую зарплату для DS в **среднем** указывают для каждого типа требуемого опыта (уникальное значение из поля *experience*). \n",
        "\n",
        "При решении задачи примите во внимание следующее:\n",
        "1. Рассматриваем только вакансии, у которых заполнено хотя бы одно из двух полей с зарплатой.\n",
        "2. Если заполнены оба поля с зарплатой, то считаем зарплату по каждой вакансии как сумму двух полей, делённую на 2. Если заполнено только одно из полей, то его и считаем зарплатой по вакансии.\n",
        "3. Если в расчётах участвует null, в результате он тоже даст null (посмотрите, что возвращает запрос select 1 + null). Чтобы избежать этой ситуацию, мы воспользуемся функцией [coalesce](https://postgrespro.ru/docs/postgresql/9.5/functions-conditional#functions-coalesce-nvl-ifnull), которая заменит null на значение, которое мы передадим. Например, посмотрите, что возвращает запрос `select 1 + coalesce(null, 0)`\n",
        "\n",
        "Выясните, на какую зарплату в среднем может рассчитывать дата-сайентист с опытом работы от 3 до 6 лет. Результат округлите до целого числа. "
      ]
    },
    {
      "cell_type": "code",
      "execution_count": 119,
      "id": "6a743d39-5204-48d3-8271-b9f88e68d40e",
      "metadata": {
        "id": "6a743d39-5204-48d3-8271-b9f88e68d40e"
      },
      "outputs": [],
      "source": [
        "# текст запроса\n",
        "query_6_6 = f'''\n",
        "    WITH sample AS(          -- выберем нужные колонки и строки из общей таблицы\n",
        "        SELECT \n",
        "            v.salary_from,\n",
        "            v.salary_to,\n",
        "            v.experience\n",
        "        FROM \n",
        "            vacancies v\n",
        "        WHERE                 \n",
        "            {ds_only}        -- фильтр по DS \n",
        "            AND (v.salary_from IS NOT NULL OR v.salary_to IS NOT NULL) -- исключаем строки без ЗП\n",
        "    )\n",
        "    SELECT \n",
        "        experience,\n",
        "        ROUND(AVG(salary)) mean_salary\n",
        "    FROM                     -- из выборки sample посчитаем ЗП по 2м колонкам\n",
        "        (SELECT              -- выбока средней ЗП в строке по 2м заполненым колонкам\n",
        "            experience, \n",
        "            (salary_from + salary_to) / 2 salary\n",
        "        FROM sample\n",
        "        WHERE salary_from IS NOT NULL AND salary_to IS NOT NULL\n",
        "        UNION ALL \n",
        "        (SELECT              -- выбока ЗП только где указана salary_from\n",
        "            experience,\n",
        "            salary_from salary\n",
        "        FROM sample\n",
        "        WHERE salary_from IS NOT NULL AND salary_to IS NULL)\n",
        "        UNION ALL \n",
        "        (SELECT              -- выбока ЗП только где указана salary_to\n",
        "            experience,\n",
        "            salary_to salary\n",
        "        FROM sample\n",
        "        WHERE salary_from IS NULL AND salary_to IS NOT NULL)\n",
        "        ) as salary_table\n",
        "    GROUP BY experience\n",
        "    ORDER BY experience\n",
        "'''\n",
        "# более короткий вариант с использованием COALESCE(аргументы - указанные по приоритету значения расчета зарплат)\n",
        "query_6_6 = f'''\n",
        "SELECT\n",
        "\t\tDISTINCT v.experience,\n",
        "\t\tROUND( \n",
        "\t\t\tAVG( -- среднее по группам с использованием оконной функции\n",
        "       \t\t\tCOALESCE( -- расчёт ЗП, среднее про 2м колонкам или значение из колонки, если во второй NULL\n",
        "              \t\t(v.salary_from + v.salary_to) / 2, v.salary_from, v.salary_to, 0\n",
        "                )\n",
        "            )\n",
        "\t\t\tOVER(PARTITION BY v.experience ORDER BY v.experience) -- группировка и сортировка оконной функции\n",
        "\t\t)::int as mean_salary\n",
        "\tFROM vacancies v\n",
        "\tWHERE\n",
        "\t\t{ds_only} -- фильтр по DS \n",
        "\t\tAND (v.salary_from IS NOT NULL OR v.salary_to IS NOT NULL) -- исключаем строки без ЗП\n",
        "        -- отобразим для наглядности всю таблицу без фильта 'От 3 до 6 лет' \n",
        "        --AND v.experience = 'От 3 до 6 лет' \n",
        "'''"
      ]
    },
    {
      "cell_type": "code",
      "execution_count": 120,
      "id": "aRIJ0mZEwU1_",
      "metadata": {
        "id": "aRIJ0mZEwU1_"
      },
      "outputs": [
        {
          "data": {
            "text/html": [
              "<div>\n",
              "<style scoped>\n",
              "    .dataframe tbody tr th:only-of-type {\n",
              "        vertical-align: middle;\n",
              "    }\n",
              "\n",
              "    .dataframe tbody tr th {\n",
              "        vertical-align: top;\n",
              "    }\n",
              "\n",
              "    .dataframe thead th {\n",
              "        text-align: right;\n",
              "    }\n",
              "</style>\n",
              "<table border=\"1\" class=\"dataframe\">\n",
              "  <thead>\n",
              "    <tr style=\"text-align: right;\">\n",
              "      <th></th>\n",
              "      <th>experience</th>\n",
              "      <th>mean_salary</th>\n",
              "    </tr>\n",
              "  </thead>\n",
              "  <tbody>\n",
              "    <tr>\n",
              "      <th>0</th>\n",
              "      <td>Нет опыта</td>\n",
              "      <td>74643</td>\n",
              "    </tr>\n",
              "    <tr>\n",
              "      <th>1</th>\n",
              "      <td>От 1 года до 3 лет</td>\n",
              "      <td>139675</td>\n",
              "    </tr>\n",
              "    <tr>\n",
              "      <th>2</th>\n",
              "      <td>От 3 до 6 лет</td>\n",
              "      <td>243115</td>\n",
              "    </tr>\n",
              "  </tbody>\n",
              "</table>\n",
              "</div>"
            ],
            "text/plain": [
              "           experience  mean_salary\n",
              "0           Нет опыта        74643\n",
              "1  От 1 года до 3 лет       139675\n",
              "2       От 3 до 6 лет       243115"
            ]
          },
          "execution_count": 120,
          "metadata": {},
          "output_type": "execute_result"
        }
      ],
      "source": [
        "# результат запроса\n",
        "df_6_6 = pd.read_sql_query(query_6_6, connection)\n",
        "df_6_6"
      ]
    },
    {
      "attachments": {},
      "cell_type": "markdown",
      "id": "cf4e0cb8",
      "metadata": {},
      "source": [
        "доп исследования для выводов"
      ]
    },
    {
      "cell_type": "code",
      "execution_count": 121,
      "id": "c88965a8",
      "metadata": {},
      "outputs": [],
      "source": [
        "# сколько всего вакансий по Data Sciense\n",
        "# текст запроса\n",
        "query_6_7 = f'''\n",
        "    SELECT COUNT(DISTINCT v.id) vacancies_count\n",
        "    FROM vacancies v\n",
        "    WHERE {ds_only} \n",
        "'''"
      ]
    },
    {
      "cell_type": "code",
      "execution_count": 122,
      "id": "de930b08",
      "metadata": {},
      "outputs": [
        {
          "data": {
            "text/html": [
              "<div>\n",
              "<style scoped>\n",
              "    .dataframe tbody tr th:only-of-type {\n",
              "        vertical-align: middle;\n",
              "    }\n",
              "\n",
              "    .dataframe tbody tr th {\n",
              "        vertical-align: top;\n",
              "    }\n",
              "\n",
              "    .dataframe thead th {\n",
              "        text-align: right;\n",
              "    }\n",
              "</style>\n",
              "<table border=\"1\" class=\"dataframe\">\n",
              "  <thead>\n",
              "    <tr style=\"text-align: right;\">\n",
              "      <th></th>\n",
              "      <th>vacancies_count</th>\n",
              "    </tr>\n",
              "  </thead>\n",
              "  <tbody>\n",
              "    <tr>\n",
              "      <th>0</th>\n",
              "      <td>480</td>\n",
              "    </tr>\n",
              "  </tbody>\n",
              "</table>\n",
              "</div>"
            ],
            "text/plain": [
              "   vacancies_count\n",
              "0              480"
            ]
          },
          "execution_count": 122,
          "metadata": {},
          "output_type": "execute_result"
        }
      ],
      "source": [
        "df_6_7 = pd.read_sql_query(query_6_7, connection)\n",
        "df_6_7"
      ]
    },
    {
      "attachments": {},
      "cell_type": "markdown",
      "id": "6a7892b4-4113-4746-adce-18aa2844f18e",
      "metadata": {
        "id": "6a7892b4-4113-4746-adce-18aa2844f18e"
      },
      "source": [
        "***"
      ]
    },
    {
      "attachments": {},
      "cell_type": "markdown",
      "id": "UjLWUptVwY1o",
      "metadata": {
        "id": "UjLWUptVwY1o"
      },
      "source": [
        "### выводы по предметному анализу\n",
        "* 1771 вакансий имеют отношение к данным, что составляет около 4% датасета.\n",
        "* К Data Sciense относится 480 вакансий, из них 51 к джуниорам, т.е 10%.  \n",
        "* В 201 вакансии из числа тех, что относятся к DS в качестве ключевого навыка требуется SQL, что сотсавляет почти 42%.  \n",
        "Знание SQL полезно в данной профессии.\n",
        "* В 351 вакансии из числа тех, что относятся к DS в качестве ключевого навыка требуется Python, что сотсавляет 73%.  \n",
        "Знание Python исключительно полезно в данной профессии.\n",
        "* В среднем, для вакансий DS указанно 6.41 ключевых навыков.  \n",
        "Не питоном единым живо DS.  \n",
        "* Средняя зарпалата DS в разрезе опыта работы выше среднеq по России на май 2023 года даже без опыта работы.   \n",
        "С дальнейшим увеличением ЗП с опытом работы."
      ]
    },
    {
      "attachments": {},
      "cell_type": "markdown",
      "id": "c0ED6fh7wiBT",
      "metadata": {
        "id": "c0ED6fh7wiBT"
      },
      "source": [
        "# Общий вывод по проекту"
      ]
    },
    {
      "attachments": {},
      "cell_type": "markdown",
      "id": "cddd62e6",
      "metadata": {},
      "source": [
        "Первое, что бросилось в глаза - база данных \"грязная\". \n",
        "А именнно:  \n",
        "* есть вакансии в которых название написано с ошибками, вследствие чего они выпали из нашего аналза, \n",
        "* регионы разбиты на страны, области и города, при этом в странах и областях вакансий нет, а в городах есть.  \n",
        "Это плохо, есть куча городов с одинаковым названием.  Например, г. Санкт Петербург во Флориде и Лен. области.  \n",
        "Кроме того анализ вакансий по странам и областям становится затруднительным. Это надо исправить.  \n",
        "* куча названий специальностей, которые можно было бы сгруппировать в категории, нечто подобное, как было сделано с DS.\n",
        "* ключевые навыки навалены кучей в одну строку.  \n",
        "На мой взгляд логичнее и удобнее создать для них отдельную таблицу с булевыми значениями и перечнем навыков в названии колонок.\n",
        "\n",
        "В ходе проекта мы обособили специальность DS, остальные специальности остались несгруппированы.  \n",
        "Было-бы интересно оценить DS на фоне других сгруппированных в категории специальностей.\n",
        "\n",
        "Мы исследовали распредение количества вакансий компании Яндекс среди городов миллионников, однако ограничились только городами РФ, хотя в датасете присутствуют города миллионники других стран. Возможно стоило обрать внимание и на них.\n",
        "\n",
        "Судя по результатом исследования можно заключить, что специальность восстербованна, как минимум на момент формирования базы данных.  \n",
        "Об этом сообщает уровень ЗП и количество вакансий. "
      ]
    },
    {
      "attachments": {},
      "cell_type": "markdown",
      "id": "8717b46c",
      "metadata": {},
      "source": [
        "Добавим еще несколько исследований для более глубокого изучения некоторых моментов."
      ]
    },
    {
      "cell_type": "code",
      "execution_count": 123,
      "id": "h9B3BL-wwj18",
      "metadata": {
        "id": "h9B3BL-wwj18"
      },
      "outputs": [],
      "source": [
        "# Посмотрим распределение ЗП в разрезе опыта и специальности DS / все остальные.\n",
        "query_add_1 = f'''\n",
        "\tSELECT\t-- Данными без DS\n",
        "\t\t'другие специальности' vacansies_type,\n",
        "\t\tv.experience,\n",
        "\t\tROUND( \n",
        "\t\t\tAVG( -- среднее по группам\n",
        "       \t\t\tCOALESCE( -- расчёт ЗП, среднее про 2м колонкам или значение из колонки, если во второй NULL\n",
        "              \t\t(v.salary_from + v.salary_to) / 2, v.salary_from, v.salary_to, 0\n",
        "                )\n",
        "            )\n",
        "\t\t)::int as mean_salary\n",
        "\tFROM vacancies v\n",
        "\tWHERE\n",
        "\t\tNOT {ds_only} -- фильтр исключающий DS \n",
        "\t\tAND (v.salary_from IS NOT NULL OR v.salary_to IS NOT NULL) -- исключаем строки без ЗП\n",
        "\tGROUP BY v.experience\n",
        " \tUNION ALL -- Объеденим с данными для DS\n",
        "\t(SELECT\t\n",
        "\t\t'Data Sciense' vacansies_type,\n",
        "\t\tv.experience,\n",
        "\t\tROUND( \n",
        "\t\t\tAVG( -- среднее по группам \n",
        "       \t\t\tCOALESCE( -- расчёт ЗП, среднее про 2м колонкам или значение из колонки, если во второй NULL\n",
        "              \t\t(v.salary_from + v.salary_to) / 2, v.salary_from, v.salary_to, 0\n",
        "                )\n",
        "            )\n",
        "\t\t)::int as mean_salary\n",
        "\tFROM vacancies v\n",
        "\tWHERE\n",
        "\t\t{ds_only} -- фильтр включающий DS \n",
        "\t\tAND (v.salary_from IS NOT NULL OR v.salary_to IS NOT NULL) -- исключаем строки без ЗП\n",
        "\tGROUP BY v.experience)\n",
        "\tORDER BY vacansies_type, mean_salary\n",
        "'''"
      ]
    },
    {
      "cell_type": "code",
      "execution_count": 124,
      "id": "bdf74d89",
      "metadata": {},
      "outputs": [
        {
          "data": {
            "text/html": [
              "<div>\n",
              "<style scoped>\n",
              "    .dataframe tbody tr th:only-of-type {\n",
              "        vertical-align: middle;\n",
              "    }\n",
              "\n",
              "    .dataframe tbody tr th {\n",
              "        vertical-align: top;\n",
              "    }\n",
              "\n",
              "    .dataframe thead th {\n",
              "        text-align: right;\n",
              "    }\n",
              "</style>\n",
              "<table border=\"1\" class=\"dataframe\">\n",
              "  <thead>\n",
              "    <tr style=\"text-align: right;\">\n",
              "      <th></th>\n",
              "      <th>vacansies_type</th>\n",
              "      <th>experience</th>\n",
              "      <th>mean_salary</th>\n",
              "    </tr>\n",
              "  </thead>\n",
              "  <tbody>\n",
              "    <tr>\n",
              "      <th>0</th>\n",
              "      <td>Data Sciense</td>\n",
              "      <td>Нет опыта</td>\n",
              "      <td>74643</td>\n",
              "    </tr>\n",
              "    <tr>\n",
              "      <th>1</th>\n",
              "      <td>Data Sciense</td>\n",
              "      <td>От 1 года до 3 лет</td>\n",
              "      <td>139675</td>\n",
              "    </tr>\n",
              "    <tr>\n",
              "      <th>2</th>\n",
              "      <td>Data Sciense</td>\n",
              "      <td>От 3 до 6 лет</td>\n",
              "      <td>243115</td>\n",
              "    </tr>\n",
              "    <tr>\n",
              "      <th>3</th>\n",
              "      <td>другие специальности</td>\n",
              "      <td>Нет опыта</td>\n",
              "      <td>40425</td>\n",
              "    </tr>\n",
              "    <tr>\n",
              "      <th>4</th>\n",
              "      <td>другие специальности</td>\n",
              "      <td>От 1 года до 3 лет</td>\n",
              "      <td>76403</td>\n",
              "    </tr>\n",
              "    <tr>\n",
              "      <th>5</th>\n",
              "      <td>другие специальности</td>\n",
              "      <td>От 3 до 6 лет</td>\n",
              "      <td>132683</td>\n",
              "    </tr>\n",
              "    <tr>\n",
              "      <th>6</th>\n",
              "      <td>другие специальности</td>\n",
              "      <td>Более 6 лет</td>\n",
              "      <td>166256</td>\n",
              "    </tr>\n",
              "  </tbody>\n",
              "</table>\n",
              "</div>"
            ],
            "text/plain": [
              "         vacansies_type          experience  mean_salary\n",
              "0          Data Sciense           Нет опыта        74643\n",
              "1          Data Sciense  От 1 года до 3 лет       139675\n",
              "2          Data Sciense       От 3 до 6 лет       243115\n",
              "3  другие специальности           Нет опыта        40425\n",
              "4  другие специальности  От 1 года до 3 лет        76403\n",
              "5  другие специальности       От 3 до 6 лет       132683\n",
              "6  другие специальности         Более 6 лет       166256"
            ]
          },
          "metadata": {},
          "output_type": "display_data"
        }
      ],
      "source": [
        "# результат запроса\n",
        "df_add_1  = pd.read_sql_query(query_add_1, connection)\n",
        "display(df_add_1)"
      ]
    },
    {
      "cell_type": "code",
      "execution_count": 125,
      "id": "8c75911e",
      "metadata": {},
      "outputs": [
        {
          "data": {
            "image/png": "[encoded data removed]"
          },
          "metadata": {},
          "output_type": "display_data"
        }
      ],
      "source": [
        "fig = px.bar(\n",
        "    df_add_1,\n",
        "    x=\"experience\",\n",
        "    y='mean_salary',\n",
        "    color='vacansies_type',\n",
        "    barmode='group',\n",
        ")\n",
        "fig.update_layout(\n",
        "    title={\n",
        "        'text': 'зависимость средне заработной платы от опыта работы',\n",
        "        'x': 0.5,\n",
        "    },\n",
        "    yaxis=dict(\n",
        "        title={\n",
        "            'text': 'Средняя ЗП (руб)'\n",
        "        },        \n",
        "    ),\n",
        "    xaxis=dict(\n",
        "        title={\n",
        "            'text': 'Опыт работы'\n",
        "        },        \n",
        "    ),\n",
        "    legend=dict(\n",
        "        title={\n",
        "            'text': 'Тип вакансии',\n",
        "        }, \n",
        "    ),\n",
        ")\n",
        "\n",
        "fig.show('png')"
      ]
    },
    {
      "attachments": {},
      "cell_type": "markdown",
      "id": "1eaab7d7",
      "metadata": {},
      "source": [
        "Явно видно почти двукратное превышение среднего уровня ЗП для специальностей DS относительно всех остальных.   \n",
        "Интересно, но было бы гораздо интереснее разбить другие специальности на категории и посмотреть более предметно.  \n",
        "Кроме того нет ЗП для DS с опытом более 6 лет."
      ]
    },
    {
      "cell_type": "code",
      "execution_count": 126,
      "id": "950a3050",
      "metadata": {},
      "outputs": [],
      "source": [
        "# проверим, есть ли вакансии DS с опытом работы более 6 лет\n",
        "query_add_2 = f'''\n",
        "\tSELECT\t\t\t\n",
        "\t\tv.experience,\n",
        "\t\tCOUNT(v.id)\n",
        "\tFROM vacancies v\n",
        "\tWHERE\n",
        "\t\t{ds_only} -- фильтр исключающий DS \n",
        "\tGROUP BY v.experience\n",
        "'''"
      ]
    },
    {
      "cell_type": "code",
      "execution_count": 127,
      "id": "84006128",
      "metadata": {},
      "outputs": [
        {
          "data": {
            "text/html": [
              "<div>\n",
              "<style scoped>\n",
              "    .dataframe tbody tr th:only-of-type {\n",
              "        vertical-align: middle;\n",
              "    }\n",
              "\n",
              "    .dataframe tbody tr th {\n",
              "        vertical-align: top;\n",
              "    }\n",
              "\n",
              "    .dataframe thead th {\n",
              "        text-align: right;\n",
              "    }\n",
              "</style>\n",
              "<table border=\"1\" class=\"dataframe\">\n",
              "  <thead>\n",
              "    <tr style=\"text-align: right;\">\n",
              "      <th></th>\n",
              "      <th>experience</th>\n",
              "      <th>count</th>\n",
              "    </tr>\n",
              "  </thead>\n",
              "  <tbody>\n",
              "    <tr>\n",
              "      <th>0</th>\n",
              "      <td>Более 6 лет</td>\n",
              "      <td>34</td>\n",
              "    </tr>\n",
              "    <tr>\n",
              "      <th>1</th>\n",
              "      <td>Нет опыта</td>\n",
              "      <td>28</td>\n",
              "    </tr>\n",
              "    <tr>\n",
              "      <th>2</th>\n",
              "      <td>От 1 года до 3 лет</td>\n",
              "      <td>223</td>\n",
              "    </tr>\n",
              "    <tr>\n",
              "      <th>3</th>\n",
              "      <td>От 3 до 6 лет</td>\n",
              "      <td>195</td>\n",
              "    </tr>\n",
              "  </tbody>\n",
              "</table>\n",
              "</div>"
            ],
            "text/plain": [
              "           experience  count\n",
              "0         Более 6 лет     34\n",
              "1           Нет опыта     28\n",
              "2  От 1 года до 3 лет    223\n",
              "3       От 3 до 6 лет    195"
            ]
          },
          "execution_count": 127,
          "metadata": {},
          "output_type": "execute_result"
        }
      ],
      "source": [
        "# результат запроса\n",
        "df_add_2  = pd.read_sql_query(query_add_2, connection)\n",
        "df_add_2 "
      ]
    },
    {
      "attachments": {},
      "cell_type": "markdown",
      "id": "9b75dfb0",
      "metadata": {},
      "source": [
        "Итого 34 DS вакансии с опытом работы более 6 лет, но ни для одной не указана зарплатная вилка.  \n",
        "\n",
        "За еду работают?  \n",
        "Военная тайна?  "
      ]
    },
    {
      "cell_type": "code",
      "execution_count": 128,
      "id": "89a57722",
      "metadata": {},
      "outputs": [],
      "source": [
        "# какие навыки востребованы в DS кроме Python и SQL?\n",
        "query_add_3 = f'''\n",
        "    SELECT\n",
        "        -- разделим строку с ключевыми навыками по символу табуляции chr(9) \n",
        "        -- функция разбивают строку в таблицу\n",
        "        REGEXP_SPLIT_TO_TABLE(ds.key_skills, chr(9)) skills,\n",
        "        COUNT(*),\n",
        "        -- посчитаем процент количества каждого из навыков\n",
        "        ROUND(COUNT(*) * 100.0 / COUNT(COUNT(*)) OVER(),2) percent\n",
        "    FROM (\n",
        "        SELECT *\n",
        "        FROM public.vacancies as v\n",
        "        WHERE {ds_only} -- фильтр по DS\n",
        "        ) ds\n",
        "    GROUP BY skills\n",
        "    ORDER BY count DESC\n",
        "    LIMIT 20\n",
        "''' "
      ]
    },
    {
      "cell_type": "code",
      "execution_count": 129,
      "id": "d9a6dc66",
      "metadata": {},
      "outputs": [
        {
          "data": {
            "text/html": [
              "<div>\n",
              "<style scoped>\n",
              "    .dataframe tbody tr th:only-of-type {\n",
              "        vertical-align: middle;\n",
              "    }\n",
              "\n",
              "    .dataframe tbody tr th {\n",
              "        vertical-align: top;\n",
              "    }\n",
              "\n",
              "    .dataframe thead th {\n",
              "        text-align: right;\n",
              "    }\n",
              "</style>\n",
              "<table border=\"1\" class=\"dataframe\">\n",
              "  <thead>\n",
              "    <tr style=\"text-align: right;\">\n",
              "      <th></th>\n",
              "      <th>skills</th>\n",
              "      <th>count</th>\n",
              "      <th>percent</th>\n",
              "    </tr>\n",
              "  </thead>\n",
              "  <tbody>\n",
              "    <tr>\n",
              "      <th>0</th>\n",
              "      <td>Python</td>\n",
              "      <td>348</td>\n",
              "      <td>82.46</td>\n",
              "    </tr>\n",
              "    <tr>\n",
              "      <th>1</th>\n",
              "      <td>SQL</td>\n",
              "      <td>191</td>\n",
              "      <td>45.26</td>\n",
              "    </tr>\n",
              "    <tr>\n",
              "      <th>2</th>\n",
              "      <td>Machine Learning</td>\n",
              "      <td>114</td>\n",
              "      <td>27.01</td>\n",
              "    </tr>\n",
              "    <tr>\n",
              "      <th>3</th>\n",
              "      <td>Git</td>\n",
              "      <td>66</td>\n",
              "      <td>15.64</td>\n",
              "    </tr>\n",
              "    <tr>\n",
              "      <th>4</th>\n",
              "      <td>Математическая статистика</td>\n",
              "      <td>62</td>\n",
              "      <td>14.69</td>\n",
              "    </tr>\n",
              "    <tr>\n",
              "      <th>5</th>\n",
              "      <td>Data Analysis</td>\n",
              "      <td>54</td>\n",
              "      <td>12.80</td>\n",
              "    </tr>\n",
              "    <tr>\n",
              "      <th>6</th>\n",
              "      <td>Data Science</td>\n",
              "      <td>52</td>\n",
              "      <td>12.32</td>\n",
              "    </tr>\n",
              "    <tr>\n",
              "      <th>7</th>\n",
              "      <td>Pandas</td>\n",
              "      <td>52</td>\n",
              "      <td>12.32</td>\n",
              "    </tr>\n",
              "    <tr>\n",
              "      <th>8</th>\n",
              "      <td>ML</td>\n",
              "      <td>49</td>\n",
              "      <td>11.61</td>\n",
              "    </tr>\n",
              "    <tr>\n",
              "      <th>9</th>\n",
              "      <td>Английский язык</td>\n",
              "      <td>48</td>\n",
              "      <td>11.37</td>\n",
              "    </tr>\n",
              "    <tr>\n",
              "      <th>10</th>\n",
              "      <td>Linux</td>\n",
              "      <td>47</td>\n",
              "      <td>11.14</td>\n",
              "    </tr>\n",
              "    <tr>\n",
              "      <th>11</th>\n",
              "      <td>Анализ данных</td>\n",
              "      <td>46</td>\n",
              "      <td>10.90</td>\n",
              "    </tr>\n",
              "    <tr>\n",
              "      <th>12</th>\n",
              "      <td>PyTorch</td>\n",
              "      <td>46</td>\n",
              "      <td>10.90</td>\n",
              "    </tr>\n",
              "    <tr>\n",
              "      <th>13</th>\n",
              "      <td>Big Data</td>\n",
              "      <td>42</td>\n",
              "      <td>9.95</td>\n",
              "    </tr>\n",
              "    <tr>\n",
              "      <th>14</th>\n",
              "      <td>Математическое моделирование</td>\n",
              "      <td>41</td>\n",
              "      <td>9.72</td>\n",
              "    </tr>\n",
              "    <tr>\n",
              "      <th>15</th>\n",
              "      <td>Статистический анализ</td>\n",
              "      <td>40</td>\n",
              "      <td>9.48</td>\n",
              "    </tr>\n",
              "    <tr>\n",
              "      <th>16</th>\n",
              "      <td>NLP</td>\n",
              "      <td>40</td>\n",
              "      <td>9.48</td>\n",
              "    </tr>\n",
              "    <tr>\n",
              "      <th>17</th>\n",
              "      <td>C++</td>\n",
              "      <td>39</td>\n",
              "      <td>9.24</td>\n",
              "    </tr>\n",
              "    <tr>\n",
              "      <th>18</th>\n",
              "      <td>Spark</td>\n",
              "      <td>38</td>\n",
              "      <td>9.00</td>\n",
              "    </tr>\n",
              "    <tr>\n",
              "      <th>19</th>\n",
              "      <td>Tensorflow</td>\n",
              "      <td>35</td>\n",
              "      <td>8.29</td>\n",
              "    </tr>\n",
              "  </tbody>\n",
              "</table>\n",
              "</div>"
            ],
            "text/plain": [
              "                          skills  count  percent\n",
              "0                         Python    348    82.46\n",
              "1                            SQL    191    45.26\n",
              "2               Machine Learning    114    27.01\n",
              "3                            Git     66    15.64\n",
              "4      Математическая статистика     62    14.69\n",
              "5                  Data Analysis     54    12.80\n",
              "6                   Data Science     52    12.32\n",
              "7                         Pandas     52    12.32\n",
              "8                             ML     49    11.61\n",
              "9                Английский язык     48    11.37\n",
              "10                         Linux     47    11.14\n",
              "11                 Анализ данных     46    10.90\n",
              "12                       PyTorch     46    10.90\n",
              "13                      Big Data     42     9.95\n",
              "14  Математическое моделирование     41     9.72\n",
              "15         Статистический анализ     40     9.48\n",
              "16                           NLP     40     9.48\n",
              "17                           C++     39     9.24\n",
              "18                         Spark     38     9.00\n",
              "19                    Tensorflow     35     8.29"
            ]
          },
          "execution_count": 129,
          "metadata": {},
          "output_type": "execute_result"
        }
      ],
      "source": [
        "# результат запроса\n",
        "df_add_3  = pd.read_sql_query(query_add_3, connection)\n",
        "df_add_3"
      ]
    },
    {
      "attachments": {},
      "cell_type": "markdown",
      "id": "560fa606",
      "metadata": {},
      "source": [
        "В тройке лидеров по востребованности навыков Python, SQL и Machine Learning.  \n",
        "Базовые вещи, без которых никуда!  \n",
        "Первое, чем нужно овладеть, для входа в профессию. Остальное, судя по всему наслаивается на эти навыки."
      ]
    },
    {
      "cell_type": "code",
      "execution_count": 130,
      "id": "49bfc077",
      "metadata": {},
      "outputs": [],
      "source": [
        "# какая средняя ЗП в разрезе ключевых навыков.\n",
        "query_add_4 = f'''\n",
        "    SELECT\n",
        "        -- разделим строку с ключевыми навыками по символу табуляции chr(9) \n",
        "        -- функция разбивают строку в таблицу\n",
        "        DISTINCT REGEXP_SPLIT_TO_TABLE(ds.key_skills, chr(9)) skills,\n",
        "        ROUND(\n",
        "            AVG(COALESCE( -- расчёт ЗП, среднее про 2м колонкам или значение из колонки, если во второй NULL\n",
        "                        (ds.salary_from + ds.salary_to) / 2, ds.salary_from, ds.salary_to, 0\n",
        "                    )\n",
        "        ) -- группировка оконной функции по полученной выше таблице навыков\n",
        "        OVER(PARTITION BY REGEXP_SPLIT_TO_TABLE(ds.key_skills, chr(9))) \n",
        "            )::int as mean_salary\n",
        "    FROM (\n",
        "        SELECT *\n",
        "        FROM public.vacancies as v\n",
        "        WHERE {ds_only} -- фильтр по DS\n",
        "        ) ds\n",
        "    GROUP BY skills, ds.salary_from, ds.salary_to\n",
        "    ORDER BY mean_salary DESC\n",
        "    LIMIT 20    \n",
        "'''"
      ]
    },
    {
      "cell_type": "code",
      "execution_count": 131,
      "id": "9a232d82",
      "metadata": {},
      "outputs": [
        {
          "data": {
            "text/html": [
              "<div>\n",
              "<style scoped>\n",
              "    .dataframe tbody tr th:only-of-type {\n",
              "        vertical-align: middle;\n",
              "    }\n",
              "\n",
              "    .dataframe tbody tr th {\n",
              "        vertical-align: top;\n",
              "    }\n",
              "\n",
              "    .dataframe thead th {\n",
              "        text-align: right;\n",
              "    }\n",
              "</style>\n",
              "<table border=\"1\" class=\"dataframe\">\n",
              "  <thead>\n",
              "    <tr style=\"text-align: right;\">\n",
              "      <th></th>\n",
              "      <th>skills</th>\n",
              "      <th>mean_salary</th>\n",
              "    </tr>\n",
              "  </thead>\n",
              "  <tbody>\n",
              "    <tr>\n",
              "      <th>0</th>\n",
              "      <td>HTTP</td>\n",
              "      <td>450000</td>\n",
              "    </tr>\n",
              "    <tr>\n",
              "      <th>1</th>\n",
              "      <td>computer vision</td>\n",
              "      <td>300000</td>\n",
              "    </tr>\n",
              "    <tr>\n",
              "      <th>2</th>\n",
              "      <td>Google Analytics</td>\n",
              "      <td>300000</td>\n",
              "    </tr>\n",
              "    <tr>\n",
              "      <th>3</th>\n",
              "      <td>алгоритмы</td>\n",
              "      <td>300000</td>\n",
              "    </tr>\n",
              "    <tr>\n",
              "      <th>4</th>\n",
              "      <td>Бизнес-аналитика</td>\n",
              "      <td>300000</td>\n",
              "    </tr>\n",
              "    <tr>\n",
              "      <th>5</th>\n",
              "      <td>Высокая степень ответственности</td>\n",
              "      <td>300000</td>\n",
              "    </tr>\n",
              "    <tr>\n",
              "      <th>6</th>\n",
              "      <td>Знание стека DS</td>\n",
              "      <td>300000</td>\n",
              "    </tr>\n",
              "    <tr>\n",
              "      <th>7</th>\n",
              "      <td>Знание теории машинного обучения, теории вероя...</td>\n",
              "      <td>300000</td>\n",
              "    </tr>\n",
              "    <tr>\n",
              "      <th>8</th>\n",
              "      <td>Коммуникация</td>\n",
              "      <td>300000</td>\n",
              "    </tr>\n",
              "    <tr>\n",
              "      <th>9</th>\n",
              "      <td>Основы алгоритмов и структур данных</td>\n",
              "      <td>300000</td>\n",
              "    </tr>\n",
              "    <tr>\n",
              "      <th>10</th>\n",
              "      <td>Системность</td>\n",
              "      <td>300000</td>\n",
              "    </tr>\n",
              "    <tr>\n",
              "      <th>11</th>\n",
              "      <td>English Language</td>\n",
              "      <td>292242</td>\n",
              "    </tr>\n",
              "    <tr>\n",
              "      <th>12</th>\n",
              "      <td>ERP</td>\n",
              "      <td>250000</td>\n",
              "    </tr>\n",
              "    <tr>\n",
              "      <th>13</th>\n",
              "      <td>Удаленная работа</td>\n",
              "      <td>225000</td>\n",
              "    </tr>\n",
              "    <tr>\n",
              "      <th>14</th>\n",
              "      <td>Python/R</td>\n",
              "      <td>222104</td>\n",
              "    </tr>\n",
              "    <tr>\n",
              "      <th>15</th>\n",
              "      <td>Tableau</td>\n",
              "      <td>216667</td>\n",
              "    </tr>\n",
              "    <tr>\n",
              "      <th>16</th>\n",
              "      <td>Cython</td>\n",
              "      <td>205000</td>\n",
              "    </tr>\n",
              "    <tr>\n",
              "      <th>17</th>\n",
              "      <td>Word2vec</td>\n",
              "      <td>205000</td>\n",
              "    </tr>\n",
              "    <tr>\n",
              "      <th>18</th>\n",
              "      <td>Xgboost</td>\n",
              "      <td>205000</td>\n",
              "    </tr>\n",
              "    <tr>\n",
              "      <th>19</th>\n",
              "      <td>С++</td>\n",
              "      <td>205000</td>\n",
              "    </tr>\n",
              "  </tbody>\n",
              "</table>\n",
              "</div>"
            ],
            "text/plain": [
              "                                               skills  mean_salary\n",
              "0                                                HTTP       450000\n",
              "1                                     computer vision       300000\n",
              "2                                    Google Analytics       300000\n",
              "3                                           алгоритмы       300000\n",
              "4                                    Бизнес-аналитика       300000\n",
              "5                     Высокая степень ответственности       300000\n",
              "6                                     Знание стека DS       300000\n",
              "7   Знание теории машинного обучения, теории вероя...       300000\n",
              "8                                        Коммуникация       300000\n",
              "9                 Основы алгоритмов и структур данных       300000\n",
              "10                                        Системность       300000\n",
              "11                                   English Language       292242\n",
              "12                                                ERP       250000\n",
              "13                                   Удаленная работа       225000\n",
              "14                                           Python/R       222104\n",
              "15                                            Tableau       216667\n",
              "16                                             Cython       205000\n",
              "17                                           Word2vec       205000\n",
              "18                                            Xgboost       205000\n",
              "19                                                С++       205000"
            ]
          },
          "execution_count": 131,
          "metadata": {},
          "output_type": "execute_result"
        }
      ],
      "source": [
        "# результат запроса\n",
        "df_add_4  = pd.read_sql_query(query_add_4, connection)\n",
        "df_add_4 "
      ]
    },
    {
      "attachments": {},
      "cell_type": "markdown",
      "id": "ebe0a348",
      "metadata": {},
      "source": [
        "Любопытный результат!   \n",
        "Это лишь подтверждает догадку о базовости навыков Python, SQL и Machine Learning, поскольку эти позиции не входят в первую двадцатку по ЗП.  \n",
        "\n",
        "Для более высокой ЗП требуются более глубокие знания, кроме того присутствует узкая специализация и \"мягкие\" навыки."
      ]
    },
    {
      "cell_type": "code",
      "execution_count": 132,
      "id": "2731f34f",
      "metadata": {},
      "outputs": [],
      "source": [
        "#  посмотрим соотношение вакансий DS и остальных в разрезе городов миллионников\n",
        "query_add_5 = f'''\n",
        "    WITH all_vac AS ( -- создаём таблицу all_vac со всеми вакансиями в городах миллионниках\n",
        "        SELECT \n",
        "            a.name,\n",
        "            COUNT(DISTINCT v.id) all_vacancies_count\n",
        "        FROM \n",
        "            employers e\n",
        "            LEFT JOIN vacancies v ON e.id = v.employer_id\n",
        "            LEFT JOIN areas a ON v.area_id = a.id\n",
        "        WHERE a.name IN {cities}\n",
        "        GROUP BY a.name\n",
        "        ORDER BY all_vacancies_count DESC\n",
        "    ),\n",
        "    ds_vac AS ( -- создаём таблицу ds_vac с ds вакансиями в городах миллионниках\n",
        "        SELECT \n",
        "            a.name,\n",
        "            COUNT(DISTINCT v.id) ds_vacancies_count\n",
        "        FROM \n",
        "            employers e\n",
        "            LEFT JOIN vacancies v ON e.id = v.employer_id\n",
        "            LEFT JOIN areas a ON v.area_id = a.id\n",
        "        WHERE a.name IN {cities} AND {ds_only}\n",
        "        GROUP BY a.name\n",
        "        ORDER BY ds_vacancies_count DESC\n",
        "    ),\n",
        "    joined_t AS ( --соединяем две эти таблицы вместе\n",
        "        SELECT\n",
        "            a.name,\n",
        "            all_vacancies_count,\n",
        "            ds_vacancies_count,\n",
        "            ds_vacancies_count * 100 / all_vacancies_count AS percent_ds_from_all\n",
        "        FROM\n",
        "            all_vac AS a LEFT JOIN ds_vac AS ds ON a.name = ds.name\n",
        "    )\n",
        "    (  -- объединим полученную выше таблицу с суммой по колонкам количества какансий\n",
        "        SELECT *\n",
        "        FROM joined_t\n",
        "    )\n",
        "    UNION ALL\n",
        "    (\n",
        "        SELECT \n",
        "            'Total' AS name,\n",
        "            SUM(all_vacancies_count) all_vacancies_count,\n",
        "            SUM(ds_vacancies_count) ds_vacancies_count, \n",
        "            NULL\n",
        "        FROM joined_t\n",
        "    )    \n",
        "'''"
      ]
    },
    {
      "cell_type": "code",
      "execution_count": 133,
      "id": "0bc0349b",
      "metadata": {},
      "outputs": [
        {
          "data": {
            "text/html": [
              "<div>\n",
              "<style scoped>\n",
              "    .dataframe tbody tr th:only-of-type {\n",
              "        vertical-align: middle;\n",
              "    }\n",
              "\n",
              "    .dataframe tbody tr th {\n",
              "        vertical-align: top;\n",
              "    }\n",
              "\n",
              "    .dataframe thead th {\n",
              "        text-align: right;\n",
              "    }\n",
              "</style>\n",
              "<table border=\"1\" class=\"dataframe\">\n",
              "  <thead>\n",
              "    <tr style=\"text-align: right;\">\n",
              "      <th></th>\n",
              "      <th>name</th>\n",
              "      <th>all_vacancies_count</th>\n",
              "      <th>ds_vacancies_count</th>\n",
              "      <th>percent_ds_from_all</th>\n",
              "    </tr>\n",
              "  </thead>\n",
              "  <tbody>\n",
              "    <tr>\n",
              "      <th>0</th>\n",
              "      <td>Москва</td>\n",
              "      <td>5333.0</td>\n",
              "      <td>217.0</td>\n",
              "      <td>4.0</td>\n",
              "    </tr>\n",
              "    <tr>\n",
              "      <th>1</th>\n",
              "      <td>Санкт-Петербург</td>\n",
              "      <td>2851.0</td>\n",
              "      <td>64.0</td>\n",
              "      <td>2.0</td>\n",
              "    </tr>\n",
              "    <tr>\n",
              "      <th>2</th>\n",
              "      <td>Новосибирск</td>\n",
              "      <td>2006.0</td>\n",
              "      <td>23.0</td>\n",
              "      <td>1.0</td>\n",
              "    </tr>\n",
              "    <tr>\n",
              "      <th>3</th>\n",
              "      <td>Екатеринбург</td>\n",
              "      <td>1698.0</td>\n",
              "      <td>7.0</td>\n",
              "      <td>0.0</td>\n",
              "    </tr>\n",
              "    <tr>\n",
              "      <th>4</th>\n",
              "      <td>Нижний Новгород</td>\n",
              "      <td>1670.0</td>\n",
              "      <td>20.0</td>\n",
              "      <td>1.0</td>\n",
              "    </tr>\n",
              "    <tr>\n",
              "      <th>5</th>\n",
              "      <td>Казань</td>\n",
              "      <td>1415.0</td>\n",
              "      <td>16.0</td>\n",
              "      <td>1.0</td>\n",
              "    </tr>\n",
              "    <tr>\n",
              "      <th>6</th>\n",
              "      <td>Краснодар</td>\n",
              "      <td>1301.0</td>\n",
              "      <td>6.0</td>\n",
              "      <td>0.0</td>\n",
              "    </tr>\n",
              "    <tr>\n",
              "      <th>7</th>\n",
              "      <td>Самара</td>\n",
              "      <td>1144.0</td>\n",
              "      <td>5.0</td>\n",
              "      <td>0.0</td>\n",
              "    </tr>\n",
              "    <tr>\n",
              "      <th>8</th>\n",
              "      <td>Ростов-на-Дону</td>\n",
              "      <td>1131.0</td>\n",
              "      <td>6.0</td>\n",
              "      <td>0.0</td>\n",
              "    </tr>\n",
              "    <tr>\n",
              "      <th>9</th>\n",
              "      <td>Воронеж</td>\n",
              "      <td>1063.0</td>\n",
              "      <td>2.0</td>\n",
              "      <td>0.0</td>\n",
              "    </tr>\n",
              "    <tr>\n",
              "      <th>10</th>\n",
              "      <td>Красноярск</td>\n",
              "      <td>847.0</td>\n",
              "      <td>1.0</td>\n",
              "      <td>0.0</td>\n",
              "    </tr>\n",
              "    <tr>\n",
              "      <th>11</th>\n",
              "      <td>Челябинск</td>\n",
              "      <td>786.0</td>\n",
              "      <td>1.0</td>\n",
              "      <td>0.0</td>\n",
              "    </tr>\n",
              "    <tr>\n",
              "      <th>12</th>\n",
              "      <td>Пермь</td>\n",
              "      <td>771.0</td>\n",
              "      <td>5.0</td>\n",
              "      <td>0.0</td>\n",
              "    </tr>\n",
              "    <tr>\n",
              "      <th>13</th>\n",
              "      <td>Уфа</td>\n",
              "      <td>767.0</td>\n",
              "      <td>2.0</td>\n",
              "      <td>0.0</td>\n",
              "    </tr>\n",
              "    <tr>\n",
              "      <th>14</th>\n",
              "      <td>Омск</td>\n",
              "      <td>617.0</td>\n",
              "      <td>3.0</td>\n",
              "      <td>0.0</td>\n",
              "    </tr>\n",
              "    <tr>\n",
              "      <th>15</th>\n",
              "      <td>Волгоград</td>\n",
              "      <td>456.0</td>\n",
              "      <td>1.0</td>\n",
              "      <td>0.0</td>\n",
              "    </tr>\n",
              "    <tr>\n",
              "      <th>16</th>\n",
              "      <td>Total</td>\n",
              "      <td>23856.0</td>\n",
              "      <td>379.0</td>\n",
              "      <td>NaN</td>\n",
              "    </tr>\n",
              "  </tbody>\n",
              "</table>\n",
              "</div>"
            ],
            "text/plain": [
              "               name  all_vacancies_count  ds_vacancies_count  \\\n",
              "0            Москва               5333.0               217.0   \n",
              "1   Санкт-Петербург               2851.0                64.0   \n",
              "2       Новосибирск               2006.0                23.0   \n",
              "3      Екатеринбург               1698.0                 7.0   \n",
              "4   Нижний Новгород               1670.0                20.0   \n",
              "5            Казань               1415.0                16.0   \n",
              "6         Краснодар               1301.0                 6.0   \n",
              "7            Самара               1144.0                 5.0   \n",
              "8    Ростов-на-Дону               1131.0                 6.0   \n",
              "9           Воронеж               1063.0                 2.0   \n",
              "10       Красноярск                847.0                 1.0   \n",
              "11        Челябинск                786.0                 1.0   \n",
              "12            Пермь                771.0                 5.0   \n",
              "13              Уфа                767.0                 2.0   \n",
              "14             Омск                617.0                 3.0   \n",
              "15        Волгоград                456.0                 1.0   \n",
              "16            Total              23856.0               379.0   \n",
              "\n",
              "    percent_ds_from_all  \n",
              "0                   4.0  \n",
              "1                   2.0  \n",
              "2                   1.0  \n",
              "3                   0.0  \n",
              "4                   1.0  \n",
              "5                   1.0  \n",
              "6                   0.0  \n",
              "7                   0.0  \n",
              "8                   0.0  \n",
              "9                   0.0  \n",
              "10                  0.0  \n",
              "11                  0.0  \n",
              "12                  0.0  \n",
              "13                  0.0  \n",
              "14                  0.0  \n",
              "15                  0.0  \n",
              "16                  NaN  "
            ]
          },
          "execution_count": 133,
          "metadata": {},
          "output_type": "execute_result"
        }
      ],
      "source": [
        "# результат запроса\n",
        "df_add_5  = pd.read_sql_query(query_add_5, connection)\n",
        "df_add_5 "
      ]
    },
    {
      "attachments": {},
      "cell_type": "markdown",
      "id": "ee37d1ef",
      "metadata": {},
      "source": [
        "Как и следовало ожидать, в столице самое большое количество вакансий, там-же больше всего вакансий DS.  \n",
        "Любопытно, что в РФ только у 5 городов миллионников процент вакансий DS больше либо равен 1.  \n",
        "Наблюдается низкий спрос на специалистов данного профиля в таких промышленных центрах, как Екатеринбург и Челябинск.  \n",
        "Похоже, что на момент формирования БД, относительно новые методики, которые предоставляет DS, еще не были восприняты производством."
      ]
    }
  ],
  "metadata": {
    "colab": {
      "collapsed_sections": [
        "8d62a9f3-f64e-4fe7-bdac-c4dffa16155e"
      ],
      "provenance": []
    },
    "kernelspec": {
      "display_name": "Python 3 (ipykernel)",
      "language": "python",
      "name": "python3"
    },
    "language_info": {
      "codemirror_mode": {
        "name": "ipython",
        "version": 3
      },
      "file_extension": ".py",
      "mimetype": "text/x-python",
      "name": "python",
      "nbconvert_exporter": "python",
      "pygments_lexer": "ipython3",
      "version": "3.8.10"
    }
  },
  "nbformat": 4,
  "nbformat_minor": 5
}
