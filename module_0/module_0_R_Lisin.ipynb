{
 "cells": [
  {
   "cell_type": "markdown",
   "metadata": {},
   "source": [
    "0.2. Поехали!\n",
    "\n",
    "Угадай число!\n",
    "\n",
    "Итак, компьютер загадывает целое число от 1 до 100, и нам его нужно угадать. Под «угадать», конечно, подразумевается «написать программу, которая угадывает число».\n",
    "\n",
    "Внизу представлен готовый код, который вы можете запустить и сыграть с компьютером:"
   ]
  },
  {
   "cell_type": "code",
   "execution_count": 1,
   "metadata": {},
   "outputs": [
    {
     "name": "stdout",
     "output_type": "stream",
     "text": [
      "Загадано число от 1 до 100\n",
      "50\n",
      "Угадываемое число меньше 50 \n",
      "25\n",
      "Угадываемое число меньше 25 \n",
      "12\n",
      "Угадываемое число меньше 12 \n",
      "6\n",
      "Угадываемое число меньше 6 \n",
      "3\n",
      "Угадываемое число больше 3 \n",
      "4\n",
      "Угадываемое число больше 4 \n",
      "5\n",
      "Вы угадали число 5 за 7 попыток.\n"
     ]
    }
   ],
   "source": [
    "import numpy as np\n",
    "count = 0                            # счетчик попыток\n",
    "number = np.random.randint(1,101)    # загадали число\n",
    "print (\"Загадано число от 1 до 100\")\n",
    "\n",
    "while True:                        # бесконечный цикл\n",
    "    predict = int(input())         # предполагаемое число\n",
    "    count += 1                     # плюсуем попытку\n",
    "    if number == predict: break    # выход из цикла, если угадали\n",
    "    elif number > predict: print (f\"Угадываемое число больше {predict} \")\n",
    "    elif number < predict: print (f\"Угадываемое число меньше {predict} \")\n",
    "        \n",
    "print (f\"Вы угадали число {number} за {count} попыток.\")"
   ]
  },
  {
   "cell_type": "markdown",
   "metadata": {},
   "source": [
    "Попробуем сыграть. В случае автора модуля вывод был такой:\n",
    "\n",
    "Загадано число от 1 до 100 1 Угадываемое число больше 1 10 Угадываемое число больше 10\n",
    "\n",
    "Автоматизируем процесс:"
   ]
  },
  {
   "cell_type": "code",
   "execution_count": 3,
   "metadata": {},
   "outputs": [
    {
     "ename": "NameError",
     "evalue": "name 'np' is not defined",
     "output_type": "error",
     "traceback": [
      "\u001b[1;31m---------------------------------------------------------------------------\u001b[0m",
      "\u001b[1;31mNameError\u001b[0m                                 Traceback (most recent call last)",
      "\u001b[1;32m<ipython-input-3-72cf7b160272>\u001b[0m in \u001b[0;36m<module>\u001b[1;34m\u001b[0m\n\u001b[1;32m----> 1\u001b[1;33m \u001b[0mnumber\u001b[0m \u001b[1;33m=\u001b[0m \u001b[0mnp\u001b[0m\u001b[1;33m.\u001b[0m\u001b[0mrandom\u001b[0m\u001b[1;33m.\u001b[0m\u001b[0mrandint\u001b[0m\u001b[1;33m(\u001b[0m\u001b[1;36m1\u001b[0m\u001b[1;33m,\u001b[0m\u001b[1;36m101\u001b[0m\u001b[1;33m)\u001b[0m    \u001b[1;31m# загадали число\u001b[0m\u001b[1;33m\u001b[0m\u001b[1;33m\u001b[0m\u001b[0m\n\u001b[0m\u001b[0;32m      2\u001b[0m \u001b[0mprint\u001b[0m \u001b[1;33m(\u001b[0m\u001b[1;34m\"Загадано число от 1 до 100\"\u001b[0m\u001b[1;33m)\u001b[0m\u001b[1;33m\u001b[0m\u001b[1;33m\u001b[0m\u001b[0m\n\u001b[0;32m      3\u001b[0m \u001b[1;32mfor\u001b[0m \u001b[0mcount\u001b[0m \u001b[1;32min\u001b[0m \u001b[0mrange\u001b[0m\u001b[1;33m(\u001b[0m\u001b[1;36m1\u001b[0m\u001b[1;33m,\u001b[0m\u001b[1;36m101\u001b[0m\u001b[1;33m)\u001b[0m\u001b[1;33m:\u001b[0m         \u001b[1;31m# более компактный вариант счетчика\u001b[0m\u001b[1;33m\u001b[0m\u001b[1;33m\u001b[0m\u001b[0m\n\u001b[0;32m      4\u001b[0m     \u001b[1;32mif\u001b[0m \u001b[0mnumber\u001b[0m \u001b[1;33m==\u001b[0m \u001b[0mcount\u001b[0m\u001b[1;33m:\u001b[0m \u001b[1;32mbreak\u001b[0m    \u001b[1;31m# выход из цикла, если угадали\u001b[0m\u001b[1;33m\u001b[0m\u001b[1;33m\u001b[0m\u001b[0m\n\u001b[0;32m      5\u001b[0m \u001b[0mprint\u001b[0m \u001b[1;33m(\u001b[0m\u001b[1;34mf\"Вы угадали число {number} за {count} попыток.\"\u001b[0m\u001b[1;33m)\u001b[0m\u001b[1;33m\u001b[0m\u001b[1;33m\u001b[0m\u001b[0m\n",
      "\u001b[1;31mNameError\u001b[0m: name 'np' is not defined"
     ]
    }
   ],
   "source": [
    "number = np.random.randint(1,101)    # загадали число\n",
    "print (\"Загадано число от 1 до 100\")\n",
    "for count in range(1,101):         # более компактный вариант счетчика\n",
    "    if number == count: break    # выход из цикла, если угадали      \n",
    "print (f\"Вы угадали число {number} за {count} попыток.\")"
   ]
  },
  {
   "cell_type": "markdown",
   "metadata": {},
   "source": [
    "Повторим 1000 раз, чтоб понять, насколько быстро в среднем работает наше решение. Для этого сразу завернем игру в функцию, чтобы её потом было проще менять и к ней обращаться."
   ]
  },
  {
   "cell_type": "code",
   "execution_count": 1,
   "metadata": {},
   "outputs": [],
   "source": [
    "import numpy as np\n",
    "def game_core_v1(number):\n",
    "    '''Просто угадываем на random, никак не используя информацию о больше или меньше.\n",
    "       Функция принимает загаданное число и возвращает число попыток'''\n",
    "    count = 0\n",
    "    while True:\n",
    "        count+=1\n",
    "        predict = np.random.randint(1,101) # предполагаемое число\n",
    "        if number == predict: \n",
    "            return(count) # выход из цикла, если угадали\n",
    "        \n",
    "        \n",
    "def score_game(game_core):\n",
    "    '''Запускаем игру 1000 раз, чтобы узнать, как быстро игра угадывает число'''\n",
    "    count_ls = []\n",
    "    np.random.seed(1)  # фиксируем RANDOM SEED, чтобы ваш эксперимент был воспроизводим!\n",
    "    random_array = np.random.randint(1,101, size=(1000))\n",
    "    for number in random_array:\n",
    "        count_ls.append(game_core(number))\n",
    "    score = int(np.mean(count_ls))\n",
    "    print(f\"Ваш алгоритм угадывает число в среднем за {score} попыток\")\n",
    "    return(score)"
   ]
  },
  {
   "cell_type": "code",
   "execution_count": null,
   "metadata": {},
   "outputs": [],
   "source": [
    "# запускаем\n",
    "score_game(game_core_v1)"
   ]
  },
  {
   "cell_type": "markdown",
   "metadata": {},
   "source": [
    "Вывод такой:\n",
    "\n",
    "Ваш алгоритм угадывает число в среднем за 101 попытку\n",
    "\n",
    "Давайте напишем что-то, что учитывает информацию о том, что число больше или меньше нужного нам:"
   ]
  },
  {
   "cell_type": "code",
   "execution_count": 7,
   "metadata": {},
   "outputs": [],
   "source": [
    "def game_core_v2(number):\n",
    "    '''Сначала устанавливаем любое random число, а потом уменьшаем или увеличиваем его в зависимости от того,\n",
    "       больше оно или меньше нужного. Функция принимает загаданное число и возвращает число попыток'''\n",
    "    count = 1\n",
    "    predict = np.random.randint(1,101)\n",
    "    while number != predict:\n",
    "        count+=1\n",
    "        if number > predict: \n",
    "            predict += 1\n",
    "        elif number < predict: \n",
    "            predict -= 1\n",
    "    return(count) # выход из цикла, если угадали"
   ]
  },
  {
   "cell_type": "code",
   "execution_count": 8,
   "metadata": {},
   "outputs": [
    {
     "name": "stdout",
     "output_type": "stream",
     "text": [
      "Ваш алгоритм угадывает число в среднем за 33 попыток\n"
     ]
    },
    {
     "data": {
      "text/plain": [
       "33"
      ]
     },
     "execution_count": 8,
     "metadata": {},
     "output_type": "execute_result"
    }
   ],
   "source": [
    "# Проверяем\n",
    "score_game(game_core_v2)"
   ]
  },
  {
   "cell_type": "markdown",
   "metadata": {},
   "source": [
    "Вывод такой:\n",
    "\n",
    "Ваш алгоритм угадывает число в среднем за 30 попыток\n",
    "\n",
    "Уже результат!\n",
    "\n",
    "0.3. Итоговое задание Теперь, используя логику, представленную выше, а также полученные вами знания программирования, попробуйте улучшить алгоритм автора модуля. Уверены, у вас получится!\n",
    "\n",
    "Рекомендации: \n",
    "1 Работайте в репозитории, который вы создали в начале этого модуля.\n",
    "2 Создавайте отдельную папку для каждого нового проекта. Папка по этому проекту должна носить название: module_0.\n",
    "3 Проверьте, что ваш алгоритм действительно угадывает число и делает это за как можно меньшее число попыток (без читерства). \n",
    "4 Убедитесь, что ваш код понятен и красив. Если будет возможность, задокументируйте код. \n",
    "5 Сохраните все файлы, сделайте коммит, затем запушьте (git push) все изменения в репозиторий на гитхабе, чтобы ментор смог проверить ваш код. \n",
    "6 Не стесняйтесь использовать коммиты чаще, если собираетесь писать код не за один раз. Во многих компаниях есть негласное правило: Перед уходом с работы сделайте git commit, git push.\n",
    "\n",
    "Критерии оценки:\n",
    "\n",
    "1-Качество кода (cоблюден стандарт pep-8, есть комментарии) — до 5 баллов.\n",
    "2-Владение функциями и строковыми величинами — до 5 баллов.\n",
    "3-Общее качество решения (насколько получилось сократить число попыток) — до 5 баллов.\n",
    "4-Код загружен на GitHub в папку module_0 — 3 балла.\n",
    "5-Работа сдана к дедлайну — 3 балла. \n",
    "\n",
    "Для того, чтобы успешно сдать проект, достаточно набрать 12 баллов."
   ]
  },
  {
   "cell_type": "markdown",
   "metadata": {},
   "source": [
    "Далее будет решение задания."
   ]
  },
  {
   "cell_type": "code",
   "execution_count": 4,
   "metadata": {},
   "outputs": [],
   "source": [
    "def game_core_v3(number):\n",
    "    '''Сначала устанавливаем любое random число, а потом уменьшаем или увеличиваем его в зависимости от того,\n",
    "       больше оно или меньше нужного. Функция принимает загаданное число и возвращает число попыток'''\n",
    "    count = 1\n",
    "    top = 101\n",
    "    bottom = 0\n",
    "    predict = np.random.randint(1,101)\n",
    "#     predict = 50\n",
    "    while number != predict:\n",
    "        count+=1\n",
    "        if number > predict: \n",
    "            bottom = predict            \n",
    "        else: \n",
    "            top = predict\n",
    "        predict = int((top - bottom)//2 + bottom)\n",
    "    return(count) # выход из цикла, если угадали"
   ]
  },
  {
   "cell_type": "code",
   "execution_count": 5,
   "metadata": {},
   "outputs": [
    {
     "name": "stdout",
     "output_type": "stream",
     "text": [
      "Ваш алгоритм угадывает число в среднем за 6 попыток\n"
     ]
    },
    {
     "data": {
      "text/plain": [
       "6"
      ]
     },
     "execution_count": 5,
     "metadata": {},
     "output_type": "execute_result"
    }
   ],
   "source": [
    "# Проверяем\n",
    "score_game(game_core_v3)"
   ]
  },
  {
   "cell_type": "code",
   "execution_count": 26,
   "metadata": {},
   "outputs": [
    {
     "name": "stdout",
     "output_type": "stream",
     "text": [
      "попытка 2, число 39\n",
      "попытка 3, число 59\n",
      "попытка 4, число 49\n",
      "попытка 5, число 54\n",
      "попытка 6, число 51\n",
      "попытка 7, число 52\n",
      "попытка 8, число 53\n",
      "попыток 8 загадано 53\n"
     ]
    }
   ],
   "source": [
    "import numpy as np\n",
    "# def game_core_v3(number):\n",
    "#     '''Сначала устанавливаем любое random число, а потом уменьшаем или увеличиваем его в зависимости от того,\n",
    "#        больше оно или меньше нужного. Функция принимает загаданное число и возвращает число попыток'''\n",
    "count = 1\n",
    "top = 101\n",
    "number = np.random.randint(1,101)\n",
    "bottom = 0\n",
    "# predict = np.random.randint(1,101)\n",
    "predict = 50\n",
    "while number != predict:\n",
    "    count+=1\n",
    "    if number > predict: \n",
    "        bottom = predict        \n",
    "    else:\n",
    "        top = predict\n",
    "    predict = int((top - bottom)//2 + bottom)\n",
    "    print('попытка {}, число {}'.format(count,predict))    \n",
    "#     if count == 30:\n",
    "#         print('что-то пошло не так')\n",
    "#         break\n",
    "#     return(count) # выход из цикла, если угадали\n",
    "print('попыток',count,'загадано', number)"
   ]
  },
  {
   "cell_type": "code",
   "execution_count": 110,
   "metadata": {},
   "outputs": [
    {
     "name": "stdout",
     "output_type": "stream",
     "text": [
      "3\n",
      "number = 71, попытка 2, predict 83, bottom = 66, top = 101\n",
      "1\n",
      "number = 71, попытка 3, predict 71, bottom = 66, top = 77\n",
      "попыток 3\n"
     ]
    }
   ],
   "source": [
    "import numpy as np\n",
    "# def game_core_v4(number):\n",
    "#     '''Сначала устанавливаем любое random число, а потом уменьшаем или увеличиваем его в зависимости от того,\n",
    "#        больше оно или меньше нужного. Функция принимает загаданное число и возвращает число попыток'''\n",
    "count = 1\n",
    "top = 101\n",
    "number = np.random.randint(1,101)\n",
    "# number = 95\n",
    "bottom = 0\n",
    "# predict = np.random.randint(1,101)\n",
    "predict = 50\n",
    "while number != predict:\n",
    "    diapason = top - bottom\n",
    "    count+=1\n",
    "    top_temp = top\n",
    "    bottom_temp = bottom\n",
    "    if number in range(bottom, diapason//3 + bottom): \n",
    "        top = diapason//3 + bottom \n",
    "        print(1)\n",
    "    elif number in range(diapason//3 + bottom, (diapason//3)*2 + bottom): \n",
    "        top = (diapason//3)*2 + bottom\n",
    "        bottom = diapason//3 + bottom        \n",
    "        print(2)\n",
    "    else:\n",
    "        bottom = (diapason//3)*2 + bottom\n",
    "#       top = predict\n",
    "        print(3)\n",
    "    predict = int((top - bottom)//2 + bottom)\n",
    "    print('number = {}, попытка {}, predict {}, bottom = {}, top = {}'.format(number, count,predict,bottom,top))    \n",
    "    if count == 30:\n",
    "        print('что-то пошло не так')\n",
    "        break\n",
    "    \n",
    "#     return(count) # выход из цикла, если угадали\n",
    "print('попыток',count)"
   ]
  },
  {
   "cell_type": "code",
   "execution_count": 124,
   "metadata": {},
   "outputs": [],
   "source": [
    "import numpy as np\n",
    "def game_core_v4(number):\n",
    "#     '''Сначала устанавливаем любое random число, а потом уменьшаем или увеличиваем его в зависимости от того,\n",
    "#        больше оно или меньше нужного. Функция принимает загаданное число и возвращает число попыток'''\n",
    "    count = 1\n",
    "    top = 101\n",
    "    number = np.random.randint(1,101)\n",
    "    bottom = 0\n",
    "    predict = np.random.randint(1,101)\n",
    "    while number != predict:\n",
    "        diapason = top - bottom\n",
    "        count+=1\n",
    "        if number in range(bottom, diapason//3 + bottom): \n",
    "            top = diapason//3 + bottom \n",
    "        elif number in range(diapason//3 + bottom, diapason//3*2 + bottom): \n",
    "            top = diapason//3*2 + bottom\n",
    "            bottom = diapason//3 + bottom        \n",
    "        else:\n",
    "            bottom = diapason//3*2 + bottom\n",
    "        predict = int((top - bottom)//2 + bottom)\n",
    "    \n",
    "    return(count) # выход из цикла, если угадали\n"
   ]
  },
  {
   "cell_type": "code",
   "execution_count": 125,
   "metadata": {},
   "outputs": [
    {
     "name": "stdout",
     "output_type": "stream",
     "text": [
      "Ваш алгоритм угадывает число в среднем за 4 попыток\n"
     ]
    },
    {
     "data": {
      "text/plain": [
       "4"
      ]
     },
     "execution_count": 125,
     "metadata": {},
     "output_type": "execute_result"
    }
   ],
   "source": [
    "# Проверяем\n",
    "score_game(game_core_v4)"
   ]
  }
 ],
 "metadata": {
  "kernelspec": {
   "display_name": "Python 3",
   "language": "python",
   "name": "python3"
  },
  "language_info": {
   "codemirror_mode": {
    "name": "ipython",
    "version": 3
   },
   "file_extension": ".py",
   "mimetype": "text/x-python",
   "name": "python",
   "nbconvert_exporter": "python",
   "pygments_lexer": "ipython3",
   "version": "3.8.3"
  }
 },
 "nbformat": 4,
 "nbformat_minor": 4
}
