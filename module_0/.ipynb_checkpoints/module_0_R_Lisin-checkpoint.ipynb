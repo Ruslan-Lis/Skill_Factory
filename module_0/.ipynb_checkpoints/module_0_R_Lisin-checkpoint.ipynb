{
 "cells": [
  {
   "cell_type": "code",
   "execution_count": 22,
   "metadata": {},
   "outputs": [],
   "source": [
    "import numpy as np\n",
    "     \n",
    "def score_game(game_core):\n",
    "    '''Run the game 1000 times to find out \n",
    "       how quickly the game guesses the number.'''\n",
    "    count_ls = []\n",
    "    np.random.seed(1)# fixing RANDOM SEED to make your experiment reproducible!\n",
    "    random_array = np.random.randint(1,101, size=(1000))\n",
    "    for number in random_array:\n",
    "        count_ls.append(game_core(number))\n",
    "    score = int(np.mean(count_ls))\n",
    "    print(f\"On average your algorithm need {score} guesses.\")\n",
    "    \n",
    "    return(score)\n",
    "\n",
    "\n",
    "def game_core_v3(number):\n",
    "    '''The prediction number is set as the median of the search diapason.\n",
    "       Then the algorithm narrow the search diapason depending on\n",
    "       is it more or less than the hidden number.\n",
    "       Then the prediction number is set as the median of the new diapason,\n",
    "       and so on.\n",
    "       The function receive a hidden number and return a count of attempts.'''\n",
    "    count = 1\n",
    "    top = 101\n",
    "    bottom = 0\n",
    "    predict = (top - bottom)//2 + bottom    \n",
    "    while number != predict:\n",
    "        count+=1        \n",
    "        if number > predict: \n",
    "            bottom = predict            \n",
    "        else: \n",
    "            top = predict            \n",
    "        predict = (top - bottom)//2 + bottom\n",
    "        \n",
    "    return(count) # Exit from the cycle, if guess right.\n",
    "\n",
    "\n",
    "def game_core_v4(number):\n",
    "    '''The number of predictions is taken into account arbitrarily.\n",
    "       The search diapason is divided by three. \n",
    "       The algorithm checks in what range the hidden number is.\n",
    "       Then the prediction number is set as the average of the diapason.\n",
    "       The search diapason is divided by three, and so on. \n",
    "       The function receive a hidden number and return a count of attempts.'''\n",
    "    count=1\n",
    "    top = 101\n",
    "    bottom = 0\n",
    "    predict = np.random.randint(1,101)\n",
    "    while number != predict:        \n",
    "        count+=1\n",
    "        diapason = top - bottom\n",
    "        if number in range(bottom, diapason//3 + bottom): \n",
    "            top = diapason//3 + bottom             \n",
    "        elif number in range(diapason//3 + bottom, diapason//3*2 + bottom): \n",
    "            top = diapason//3*2 + bottom\n",
    "            bottom = diapason//3 + bottom             \n",
    "        else:\n",
    "            bottom = diapason//3*2 + bottom\n",
    "        predict = (top - bottom)//2 + bottom\n",
    "    \n",
    "    return(count) # Exit from the cycle, if guess right.\n",
    "\n",
    "\n",
    "def game_core_v5(number): # cheating version\n",
    "    '''The number of predictions is taken into account arbitrarily.\n",
    "       The search diapason is divided by ten. \n",
    "       The algorithm checks in what range the hidden number is.\n",
    "       Then the prediction number is set as at least of the diapason.\n",
    "       The search diapason is divided by ten, and so on.\n",
    "       The function receive a hidden number and return a count of attempts.'''\n",
    "    count=1\n",
    "    top = 101\n",
    "    bottom = 1\n",
    "    predict = np.random.randint(1,101)\n",
    "    while number != predict:        \n",
    "        count+=1\n",
    "        diapason = top - bottom\n",
    "        if number in range(bottom, diapason//10 + bottom): \n",
    "            top = diapason//10 + bottom             \n",
    "        elif number in range(diapason//10 + bottom, diapason//10*2 + bottom):\n",
    "            top = diapason//10*2 + bottom\n",
    "            bottom = diapason//10 + bottom\n",
    "        elif number in range(diapason//10*2 + bottom, diapason//10*3 + bottom):\n",
    "            top = diapason//10*3 + bottom\n",
    "            bottom = diapason//10*2 + bottom\n",
    "        elif number in range(diapason//10*3 + bottom, diapason//10*4 + bottom):\n",
    "            top = diapason//10*4 + bottom\n",
    "            bottom = diapason//10*3 + bottom\n",
    "        elif number in range(diapason//10*4 + bottom, diapason//10*5 + bottom):\n",
    "            top = diapason//10*5 + bottom\n",
    "            bottom = diapason//10*4 + bottom \n",
    "        elif number in range(diapason//10*5 + bottom, diapason//10*6 + bottom): \n",
    "            top = diapason//10*6 + bottom\n",
    "            bottom = diapason//10*5 + bottom\n",
    "        elif number in range(diapason//10*6 + bottom, diapason//10*7 + bottom): \n",
    "            top = diapason//10*7 + bottom\n",
    "            bottom = diapason//10*6 + bottom\n",
    "        elif number in range(diapason//10*7 + bottom, diapason//10*8 + bottom): \n",
    "            top = diapason//10*8 + bottom\n",
    "            bottom = diapason//10*7 + bottom\n",
    "        elif number in range(diapason//10*8 + bottom, diapason//10*9 + bottom): \n",
    "            top = diapason//10*9 + bottom\n",
    "            bottom = diapason//10*8 + bottom\n",
    "        else:\n",
    "            bottom = diapason//10*9 + bottom\n",
    "        predict = bottom\n",
    "    \n",
    "    return(count) # Exit from the cycle, if guess right."
   ]
  },
  {
   "cell_type": "code",
   "execution_count": 23,
   "metadata": {},
   "outputs": [
    {
     "name": "stdout",
     "output_type": "stream",
     "text": [
      "On average your algorithm need 5 guesses.\n"
     ]
    },
    {
     "data": {
      "text/plain": [
       "5"
      ]
     },
     "execution_count": 23,
     "metadata": {},
     "output_type": "execute_result"
    }
   ],
   "source": [
    "# test\n",
    "score_game(game_core_v3)"
   ]
  },
  {
   "cell_type": "code",
   "execution_count": 24,
   "metadata": {},
   "outputs": [
    {
     "name": "stdout",
     "output_type": "stream",
     "text": [
      "On average your algorithm need 4 guesses.\n"
     ]
    },
    {
     "data": {
      "text/plain": [
       "4"
      ]
     },
     "execution_count": 24,
     "metadata": {},
     "output_type": "execute_result"
    }
   ],
   "source": [
    "# test\n",
    "score_game(game_core_v4)"
   ]
  },
  {
   "cell_type": "code",
   "execution_count": 25,
   "metadata": {},
   "outputs": [
    {
     "name": "stdout",
     "output_type": "stream",
     "text": [
      "On average your algorithm need 2 guesses.\n"
     ]
    },
    {
     "data": {
      "text/plain": [
       "2"
      ]
     },
     "execution_count": 25,
     "metadata": {},
     "output_type": "execute_result"
    }
   ],
   "source": [
    "# test cheating version\n",
    "score_game(game_core_v5)"
   ]
  }
 ],
 "metadata": {
  "kernelspec": {
   "display_name": "Python 3",
   "language": "python",
   "name": "python3"
  },
  "language_info": {
   "codemirror_mode": {
    "name": "ipython",
    "version": 3
   },
   "file_extension": ".py",
   "mimetype": "text/x-python",
   "name": "python",
   "nbconvert_exporter": "python",
   "pygments_lexer": "ipython3",
   "version": "3.8.3"
  }
 },
 "nbformat": 4,
 "nbformat_minor": 4
}
