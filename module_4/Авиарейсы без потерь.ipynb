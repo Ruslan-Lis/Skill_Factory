{
 "cells": [
  {
   "cell_type": "code",
   "execution_count": 1,
   "metadata": {},
   "outputs": [],
   "source": [
    "import numpy as np\n",
    "import pandas as pd\n",
    "import matplotlib.pyplot as plt\n",
    "import seaborn as sns\n",
    "from itertools import combinations\n",
    "from scipy.stats import ttest_ind\n",
    "from statsmodels.stats import weightstats\n",
    "\n",
    "pd.set_option('display.max_rows', 50)  # показывать больше строк\n",
    "pd.set_option('display.max_columns', 50)  # показывать больше колонок"
   ]
  },
  {
   "cell_type": "code",
   "execution_count": 11,
   "metadata": {},
   "outputs": [],
   "source": [
    "data = pd.read_csv('final_query.csv')"
   ]
  },
  {
   "cell_type": "code",
   "execution_count": 3,
   "metadata": {},
   "outputs": [
    {
     "data": {
      "text/html": [
       "<div>\n",
       "<style scoped>\n",
       "    .dataframe tbody tr th:only-of-type {\n",
       "        vertical-align: middle;\n",
       "    }\n",
       "\n",
       "    .dataframe tbody tr th {\n",
       "        vertical-align: top;\n",
       "    }\n",
       "\n",
       "    .dataframe thead th {\n",
       "        text-align: right;\n",
       "    }\n",
       "</style>\n",
       "<table border=\"1\" class=\"dataframe\">\n",
       "  <thead>\n",
       "    <tr style=\"text-align: right;\">\n",
       "      <th></th>\n",
       "      <th>flight_id</th>\n",
       "      <th>city_departure</th>\n",
       "      <th>city_arrival</th>\n",
       "      <th>model</th>\n",
       "      <th>range</th>\n",
       "      <th>total_cost_of_tickets</th>\n",
       "      <th>flight_duration_minutes</th>\n",
       "      <th>scheduled_departure</th>\n",
       "      <th>number_of_tickets</th>\n",
       "      <th>n_busines</th>\n",
       "      <th>common_n_b_class_seats</th>\n",
       "      <th>n_economy</th>\n",
       "      <th>common_n_e_class_seats</th>\n",
       "      <th>flight_delay</th>\n",
       "    </tr>\n",
       "  </thead>\n",
       "  <tbody>\n",
       "    <tr>\n",
       "      <th>124</th>\n",
       "      <td>136951</td>\n",
       "      <td>Anapa</td>\n",
       "      <td>Belgorod</td>\n",
       "      <td>Sukhoi Superjet-100</td>\n",
       "      <td>3000</td>\n",
       "      <td>720600.0</td>\n",
       "      <td>49</td>\n",
       "      <td>2017-02-02 09:25:00+00</td>\n",
       "      <td>90</td>\n",
       "      <td>12.0</td>\n",
       "      <td>12</td>\n",
       "      <td>78.0</td>\n",
       "      <td>85</td>\n",
       "      <td>00:03:00</td>\n",
       "    </tr>\n",
       "  </tbody>\n",
       "</table>\n",
       "</div>"
      ],
      "text/plain": [
       "     flight_id city_departure city_arrival                model  range  \\\n",
       "124     136951          Anapa     Belgorod  Sukhoi Superjet-100   3000   \n",
       "\n",
       "     total_cost_of_tickets  flight_duration_minutes     scheduled_departure  \\\n",
       "124               720600.0                       49  2017-02-02 09:25:00+00   \n",
       "\n",
       "     number_of_tickets  n_busines  common_n_b_class_seats  n_economy  \\\n",
       "124                 90       12.0                      12       78.0   \n",
       "\n",
       "     common_n_e_class_seats flight_delay  \n",
       "124                      85     00:03:00  "
      ]
     },
     "execution_count": 3,
     "metadata": {},
     "output_type": "execute_result"
    }
   ],
   "source": [
    "data.sample()"
   ]
  },
  {
   "cell_type": "code",
   "execution_count": 17,
   "metadata": {},
   "outputs": [
    {
     "name": "stdout",
     "output_type": "stream",
     "text": [
      "<class 'pandas.core.frame.DataFrame'>\n",
      "RangeIndex: 127 entries, 0 to 126\n",
      "Data columns (total 14 columns):\n",
      " #   Column                   Non-Null Count  Dtype              \n",
      "---  ------                   --------------  -----              \n",
      " 0   flight_id                127 non-null    int64              \n",
      " 1   city_departure           127 non-null    object             \n",
      " 2   city_arrival             127 non-null    object             \n",
      " 3   model                    127 non-null    object             \n",
      " 4   range                    127 non-null    int64              \n",
      " 5   total_cost_of_tickets    118 non-null    float64            \n",
      " 6   flight_duration_minutes  127 non-null    int64              \n",
      " 7   scheduled_departure      127 non-null    datetime64[ns, UTC]\n",
      " 8   number_of_tickets        127 non-null    int64              \n",
      " 9   n_busines                118 non-null    float64            \n",
      " 10  common_n_b_class_seats   127 non-null    int64              \n",
      " 11  n_economy                118 non-null    float64            \n",
      " 12  common_n_e_class_seats   127 non-null    int64              \n",
      " 13  flight_delay             127 non-null    timedelta64[ns]    \n",
      "dtypes: datetime64[ns, UTC](1), float64(3), int64(6), object(3), timedelta64[ns](1)\n",
      "memory usage: 14.0+ KB\n"
     ]
    }
   ],
   "source": [
    "data.info()"
   ]
  },
  {
   "cell_type": "code",
   "execution_count": 13,
   "metadata": {},
   "outputs": [],
   "source": [
    "data['scheduled_departure'] = pd.to_datetime(data['scheduled_departure'])\n",
    "data['flight_delay'] = pd.to_timedelta(data['flight_delay'])"
   ]
  },
  {
   "cell_type": "code",
   "execution_count": 6,
   "metadata": {},
   "outputs": [],
   "source": [
    "fuel_consumption = {\n",
    "    'Sukhoi Superjet-100': 28.3333333333333333,\n",
    "    'Boeing 737-300': 43.3333333333333333\n",
    "    }\n",
    "fuel_price = {\n",
    "    'january': 35.59,\n",
    "    'february': 33.39\n",
    "    }   "
   ]
  },
  {
   "cell_type": "code",
   "execution_count": 28,
   "metadata": {},
   "outputs": [],
   "source": [
    "def month_to_price(month):\n",
    "    '''take month, return fuel price'''\n",
    "    if month == 1:\n",
    "        return 35.59 # price\n",
    "    \n",
    "    elif month == 2:\n",
    "        return 33.39 # price\n",
    "    \n",
    "\n",
    "def consumption(model):\n",
    "    '''take aircraft model, return fuel consumption'''\n",
    "    if model == 'Sukhoi Superjet-100':\n",
    "        return 28.333333333333332\n",
    "    \n",
    "    elif model == 'Boeing 737-300':\n",
    "        return 43.333333333333336"
   ]
  },
  {
   "cell_type": "code",
   "execution_count": 31,
   "metadata": {},
   "outputs": [],
   "source": [
    "data['fuel_price'] = data.scheduled_departure.dt.month.apply(month_to_price) # cost of one liter of fuel \n",
    "data['fuel_consumption'] = data.model.apply(consumption) # fuel consumption, liter/minute\n",
    "data['fuel_costs'] = data.flight_duration_minutes * data.fuel_consumption * data.fuel_price # the price of the spent fuel in rubles \n",
    "data['revenue'] = data.total_cost_of_tickets - data.fuel_costs "
   ]
  },
  {
   "cell_type": "markdown",
   "metadata": {},
   "source": [
    "Данные о ценах на топливо взяты с [сайта поставщика топлива](http://www.bato.aero/) аэропорта города Анапа.  \n",
    "Цена топлива в январе 35.59 тысячи рублей за тонну или рублей за кг и 33.39 тысячи рублей за тонну или рублей за кг в феврале.  \n",
    " \n",
    "Потребление топлива 2600 кг/час для Boeing 737-300 взято [отсюда](https://www.airlines-inform.ru/commercial-aircraft/boeing-737-300.html). Расход топлива л/мин таким образом составил 43.333333333333336.   \n",
    "Потребление топлива 1700 кг/час для Sukhoi Superjet-100 взято [отсюда](http://superjet.wikidot.com/wiki:rashod-topliva). Расход топлива л/мин таким образом составил 28.333333333333332.\n",
    "\n",
    "Стоимость потраченного топлива расчитана как произведение длительности полёта в минутах на расход топлива в л/мин, на цену за литр топлива.   \n",
    "Прибыль расчитана как стоимость проданных билетов за вычетом цены потраченного топлива. "
   ]
  },
  {
   "cell_type": "code",
   "execution_count": 38,
   "metadata": {},
   "outputs": [
    {
     "data": {
      "text/plain": [
       "0"
      ]
     },
     "execution_count": 38,
     "metadata": {},
     "output_type": "execute_result"
    }
   ],
   "source": [
    "len(data[data['revenue'] < 0]) # number of unprofitable flights  "
   ]
  },
  {
   "cell_type": "markdown",
   "metadata": {},
   "source": [
    "Получается что при текущем расчёте прибыли в датасете нет откровенно убыточных рейсов.  \n",
    "Однако на [указанном сайте](http://www.bato.aero/), есть информация о тарифах на услуги для клиентов аэропортов, из которой следует, что помимо цены за топливо, с клиемтов взымается плата за заправку воздушного судна и за хранение топлива.  \n",
    "\n",
    "Думаю стоит учесть эти данные при расчёте затрат для более точного определения прибыли.  \n",
    "Однако тут есть один нюанс. В бак самолёта заправляется топлива больше, чем он тратит за полёт. Значит мы не можем учесть полную цену по этим дополнительным тарифам. За неимением другой информации оставим этот момент как есть, предположив, что непотраченное топливо сохраняется для следующего рейса, и за его заправку и хранение не приходится платить дважды.   \n",
    "Посмотрим на распределение прибыли."
   ]
  },
  {
   "cell_type": "code",
   "execution_count": 47,
   "metadata": {},
   "outputs": [
    {
     "data": {
      "image/png": "[encoded data removed]",
      "text/plain": [
       "<Figure size 1080x360 with 2 Axes>"
      ]
     },
     "metadata": {
      "needs_background": "light"
     },
     "output_type": "display_data"
    }
   ],
   "source": [
    "plt.figure(figsize=(15, 5))\n",
    "plt.subplot(121)\n",
    "colors = ['g', 'maroon']\n",
    "sns.distplot(data['revenue'].values, bins=25, color=colors[0], kde=False)\n",
    "plt.title('Revenue Distribution', fontsize=15)\n",
    "plt.xlabel('revenue')\n",
    "plt.ylabel('quantity')\n",
    "\n",
    "plt.subplot(122)\n",
    "sns.boxplot(data['revenue'].values, color=colors[1])\n",
    "plt.title('Revenue Distribution', fontsize=15)\n",
    "plt.xlabel('revenue')\n",
    "plt.show()"
   ]
  },
  {
   "cell_type": "markdown",
   "metadata": {},
   "source": [
    "Видно, что вся выборка делится на две группы по распределению.  \n",
    "Нужно попробовать разбить распределение по моделям самолётов."
   ]
  },
  {
   "cell_type": "code",
   "execution_count": 56,
   "metadata": {},
   "outputs": [
    {
     "data": {
      "image/png": "[encoded data removed]",
      "text/plain": [
       "<Figure size 1080x360 with 2 Axes>"
      ]
     },
     "metadata": {
      "needs_background": "light"
     },
     "output_type": "display_data"
    },
    {
     "data": {
      "image/png": "[encoded data removed]",
      "text/plain": [
       "<Figure size 1080x360 with 2 Axes>"
      ]
     },
     "metadata": {
      "needs_background": "light"
     },
     "output_type": "display_data"
    }
   ],
   "source": [
    "colors = ['g', 'maroon']\n",
    "for model in (data['model'].value_counts()).index:\n",
    "    plt.figure(figsize=(15, 5))\n",
    "    plt.subplot(121)\n",
    "    section = data[data['model'] == model]['revenue']\n",
    "    sns.distplot(section.values, bins=25, color=colors[0], kde=False)\n",
    "    plt.title(f'Revenue Distribution for {model}', fontsize=15)\n",
    "    plt.xlabel('revenue')\n",
    "    plt.ylabel('quantity')\n",
    "\n",
    "    plt.subplot(122)\n",
    "    sns.boxplot(section.values, color=colors[1])\n",
    "    plt.title(f'Revenue Distribution for {model}', fontsize=15)\n",
    "    plt.xlabel('revenue')\n",
    "    plt.show()"
   ]
  },
  {
   "cell_type": "markdown",
   "metadata": {},
   "source": [
    "Несмотря на то, что Сухой потребляет меньше горючего чем Боинг, а значит и издержки у Боинга больше, прибыль при использовании Боингов выше.  \n",
    "Интересно почему."
   ]
  }
 ],
 "metadata": {
  "kernelspec": {
   "display_name": "Python 3",
   "language": "python",
   "name": "python3"
  },
  "language_info": {
   "codemirror_mode": {
    "name": "ipython",
    "version": 3
   },
   "file_extension": ".py",
   "mimetype": "text/x-python",
   "name": "python",
   "nbconvert_exporter": "python",
   "pygments_lexer": "ipython3",
   "version": "3.8.3"
  }
 },
 "nbformat": 4,
 "nbformat_minor": 4
}
