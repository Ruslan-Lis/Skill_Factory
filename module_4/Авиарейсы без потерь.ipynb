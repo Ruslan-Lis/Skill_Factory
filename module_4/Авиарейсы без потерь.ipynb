{
 "cells": [
  {
   "cell_type": "code",
   "execution_count": 71,
   "metadata": {},
   "outputs": [],
   "source": [
    "import numpy as np\n",
    "import pandas as pd\n",
    "import matplotlib.pyplot as plt\n",
    "import seaborn as sns\n",
    "from itertools import combinations\n",
    "from scipy.stats import ttest_ind\n",
    "from statsmodels.stats import weightstats\n",
    "\n",
    "pd.set_option('display.max_rows', 50)  # показывать больше строк\n",
    "pd.set_option('display.max_columns', 50)  # показывать больше колонок"
   ]
  },
  {
   "cell_type": "code",
   "execution_count": 72,
   "metadata": {},
   "outputs": [],
   "source": [
    "data = pd.read_csv('final_query.csv')"
   ]
  },
  {
   "cell_type": "code",
   "execution_count": 73,
   "metadata": {},
   "outputs": [
    {
     "data": {
      "text/html": [
       "<div>\n",
       "<style scoped>\n",
       "    .dataframe tbody tr th:only-of-type {\n",
       "        vertical-align: middle;\n",
       "    }\n",
       "\n",
       "    .dataframe tbody tr th {\n",
       "        vertical-align: top;\n",
       "    }\n",
       "\n",
       "    .dataframe thead th {\n",
       "        text-align: right;\n",
       "    }\n",
       "</style>\n",
       "<table border=\"1\" class=\"dataframe\">\n",
       "  <thead>\n",
       "    <tr style=\"text-align: right;\">\n",
       "      <th></th>\n",
       "      <th>flight_id</th>\n",
       "      <th>city_departure</th>\n",
       "      <th>city_arrival</th>\n",
       "      <th>model</th>\n",
       "      <th>range</th>\n",
       "      <th>total_cost_of_tickets</th>\n",
       "      <th>flight_duration_minutes</th>\n",
       "      <th>scheduled_departure</th>\n",
       "      <th>number_of_tickets</th>\n",
       "      <th>n_busines</th>\n",
       "      <th>common_n_b_class_seats</th>\n",
       "      <th>n_economy</th>\n",
       "      <th>common_n_e_class_seats</th>\n",
       "      <th>flight_delay</th>\n",
       "    </tr>\n",
       "  </thead>\n",
       "  <tbody>\n",
       "    <tr>\n",
       "      <th>66</th>\n",
       "      <td>136560</td>\n",
       "      <td>Anapa</td>\n",
       "      <td>Novokuznetsk</td>\n",
       "      <td>Boeing 737-300</td>\n",
       "      <td>4200</td>\n",
       "      <td>NaN</td>\n",
       "      <td>305</td>\n",
       "      <td>2017-01-24 06:10:00+00</td>\n",
       "      <td>0</td>\n",
       "      <td>NaN</td>\n",
       "      <td>12</td>\n",
       "      <td>NaN</td>\n",
       "      <td>118</td>\n",
       "      <td>00:03:00</td>\n",
       "    </tr>\n",
       "  </tbody>\n",
       "</table>\n",
       "</div>"
      ],
      "text/plain": [
       "    flight_id city_departure  city_arrival           model  range  \\\n",
       "66     136560          Anapa  Novokuznetsk  Boeing 737-300   4200   \n",
       "\n",
       "    total_cost_of_tickets  flight_duration_minutes     scheduled_departure  \\\n",
       "66                    NaN                      305  2017-01-24 06:10:00+00   \n",
       "\n",
       "    number_of_tickets  n_busines  common_n_b_class_seats  n_economy  \\\n",
       "66                  0        NaN                      12        NaN   \n",
       "\n",
       "    common_n_e_class_seats flight_delay  \n",
       "66                     118     00:03:00  "
      ]
     },
     "execution_count": 73,
     "metadata": {},
     "output_type": "execute_result"
    }
   ],
   "source": [
    "data.sample()"
   ]
  },
  {
   "cell_type": "code",
   "execution_count": 74,
   "metadata": {},
   "outputs": [
    {
     "name": "stdout",
     "output_type": "stream",
     "text": [
      "<class 'pandas.core.frame.DataFrame'>\n",
      "RangeIndex: 127 entries, 0 to 126\n",
      "Data columns (total 14 columns):\n",
      " #   Column                   Non-Null Count  Dtype  \n",
      "---  ------                   --------------  -----  \n",
      " 0   flight_id                127 non-null    int64  \n",
      " 1   city_departure           127 non-null    object \n",
      " 2   city_arrival             127 non-null    object \n",
      " 3   model                    127 non-null    object \n",
      " 4   range                    127 non-null    int64  \n",
      " 5   total_cost_of_tickets    118 non-null    float64\n",
      " 6   flight_duration_minutes  127 non-null    int64  \n",
      " 7   scheduled_departure      127 non-null    object \n",
      " 8   number_of_tickets        127 non-null    int64  \n",
      " 9   n_busines                118 non-null    float64\n",
      " 10  common_n_b_class_seats   127 non-null    int64  \n",
      " 11  n_economy                118 non-null    float64\n",
      " 12  common_n_e_class_seats   127 non-null    int64  \n",
      " 13  flight_delay             127 non-null    object \n",
      "dtypes: float64(3), int64(6), object(5)\n",
      "memory usage: 14.0+ KB\n"
     ]
    }
   ],
   "source": [
    "data.info()"
   ]
  },
  {
   "cell_type": "markdown",
   "metadata": {},
   "source": [
    "Имеется 9 пустых значений в колонке `total_cost_of_tickets` - общая стоимость проданных билетов, значит нет возможности посчитать прибыль для этих рейсов. В колонках `n_busines` - количество проданных билетов в бизнесс-класс и `n_economy` - количество проданных билетов в эконом-класс тоже по 9 пропусков. Это закономерно, поскольку все эти три колонки извлекались из одной и той-же колонки в базе данных. \n",
    "\n",
    "Посмотрим, что это за рейсы."
   ]
  },
  {
   "cell_type": "code",
   "execution_count": 75,
   "metadata": {},
   "outputs": [
    {
     "data": {
      "text/html": [
       "<div>\n",
       "<style scoped>\n",
       "    .dataframe tbody tr th:only-of-type {\n",
       "        vertical-align: middle;\n",
       "    }\n",
       "\n",
       "    .dataframe tbody tr th {\n",
       "        vertical-align: top;\n",
       "    }\n",
       "\n",
       "    .dataframe thead th {\n",
       "        text-align: right;\n",
       "    }\n",
       "</style>\n",
       "<table border=\"1\" class=\"dataframe\">\n",
       "  <thead>\n",
       "    <tr style=\"text-align: right;\">\n",
       "      <th></th>\n",
       "      <th>flight_id</th>\n",
       "      <th>city_departure</th>\n",
       "      <th>city_arrival</th>\n",
       "      <th>model</th>\n",
       "      <th>range</th>\n",
       "      <th>total_cost_of_tickets</th>\n",
       "      <th>flight_duration_minutes</th>\n",
       "      <th>scheduled_departure</th>\n",
       "      <th>number_of_tickets</th>\n",
       "      <th>n_busines</th>\n",
       "      <th>common_n_b_class_seats</th>\n",
       "      <th>n_economy</th>\n",
       "      <th>common_n_e_class_seats</th>\n",
       "      <th>flight_delay</th>\n",
       "    </tr>\n",
       "  </thead>\n",
       "  <tbody>\n",
       "    <tr>\n",
       "      <th>59</th>\n",
       "      <td>136511</td>\n",
       "      <td>Anapa</td>\n",
       "      <td>Novokuznetsk</td>\n",
       "      <td>Boeing 737-300</td>\n",
       "      <td>4200</td>\n",
       "      <td>NaN</td>\n",
       "      <td>310</td>\n",
       "      <td>2017-02-21 06:10:00+00</td>\n",
       "      <td>0</td>\n",
       "      <td>NaN</td>\n",
       "      <td>12</td>\n",
       "      <td>NaN</td>\n",
       "      <td>118</td>\n",
       "      <td>00:05:00</td>\n",
       "    </tr>\n",
       "    <tr>\n",
       "      <th>60</th>\n",
       "      <td>136513</td>\n",
       "      <td>Anapa</td>\n",
       "      <td>Novokuznetsk</td>\n",
       "      <td>Boeing 737-300</td>\n",
       "      <td>4200</td>\n",
       "      <td>NaN</td>\n",
       "      <td>310</td>\n",
       "      <td>2017-02-28 06:10:00+00</td>\n",
       "      <td>0</td>\n",
       "      <td>NaN</td>\n",
       "      <td>12</td>\n",
       "      <td>NaN</td>\n",
       "      <td>118</td>\n",
       "      <td>00:03:00</td>\n",
       "    </tr>\n",
       "    <tr>\n",
       "      <th>61</th>\n",
       "      <td>136514</td>\n",
       "      <td>Anapa</td>\n",
       "      <td>Novokuznetsk</td>\n",
       "      <td>Boeing 737-300</td>\n",
       "      <td>4200</td>\n",
       "      <td>NaN</td>\n",
       "      <td>299</td>\n",
       "      <td>2017-02-07 06:10:00+00</td>\n",
       "      <td>0</td>\n",
       "      <td>NaN</td>\n",
       "      <td>12</td>\n",
       "      <td>NaN</td>\n",
       "      <td>118</td>\n",
       "      <td>00:04:00</td>\n",
       "    </tr>\n",
       "    <tr>\n",
       "      <th>62</th>\n",
       "      <td>136523</td>\n",
       "      <td>Anapa</td>\n",
       "      <td>Novokuznetsk</td>\n",
       "      <td>Boeing 737-300</td>\n",
       "      <td>4200</td>\n",
       "      <td>NaN</td>\n",
       "      <td>312</td>\n",
       "      <td>2017-01-10 06:10:00+00</td>\n",
       "      <td>0</td>\n",
       "      <td>NaN</td>\n",
       "      <td>12</td>\n",
       "      <td>NaN</td>\n",
       "      <td>118</td>\n",
       "      <td>00:04:00</td>\n",
       "    </tr>\n",
       "    <tr>\n",
       "      <th>63</th>\n",
       "      <td>136540</td>\n",
       "      <td>Anapa</td>\n",
       "      <td>Novokuznetsk</td>\n",
       "      <td>Boeing 737-300</td>\n",
       "      <td>4200</td>\n",
       "      <td>NaN</td>\n",
       "      <td>307</td>\n",
       "      <td>2017-01-17 06:10:00+00</td>\n",
       "      <td>0</td>\n",
       "      <td>NaN</td>\n",
       "      <td>12</td>\n",
       "      <td>NaN</td>\n",
       "      <td>118</td>\n",
       "      <td>00:04:00</td>\n",
       "    </tr>\n",
       "    <tr>\n",
       "      <th>64</th>\n",
       "      <td>136544</td>\n",
       "      <td>Anapa</td>\n",
       "      <td>Novokuznetsk</td>\n",
       "      <td>Boeing 737-300</td>\n",
       "      <td>4200</td>\n",
       "      <td>NaN</td>\n",
       "      <td>304</td>\n",
       "      <td>2017-01-31 06:10:00+00</td>\n",
       "      <td>0</td>\n",
       "      <td>NaN</td>\n",
       "      <td>12</td>\n",
       "      <td>NaN</td>\n",
       "      <td>118</td>\n",
       "      <td>00:00:00</td>\n",
       "    </tr>\n",
       "    <tr>\n",
       "      <th>65</th>\n",
       "      <td>136546</td>\n",
       "      <td>Anapa</td>\n",
       "      <td>Novokuznetsk</td>\n",
       "      <td>Boeing 737-300</td>\n",
       "      <td>4200</td>\n",
       "      <td>NaN</td>\n",
       "      <td>302</td>\n",
       "      <td>2017-01-03 06:10:00+00</td>\n",
       "      <td>0</td>\n",
       "      <td>NaN</td>\n",
       "      <td>12</td>\n",
       "      <td>NaN</td>\n",
       "      <td>118</td>\n",
       "      <td>00:03:00</td>\n",
       "    </tr>\n",
       "    <tr>\n",
       "      <th>66</th>\n",
       "      <td>136560</td>\n",
       "      <td>Anapa</td>\n",
       "      <td>Novokuznetsk</td>\n",
       "      <td>Boeing 737-300</td>\n",
       "      <td>4200</td>\n",
       "      <td>NaN</td>\n",
       "      <td>305</td>\n",
       "      <td>2017-01-24 06:10:00+00</td>\n",
       "      <td>0</td>\n",
       "      <td>NaN</td>\n",
       "      <td>12</td>\n",
       "      <td>NaN</td>\n",
       "      <td>118</td>\n",
       "      <td>00:03:00</td>\n",
       "    </tr>\n",
       "    <tr>\n",
       "      <th>67</th>\n",
       "      <td>136567</td>\n",
       "      <td>Anapa</td>\n",
       "      <td>Novokuznetsk</td>\n",
       "      <td>Boeing 737-300</td>\n",
       "      <td>4200</td>\n",
       "      <td>NaN</td>\n",
       "      <td>311</td>\n",
       "      <td>2017-02-14 06:10:00+00</td>\n",
       "      <td>0</td>\n",
       "      <td>NaN</td>\n",
       "      <td>12</td>\n",
       "      <td>NaN</td>\n",
       "      <td>118</td>\n",
       "      <td>00:02:00</td>\n",
       "    </tr>\n",
       "  </tbody>\n",
       "</table>\n",
       "</div>"
      ],
      "text/plain": [
       "    flight_id city_departure  city_arrival           model  range  \\\n",
       "59     136511          Anapa  Novokuznetsk  Boeing 737-300   4200   \n",
       "60     136513          Anapa  Novokuznetsk  Boeing 737-300   4200   \n",
       "61     136514          Anapa  Novokuznetsk  Boeing 737-300   4200   \n",
       "62     136523          Anapa  Novokuznetsk  Boeing 737-300   4200   \n",
       "63     136540          Anapa  Novokuznetsk  Boeing 737-300   4200   \n",
       "64     136544          Anapa  Novokuznetsk  Boeing 737-300   4200   \n",
       "65     136546          Anapa  Novokuznetsk  Boeing 737-300   4200   \n",
       "66     136560          Anapa  Novokuznetsk  Boeing 737-300   4200   \n",
       "67     136567          Anapa  Novokuznetsk  Boeing 737-300   4200   \n",
       "\n",
       "    total_cost_of_tickets  flight_duration_minutes     scheduled_departure  \\\n",
       "59                    NaN                      310  2017-02-21 06:10:00+00   \n",
       "60                    NaN                      310  2017-02-28 06:10:00+00   \n",
       "61                    NaN                      299  2017-02-07 06:10:00+00   \n",
       "62                    NaN                      312  2017-01-10 06:10:00+00   \n",
       "63                    NaN                      307  2017-01-17 06:10:00+00   \n",
       "64                    NaN                      304  2017-01-31 06:10:00+00   \n",
       "65                    NaN                      302  2017-01-03 06:10:00+00   \n",
       "66                    NaN                      305  2017-01-24 06:10:00+00   \n",
       "67                    NaN                      311  2017-02-14 06:10:00+00   \n",
       "\n",
       "    number_of_tickets  n_busines  common_n_b_class_seats  n_economy  \\\n",
       "59                  0        NaN                      12        NaN   \n",
       "60                  0        NaN                      12        NaN   \n",
       "61                  0        NaN                      12        NaN   \n",
       "62                  0        NaN                      12        NaN   \n",
       "63                  0        NaN                      12        NaN   \n",
       "64                  0        NaN                      12        NaN   \n",
       "65                  0        NaN                      12        NaN   \n",
       "66                  0        NaN                      12        NaN   \n",
       "67                  0        NaN                      12        NaN   \n",
       "\n",
       "    common_n_e_class_seats flight_delay  \n",
       "59                     118     00:05:00  \n",
       "60                     118     00:03:00  \n",
       "61                     118     00:04:00  \n",
       "62                     118     00:04:00  \n",
       "63                     118     00:04:00  \n",
       "64                     118     00:00:00  \n",
       "65                     118     00:03:00  \n",
       "66                     118     00:03:00  \n",
       "67                     118     00:02:00  "
      ]
     },
     "execution_count": 75,
     "metadata": {},
     "output_type": "execute_result"
    }
   ],
   "source": [
    "data[data.total_cost_of_tickets.isna() == True]"
   ]
  },
  {
   "cell_type": "markdown",
   "metadata": {},
   "source": [
    "Все пропущенные значения для города Новокузнецк."
   ]
  },
  {
   "cell_type": "markdown",
   "metadata": {},
   "source": [
    "Есть-ли вообще данные по ценам за билеты для Новокузнецка?"
   ]
  },
  {
   "cell_type": "code",
   "execution_count": 76,
   "metadata": {},
   "outputs": [
    {
     "data": {
      "text/plain": [
       "9"
      ]
     },
     "metadata": {},
     "output_type": "display_data"
    },
    {
     "data": {
      "text/html": [
       "<div>\n",
       "<style scoped>\n",
       "    .dataframe tbody tr th:only-of-type {\n",
       "        vertical-align: middle;\n",
       "    }\n",
       "\n",
       "    .dataframe tbody tr th {\n",
       "        vertical-align: top;\n",
       "    }\n",
       "\n",
       "    .dataframe thead th {\n",
       "        text-align: right;\n",
       "    }\n",
       "</style>\n",
       "<table border=\"1\" class=\"dataframe\">\n",
       "  <thead>\n",
       "    <tr style=\"text-align: right;\">\n",
       "      <th></th>\n",
       "      <th>flight_id</th>\n",
       "      <th>city_departure</th>\n",
       "      <th>city_arrival</th>\n",
       "      <th>model</th>\n",
       "      <th>range</th>\n",
       "      <th>total_cost_of_tickets</th>\n",
       "      <th>flight_duration_minutes</th>\n",
       "      <th>scheduled_departure</th>\n",
       "      <th>number_of_tickets</th>\n",
       "      <th>n_busines</th>\n",
       "      <th>common_n_b_class_seats</th>\n",
       "      <th>n_economy</th>\n",
       "      <th>common_n_e_class_seats</th>\n",
       "      <th>flight_delay</th>\n",
       "    </tr>\n",
       "  </thead>\n",
       "  <tbody>\n",
       "    <tr>\n",
       "      <th>59</th>\n",
       "      <td>136511</td>\n",
       "      <td>Anapa</td>\n",
       "      <td>Novokuznetsk</td>\n",
       "      <td>Boeing 737-300</td>\n",
       "      <td>4200</td>\n",
       "      <td>NaN</td>\n",
       "      <td>310</td>\n",
       "      <td>2017-02-21 06:10:00+00</td>\n",
       "      <td>0</td>\n",
       "      <td>NaN</td>\n",
       "      <td>12</td>\n",
       "      <td>NaN</td>\n",
       "      <td>118</td>\n",
       "      <td>00:05:00</td>\n",
       "    </tr>\n",
       "    <tr>\n",
       "      <th>60</th>\n",
       "      <td>136513</td>\n",
       "      <td>Anapa</td>\n",
       "      <td>Novokuznetsk</td>\n",
       "      <td>Boeing 737-300</td>\n",
       "      <td>4200</td>\n",
       "      <td>NaN</td>\n",
       "      <td>310</td>\n",
       "      <td>2017-02-28 06:10:00+00</td>\n",
       "      <td>0</td>\n",
       "      <td>NaN</td>\n",
       "      <td>12</td>\n",
       "      <td>NaN</td>\n",
       "      <td>118</td>\n",
       "      <td>00:03:00</td>\n",
       "    </tr>\n",
       "    <tr>\n",
       "      <th>61</th>\n",
       "      <td>136514</td>\n",
       "      <td>Anapa</td>\n",
       "      <td>Novokuznetsk</td>\n",
       "      <td>Boeing 737-300</td>\n",
       "      <td>4200</td>\n",
       "      <td>NaN</td>\n",
       "      <td>299</td>\n",
       "      <td>2017-02-07 06:10:00+00</td>\n",
       "      <td>0</td>\n",
       "      <td>NaN</td>\n",
       "      <td>12</td>\n",
       "      <td>NaN</td>\n",
       "      <td>118</td>\n",
       "      <td>00:04:00</td>\n",
       "    </tr>\n",
       "    <tr>\n",
       "      <th>62</th>\n",
       "      <td>136523</td>\n",
       "      <td>Anapa</td>\n",
       "      <td>Novokuznetsk</td>\n",
       "      <td>Boeing 737-300</td>\n",
       "      <td>4200</td>\n",
       "      <td>NaN</td>\n",
       "      <td>312</td>\n",
       "      <td>2017-01-10 06:10:00+00</td>\n",
       "      <td>0</td>\n",
       "      <td>NaN</td>\n",
       "      <td>12</td>\n",
       "      <td>NaN</td>\n",
       "      <td>118</td>\n",
       "      <td>00:04:00</td>\n",
       "    </tr>\n",
       "    <tr>\n",
       "      <th>63</th>\n",
       "      <td>136540</td>\n",
       "      <td>Anapa</td>\n",
       "      <td>Novokuznetsk</td>\n",
       "      <td>Boeing 737-300</td>\n",
       "      <td>4200</td>\n",
       "      <td>NaN</td>\n",
       "      <td>307</td>\n",
       "      <td>2017-01-17 06:10:00+00</td>\n",
       "      <td>0</td>\n",
       "      <td>NaN</td>\n",
       "      <td>12</td>\n",
       "      <td>NaN</td>\n",
       "      <td>118</td>\n",
       "      <td>00:04:00</td>\n",
       "    </tr>\n",
       "    <tr>\n",
       "      <th>64</th>\n",
       "      <td>136544</td>\n",
       "      <td>Anapa</td>\n",
       "      <td>Novokuznetsk</td>\n",
       "      <td>Boeing 737-300</td>\n",
       "      <td>4200</td>\n",
       "      <td>NaN</td>\n",
       "      <td>304</td>\n",
       "      <td>2017-01-31 06:10:00+00</td>\n",
       "      <td>0</td>\n",
       "      <td>NaN</td>\n",
       "      <td>12</td>\n",
       "      <td>NaN</td>\n",
       "      <td>118</td>\n",
       "      <td>00:00:00</td>\n",
       "    </tr>\n",
       "    <tr>\n",
       "      <th>65</th>\n",
       "      <td>136546</td>\n",
       "      <td>Anapa</td>\n",
       "      <td>Novokuznetsk</td>\n",
       "      <td>Boeing 737-300</td>\n",
       "      <td>4200</td>\n",
       "      <td>NaN</td>\n",
       "      <td>302</td>\n",
       "      <td>2017-01-03 06:10:00+00</td>\n",
       "      <td>0</td>\n",
       "      <td>NaN</td>\n",
       "      <td>12</td>\n",
       "      <td>NaN</td>\n",
       "      <td>118</td>\n",
       "      <td>00:03:00</td>\n",
       "    </tr>\n",
       "    <tr>\n",
       "      <th>66</th>\n",
       "      <td>136560</td>\n",
       "      <td>Anapa</td>\n",
       "      <td>Novokuznetsk</td>\n",
       "      <td>Boeing 737-300</td>\n",
       "      <td>4200</td>\n",
       "      <td>NaN</td>\n",
       "      <td>305</td>\n",
       "      <td>2017-01-24 06:10:00+00</td>\n",
       "      <td>0</td>\n",
       "      <td>NaN</td>\n",
       "      <td>12</td>\n",
       "      <td>NaN</td>\n",
       "      <td>118</td>\n",
       "      <td>00:03:00</td>\n",
       "    </tr>\n",
       "    <tr>\n",
       "      <th>67</th>\n",
       "      <td>136567</td>\n",
       "      <td>Anapa</td>\n",
       "      <td>Novokuznetsk</td>\n",
       "      <td>Boeing 737-300</td>\n",
       "      <td>4200</td>\n",
       "      <td>NaN</td>\n",
       "      <td>311</td>\n",
       "      <td>2017-02-14 06:10:00+00</td>\n",
       "      <td>0</td>\n",
       "      <td>NaN</td>\n",
       "      <td>12</td>\n",
       "      <td>NaN</td>\n",
       "      <td>118</td>\n",
       "      <td>00:02:00</td>\n",
       "    </tr>\n",
       "  </tbody>\n",
       "</table>\n",
       "</div>"
      ],
      "text/plain": [
       "    flight_id city_departure  city_arrival           model  range  \\\n",
       "59     136511          Anapa  Novokuznetsk  Boeing 737-300   4200   \n",
       "60     136513          Anapa  Novokuznetsk  Boeing 737-300   4200   \n",
       "61     136514          Anapa  Novokuznetsk  Boeing 737-300   4200   \n",
       "62     136523          Anapa  Novokuznetsk  Boeing 737-300   4200   \n",
       "63     136540          Anapa  Novokuznetsk  Boeing 737-300   4200   \n",
       "64     136544          Anapa  Novokuznetsk  Boeing 737-300   4200   \n",
       "65     136546          Anapa  Novokuznetsk  Boeing 737-300   4200   \n",
       "66     136560          Anapa  Novokuznetsk  Boeing 737-300   4200   \n",
       "67     136567          Anapa  Novokuznetsk  Boeing 737-300   4200   \n",
       "\n",
       "    total_cost_of_tickets  flight_duration_minutes     scheduled_departure  \\\n",
       "59                    NaN                      310  2017-02-21 06:10:00+00   \n",
       "60                    NaN                      310  2017-02-28 06:10:00+00   \n",
       "61                    NaN                      299  2017-02-07 06:10:00+00   \n",
       "62                    NaN                      312  2017-01-10 06:10:00+00   \n",
       "63                    NaN                      307  2017-01-17 06:10:00+00   \n",
       "64                    NaN                      304  2017-01-31 06:10:00+00   \n",
       "65                    NaN                      302  2017-01-03 06:10:00+00   \n",
       "66                    NaN                      305  2017-01-24 06:10:00+00   \n",
       "67                    NaN                      311  2017-02-14 06:10:00+00   \n",
       "\n",
       "    number_of_tickets  n_busines  common_n_b_class_seats  n_economy  \\\n",
       "59                  0        NaN                      12        NaN   \n",
       "60                  0        NaN                      12        NaN   \n",
       "61                  0        NaN                      12        NaN   \n",
       "62                  0        NaN                      12        NaN   \n",
       "63                  0        NaN                      12        NaN   \n",
       "64                  0        NaN                      12        NaN   \n",
       "65                  0        NaN                      12        NaN   \n",
       "66                  0        NaN                      12        NaN   \n",
       "67                  0        NaN                      12        NaN   \n",
       "\n",
       "    common_n_e_class_seats flight_delay  \n",
       "59                     118     00:05:00  \n",
       "60                     118     00:03:00  \n",
       "61                     118     00:04:00  \n",
       "62                     118     00:04:00  \n",
       "63                     118     00:04:00  \n",
       "64                     118     00:00:00  \n",
       "65                     118     00:03:00  \n",
       "66                     118     00:03:00  \n",
       "67                     118     00:02:00  "
      ]
     },
     "execution_count": 76,
     "metadata": {},
     "output_type": "execute_result"
    }
   ],
   "source": [
    "display(len(data[data['city_arrival'] == 'Novokuznetsk']))\n",
    "data[data['city_arrival'] == 'Novokuznetsk']"
   ]
  },
  {
   "cell_type": "markdown",
   "metadata": {},
   "source": [
    "Для всех девяти рейсов на Новокузнецк нет данных об общей стоимости проданных билетов.  \n",
    "\n",
    "Следует исключить из анализа эти данные. Очень жаль, нет возможности оценить целое направление."
   ]
  },
  {
   "cell_type": "code",
   "execution_count": 77,
   "metadata": {},
   "outputs": [],
   "source": [
    "data.dropna(inplace=True)"
   ]
  },
  {
   "cell_type": "code",
   "execution_count": 78,
   "metadata": {},
   "outputs": [
    {
     "name": "stdout",
     "output_type": "stream",
     "text": [
      "<class 'pandas.core.frame.DataFrame'>\n",
      "Int64Index: 118 entries, 0 to 126\n",
      "Data columns (total 14 columns):\n",
      " #   Column                   Non-Null Count  Dtype  \n",
      "---  ------                   --------------  -----  \n",
      " 0   flight_id                118 non-null    int64  \n",
      " 1   city_departure           118 non-null    object \n",
      " 2   city_arrival             118 non-null    object \n",
      " 3   model                    118 non-null    object \n",
      " 4   range                    118 non-null    int64  \n",
      " 5   total_cost_of_tickets    118 non-null    float64\n",
      " 6   flight_duration_minutes  118 non-null    int64  \n",
      " 7   scheduled_departure      118 non-null    object \n",
      " 8   number_of_tickets        118 non-null    int64  \n",
      " 9   n_busines                118 non-null    float64\n",
      " 10  common_n_b_class_seats   118 non-null    int64  \n",
      " 11  n_economy                118 non-null    float64\n",
      " 12  common_n_e_class_seats   118 non-null    int64  \n",
      " 13  flight_delay             118 non-null    object \n",
      "dtypes: float64(3), int64(6), object(5)\n",
      "memory usage: 13.8+ KB\n"
     ]
    }
   ],
   "source": [
    "data.info()"
   ]
  },
  {
   "cell_type": "markdown",
   "metadata": {},
   "source": [
    "Пропуски удалены.\n",
    "\n",
    "Колонки `scheduled_departure` и `flight_delay` имеют строковый формат переведём их в дату и время соответственно."
   ]
  },
  {
   "cell_type": "code",
   "execution_count": 79,
   "metadata": {},
   "outputs": [],
   "source": [
    "data['scheduled_departure'] = pd.to_datetime(data['scheduled_departure'])\n",
    "data['flight_delay'] = pd.to_timedelta(data['flight_delay'])"
   ]
  },
  {
   "cell_type": "markdown",
   "metadata": {},
   "source": [
    "### flight_id\n",
    "Идентификационный номер рейса. Всего, за зиму 2017 совершено 127 рейсов из Анапы, из них 9 в Новокузнецк, по которым нет данных о стоимости проданных билетов. Все дальнейшие исследования будут проводиться с оставшимися 118 рейсами."
   ]
  },
  {
   "cell_type": "markdown",
   "metadata": {},
   "source": []
  },
  {
   "cell_type": "markdown",
   "metadata": {},
   "source": [
    "### city_departure\n",
    "Город вылета по условиям задачи один - Анапа.  \n",
    "\n",
    "### city_arrival\n",
    "Город прилёта. Направление."
   ]
  },
  {
   "cell_type": "code",
   "execution_count": 80,
   "metadata": {},
   "outputs": [
    {
     "data": {
      "text/plain": [
       "array(['Moscow', 'Belgorod'], dtype=object)"
      ]
     },
     "execution_count": 80,
     "metadata": {},
     "output_type": "execute_result"
    }
   ],
   "source": [
    "data.city_arrival.unique()"
   ]
  },
  {
   "cell_type": "markdown",
   "metadata": {},
   "source": [
    "Итак, у нас имеется два направления, __Москва__ и __Белгород__."
   ]
  },
  {
   "cell_type": "markdown",
   "metadata": {},
   "source": [
    "## model\n",
    "Модель самолёта."
   ]
  },
  {
   "cell_type": "code",
   "execution_count": 81,
   "metadata": {},
   "outputs": [
    {
     "data": {
      "text/plain": [
       "array(['Boeing 737-300', 'Sukhoi Superjet-100'], dtype=object)"
      ]
     },
     "execution_count": 81,
     "metadata": {},
     "output_type": "execute_result"
    }
   ],
   "source": [
    "data.model.unique()"
   ]
  },
  {
   "cell_type": "markdown",
   "metadata": {},
   "source": [
    "На указанных направлениях используются две модели самолётов: __Boeing 737-300__ и __Sukhoi Superjet-100__. "
   ]
  },
  {
   "cell_type": "markdown",
   "metadata": {},
   "source": [
    "Посмотрим, как связаны между собой модель самолёта и направление."
   ]
  },
  {
   "cell_type": "code",
   "execution_count": 82,
   "metadata": {},
   "outputs": [
    {
     "data": {
      "text/plain": [
       "array(['Boeing 737-300'], dtype=object)"
      ]
     },
     "execution_count": 82,
     "metadata": {},
     "output_type": "execute_result"
    }
   ],
   "source": [
    "data[data.city_arrival == 'Moscow'].model.unique()"
   ]
  },
  {
   "cell_type": "markdown",
   "metadata": {},
   "source": [
    "В Москву из Анапы зимой летают только Боинги."
   ]
  },
  {
   "cell_type": "code",
   "execution_count": 83,
   "metadata": {},
   "outputs": [
    {
     "data": {
      "text/plain": [
       "array(['Sukhoi Superjet-100'], dtype=object)"
      ]
     },
     "execution_count": 83,
     "metadata": {},
     "output_type": "execute_result"
    }
   ],
   "source": [
    "data[data.city_arrival == 'Belgorod'].model.unique()"
   ]
  },
  {
   "cell_type": "markdown",
   "metadata": {},
   "source": [
    "А в Белгород только самолёты Сухого.  \n",
    "М.б. Сухой не может долететь до Москвы? Не хватает дальности полёта.  \n",
    "Проверим."
   ]
  },
  {
   "cell_type": "markdown",
   "metadata": {},
   "source": [
    "### range\n",
    "Максимальная дальность полёта."
   ]
  },
  {
   "cell_type": "code",
   "execution_count": 84,
   "metadata": {},
   "outputs": [
    {
     "name": "stdout",
     "output_type": "stream",
     "text": [
      "Максимальная дальность полёта для Boeing 737-300 составляет 4200 км.\n",
      "Максимальная дальность полёта для Sukhoi Superjet-100 составляет 3000 км.\n"
     ]
    }
   ],
   "source": [
    "Sukhoi = data[data.model == 'Sukhoi Superjet-100'].range.unique()\n",
    "Boeing = data[data.model == 'Boeing 737-300'].range.unique()\n",
    "print(\n",
    "    f'Максимальная дальность полёта для Boeing 737-300 составляет {Boeing[0]} км.')\n",
    "print(\n",
    "    f'Максимальная дальность полёта для Sukhoi Superjet-100 составляет {Sukhoi[0]} км.')"
   ]
  },
  {
   "cell_type": "markdown",
   "metadata": {},
   "source": [
    "Расстояние от аэропорта Анапы до аэропорта Шереметьево по-прямой 1220 км., в обход Украины 1360 км.   \n",
    "Запаса дальности полёта Сухого хватило-бы слетать до Москвы и обратно, гипотеза о нехватки дальности оплёта отвергается.  \n",
    "Расстояние от Анапы до Белгорода в обход Украины 960 км, по прямой 630."
   ]
  },
  {
   "cell_type": "markdown",
   "metadata": {},
   "source": [
    "### total_cost_of_tickets\n",
    "Полная стоимость проданных билелетов на рейсе.\n",
    "### flight_duration_minutes\n",
    "Длительность полёта в минутах.\n",
    "\n",
    "Из этиз двух колонок вычислим прибыль `revenue` введя дополнительные данные."
   ]
  },
  {
   "cell_type": "code",
   "execution_count": 85,
   "metadata": {},
   "outputs": [],
   "source": [
    "def month_to_price(month):\n",
    "    '''take month, return fuel price'''\n",
    "    if month == 1:\n",
    "        return 35.59  # price rub/kg\n",
    "\n",
    "    elif month == 2:\n",
    "        return 33.39  # price rub/kg\n",
    "\n",
    "\n",
    "def consumption(model):\n",
    "    '''take aircraft model, return fuel consumption'''\n",
    "    if model == 'Sukhoi Superjet-100':\n",
    "        return 28.333333333333332  # fuel consumption l/m\n",
    "\n",
    "    elif model == 'Boeing 737-300':\n",
    "        return 43.333333333333336  # fuel consumption l/m"
   ]
  },
  {
   "cell_type": "code",
   "execution_count": 86,
   "metadata": {},
   "outputs": [],
   "source": [
    "data['fuel_price'] = data.scheduled_departure.dt.month.apply(\n",
    "    month_to_price)  # cost of one liter of fuel\n",
    "data['fuel_consumption'] = data.model.apply(\n",
    "    consumption)  # fuel consumption, liter/minute\n",
    "data['fuel_costs'] = data.flight_duration_minutes * data.fuel_consumption * \\\n",
    "    data.fuel_price  # the price of the spent fuel in rubles\n",
    "data['revenue'] = data.total_cost_of_tickets - data.fuel_costs"
   ]
  },
  {
   "cell_type": "code",
   "execution_count": 87,
   "metadata": {},
   "outputs": [
    {
     "data": {
      "text/html": [
       "<div>\n",
       "<style scoped>\n",
       "    .dataframe tbody tr th:only-of-type {\n",
       "        vertical-align: middle;\n",
       "    }\n",
       "\n",
       "    .dataframe tbody tr th {\n",
       "        vertical-align: top;\n",
       "    }\n",
       "\n",
       "    .dataframe thead th {\n",
       "        text-align: right;\n",
       "    }\n",
       "</style>\n",
       "<table border=\"1\" class=\"dataframe\">\n",
       "  <thead>\n",
       "    <tr style=\"text-align: right;\">\n",
       "      <th></th>\n",
       "      <th>flight_id</th>\n",
       "      <th>city_departure</th>\n",
       "      <th>city_arrival</th>\n",
       "      <th>model</th>\n",
       "      <th>range</th>\n",
       "      <th>total_cost_of_tickets</th>\n",
       "      <th>flight_duration_minutes</th>\n",
       "      <th>scheduled_departure</th>\n",
       "      <th>number_of_tickets</th>\n",
       "      <th>n_busines</th>\n",
       "      <th>common_n_b_class_seats</th>\n",
       "      <th>n_economy</th>\n",
       "      <th>common_n_e_class_seats</th>\n",
       "      <th>flight_delay</th>\n",
       "      <th>fuel_price</th>\n",
       "      <th>fuel_consumption</th>\n",
       "      <th>fuel_costs</th>\n",
       "      <th>revenue</th>\n",
       "    </tr>\n",
       "  </thead>\n",
       "  <tbody>\n",
       "    <tr>\n",
       "      <th>0</th>\n",
       "      <td>136119</td>\n",
       "      <td>Anapa</td>\n",
       "      <td>Moscow</td>\n",
       "      <td>Boeing 737-300</td>\n",
       "      <td>4200</td>\n",
       "      <td>1653000.0</td>\n",
       "      <td>101</td>\n",
       "      <td>2017-01-03 10:05:00+00:00</td>\n",
       "      <td>113</td>\n",
       "      <td>11.0</td>\n",
       "      <td>12</td>\n",
       "      <td>102.0</td>\n",
       "      <td>118</td>\n",
       "      <td>00:03:00</td>\n",
       "      <td>35.59</td>\n",
       "      <td>43.333333</td>\n",
       "      <td>155765.566667</td>\n",
       "      <td>1.497234e+06</td>\n",
       "    </tr>\n",
       "    <tr>\n",
       "      <th>1</th>\n",
       "      <td>136120</td>\n",
       "      <td>Anapa</td>\n",
       "      <td>Moscow</td>\n",
       "      <td>Boeing 737-300</td>\n",
       "      <td>4200</td>\n",
       "      <td>1605400.0</td>\n",
       "      <td>99</td>\n",
       "      <td>2017-02-24 10:05:00+00:00</td>\n",
       "      <td>109</td>\n",
       "      <td>11.0</td>\n",
       "      <td>12</td>\n",
       "      <td>98.0</td>\n",
       "      <td>118</td>\n",
       "      <td>00:02:00</td>\n",
       "      <td>33.39</td>\n",
       "      <td>43.333333</td>\n",
       "      <td>143243.100000</td>\n",
       "      <td>1.462157e+06</td>\n",
       "    </tr>\n",
       "    <tr>\n",
       "      <th>2</th>\n",
       "      <td>136122</td>\n",
       "      <td>Anapa</td>\n",
       "      <td>Moscow</td>\n",
       "      <td>Boeing 737-300</td>\n",
       "      <td>4200</td>\n",
       "      <td>1431000.0</td>\n",
       "      <td>100</td>\n",
       "      <td>2017-01-08 10:05:00+00:00</td>\n",
       "      <td>97</td>\n",
       "      <td>10.0</td>\n",
       "      <td>12</td>\n",
       "      <td>87.0</td>\n",
       "      <td>118</td>\n",
       "      <td>00:03:00</td>\n",
       "      <td>35.59</td>\n",
       "      <td>43.333333</td>\n",
       "      <td>154223.333333</td>\n",
       "      <td>1.276777e+06</td>\n",
       "    </tr>\n",
       "    <tr>\n",
       "      <th>3</th>\n",
       "      <td>136130</td>\n",
       "      <td>Anapa</td>\n",
       "      <td>Moscow</td>\n",
       "      <td>Boeing 737-300</td>\n",
       "      <td>4200</td>\n",
       "      <td>1556600.0</td>\n",
       "      <td>99</td>\n",
       "      <td>2017-02-13 10:05:00+00:00</td>\n",
       "      <td>107</td>\n",
       "      <td>10.0</td>\n",
       "      <td>12</td>\n",
       "      <td>97.0</td>\n",
       "      <td>118</td>\n",
       "      <td>00:02:00</td>\n",
       "      <td>33.39</td>\n",
       "      <td>43.333333</td>\n",
       "      <td>143243.100000</td>\n",
       "      <td>1.413357e+06</td>\n",
       "    </tr>\n",
       "    <tr>\n",
       "      <th>4</th>\n",
       "      <td>136131</td>\n",
       "      <td>Anapa</td>\n",
       "      <td>Moscow</td>\n",
       "      <td>Boeing 737-300</td>\n",
       "      <td>4200</td>\n",
       "      <td>1812800.0</td>\n",
       "      <td>99</td>\n",
       "      <td>2017-01-28 10:05:00+00:00</td>\n",
       "      <td>124</td>\n",
       "      <td>12.0</td>\n",
       "      <td>12</td>\n",
       "      <td>112.0</td>\n",
       "      <td>118</td>\n",
       "      <td>00:02:00</td>\n",
       "      <td>35.59</td>\n",
       "      <td>43.333333</td>\n",
       "      <td>152681.100000</td>\n",
       "      <td>1.660119e+06</td>\n",
       "    </tr>\n",
       "  </tbody>\n",
       "</table>\n",
       "</div>"
      ],
      "text/plain": [
       "   flight_id city_departure city_arrival           model  range  \\\n",
       "0     136119          Anapa       Moscow  Boeing 737-300   4200   \n",
       "1     136120          Anapa       Moscow  Boeing 737-300   4200   \n",
       "2     136122          Anapa       Moscow  Boeing 737-300   4200   \n",
       "3     136130          Anapa       Moscow  Boeing 737-300   4200   \n",
       "4     136131          Anapa       Moscow  Boeing 737-300   4200   \n",
       "\n",
       "   total_cost_of_tickets  flight_duration_minutes       scheduled_departure  \\\n",
       "0              1653000.0                      101 2017-01-03 10:05:00+00:00   \n",
       "1              1605400.0                       99 2017-02-24 10:05:00+00:00   \n",
       "2              1431000.0                      100 2017-01-08 10:05:00+00:00   \n",
       "3              1556600.0                       99 2017-02-13 10:05:00+00:00   \n",
       "4              1812800.0                       99 2017-01-28 10:05:00+00:00   \n",
       "\n",
       "   number_of_tickets  n_busines  common_n_b_class_seats  n_economy  \\\n",
       "0                113       11.0                      12      102.0   \n",
       "1                109       11.0                      12       98.0   \n",
       "2                 97       10.0                      12       87.0   \n",
       "3                107       10.0                      12       97.0   \n",
       "4                124       12.0                      12      112.0   \n",
       "\n",
       "   common_n_e_class_seats flight_delay  fuel_price  fuel_consumption  \\\n",
       "0                     118     00:03:00       35.59         43.333333   \n",
       "1                     118     00:02:00       33.39         43.333333   \n",
       "2                     118     00:03:00       35.59         43.333333   \n",
       "3                     118     00:02:00       33.39         43.333333   \n",
       "4                     118     00:02:00       35.59         43.333333   \n",
       "\n",
       "      fuel_costs       revenue  \n",
       "0  155765.566667  1.497234e+06  \n",
       "1  143243.100000  1.462157e+06  \n",
       "2  154223.333333  1.276777e+06  \n",
       "3  143243.100000  1.413357e+06  \n",
       "4  152681.100000  1.660119e+06  "
      ]
     },
     "execution_count": 87,
     "metadata": {},
     "output_type": "execute_result"
    }
   ],
   "source": [
    "data.head()"
   ]
  },
  {
   "cell_type": "markdown",
   "metadata": {},
   "source": [
    "Данные о ценах на топливо взяты с [сайта поставщика топлива](http://www.bato.aero/) аэропорта города Анапа.  \n",
    "Цена топлива в январе 35.59 тысячи рублей за тонну или рублей за кг и 33.39 тысячи рублей за тонну или рублей за кг в феврале.  \n",
    " \n",
    "Потребление топлива 2600 кг/час для Boeing 737-300 взято [отсюда](https://www.airlines-inform.ru/commercial-aircraft/boeing-737-300.html).  \n",
    "Расход топлива л/мин таким образом составил 43.333333333333336.  \n",
    "\n",
    "Потребление топлива 1700 кг/час для Sukhoi Superjet-100 взято [отсюда](http://superjet.wikidot.com/wiki:rashod-topliva).   Расход топлива л/мин таким образом составил 28.333333333333332.\n",
    "\n",
    "Стоимость потраченного топлива расчитана как произведение длительности полёта в минутах на расход топлива в л/мин, на цену за литр топлива.   \n",
    "Прибыль расчитана как стоимость проданных билетов за вычетом цены потраченного топлива. "
   ]
  },
  {
   "cell_type": "code",
   "execution_count": 88,
   "metadata": {},
   "outputs": [
    {
     "data": {
      "text/plain": [
       "0"
      ]
     },
     "execution_count": 88,
     "metadata": {},
     "output_type": "execute_result"
    }
   ],
   "source": [
    "len(data[data['revenue'] < 0]) # number of unprofitable flights  "
   ]
  },
  {
   "cell_type": "markdown",
   "metadata": {},
   "source": [
    "Получается что при текущем расчёте прибыли в датасете нет откровенно убыточных рейсов.  \n",
    "Однако на [указанном сайте](http://www.bato.aero/), есть информация о тарифах на услуги для клиентов аэропортов, из которой следует, что помимо цены за топливо, с клиемтов взымается плата за заправку воздушного судна и за хранение топлива.  \n",
    "\n",
    "Тариф за обеспечение заправки воздушного судна авиационным топливом (Анапа) Руб./т 1752,00.  \n",
    "Тариф за хранение авиационного топлива (Анапа) Руб./т 1913,00.\n",
    "\n",
    "Думаю стоит учесть эти данные при расчёте затрат для более точного определения прибыли.  \n",
    "Однако тут есть один нюанс. В бак самолёта заправляется топлива больше, чем он тратит за полёт. Значит мы не можем учесть полную цену по этим дополнительным тарифам. За неимением другой информации оставим этот момент как есть, предположив, что непотраченное топливо сохраняется для следующего рейса, и за его заправку и хранение не приходится платить дважды.   \n",
    "\n",
    "Следует перерасчитать колонку `fuel_costs` следующим образом, как сумму:  \n",
    "* цена затраченного топлива = затраченное топливо (произведение длительности полёта (минуты) и расхода топлива (литры/мин)) умножить на цену за литр;\n",
    "* затраченное топливо в килограммах перевести в тонны, затем умножить на тариф за обеспечение заправки воздушного судна авиационным топливом;\n",
    "* затраченное топливо в килограммах перевести в тонны, затем умножить на тариф за хранение авиационного топлива.\n",
    "\n"
   ]
  },
  {
   "cell_type": "code",
   "execution_count": 89,
   "metadata": {},
   "outputs": [],
   "source": [
    "# the price of the spent fuel in rubles\n",
    "data['fuel_costs'] = (data.flight_duration_minutes *\n",
    "                      data.fuel_consumption * data.fuel_price) + \\\n",
    "                     (data.flight_duration_minutes * \n",
    "                      data.fuel_consumption * 1752 / 1000) +\\\n",
    "                     (data.flight_duration_minutes * \n",
    "                      data.fuel_consumption * 1913 / 1000)\n",
    "data['revenue'] = data.total_cost_of_tickets - data.fuel_costs"
   ]
  },
  {
   "cell_type": "code",
   "execution_count": 90,
   "metadata": {},
   "outputs": [
    {
     "data": {
      "text/html": [
       "<div>\n",
       "<style scoped>\n",
       "    .dataframe tbody tr th:only-of-type {\n",
       "        vertical-align: middle;\n",
       "    }\n",
       "\n",
       "    .dataframe tbody tr th {\n",
       "        vertical-align: top;\n",
       "    }\n",
       "\n",
       "    .dataframe thead th {\n",
       "        text-align: right;\n",
       "    }\n",
       "</style>\n",
       "<table border=\"1\" class=\"dataframe\">\n",
       "  <thead>\n",
       "    <tr style=\"text-align: right;\">\n",
       "      <th></th>\n",
       "      <th>flight_id</th>\n",
       "      <th>city_departure</th>\n",
       "      <th>city_arrival</th>\n",
       "      <th>model</th>\n",
       "      <th>range</th>\n",
       "      <th>total_cost_of_tickets</th>\n",
       "      <th>flight_duration_minutes</th>\n",
       "      <th>scheduled_departure</th>\n",
       "      <th>number_of_tickets</th>\n",
       "      <th>n_busines</th>\n",
       "      <th>common_n_b_class_seats</th>\n",
       "      <th>n_economy</th>\n",
       "      <th>common_n_e_class_seats</th>\n",
       "      <th>flight_delay</th>\n",
       "      <th>fuel_price</th>\n",
       "      <th>fuel_consumption</th>\n",
       "      <th>fuel_costs</th>\n",
       "      <th>revenue</th>\n",
       "    </tr>\n",
       "  </thead>\n",
       "  <tbody>\n",
       "    <tr>\n",
       "      <th>0</th>\n",
       "      <td>136119</td>\n",
       "      <td>Anapa</td>\n",
       "      <td>Moscow</td>\n",
       "      <td>Boeing 737-300</td>\n",
       "      <td>4200</td>\n",
       "      <td>1653000.0</td>\n",
       "      <td>101</td>\n",
       "      <td>2017-01-03 10:05:00+00:00</td>\n",
       "      <td>113</td>\n",
       "      <td>11.0</td>\n",
       "      <td>12</td>\n",
       "      <td>102.0</td>\n",
       "      <td>118</td>\n",
       "      <td>00:03:00</td>\n",
       "      <td>35.59</td>\n",
       "      <td>43.333333</td>\n",
       "      <td>171806.05</td>\n",
       "      <td>1481193.95</td>\n",
       "    </tr>\n",
       "    <tr>\n",
       "      <th>1</th>\n",
       "      <td>136120</td>\n",
       "      <td>Anapa</td>\n",
       "      <td>Moscow</td>\n",
       "      <td>Boeing 737-300</td>\n",
       "      <td>4200</td>\n",
       "      <td>1605400.0</td>\n",
       "      <td>99</td>\n",
       "      <td>2017-02-24 10:05:00+00:00</td>\n",
       "      <td>109</td>\n",
       "      <td>11.0</td>\n",
       "      <td>12</td>\n",
       "      <td>98.0</td>\n",
       "      <td>118</td>\n",
       "      <td>00:02:00</td>\n",
       "      <td>33.39</td>\n",
       "      <td>43.333333</td>\n",
       "      <td>158965.95</td>\n",
       "      <td>1446434.05</td>\n",
       "    </tr>\n",
       "    <tr>\n",
       "      <th>2</th>\n",
       "      <td>136122</td>\n",
       "      <td>Anapa</td>\n",
       "      <td>Moscow</td>\n",
       "      <td>Boeing 737-300</td>\n",
       "      <td>4200</td>\n",
       "      <td>1431000.0</td>\n",
       "      <td>100</td>\n",
       "      <td>2017-01-08 10:05:00+00:00</td>\n",
       "      <td>97</td>\n",
       "      <td>10.0</td>\n",
       "      <td>12</td>\n",
       "      <td>87.0</td>\n",
       "      <td>118</td>\n",
       "      <td>00:03:00</td>\n",
       "      <td>35.59</td>\n",
       "      <td>43.333333</td>\n",
       "      <td>170105.00</td>\n",
       "      <td>1260895.00</td>\n",
       "    </tr>\n",
       "    <tr>\n",
       "      <th>3</th>\n",
       "      <td>136130</td>\n",
       "      <td>Anapa</td>\n",
       "      <td>Moscow</td>\n",
       "      <td>Boeing 737-300</td>\n",
       "      <td>4200</td>\n",
       "      <td>1556600.0</td>\n",
       "      <td>99</td>\n",
       "      <td>2017-02-13 10:05:00+00:00</td>\n",
       "      <td>107</td>\n",
       "      <td>10.0</td>\n",
       "      <td>12</td>\n",
       "      <td>97.0</td>\n",
       "      <td>118</td>\n",
       "      <td>00:02:00</td>\n",
       "      <td>33.39</td>\n",
       "      <td>43.333333</td>\n",
       "      <td>158965.95</td>\n",
       "      <td>1397634.05</td>\n",
       "    </tr>\n",
       "    <tr>\n",
       "      <th>4</th>\n",
       "      <td>136131</td>\n",
       "      <td>Anapa</td>\n",
       "      <td>Moscow</td>\n",
       "      <td>Boeing 737-300</td>\n",
       "      <td>4200</td>\n",
       "      <td>1812800.0</td>\n",
       "      <td>99</td>\n",
       "      <td>2017-01-28 10:05:00+00:00</td>\n",
       "      <td>124</td>\n",
       "      <td>12.0</td>\n",
       "      <td>12</td>\n",
       "      <td>112.0</td>\n",
       "      <td>118</td>\n",
       "      <td>00:02:00</td>\n",
       "      <td>35.59</td>\n",
       "      <td>43.333333</td>\n",
       "      <td>168403.95</td>\n",
       "      <td>1644396.05</td>\n",
       "    </tr>\n",
       "  </tbody>\n",
       "</table>\n",
       "</div>"
      ],
      "text/plain": [
       "   flight_id city_departure city_arrival           model  range  \\\n",
       "0     136119          Anapa       Moscow  Boeing 737-300   4200   \n",
       "1     136120          Anapa       Moscow  Boeing 737-300   4200   \n",
       "2     136122          Anapa       Moscow  Boeing 737-300   4200   \n",
       "3     136130          Anapa       Moscow  Boeing 737-300   4200   \n",
       "4     136131          Anapa       Moscow  Boeing 737-300   4200   \n",
       "\n",
       "   total_cost_of_tickets  flight_duration_minutes       scheduled_departure  \\\n",
       "0              1653000.0                      101 2017-01-03 10:05:00+00:00   \n",
       "1              1605400.0                       99 2017-02-24 10:05:00+00:00   \n",
       "2              1431000.0                      100 2017-01-08 10:05:00+00:00   \n",
       "3              1556600.0                       99 2017-02-13 10:05:00+00:00   \n",
       "4              1812800.0                       99 2017-01-28 10:05:00+00:00   \n",
       "\n",
       "   number_of_tickets  n_busines  common_n_b_class_seats  n_economy  \\\n",
       "0                113       11.0                      12      102.0   \n",
       "1                109       11.0                      12       98.0   \n",
       "2                 97       10.0                      12       87.0   \n",
       "3                107       10.0                      12       97.0   \n",
       "4                124       12.0                      12      112.0   \n",
       "\n",
       "   common_n_e_class_seats flight_delay  fuel_price  fuel_consumption  \\\n",
       "0                     118     00:03:00       35.59         43.333333   \n",
       "1                     118     00:02:00       33.39         43.333333   \n",
       "2                     118     00:03:00       35.59         43.333333   \n",
       "3                     118     00:02:00       33.39         43.333333   \n",
       "4                     118     00:02:00       35.59         43.333333   \n",
       "\n",
       "   fuel_costs     revenue  \n",
       "0   171806.05  1481193.95  \n",
       "1   158965.95  1446434.05  \n",
       "2   170105.00  1260895.00  \n",
       "3   158965.95  1397634.05  \n",
       "4   168403.95  1644396.05  "
      ]
     },
     "execution_count": 90,
     "metadata": {},
     "output_type": "execute_result"
    }
   ],
   "source": [
    "data.head()"
   ]
  },
  {
   "cell_type": "code",
   "execution_count": 95,
   "metadata": {},
   "outputs": [
    {
     "data": {
      "text/plain": [
       "0"
      ]
     },
     "execution_count": 95,
     "metadata": {},
     "output_type": "execute_result"
    }
   ],
   "source": [
    "len(data[data['revenue'] < 0]) # number of unprofitable flights  "
   ]
  },
  {
   "cell_type": "markdown",
   "metadata": {},
   "source": [
    "Опять-же при учёте дополнительных трат на топливо, в датасете нет откровенно убыточных рейсов. "
   ]
  },
  {
   "cell_type": "markdown",
   "metadata": {},
   "source": [
    "Посмотрим на распределение прибыли."
   ]
  },
  {
   "cell_type": "code",
   "execution_count": 91,
   "metadata": {},
   "outputs": [
    {
     "data": {
      "image/png": "[encoded data removed]",
      "text/plain": [
       "<Figure size 1080x360 with 2 Axes>"
      ]
     },
     "metadata": {
      "needs_background": "light"
     },
     "output_type": "display_data"
    }
   ],
   "source": [
    "plt.figure(figsize=(15, 5))\n",
    "plt.subplot(121)\n",
    "colors = ['g', 'maroon']\n",
    "sns.distplot(data['revenue'].values, bins=25, color=colors[0], kde=False)\n",
    "plt.title('Revenue Distribution', fontsize=15)\n",
    "plt.xlabel('revenue')\n",
    "plt.ylabel('quantity')\n",
    "\n",
    "plt.subplot(122)\n",
    "sns.boxplot(data['revenue'].values, color=colors[1])\n",
    "plt.title('Revenue Distribution', fontsize=15)\n",
    "plt.xlabel('revenue')\n",
    "plt.show()"
   ]
  },
  {
   "cell_type": "markdown",
   "metadata": {},
   "source": [
    "Видно, что вся выборка делится на две группы по распределению.  \n",
    "Нужно попробовать разбить распределение по направлениям или моделям самолётов, что в данном случае тождественно."
   ]
  },
  {
   "cell_type": "markdown",
   "metadata": {},
   "source": [
    "Посмотрим распределение прибыли по городам."
   ]
  },
  {
   "cell_type": "code",
   "execution_count": 93,
   "metadata": {},
   "outputs": [
    {
     "data": {
      "image/png": "[encoded data removed]",
      "text/plain": [
       "<Figure size 1080x360 with 2 Axes>"
      ]
     },
     "metadata": {
      "needs_background": "light"
     },
     "output_type": "display_data"
    },
    {
     "data": {
      "image/png": "[encoded data removed]",
      "text/plain": [
       "<Figure size 1080x360 with 2 Axes>"
      ]
     },
     "metadata": {
      "needs_background": "light"
     },
     "output_type": "display_data"
    }
   ],
   "source": [
    "colors = ['g', 'maroon']\n",
    "for city in (data['city_arrival'].value_counts()).index:\n",
    "    plt.figure(figsize=(15, 5))\n",
    "    plt.subplot(121)\n",
    "    section = data[data['city_arrival'] == city]['revenue']\n",
    "    sns.distplot(section.values, bins=25, color=colors[0], kde=False)\n",
    "    plt.title(f'Revenue Distribution for {city}', fontsize=15)\n",
    "    plt.xlabel('revenue')\n",
    "    plt.ylabel('quantity')\n",
    "\n",
    "    plt.subplot(122)\n",
    "    sns.boxplot(section.values, color=colors[1])\n",
    "    plt.title(f'Revenue Distribution for {city}', fontsize=15)\n",
    "    plt.xlabel('revenue')\n",
    "    plt.show()"
   ]
  },
  {
   "cell_type": "code",
   "execution_count": 94,
   "metadata": {},
   "outputs": [
    {
     "data": {
      "image/png": "[encoded data removed]",
      "text/plain": [
       "<Figure size 1080x360 with 2 Axes>"
      ]
     },
     "metadata": {
      "needs_background": "light"
     },
     "output_type": "display_data"
    },
    {
     "data": {
      "image/png": "[encoded data removed]",
      "text/plain": [
       "<Figure size 1080x360 with 2 Axes>"
      ]
     },
     "metadata": {
      "needs_background": "light"
     },
     "output_type": "display_data"
    }
   ],
   "source": [
    "colors = ['g', 'maroon']\n",
    "for model in (data['model'].value_counts()).index:\n",
    "    plt.figure(figsize=(15, 5))\n",
    "    plt.subplot(121)\n",
    "    section = data[data['model'] == model]['revenue']\n",
    "    sns.distplot(section.values, bins=25, color=colors[0], kde=False)\n",
    "    plt.title(f'Revenue Distribution for {model}', fontsize=15)\n",
    "    plt.xlabel('revenue')\n",
    "    plt.ylabel('quantity')\n",
    "\n",
    "    plt.subplot(122)\n",
    "    sns.boxplot(section.values, color=colors[1])\n",
    "    plt.title(f'Revenue Distribution for {model}', fontsize=15)\n",
    "    plt.xlabel('revenue')\n",
    "    plt.show()"
   ]
  },
  {
   "cell_type": "markdown",
   "metadata": {},
   "source": [
    "Несмотря на то, что Сухой потребляет меньше горючего чем Боинг, а значит и издержки у Боинга больше, прибыль при использовании Боингов выше.  \n",
    "Интересно почему? Ответ на этот вопрос поищем в дальнейшем анализе датасета."
   ]
  },
  {
   "cell_type": "markdown",
   "metadata": {},
   "source": [
    "### scheduled_departure \n",
    "Запланированные дата и время вылета."
   ]
  },
  {
   "cell_type": "code",
   "execution_count": 99,
   "metadata": {},
   "outputs": [],
   "source": [
    "data['day_of_week'] = data.scheduled_departure.dt.dayofweek\n",
    "data['week']"
   ]
  },
  {
   "cell_type": "code",
   "execution_count": 101,
   "metadata": {},
   "outputs": [
    {
     "data": {
      "text/html": [
       "<div>\n",
       "<style scoped>\n",
       "    .dataframe tbody tr th:only-of-type {\n",
       "        vertical-align: middle;\n",
       "    }\n",
       "\n",
       "    .dataframe tbody tr th {\n",
       "        vertical-align: top;\n",
       "    }\n",
       "\n",
       "    .dataframe thead th {\n",
       "        text-align: right;\n",
       "    }\n",
       "</style>\n",
       "<table border=\"1\" class=\"dataframe\">\n",
       "  <thead>\n",
       "    <tr style=\"text-align: right;\">\n",
       "      <th></th>\n",
       "      <th>flight_id</th>\n",
       "      <th>city_departure</th>\n",
       "      <th>city_arrival</th>\n",
       "      <th>model</th>\n",
       "      <th>range</th>\n",
       "      <th>total_cost_of_tickets</th>\n",
       "      <th>flight_duration_minutes</th>\n",
       "      <th>scheduled_departure</th>\n",
       "      <th>number_of_tickets</th>\n",
       "      <th>n_busines</th>\n",
       "      <th>common_n_b_class_seats</th>\n",
       "      <th>n_economy</th>\n",
       "      <th>common_n_e_class_seats</th>\n",
       "      <th>flight_delay</th>\n",
       "      <th>fuel_price</th>\n",
       "      <th>fuel_consumption</th>\n",
       "      <th>fuel_costs</th>\n",
       "      <th>revenue</th>\n",
       "      <th>day_of_week</th>\n",
       "    </tr>\n",
       "  </thead>\n",
       "  <tbody>\n",
       "    <tr>\n",
       "      <th>0</th>\n",
       "      <td>136119</td>\n",
       "      <td>Anapa</td>\n",
       "      <td>Moscow</td>\n",
       "      <td>Boeing 737-300</td>\n",
       "      <td>4200</td>\n",
       "      <td>1653000.0</td>\n",
       "      <td>101</td>\n",
       "      <td>2017-01-03 10:05:00+00:00</td>\n",
       "      <td>113</td>\n",
       "      <td>11.0</td>\n",
       "      <td>12</td>\n",
       "      <td>102.0</td>\n",
       "      <td>118</td>\n",
       "      <td>00:03:00</td>\n",
       "      <td>35.59</td>\n",
       "      <td>43.333333</td>\n",
       "      <td>171806.05</td>\n",
       "      <td>1481193.95</td>\n",
       "      <td>1</td>\n",
       "    </tr>\n",
       "    <tr>\n",
       "      <th>1</th>\n",
       "      <td>136120</td>\n",
       "      <td>Anapa</td>\n",
       "      <td>Moscow</td>\n",
       "      <td>Boeing 737-300</td>\n",
       "      <td>4200</td>\n",
       "      <td>1605400.0</td>\n",
       "      <td>99</td>\n",
       "      <td>2017-02-24 10:05:00+00:00</td>\n",
       "      <td>109</td>\n",
       "      <td>11.0</td>\n",
       "      <td>12</td>\n",
       "      <td>98.0</td>\n",
       "      <td>118</td>\n",
       "      <td>00:02:00</td>\n",
       "      <td>33.39</td>\n",
       "      <td>43.333333</td>\n",
       "      <td>158965.95</td>\n",
       "      <td>1446434.05</td>\n",
       "      <td>4</td>\n",
       "    </tr>\n",
       "    <tr>\n",
       "      <th>2</th>\n",
       "      <td>136122</td>\n",
       "      <td>Anapa</td>\n",
       "      <td>Moscow</td>\n",
       "      <td>Boeing 737-300</td>\n",
       "      <td>4200</td>\n",
       "      <td>1431000.0</td>\n",
       "      <td>100</td>\n",
       "      <td>2017-01-08 10:05:00+00:00</td>\n",
       "      <td>97</td>\n",
       "      <td>10.0</td>\n",
       "      <td>12</td>\n",
       "      <td>87.0</td>\n",
       "      <td>118</td>\n",
       "      <td>00:03:00</td>\n",
       "      <td>35.59</td>\n",
       "      <td>43.333333</td>\n",
       "      <td>170105.00</td>\n",
       "      <td>1260895.00</td>\n",
       "      <td>6</td>\n",
       "    </tr>\n",
       "    <tr>\n",
       "      <th>3</th>\n",
       "      <td>136130</td>\n",
       "      <td>Anapa</td>\n",
       "      <td>Moscow</td>\n",
       "      <td>Boeing 737-300</td>\n",
       "      <td>4200</td>\n",
       "      <td>1556600.0</td>\n",
       "      <td>99</td>\n",
       "      <td>2017-02-13 10:05:00+00:00</td>\n",
       "      <td>107</td>\n",
       "      <td>10.0</td>\n",
       "      <td>12</td>\n",
       "      <td>97.0</td>\n",
       "      <td>118</td>\n",
       "      <td>00:02:00</td>\n",
       "      <td>33.39</td>\n",
       "      <td>43.333333</td>\n",
       "      <td>158965.95</td>\n",
       "      <td>1397634.05</td>\n",
       "      <td>0</td>\n",
       "    </tr>\n",
       "    <tr>\n",
       "      <th>4</th>\n",
       "      <td>136131</td>\n",
       "      <td>Anapa</td>\n",
       "      <td>Moscow</td>\n",
       "      <td>Boeing 737-300</td>\n",
       "      <td>4200</td>\n",
       "      <td>1812800.0</td>\n",
       "      <td>99</td>\n",
       "      <td>2017-01-28 10:05:00+00:00</td>\n",
       "      <td>124</td>\n",
       "      <td>12.0</td>\n",
       "      <td>12</td>\n",
       "      <td>112.0</td>\n",
       "      <td>118</td>\n",
       "      <td>00:02:00</td>\n",
       "      <td>35.59</td>\n",
       "      <td>43.333333</td>\n",
       "      <td>168403.95</td>\n",
       "      <td>1644396.05</td>\n",
       "      <td>5</td>\n",
       "    </tr>\n",
       "  </tbody>\n",
       "</table>\n",
       "</div>"
      ],
      "text/plain": [
       "   flight_id city_departure city_arrival           model  range  \\\n",
       "0     136119          Anapa       Moscow  Boeing 737-300   4200   \n",
       "1     136120          Anapa       Moscow  Boeing 737-300   4200   \n",
       "2     136122          Anapa       Moscow  Boeing 737-300   4200   \n",
       "3     136130          Anapa       Moscow  Boeing 737-300   4200   \n",
       "4     136131          Anapa       Moscow  Boeing 737-300   4200   \n",
       "\n",
       "   total_cost_of_tickets  flight_duration_minutes       scheduled_departure  \\\n",
       "0              1653000.0                      101 2017-01-03 10:05:00+00:00   \n",
       "1              1605400.0                       99 2017-02-24 10:05:00+00:00   \n",
       "2              1431000.0                      100 2017-01-08 10:05:00+00:00   \n",
       "3              1556600.0                       99 2017-02-13 10:05:00+00:00   \n",
       "4              1812800.0                       99 2017-01-28 10:05:00+00:00   \n",
       "\n",
       "   number_of_tickets  n_busines  common_n_b_class_seats  n_economy  \\\n",
       "0                113       11.0                      12      102.0   \n",
       "1                109       11.0                      12       98.0   \n",
       "2                 97       10.0                      12       87.0   \n",
       "3                107       10.0                      12       97.0   \n",
       "4                124       12.0                      12      112.0   \n",
       "\n",
       "   common_n_e_class_seats flight_delay  fuel_price  fuel_consumption  \\\n",
       "0                     118     00:03:00       35.59         43.333333   \n",
       "1                     118     00:02:00       33.39         43.333333   \n",
       "2                     118     00:03:00       35.59         43.333333   \n",
       "3                     118     00:02:00       33.39         43.333333   \n",
       "4                     118     00:02:00       35.59         43.333333   \n",
       "\n",
       "   fuel_costs     revenue  day_of_week  \n",
       "0   171806.05  1481193.95            1  \n",
       "1   158965.95  1446434.05            4  \n",
       "2   170105.00  1260895.00            6  \n",
       "3   158965.95  1397634.05            0  \n",
       "4   168403.95  1644396.05            5  "
      ]
     },
     "execution_count": 101,
     "metadata": {},
     "output_type": "execute_result"
    }
   ],
   "source": [
    "data.head()"
   ]
  },
  {
   "cell_type": "code",
   "execution_count": 96,
   "metadata": {},
   "outputs": [
    {
     "name": "stdout",
     "output_type": "stream",
     "text": [
      "<class 'pandas.core.frame.DataFrame'>\n",
      "Int64Index: 118 entries, 0 to 126\n",
      "Data columns (total 18 columns):\n",
      " #   Column                   Non-Null Count  Dtype              \n",
      "---  ------                   --------------  -----              \n",
      " 0   flight_id                118 non-null    int64              \n",
      " 1   city_departure           118 non-null    object             \n",
      " 2   city_arrival             118 non-null    object             \n",
      " 3   model                    118 non-null    object             \n",
      " 4   range                    118 non-null    int64              \n",
      " 5   total_cost_of_tickets    118 non-null    float64            \n",
      " 6   flight_duration_minutes  118 non-null    int64              \n",
      " 7   scheduled_departure      118 non-null    datetime64[ns, UTC]\n",
      " 8   number_of_tickets        118 non-null    int64              \n",
      " 9   n_busines                118 non-null    float64            \n",
      " 10  common_n_b_class_seats   118 non-null    int64              \n",
      " 11  n_economy                118 non-null    float64            \n",
      " 12  common_n_e_class_seats   118 non-null    int64              \n",
      " 13  flight_delay             118 non-null    timedelta64[ns]    \n",
      " 14  fuel_price               118 non-null    float64            \n",
      " 15  fuel_consumption         118 non-null    float64            \n",
      " 16  fuel_costs               118 non-null    float64            \n",
      " 17  revenue                  118 non-null    float64            \n",
      "dtypes: datetime64[ns, UTC](1), float64(7), int64(6), object(3), timedelta64[ns](1)\n",
      "memory usage: 17.5+ KB\n"
     ]
    }
   ],
   "source": [
    "data.info()"
   ]
  }
 ],
 "metadata": {
  "kernelspec": {
   "display_name": "Python 3",
   "language": "python",
   "name": "python3"
  },
  "language_info": {
   "codemirror_mode": {
    "name": "ipython",
    "version": 3
   },
   "file_extension": ".py",
   "mimetype": "text/x-python",
   "name": "python",
   "nbconvert_exporter": "python",
   "pygments_lexer": "ipython3",
   "version": "3.8.3"
  }
 },
 "nbformat": 4,
 "nbformat_minor": 4
}
