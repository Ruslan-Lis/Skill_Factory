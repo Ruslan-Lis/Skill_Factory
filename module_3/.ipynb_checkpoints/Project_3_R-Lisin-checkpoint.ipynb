{
 "cells": [
  {
   "cell_type": "code",
   "execution_count": 114,
   "metadata": {},
   "outputs": [],
   "source": [
    "import numpy as np\n",
    "import matplotlib.pyplot as plt\n",
    "import pandas as pd\n",
    "import re \n",
    "import seaborn as sns\n",
    "from collections import ChainMap\n",
    "from collections import Counter\n",
    "from itertools import combinations\n",
    "from scipy.stats import ttest_ind\n",
    "from sklearn import metrics # инструменты для оценки точности модели  \n",
    "from sklearn.ensemble import RandomForestRegressor # инструмент для создания и обучения модели  \n",
    "from sklearn.model_selection import train_test_split  # Загружаем специальный инструмент для разбивки: \n",
    "from statsmodels.stats import weightstats\n",
    "\n",
    "pd.set_option('display.max_rows', 50)  # показывать больше строк\n",
    "pd.set_option('display.max_columns', 50)  # показывать больше колонок"
   ]
  },
  {
   "cell_type": "code",
   "execution_count": 69,
   "metadata": {},
   "outputs": [],
   "source": [
    "main_task = pd.read_csv('main_task.csv')\n",
    "# для удобства переименуем переменные\n",
    "main_task.columns = ['restaurant_id', 'city', 'cuisine_style', 'ranking', 'rating',\n",
    "              'price_range', 'number_of_reviews', 'reviews', 'URL_TA', 'ID_TA']"
   ]
  },
  {
   "cell_type": "code",
   "execution_count": 29,
   "metadata": {},
   "outputs": [],
   "source": [
    "#  предобработка\n",
    "\n",
    "df = main_task.copy()\n",
    "\n",
    "# для удобства переименуем переменные\n",
    "# df.columns = ['restaurant_id', 'city', 'cuisine_style', 'ranking', 'rating',\n",
    "#        'price_range', 'number_of_reviews', 'reviews', 'URL_TA', 'ID_TA']"
   ]
  },
  {
   "cell_type": "markdown",
   "metadata": {},
   "source": [
    "\n",
    "*  Restaurant_id — идентификационный номер ресторана / сети ресторанов;\n",
    "*   City — город, в котором находится ресторан;\n",
    "*  Cuisine Style — кухня или кухни, к которым можно отнести блюда, предлагаемые в ресторане;\n",
    "*  Ranking — место, которое занимает данный ресторан среди всех ресторанов своего города;\n",
    "* Rating — рейтинг ресторана по данным TripAdvisor (именно это значение должна будет предсказывать модель);\n",
    "*    Price Range — диапазон цен в ресторане;\n",
    "*   Number of Reviews — количество отзывов о ресторане;\n",
    "*  Reviews — данные о двух отзывах, которые отображаются на сайте ресторана;\n",
    "* URL_TA — URL страницы ресторана на TripAdvisor;\n",
    "* ID_TA — идентификатор ресторана в базе данных TripAdvisor.\n"
   ]
  },
  {
   "cell_type": "code",
   "execution_count": 25,
   "metadata": {},
   "outputs": [
    {
     "name": "stdout",
     "output_type": "stream",
     "text": [
      "<class 'pandas.core.frame.DataFrame'>\n",
      "RangeIndex: 40000 entries, 0 to 39999\n",
      "Data columns (total 10 columns):\n",
      " #   Column             Non-Null Count  Dtype  \n",
      "---  ------             --------------  -----  \n",
      " 0   restaurant_id      40000 non-null  object \n",
      " 1   city               40000 non-null  object \n",
      " 2   cuisine_style      30717 non-null  object \n",
      " 3   ranking            40000 non-null  float64\n",
      " 4   rating             40000 non-null  float64\n",
      " 5   price_range        26114 non-null  object \n",
      " 6   number_of_reviews  37457 non-null  float64\n",
      " 7   reviews            40000 non-null  object \n",
      " 8   URL_TA             40000 non-null  object \n",
      " 9   ID_TA              40000 non-null  object \n",
      "dtypes: float64(3), object(7)\n",
      "memory usage: 3.1+ MB\n"
     ]
    }
   ],
   "source": [
    "df.info()"
   ]
  },
  {
   "cell_type": "code",
   "execution_count": 16,
   "metadata": {
    "scrolled": false
   },
   "outputs": [
    {
     "data": {
      "text/html": [
       "<div>\n",
       "<style scoped>\n",
       "    .dataframe tbody tr th:only-of-type {\n",
       "        vertical-align: middle;\n",
       "    }\n",
       "\n",
       "    .dataframe tbody tr th {\n",
       "        vertical-align: top;\n",
       "    }\n",
       "\n",
       "    .dataframe thead th {\n",
       "        text-align: right;\n",
       "    }\n",
       "</style>\n",
       "<table border=\"1\" class=\"dataframe\">\n",
       "  <thead>\n",
       "    <tr style=\"text-align: right;\">\n",
       "      <th></th>\n",
       "      <th>restaurant_id</th>\n",
       "      <th>city</th>\n",
       "      <th>cuisine_style</th>\n",
       "      <th>ranking</th>\n",
       "      <th>rating</th>\n",
       "      <th>price_range</th>\n",
       "      <th>number_of_reviews</th>\n",
       "      <th>reviews</th>\n",
       "      <th>URL_TA</th>\n",
       "      <th>ID_TA</th>\n",
       "    </tr>\n",
       "  </thead>\n",
       "  <tbody>\n",
       "    <tr>\n",
       "      <th>1957</th>\n",
       "      <td>id_2489</td>\n",
       "      <td>Berlin</td>\n",
       "      <td>['Chinese', 'Asian']</td>\n",
       "      <td>2491.0</td>\n",
       "      <td>4.0</td>\n",
       "      <td>$</td>\n",
       "      <td>21.0</td>\n",
       "      <td>[['Second Time, Best time!', 'Authenic Chinese...</td>\n",
       "      <td>/Restaurant_Review-g187323-d7158748-Reviews-As...</td>\n",
       "      <td>d7158748</td>\n",
       "    </tr>\n",
       "    <tr>\n",
       "      <th>23347</th>\n",
       "      <td>id_4239</td>\n",
       "      <td>Milan</td>\n",
       "      <td>['Italian', 'Pizza']</td>\n",
       "      <td>4242.0</td>\n",
       "      <td>3.5</td>\n",
       "      <td>NaN</td>\n",
       "      <td>44.0</td>\n",
       "      <td>[['For Milano mid range food, go here', 'it is...</td>\n",
       "      <td>/Restaurant_Review-g187849-d2299261-Reviews-Fa...</td>\n",
       "      <td>d2299261</td>\n",
       "    </tr>\n",
       "    <tr>\n",
       "      <th>34268</th>\n",
       "      <td>id_2362</td>\n",
       "      <td>Munich</td>\n",
       "      <td>['Diner']</td>\n",
       "      <td>2379.0</td>\n",
       "      <td>3.5</td>\n",
       "      <td>$$ - $$$</td>\n",
       "      <td>7.0</td>\n",
       "      <td>[['Good overnight stop during travel to Austr....</td>\n",
       "      <td>/Restaurant_Review-g187309-d964492-Reviews-Neu...</td>\n",
       "      <td>d964492</td>\n",
       "    </tr>\n",
       "    <tr>\n",
       "      <th>32872</th>\n",
       "      <td>id_1768</td>\n",
       "      <td>Vienna</td>\n",
       "      <td>['Italian']</td>\n",
       "      <td>1769.0</td>\n",
       "      <td>5.0</td>\n",
       "      <td>NaN</td>\n",
       "      <td>NaN</td>\n",
       "      <td>[[], []]</td>\n",
       "      <td>/Restaurant_Review-g190454-d5961438-Reviews-Re...</td>\n",
       "      <td>d5961438</td>\n",
       "    </tr>\n",
       "    <tr>\n",
       "      <th>30280</th>\n",
       "      <td>id_3125</td>\n",
       "      <td>Paris</td>\n",
       "      <td>['Italian', 'Vegetarian Friendly']</td>\n",
       "      <td>3126.0</td>\n",
       "      <td>4.0</td>\n",
       "      <td>$$ - $$$</td>\n",
       "      <td>69.0</td>\n",
       "      <td>[['Great food, great price', 'Dinner'], ['10/0...</td>\n",
       "      <td>/Restaurant_Review-g187147-d11844052-Reviews-C...</td>\n",
       "      <td>d11844052</td>\n",
       "    </tr>\n",
       "  </tbody>\n",
       "</table>\n",
       "</div>"
      ],
      "text/plain": [
       "      restaurant_id    city                       cuisine_style  ranking  \\\n",
       "1957        id_2489  Berlin                ['Chinese', 'Asian']   2491.0   \n",
       "23347       id_4239   Milan                ['Italian', 'Pizza']   4242.0   \n",
       "34268       id_2362  Munich                           ['Diner']   2379.0   \n",
       "32872       id_1768  Vienna                         ['Italian']   1769.0   \n",
       "30280       id_3125   Paris  ['Italian', 'Vegetarian Friendly']   3126.0   \n",
       "\n",
       "       rating price_range  number_of_reviews  \\\n",
       "1957      4.0           $               21.0   \n",
       "23347     3.5         NaN               44.0   \n",
       "34268     3.5    $$ - $$$                7.0   \n",
       "32872     5.0         NaN                NaN   \n",
       "30280     4.0    $$ - $$$               69.0   \n",
       "\n",
       "                                                 reviews  \\\n",
       "1957   [['Second Time, Best time!', 'Authenic Chinese...   \n",
       "23347  [['For Milano mid range food, go here', 'it is...   \n",
       "34268  [['Good overnight stop during travel to Austr....   \n",
       "32872                                           [[], []]   \n",
       "30280  [['Great food, great price', 'Dinner'], ['10/0...   \n",
       "\n",
       "                                                  URL_TA      ID_TA  \n",
       "1957   /Restaurant_Review-g187323-d7158748-Reviews-As...   d7158748  \n",
       "23347  /Restaurant_Review-g187849-d2299261-Reviews-Fa...   d2299261  \n",
       "34268  /Restaurant_Review-g187309-d964492-Reviews-Neu...    d964492  \n",
       "32872  /Restaurant_Review-g190454-d5961438-Reviews-Re...   d5961438  \n",
       "30280  /Restaurant_Review-g187147-d11844052-Reviews-C...  d11844052  "
      ]
     },
     "execution_count": 16,
     "metadata": {},
     "output_type": "execute_result"
    }
   ],
   "source": [
    "df.sample(5)"
   ]
  },
  {
   "cell_type": "code",
   "execution_count": 23,
   "metadata": {},
   "outputs": [
    {
     "data": {
      "text/plain": [
       "str"
      ]
     },
     "execution_count": 23,
     "metadata": {},
     "output_type": "execute_result"
    }
   ],
   "source": [
    "type(df.loc[0,'reviews'])\n",
    "# data.loc[0,'reviews']"
   ]
  },
  {
   "cell_type": "markdown",
   "metadata": {},
   "source": [
    "На первом этапе для создания такого датафрейма давайте просто удалим столбцы, содержащие данные типа __object__, и заполним пропущенные значения (__None__ или __NaN__) каким-то одним значением (нулём или средним арифметическим) для всего столбца."
   ]
  },
  {
   "cell_type": "code",
   "execution_count": 57,
   "metadata": {},
   "outputs": [
    {
     "name": "stdout",
     "output_type": "stream",
     "text": [
      "<class 'pandas.core.frame.DataFrame'>\n",
      "RangeIndex: 40000 entries, 0 to 39999\n",
      "Data columns (total 3 columns):\n",
      " #   Column             Non-Null Count  Dtype  \n",
      "---  ------             --------------  -----  \n",
      " 0   ranking            40000 non-null  float64\n",
      " 1   rating             40000 non-null  float64\n",
      " 2   number_of_reviews  37457 non-null  float64\n",
      "dtypes: float64(3)\n",
      "memory usage: 937.6 KB\n"
     ]
    },
    {
     "data": {
      "text/plain": [
       "None"
      ]
     },
     "metadata": {},
     "output_type": "display_data"
    },
    {
     "data": {
      "text/html": [
       "<div>\n",
       "<style scoped>\n",
       "    .dataframe tbody tr th:only-of-type {\n",
       "        vertical-align: middle;\n",
       "    }\n",
       "\n",
       "    .dataframe tbody tr th {\n",
       "        vertical-align: top;\n",
       "    }\n",
       "\n",
       "    .dataframe thead th {\n",
       "        text-align: right;\n",
       "    }\n",
       "</style>\n",
       "<table border=\"1\" class=\"dataframe\">\n",
       "  <thead>\n",
       "    <tr style=\"text-align: right;\">\n",
       "      <th></th>\n",
       "      <th>ranking</th>\n",
       "      <th>rating</th>\n",
       "      <th>number_of_reviews</th>\n",
       "    </tr>\n",
       "  </thead>\n",
       "  <tbody>\n",
       "    <tr>\n",
       "      <th>8</th>\n",
       "      <td>2692.0</td>\n",
       "      <td>4.0</td>\n",
       "      <td>NaN</td>\n",
       "    </tr>\n",
       "    <tr>\n",
       "      <th>21</th>\n",
       "      <td>5847.0</td>\n",
       "      <td>4.0</td>\n",
       "      <td>NaN</td>\n",
       "    </tr>\n",
       "    <tr>\n",
       "      <th>32</th>\n",
       "      <td>1328.0</td>\n",
       "      <td>5.0</td>\n",
       "      <td>NaN</td>\n",
       "    </tr>\n",
       "    <tr>\n",
       "      <th>102</th>\n",
       "      <td>1410.0</td>\n",
       "      <td>5.0</td>\n",
       "      <td>NaN</td>\n",
       "    </tr>\n",
       "    <tr>\n",
       "      <th>108</th>\n",
       "      <td>2050.0</td>\n",
       "      <td>5.0</td>\n",
       "      <td>NaN</td>\n",
       "    </tr>\n",
       "    <tr>\n",
       "      <th>...</th>\n",
       "      <td>...</td>\n",
       "      <td>...</td>\n",
       "      <td>...</td>\n",
       "    </tr>\n",
       "    <tr>\n",
       "      <th>39965</th>\n",
       "      <td>5722.0</td>\n",
       "      <td>5.0</td>\n",
       "      <td>NaN</td>\n",
       "    </tr>\n",
       "    <tr>\n",
       "      <th>39972</th>\n",
       "      <td>2012.0</td>\n",
       "      <td>5.0</td>\n",
       "      <td>NaN</td>\n",
       "    </tr>\n",
       "    <tr>\n",
       "      <th>39986</th>\n",
       "      <td>7279.0</td>\n",
       "      <td>3.0</td>\n",
       "      <td>NaN</td>\n",
       "    </tr>\n",
       "    <tr>\n",
       "      <th>39988</th>\n",
       "      <td>4970.0</td>\n",
       "      <td>4.0</td>\n",
       "      <td>NaN</td>\n",
       "    </tr>\n",
       "    <tr>\n",
       "      <th>39989</th>\n",
       "      <td>8896.0</td>\n",
       "      <td>5.0</td>\n",
       "      <td>NaN</td>\n",
       "    </tr>\n",
       "  </tbody>\n",
       "</table>\n",
       "<p>2543 rows × 3 columns</p>\n",
       "</div>"
      ],
      "text/plain": [
       "       ranking  rating  number_of_reviews\n",
       "8       2692.0     4.0                NaN\n",
       "21      5847.0     4.0                NaN\n",
       "32      1328.0     5.0                NaN\n",
       "102     1410.0     5.0                NaN\n",
       "108     2050.0     5.0                NaN\n",
       "...        ...     ...                ...\n",
       "39965   5722.0     5.0                NaN\n",
       "39972   2012.0     5.0                NaN\n",
       "39986   7279.0     3.0                NaN\n",
       "39988   4970.0     4.0                NaN\n",
       "39989   8896.0     5.0                NaN\n",
       "\n",
       "[2543 rows x 3 columns]"
      ]
     },
     "execution_count": 57,
     "metadata": {},
     "output_type": "execute_result"
    }
   ],
   "source": [
    "display(df.info())\n",
    "df[df.number_of_reviews.isna()]"
   ]
  },
  {
   "cell_type": "code",
   "execution_count": 59,
   "metadata": {},
   "outputs": [
    {
     "name": "stdout",
     "output_type": "stream",
     "text": [
      "<class 'pandas.core.frame.DataFrame'>\n",
      "RangeIndex: 40000 entries, 0 to 39999\n",
      "Data columns (total 3 columns):\n",
      " #   Column             Non-Null Count  Dtype  \n",
      "---  ------             --------------  -----  \n",
      " 0   ranking            40000 non-null  float64\n",
      " 1   rating             40000 non-null  float64\n",
      " 2   number_of_reviews  40000 non-null  float64\n",
      "dtypes: float64(3)\n",
      "memory usage: 937.6 KB\n"
     ]
    },
    {
     "data": {
      "text/plain": [
       "None"
      ]
     },
     "metadata": {},
     "output_type": "display_data"
    },
    {
     "data": {
      "text/html": [
       "<div>\n",
       "<style scoped>\n",
       "    .dataframe tbody tr th:only-of-type {\n",
       "        vertical-align: middle;\n",
       "    }\n",
       "\n",
       "    .dataframe tbody tr th {\n",
       "        vertical-align: top;\n",
       "    }\n",
       "\n",
       "    .dataframe thead th {\n",
       "        text-align: right;\n",
       "    }\n",
       "</style>\n",
       "<table border=\"1\" class=\"dataframe\">\n",
       "  <thead>\n",
       "    <tr style=\"text-align: right;\">\n",
       "      <th></th>\n",
       "      <th>ranking</th>\n",
       "      <th>rating</th>\n",
       "      <th>number_of_reviews</th>\n",
       "    </tr>\n",
       "  </thead>\n",
       "  <tbody>\n",
       "  </tbody>\n",
       "</table>\n",
       "</div>"
      ],
      "text/plain": [
       "Empty DataFrame\n",
       "Columns: [ranking, rating, number_of_reviews]\n",
       "Index: []"
      ]
     },
     "execution_count": 59,
     "metadata": {},
     "output_type": "execute_result"
    }
   ],
   "source": [
    "df = df.drop([column  for column in df.columns if df[column].dtype == 'O'],axis=1)\n",
    "df.number_of_reviews = df.number_of_reviews.fillna(0)\n",
    "display(df.info())\n",
    "df[df.number_of_reviews.isna()]"
   ]
  },
  {
   "cell_type": "code",
   "execution_count": 61,
   "metadata": {},
   "outputs": [],
   "source": [
    "# Разбиваем датафрейм на части, необходимые для обучения и тестирования модели  \n",
    "    # Х - данные с информацией о ресторанах, у - целевая переменная (рейтинги ресторанов)  \n",
    "# X = df.drop(['restaurant_id', 'rating'], axis = 1)  \n",
    "X = df.drop(['rating'], axis = 1)  \n",
    "\n",
    "y = df['rating']  \n",
    "      \n",
    "    # Загружаем специальный инструмент для разбивки:  убрано наверх\n",
    "#     from sklearn.model_selection import train_test_split   \n",
    "    \n",
    "      \n",
    "    # Наборы данных с меткой \"train\" будут использоваться для обучения модели, \"test\" - для тестирования.  \n",
    "    # Для тестирования мы будем использовать 25% от исходного датасета.  \n",
    "X_train, X_test, y_train, y_test = train_test_split(X, y, test_size=0.25)\n",
    "    "
   ]
  },
  {
   "cell_type": "code",
   "execution_count": 62,
   "metadata": {},
   "outputs": [],
   "source": [
    "# Импортируем необходимые библиотеки: убрано наверх \n",
    "#     from sklearn.ensemble import RandomForestRegressor # инструмент для создания и обучения модели  \n",
    "#     from sklearn import metrics # инструменты для оценки точности модели  \n",
    "      \n",
    "    # Создаём модель  \n",
    "regr = RandomForestRegressor(n_estimators=100)  \n",
    "      \n",
    "    # Обучаем модель на тестовом наборе данных  \n",
    "regr.fit(X_train, y_train)  \n",
    "      \n",
    "    # Используем обученную модель для предсказания рейтинга ресторанов в тестовой выборке.  \n",
    "    # Предсказанные значения записываем в переменную y_pred  \n",
    "y_pred = regr.predict(X_test)  "
   ]
  },
  {
   "cell_type": "code",
   "execution_count": 64,
   "metadata": {},
   "outputs": [
    {
     "name": "stdout",
     "output_type": "stream",
     "text": [
      "MAE: 0.43295923492063493\n"
     ]
    }
   ],
   "source": [
    "# Сравниваем предсказанные значения (y_pred) с реальными (y_test), и смотрим насколько они в среднем отличаются  \n",
    "    # Метрика называется Mean Absolute Error (MAE) и показывает среднее отклонение предсказанных значений от фактических.  \n",
    "print('MAE:', metrics.mean_absolute_error(y_test, y_pred))  "
   ]
  },
  {
   "cell_type": "markdown",
   "metadata": {},
   "source": [
    " 4.1 Вопросы о ценах\n",
    "\n",
    "Сколько вариантов непустых значений встречается в столбце Price Range?"
   ]
  },
  {
   "cell_type": "code",
   "execution_count": 129,
   "metadata": {},
   "outputs": [],
   "source": [
    "df_4 = main_task.copy()"
   ]
  },
  {
   "cell_type": "code",
   "execution_count": 102,
   "metadata": {},
   "outputs": [
    {
     "data": {
      "text/plain": [
       "3"
      ]
     },
     "metadata": {},
     "output_type": "display_data"
    },
    {
     "data": {
      "text/plain": [
       "['$$ - $$$', '$$$$', '$']"
      ]
     },
     "metadata": {},
     "output_type": "display_data"
    }
   ],
   "source": [
    "variants = [element for element in(df_4.price_range.unique()) if type(element) == str]\n",
    "display(len(variants),variants)\n"
   ]
  },
  {
   "cell_type": "code",
   "execution_count": 72,
   "metadata": {},
   "outputs": [
    {
     "data": {
      "text/html": [
       "<div>\n",
       "<style scoped>\n",
       "    .dataframe tbody tr th:only-of-type {\n",
       "        vertical-align: middle;\n",
       "    }\n",
       "\n",
       "    .dataframe tbody tr th {\n",
       "        vertical-align: top;\n",
       "    }\n",
       "\n",
       "    .dataframe thead th {\n",
       "        text-align: right;\n",
       "    }\n",
       "</style>\n",
       "<table border=\"1\" class=\"dataframe\">\n",
       "  <thead>\n",
       "    <tr style=\"text-align: right;\">\n",
       "      <th></th>\n",
       "      <th>restaurant_id</th>\n",
       "      <th>city</th>\n",
       "      <th>cuisine_style</th>\n",
       "      <th>ranking</th>\n",
       "      <th>rating</th>\n",
       "      <th>price_range</th>\n",
       "      <th>number_of_reviews</th>\n",
       "      <th>reviews</th>\n",
       "      <th>URL_TA</th>\n",
       "      <th>ID_TA</th>\n",
       "    </tr>\n",
       "  </thead>\n",
       "  <tbody>\n",
       "    <tr>\n",
       "      <th>30706</th>\n",
       "      <td>id_6956</td>\n",
       "      <td>Barcelona</td>\n",
       "      <td>['Fast Food', 'Turkish', 'Grill']</td>\n",
       "      <td>6957.0</td>\n",
       "      <td>3.0</td>\n",
       "      <td>NaN</td>\n",
       "      <td>10.0</td>\n",
       "      <td>[['The food is good...', 'Doner makes beautifu...</td>\n",
       "      <td>/Restaurant_Review-g187497-d6539515-Reviews-Re...</td>\n",
       "      <td>d6539515</td>\n",
       "    </tr>\n",
       "  </tbody>\n",
       "</table>\n",
       "</div>"
      ],
      "text/plain": [
       "      restaurant_id       city                      cuisine_style  ranking  \\\n",
       "30706       id_6956  Barcelona  ['Fast Food', 'Turkish', 'Grill']   6957.0   \n",
       "\n",
       "       rating price_range  number_of_reviews  \\\n",
       "30706     3.0         NaN               10.0   \n",
       "\n",
       "                                                 reviews  \\\n",
       "30706  [['The food is good...', 'Doner makes beautifu...   \n",
       "\n",
       "                                                  URL_TA     ID_TA  \n",
       "30706  /Restaurant_Review-g187497-d6539515-Reviews-Re...  d6539515  "
      ]
     },
     "execution_count": 72,
     "metadata": {},
     "output_type": "execute_result"
    }
   ],
   "source": [
    "df_4.sample()"
   ]
  },
  {
   "cell_type": "markdown",
   "metadata": {},
   "source": [
    "Сколько ресторанов относятся к среднему ценовому сегменту?"
   ]
  },
  {
   "cell_type": "code",
   "execution_count": 75,
   "metadata": {},
   "outputs": [
    {
     "data": {
      "text/plain": [
       "18412"
      ]
     },
     "execution_count": 75,
     "metadata": {},
     "output_type": "execute_result"
    }
   ],
   "source": [
    "len(df_4[df_4.price_range == '$$ - $$$'])"
   ]
  },
  {
   "cell_type": "markdown",
   "metadata": {},
   "source": [
    " 4.2 Вопрос о городах  \n",
    "1 point possible (graded)  \n",
    "Сколько городов представлено в наборе данных?"
   ]
  },
  {
   "cell_type": "code",
   "execution_count": 105,
   "metadata": {},
   "outputs": [
    {
     "data": {
      "text/plain": [
       "31"
      ]
     },
     "execution_count": 105,
     "metadata": {},
     "output_type": "execute_result"
    }
   ],
   "source": [
    "len(df_4.city.unique())"
   ]
  },
  {
   "cell_type": "markdown",
   "metadata": {},
   "source": [
    "4.3 Вопросы о кухнях\n",
    "\n",
    "Сколько типов кухонь представлено в наборе данных?"
   ]
  },
  {
   "cell_type": "code",
   "execution_count": 170,
   "metadata": {},
   "outputs": [],
   "source": [
    "df_4 = main_task.copy()\n",
    "df_4.cuisine_style = df_4.cuisine_style.str.replace(\"'\", '')\n",
    "df_4.cuisine_style = df_4.cuisine_style.str.replace(\"[\", '')\n",
    "df_4.cuisine_style = df_4.cuisine_style.str.replace(\"]\", '')\n",
    "df_4.cuisine_style = df_4.cuisine_style.str.replace(\" \", '')\n",
    "df_4.cuisine_style = df_4.cuisine_style.str.split(',')\n",
    "df_4 = df_4.explode('cuisine_style')\n"
   ]
  },
  {
   "cell_type": "code",
   "execution_count": 169,
   "metadata": {},
   "outputs": [
    {
     "data": {
      "text/plain": [
       "str"
      ]
     },
     "metadata": {},
     "output_type": "display_data"
    },
    {
     "data": {
      "text/plain": [
       "\"European', 'French', 'International\""
      ]
     },
     "execution_count": 169,
     "metadata": {},
     "output_type": "execute_result"
    }
   ],
   "source": [
    "# не работает пока что\n",
    "df_4 = main_task.copy()\n",
    "df_4.cuisine_style = df_4.cuisine_style.str.strip(\"'' []\")\n",
    "\n",
    "# df_4.cuisine_style = df_4.cuisine_style.str.strip()\n",
    "# df_4.cuisine_style = df_4.cuisine_style.str.split(',')\n",
    "# df_4 = df_4.explode('cuisine_style')\n",
    "display(type(df_4.cuisine_style.loc[0]))\n",
    "df_4.cuisine_style.loc[0]"
   ]
  },
  {
   "cell_type": "code",
   "execution_count": 171,
   "metadata": {},
   "outputs": [
    {
     "data": {
      "text/plain": [
       "125"
      ]
     },
     "metadata": {},
     "output_type": "display_data"
    },
    {
     "data": {
      "text/plain": [
       "VegetarianFriendly    11189\n",
       "European              10060\n",
       "Mediterranean          6277\n",
       "Italian                5964\n",
       "VeganOptions           4486\n",
       "                      ...  \n",
       "Burmese                   1\n",
       "Yunnan                    1\n",
       "Latvian                   1\n",
       "Xinjiang                  1\n",
       "Salvadoran                1\n",
       "Name: cuisine_style, Length: 125, dtype: int64"
      ]
     },
     "execution_count": 171,
     "metadata": {},
     "output_type": "execute_result"
    }
   ],
   "source": [
    "cuisine = [element for element in (df_4.cuisine_style.unique()) if type(element) == str]\n",
    "display(len(cuisine))\n",
    "df_4.cuisine_style.value_counts()"
   ]
  },
  {
   "cell_type": "markdown",
   "metadata": {},
   "source": [
    "Какое среднее количество кухонь предлагается в одном ресторане? Если в данных отсутствует информация о типах кухонь, то считайте, что в этом ресторане предлагается только один тип кухни. Ответ округлите до одного знака после запятой."
   ]
  },
  {
   "cell_type": "code",
   "execution_count": 144,
   "metadata": {},
   "outputs": [
    {
     "data": {
      "text/plain": [
       "2.6"
      ]
     },
     "execution_count": 144,
     "metadata": {},
     "output_type": "execute_result"
    }
   ],
   "source": [
    "df4 = main_task.copy()\n",
    "df4.cuisine_style = df4.cuisine_style.str.replace(\"'\", '')\n",
    "df4.cuisine_style = df4.cuisine_style.str.replace(\"[\", '')\n",
    "df4.cuisine_style = df4.cuisine_style.str.replace(\"]\", '')\n",
    "df4.cuisine_style = df4.cuisine_style.str.replace(\" \", '')\n",
    "df4.cuisine_style = df4.cuisine_style.str.split(',')\n",
    "\n",
    "def return_count(value):\n",
    "    if type(value) == list:\n",
    "        return len(value)\n",
    "    else: return 1\n",
    "df4['cuisine_number'] = df4.cuisine_style.apply(return_count)\n",
    "round(df4.cuisine_number.mean(),1)"
   ]
  },
  {
   "cell_type": "code",
   "execution_count": null,
   "metadata": {},
   "outputs": [],
   "source": [
    "\n"
   ]
  }
 ],
 "metadata": {
  "kernelspec": {
   "display_name": "Python 3",
   "language": "python",
   "name": "python3"
  },
  "language_info": {
   "codemirror_mode": {
    "name": "ipython",
    "version": 3
   },
   "file_extension": ".py",
   "mimetype": "text/x-python",
   "name": "python",
   "nbconvert_exporter": "python",
   "pygments_lexer": "ipython3",
   "version": "3.8.3"
  }
 },
 "nbformat": 4,
 "nbformat_minor": 4
}
