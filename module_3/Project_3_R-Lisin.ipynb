{
 "cells": [
  {
   "cell_type": "code",
   "execution_count": 69,
   "metadata": {},
   "outputs": [],
   "source": [
    "import numpy as np\n",
    "import matplotlib.pyplot as plt\n",
    "import pandas as pd\n",
    "import re \n",
    "import seaborn as sns\n",
    "from collections import ChainMap\n",
    "from collections import Counter\n",
    "from datetime import datetime\n",
    "from itertools import combinations\n",
    "from scipy.stats import ttest_ind\n",
    "from sklearn import metrics # инструменты для оценки точности модели  \n",
    "from sklearn.ensemble import RandomForestRegressor # инструмент для создания и обучения модели  \n",
    "from sklearn.model_selection import train_test_split  # Загружаем специальный инструмент для разбивки: \n",
    "from statsmodels.stats import weightstats\n",
    "\n",
    "pd.set_option('display.max_rows', 50)  # показывать больше строк\n",
    "pd.set_option('display.max_columns', 50)  # показывать больше колонок"
   ]
  },
  {
   "cell_type": "code",
   "execution_count": 70,
   "metadata": {},
   "outputs": [],
   "source": [
    "main_task = pd.read_csv('main_task.csv')\n"
   ]
  },
  {
   "cell_type": "code",
   "execution_count": 71,
   "metadata": {},
   "outputs": [],
   "source": [
    "#  предобработка\n",
    "# для удобства переименуем переменные\n",
    "main_task.columns = ['restaurant_id', 'city', 'cuisine_style', 'ranking', 'rating',\n",
    "              'price_range', 'number_of_reviews', 'reviews', 'URL_TA', 'ID_TA']\n",
    "\n",
    "df = main_task.copy()\n",
    "\n",
    "def price_range_convector(raw):\n",
    "    \n",
    "    if raw == '$$ - $$$':\n",
    "        return 2\n",
    "    elif raw == '$':\n",
    "        return 1\n",
    "    elif raw == '$$$$':\n",
    "        return 3"
   ]
  },
  {
   "cell_type": "markdown",
   "metadata": {},
   "source": [
    "\n",
    "*  Restaurant_id — идентификационный номер ресторана / сети ресторанов;\n",
    "*   City — город, в котором находится ресторан;\n",
    "*  Cuisine Style — кухня или кухни, к которым можно отнести блюда, предлагаемые в ресторане;\n",
    "*  Ranking — место, которое занимает данный ресторан среди всех ресторанов своего города;\n",
    "* Rating — рейтинг ресторана по данным TripAdvisor (именно это значение должна будет предсказывать модель);\n",
    "*    Price Range — диапазон цен в ресторане;\n",
    "*   Number of Reviews — количество отзывов о ресторане;\n",
    "*  Reviews — данные о двух отзывах, которые отображаются на сайте ресторана;\n",
    "* URL_TA — URL страницы ресторана на TripAdvisor;\n",
    "* ID_TA — идентификатор ресторана в базе данных TripAdvisor.\n"
   ]
  },
  {
   "cell_type": "code",
   "execution_count": 72,
   "metadata": {},
   "outputs": [
    {
     "name": "stdout",
     "output_type": "stream",
     "text": [
      "<class 'pandas.core.frame.DataFrame'>\n",
      "RangeIndex: 40000 entries, 0 to 39999\n",
      "Data columns (total 10 columns):\n",
      " #   Column             Non-Null Count  Dtype  \n",
      "---  ------             --------------  -----  \n",
      " 0   restaurant_id      40000 non-null  object \n",
      " 1   city               40000 non-null  object \n",
      " 2   cuisine_style      30717 non-null  object \n",
      " 3   ranking            40000 non-null  float64\n",
      " 4   rating             40000 non-null  float64\n",
      " 5   price_range        26114 non-null  object \n",
      " 6   number_of_reviews  37457 non-null  float64\n",
      " 7   reviews            40000 non-null  object \n",
      " 8   URL_TA             40000 non-null  object \n",
      " 9   ID_TA              40000 non-null  object \n",
      "dtypes: float64(3), object(7)\n",
      "memory usage: 3.1+ MB\n"
     ]
    }
   ],
   "source": [
    "df.info()"
   ]
  },
  {
   "cell_type": "code",
   "execution_count": 73,
   "metadata": {
    "scrolled": false
   },
   "outputs": [
    {
     "data": {
      "text/html": [
       "<div>\n",
       "<style scoped>\n",
       "    .dataframe tbody tr th:only-of-type {\n",
       "        vertical-align: middle;\n",
       "    }\n",
       "\n",
       "    .dataframe tbody tr th {\n",
       "        vertical-align: top;\n",
       "    }\n",
       "\n",
       "    .dataframe thead th {\n",
       "        text-align: right;\n",
       "    }\n",
       "</style>\n",
       "<table border=\"1\" class=\"dataframe\">\n",
       "  <thead>\n",
       "    <tr style=\"text-align: right;\">\n",
       "      <th></th>\n",
       "      <th>restaurant_id</th>\n",
       "      <th>city</th>\n",
       "      <th>cuisine_style</th>\n",
       "      <th>ranking</th>\n",
       "      <th>rating</th>\n",
       "      <th>price_range</th>\n",
       "      <th>number_of_reviews</th>\n",
       "      <th>reviews</th>\n",
       "      <th>URL_TA</th>\n",
       "      <th>ID_TA</th>\n",
       "    </tr>\n",
       "  </thead>\n",
       "  <tbody>\n",
       "    <tr>\n",
       "      <th>34327</th>\n",
       "      <td>id_7059</td>\n",
       "      <td>Madrid</td>\n",
       "      <td>NaN</td>\n",
       "      <td>7063.0</td>\n",
       "      <td>3.5</td>\n",
       "      <td>NaN</td>\n",
       "      <td>5.0</td>\n",
       "      <td>[[], []]</td>\n",
       "      <td>/Restaurant_Review-g187514-d8594581-Reviews-Ca...</td>\n",
       "      <td>d8594581</td>\n",
       "    </tr>\n",
       "    <tr>\n",
       "      <th>25844</th>\n",
       "      <td>id_115</td>\n",
       "      <td>Vienna</td>\n",
       "      <td>['Cafe', 'European', 'Central European', 'Aust...</td>\n",
       "      <td>116.0</td>\n",
       "      <td>4.5</td>\n",
       "      <td>$$ - $$$</td>\n",
       "      <td>236.0</td>\n",
       "      <td>[['Best hotel restaurant in Vienna?', 'Excelle...</td>\n",
       "      <td>/Restaurant_Review-g190454-d5953311-Reviews-Th...</td>\n",
       "      <td>d5953311</td>\n",
       "    </tr>\n",
       "    <tr>\n",
       "      <th>16325</th>\n",
       "      <td>id_2032</td>\n",
       "      <td>Stockholm</td>\n",
       "      <td>['French']</td>\n",
       "      <td>2035.0</td>\n",
       "      <td>4.0</td>\n",
       "      <td>NaN</td>\n",
       "      <td>11.0</td>\n",
       "      <td>[['Nice dinner', 'Thank you Martin'], ['11/10/...</td>\n",
       "      <td>/Restaurant_Review-g189852-d2653549-Reviews-Es...</td>\n",
       "      <td>d2653549</td>\n",
       "    </tr>\n",
       "    <tr>\n",
       "      <th>10694</th>\n",
       "      <td>id_5323</td>\n",
       "      <td>Berlin</td>\n",
       "      <td>['Indian']</td>\n",
       "      <td>5325.0</td>\n",
       "      <td>3.5</td>\n",
       "      <td>NaN</td>\n",
       "      <td>2.0</td>\n",
       "      <td>[['Hard to call it Indian'], ['10/12/2014']]</td>\n",
       "      <td>/Restaurant_Review-g187323-d5002881-Reviews-Re...</td>\n",
       "      <td>d5002881</td>\n",
       "    </tr>\n",
       "    <tr>\n",
       "      <th>17585</th>\n",
       "      <td>id_1568</td>\n",
       "      <td>Milan</td>\n",
       "      <td>['Italian', 'Seafood', 'Mediterranean']</td>\n",
       "      <td>1570.0</td>\n",
       "      <td>3.5</td>\n",
       "      <td>$$ - $$$</td>\n",
       "      <td>314.0</td>\n",
       "      <td>[['Somethings are ok, some could be better.', ...</td>\n",
       "      <td>/Restaurant_Review-g187849-d5593308-Reviews-Tr...</td>\n",
       "      <td>d5593308</td>\n",
       "    </tr>\n",
       "  </tbody>\n",
       "</table>\n",
       "</div>"
      ],
      "text/plain": [
       "      restaurant_id       city  \\\n",
       "34327       id_7059     Madrid   \n",
       "25844        id_115     Vienna   \n",
       "16325       id_2032  Stockholm   \n",
       "10694       id_5323     Berlin   \n",
       "17585       id_1568      Milan   \n",
       "\n",
       "                                           cuisine_style  ranking  rating  \\\n",
       "34327                                                NaN   7063.0     3.5   \n",
       "25844  ['Cafe', 'European', 'Central European', 'Aust...    116.0     4.5   \n",
       "16325                                         ['French']   2035.0     4.0   \n",
       "10694                                         ['Indian']   5325.0     3.5   \n",
       "17585            ['Italian', 'Seafood', 'Mediterranean']   1570.0     3.5   \n",
       "\n",
       "      price_range  number_of_reviews  \\\n",
       "34327         NaN                5.0   \n",
       "25844    $$ - $$$              236.0   \n",
       "16325         NaN               11.0   \n",
       "10694         NaN                2.0   \n",
       "17585    $$ - $$$              314.0   \n",
       "\n",
       "                                                 reviews  \\\n",
       "34327                                           [[], []]   \n",
       "25844  [['Best hotel restaurant in Vienna?', 'Excelle...   \n",
       "16325  [['Nice dinner', 'Thank you Martin'], ['11/10/...   \n",
       "10694       [['Hard to call it Indian'], ['10/12/2014']]   \n",
       "17585  [['Somethings are ok, some could be better.', ...   \n",
       "\n",
       "                                                  URL_TA     ID_TA  \n",
       "34327  /Restaurant_Review-g187514-d8594581-Reviews-Ca...  d8594581  \n",
       "25844  /Restaurant_Review-g190454-d5953311-Reviews-Th...  d5953311  \n",
       "16325  /Restaurant_Review-g189852-d2653549-Reviews-Es...  d2653549  \n",
       "10694  /Restaurant_Review-g187323-d5002881-Reviews-Re...  d5002881  \n",
       "17585  /Restaurant_Review-g187849-d5593308-Reviews-Tr...  d5593308  "
      ]
     },
     "execution_count": 73,
     "metadata": {},
     "output_type": "execute_result"
    }
   ],
   "source": [
    "df.sample(5)"
   ]
  },
  {
   "cell_type": "code",
   "execution_count": 74,
   "metadata": {},
   "outputs": [
    {
     "data": {
      "text/plain": [
       "str"
      ]
     },
     "execution_count": 74,
     "metadata": {},
     "output_type": "execute_result"
    }
   ],
   "source": [
    "type(df.loc[0,'reviews'])\n",
    "# data.loc[0,'reviews']"
   ]
  },
  {
   "cell_type": "markdown",
   "metadata": {},
   "source": [
    "На первом этапе для создания такого датафрейма давайте просто удалим столбцы, содержащие данные типа __object__, и заполним пропущенные значения (__None__ или __NaN__) каким-то одним значением (нулём или средним арифметическим) для всего столбца."
   ]
  },
  {
   "cell_type": "code",
   "execution_count": 75,
   "metadata": {},
   "outputs": [
    {
     "name": "stdout",
     "output_type": "stream",
     "text": [
      "<class 'pandas.core.frame.DataFrame'>\n",
      "RangeIndex: 40000 entries, 0 to 39999\n",
      "Data columns (total 10 columns):\n",
      " #   Column             Non-Null Count  Dtype  \n",
      "---  ------             --------------  -----  \n",
      " 0   restaurant_id      40000 non-null  object \n",
      " 1   city               40000 non-null  object \n",
      " 2   cuisine_style      30717 non-null  object \n",
      " 3   ranking            40000 non-null  float64\n",
      " 4   rating             40000 non-null  float64\n",
      " 5   price_range        26114 non-null  object \n",
      " 6   number_of_reviews  37457 non-null  float64\n",
      " 7   reviews            40000 non-null  object \n",
      " 8   URL_TA             40000 non-null  object \n",
      " 9   ID_TA              40000 non-null  object \n",
      "dtypes: float64(3), object(7)\n",
      "memory usage: 3.1+ MB\n"
     ]
    },
    {
     "data": {
      "text/plain": [
       "None"
      ]
     },
     "metadata": {},
     "output_type": "display_data"
    },
    {
     "data": {
      "text/html": [
       "<div>\n",
       "<style scoped>\n",
       "    .dataframe tbody tr th:only-of-type {\n",
       "        vertical-align: middle;\n",
       "    }\n",
       "\n",
       "    .dataframe tbody tr th {\n",
       "        vertical-align: top;\n",
       "    }\n",
       "\n",
       "    .dataframe thead th {\n",
       "        text-align: right;\n",
       "    }\n",
       "</style>\n",
       "<table border=\"1\" class=\"dataframe\">\n",
       "  <thead>\n",
       "    <tr style=\"text-align: right;\">\n",
       "      <th></th>\n",
       "      <th>restaurant_id</th>\n",
       "      <th>city</th>\n",
       "      <th>cuisine_style</th>\n",
       "      <th>ranking</th>\n",
       "      <th>rating</th>\n",
       "      <th>price_range</th>\n",
       "      <th>number_of_reviews</th>\n",
       "      <th>reviews</th>\n",
       "      <th>URL_TA</th>\n",
       "      <th>ID_TA</th>\n",
       "    </tr>\n",
       "  </thead>\n",
       "  <tbody>\n",
       "    <tr>\n",
       "      <th>8</th>\n",
       "      <td>id_2690</td>\n",
       "      <td>Vienna</td>\n",
       "      <td>NaN</td>\n",
       "      <td>2692.0</td>\n",
       "      <td>4.0</td>\n",
       "      <td>NaN</td>\n",
       "      <td>NaN</td>\n",
       "      <td>[[], []]</td>\n",
       "      <td>/Restaurant_Review-g190454-d12845029-Reviews-G...</td>\n",
       "      <td>d12845029</td>\n",
       "    </tr>\n",
       "    <tr>\n",
       "      <th>21</th>\n",
       "      <td>id_5844</td>\n",
       "      <td>Madrid</td>\n",
       "      <td>NaN</td>\n",
       "      <td>5847.0</td>\n",
       "      <td>4.0</td>\n",
       "      <td>NaN</td>\n",
       "      <td>NaN</td>\n",
       "      <td>[[], []]</td>\n",
       "      <td>/Restaurant_Review-g187514-d10058810-Reviews-B...</td>\n",
       "      <td>d10058810</td>\n",
       "    </tr>\n",
       "    <tr>\n",
       "      <th>32</th>\n",
       "      <td>id_1327</td>\n",
       "      <td>Budapest</td>\n",
       "      <td>NaN</td>\n",
       "      <td>1328.0</td>\n",
       "      <td>5.0</td>\n",
       "      <td>NaN</td>\n",
       "      <td>NaN</td>\n",
       "      <td>[['Absolutely amazing, tasty, fresh, cheap Ch....</td>\n",
       "      <td>/Restaurant_Review-g274887-d8791087-Reviews-Bu...</td>\n",
       "      <td>d8791087</td>\n",
       "    </tr>\n",
       "    <tr>\n",
       "      <th>102</th>\n",
       "      <td>id_1409</td>\n",
       "      <td>Budapest</td>\n",
       "      <td>['French', 'European', 'Hungarian']</td>\n",
       "      <td>1410.0</td>\n",
       "      <td>5.0</td>\n",
       "      <td>NaN</td>\n",
       "      <td>NaN</td>\n",
       "      <td>[[], []]</td>\n",
       "      <td>/Restaurant_Review-g274887-d13197631-Reviews-L...</td>\n",
       "      <td>d13197631</td>\n",
       "    </tr>\n",
       "    <tr>\n",
       "      <th>108</th>\n",
       "      <td>id_2047</td>\n",
       "      <td>Prague</td>\n",
       "      <td>['Italian', 'Mediterranean']</td>\n",
       "      <td>2050.0</td>\n",
       "      <td>5.0</td>\n",
       "      <td>$$ - $$$</td>\n",
       "      <td>NaN</td>\n",
       "      <td>[[], []]</td>\n",
       "      <td>/Restaurant_Review-g274707-d12243659-Reviews-T...</td>\n",
       "      <td>d12243659</td>\n",
       "    </tr>\n",
       "    <tr>\n",
       "      <th>...</th>\n",
       "      <td>...</td>\n",
       "      <td>...</td>\n",
       "      <td>...</td>\n",
       "      <td>...</td>\n",
       "      <td>...</td>\n",
       "      <td>...</td>\n",
       "      <td>...</td>\n",
       "      <td>...</td>\n",
       "      <td>...</td>\n",
       "      <td>...</td>\n",
       "    </tr>\n",
       "    <tr>\n",
       "      <th>39965</th>\n",
       "      <td>id_5720</td>\n",
       "      <td>Rome</td>\n",
       "      <td>NaN</td>\n",
       "      <td>5722.0</td>\n",
       "      <td>5.0</td>\n",
       "      <td>NaN</td>\n",
       "      <td>NaN</td>\n",
       "      <td>[[], []]</td>\n",
       "      <td>/Restaurant_Review-g187791-d793376-Reviews-Wes...</td>\n",
       "      <td>d793376</td>\n",
       "    </tr>\n",
       "    <tr>\n",
       "      <th>39972</th>\n",
       "      <td>id_2009</td>\n",
       "      <td>Prague</td>\n",
       "      <td>['Cafe', 'Delicatessen', 'Healthy', 'Wine Bar'...</td>\n",
       "      <td>2012.0</td>\n",
       "      <td>5.0</td>\n",
       "      <td>$</td>\n",
       "      <td>NaN</td>\n",
       "      <td>[['Personal expirence'], ['10/27/2017']]</td>\n",
       "      <td>/Restaurant_Review-g274707-d12981295-Reviews-M...</td>\n",
       "      <td>d12981295</td>\n",
       "    </tr>\n",
       "    <tr>\n",
       "      <th>39986</th>\n",
       "      <td>id_7274</td>\n",
       "      <td>Madrid</td>\n",
       "      <td>NaN</td>\n",
       "      <td>7279.0</td>\n",
       "      <td>3.0</td>\n",
       "      <td>NaN</td>\n",
       "      <td>NaN</td>\n",
       "      <td>[[], []]</td>\n",
       "      <td>/Restaurant_Review-g187514-d12182212-Reviews-C...</td>\n",
       "      <td>d12182212</td>\n",
       "    </tr>\n",
       "    <tr>\n",
       "      <th>39988</th>\n",
       "      <td>id_4968</td>\n",
       "      <td>Berlin</td>\n",
       "      <td>NaN</td>\n",
       "      <td>4970.0</td>\n",
       "      <td>4.0</td>\n",
       "      <td>NaN</td>\n",
       "      <td>NaN</td>\n",
       "      <td>[[], []]</td>\n",
       "      <td>/Restaurant_Review-g187323-d7761701-Reviews-Ar...</td>\n",
       "      <td>d7761701</td>\n",
       "    </tr>\n",
       "    <tr>\n",
       "      <th>39989</th>\n",
       "      <td>id_8887</td>\n",
       "      <td>London</td>\n",
       "      <td>['International']</td>\n",
       "      <td>8896.0</td>\n",
       "      <td>5.0</td>\n",
       "      <td>NaN</td>\n",
       "      <td>NaN</td>\n",
       "      <td>[['I love this place!'], ['08/24/2015']]</td>\n",
       "      <td>/Restaurant_Review-g186338-d5550626-Reviews-Th...</td>\n",
       "      <td>d5550626</td>\n",
       "    </tr>\n",
       "  </tbody>\n",
       "</table>\n",
       "<p>2543 rows × 10 columns</p>\n",
       "</div>"
      ],
      "text/plain": [
       "      restaurant_id      city  \\\n",
       "8           id_2690    Vienna   \n",
       "21          id_5844    Madrid   \n",
       "32          id_1327  Budapest   \n",
       "102         id_1409  Budapest   \n",
       "108         id_2047    Prague   \n",
       "...             ...       ...   \n",
       "39965       id_5720      Rome   \n",
       "39972       id_2009    Prague   \n",
       "39986       id_7274    Madrid   \n",
       "39988       id_4968    Berlin   \n",
       "39989       id_8887    London   \n",
       "\n",
       "                                           cuisine_style  ranking  rating  \\\n",
       "8                                                    NaN   2692.0     4.0   \n",
       "21                                                   NaN   5847.0     4.0   \n",
       "32                                                   NaN   1328.0     5.0   \n",
       "102                  ['French', 'European', 'Hungarian']   1410.0     5.0   \n",
       "108                         ['Italian', 'Mediterranean']   2050.0     5.0   \n",
       "...                                                  ...      ...     ...   \n",
       "39965                                                NaN   5722.0     5.0   \n",
       "39972  ['Cafe', 'Delicatessen', 'Healthy', 'Wine Bar'...   2012.0     5.0   \n",
       "39986                                                NaN   7279.0     3.0   \n",
       "39988                                                NaN   4970.0     4.0   \n",
       "39989                                  ['International']   8896.0     5.0   \n",
       "\n",
       "      price_range  number_of_reviews  \\\n",
       "8             NaN                NaN   \n",
       "21            NaN                NaN   \n",
       "32            NaN                NaN   \n",
       "102           NaN                NaN   \n",
       "108      $$ - $$$                NaN   \n",
       "...           ...                ...   \n",
       "39965         NaN                NaN   \n",
       "39972           $                NaN   \n",
       "39986         NaN                NaN   \n",
       "39988         NaN                NaN   \n",
       "39989         NaN                NaN   \n",
       "\n",
       "                                                 reviews  \\\n",
       "8                                               [[], []]   \n",
       "21                                              [[], []]   \n",
       "32     [['Absolutely amazing, tasty, fresh, cheap Ch....   \n",
       "102                                             [[], []]   \n",
       "108                                             [[], []]   \n",
       "...                                                  ...   \n",
       "39965                                           [[], []]   \n",
       "39972           [['Personal expirence'], ['10/27/2017']]   \n",
       "39986                                           [[], []]   \n",
       "39988                                           [[], []]   \n",
       "39989           [['I love this place!'], ['08/24/2015']]   \n",
       "\n",
       "                                                  URL_TA      ID_TA  \n",
       "8      /Restaurant_Review-g190454-d12845029-Reviews-G...  d12845029  \n",
       "21     /Restaurant_Review-g187514-d10058810-Reviews-B...  d10058810  \n",
       "32     /Restaurant_Review-g274887-d8791087-Reviews-Bu...   d8791087  \n",
       "102    /Restaurant_Review-g274887-d13197631-Reviews-L...  d13197631  \n",
       "108    /Restaurant_Review-g274707-d12243659-Reviews-T...  d12243659  \n",
       "...                                                  ...        ...  \n",
       "39965  /Restaurant_Review-g187791-d793376-Reviews-Wes...    d793376  \n",
       "39972  /Restaurant_Review-g274707-d12981295-Reviews-M...  d12981295  \n",
       "39986  /Restaurant_Review-g187514-d12182212-Reviews-C...  d12182212  \n",
       "39988  /Restaurant_Review-g187323-d7761701-Reviews-Ar...   d7761701  \n",
       "39989  /Restaurant_Review-g186338-d5550626-Reviews-Th...   d5550626  \n",
       "\n",
       "[2543 rows x 10 columns]"
      ]
     },
     "execution_count": 75,
     "metadata": {},
     "output_type": "execute_result"
    }
   ],
   "source": [
    "df_1 = df.copy()\n",
    "display(df_1.info())\n",
    "df_1[df_1.number_of_reviews.isna()]"
   ]
  },
  {
   "cell_type": "code",
   "execution_count": 76,
   "metadata": {},
   "outputs": [
    {
     "name": "stdout",
     "output_type": "stream",
     "text": [
      "<class 'pandas.core.frame.DataFrame'>\n",
      "RangeIndex: 40000 entries, 0 to 39999\n",
      "Data columns (total 3 columns):\n",
      " #   Column             Non-Null Count  Dtype  \n",
      "---  ------             --------------  -----  \n",
      " 0   ranking            40000 non-null  float64\n",
      " 1   rating             40000 non-null  float64\n",
      " 2   number_of_reviews  40000 non-null  float64\n",
      "dtypes: float64(3)\n",
      "memory usage: 937.6 KB\n"
     ]
    },
    {
     "data": {
      "text/plain": [
       "None"
      ]
     },
     "metadata": {},
     "output_type": "display_data"
    },
    {
     "data": {
      "text/html": [
       "<div>\n",
       "<style scoped>\n",
       "    .dataframe tbody tr th:only-of-type {\n",
       "        vertical-align: middle;\n",
       "    }\n",
       "\n",
       "    .dataframe tbody tr th {\n",
       "        vertical-align: top;\n",
       "    }\n",
       "\n",
       "    .dataframe thead th {\n",
       "        text-align: right;\n",
       "    }\n",
       "</style>\n",
       "<table border=\"1\" class=\"dataframe\">\n",
       "  <thead>\n",
       "    <tr style=\"text-align: right;\">\n",
       "      <th></th>\n",
       "      <th>restaurant_id</th>\n",
       "      <th>city</th>\n",
       "      <th>cuisine_style</th>\n",
       "      <th>ranking</th>\n",
       "      <th>rating</th>\n",
       "      <th>price_range</th>\n",
       "      <th>number_of_reviews</th>\n",
       "      <th>reviews</th>\n",
       "      <th>URL_TA</th>\n",
       "      <th>ID_TA</th>\n",
       "    </tr>\n",
       "  </thead>\n",
       "  <tbody>\n",
       "  </tbody>\n",
       "</table>\n",
       "</div>"
      ],
      "text/plain": [
       "Empty DataFrame\n",
       "Columns: [restaurant_id, city, cuisine_style, ranking, rating, price_range, number_of_reviews, reviews, URL_TA, ID_TA]\n",
       "Index: []"
      ]
     },
     "execution_count": 76,
     "metadata": {},
     "output_type": "execute_result"
    }
   ],
   "source": [
    "#  удалим все нечисловые колонки\n",
    "\n",
    "df_1 = df_1.drop([column  for column in df_1.columns if df_1[column].dtype == 'O'],axis=1)\n",
    "df_1.number_of_reviews = df_1.number_of_reviews.fillna(0)\n",
    "display(df_1.info())\n",
    "df[df_1.number_of_reviews.isna()]  # выведем все нулевые значения"
   ]
  },
  {
   "cell_type": "markdown",
   "metadata": {},
   "source": [
    "нулевых значений нет"
   ]
  },
  {
   "cell_type": "code",
   "execution_count": 77,
   "metadata": {},
   "outputs": [],
   "source": [
    "# Разбиваем датафрейм на части, необходимые для обучения и тестирования модели  \n",
    "    # Х - данные с информацией о ресторанах, у - целевая переменная (рейтинги ресторанов)  \n",
    "# X = df.drop(['restaurant_id', 'rating'], axis = 1)  \n",
    "X = df_1.drop(['rating'], axis = 1)  \n",
    "\n",
    "y = df_1['rating']  \n",
    "      \n",
    "    # Загружаем специальный инструмент для разбивки:  убрано наверх\n",
    "#     from sklearn.model_selection import train_test_split   \n",
    "    \n",
    "      \n",
    "    # Наборы данных с меткой \"train\" будут использоваться для обучения модели, \"test\" - для тестирования.  \n",
    "    # Для тестирования мы будем использовать 25% от исходного датасета.  \n",
    "X_train, X_test, y_train, y_test = train_test_split(X, y, test_size=0.25)\n",
    "    "
   ]
  },
  {
   "cell_type": "code",
   "execution_count": 78,
   "metadata": {},
   "outputs": [],
   "source": [
    "# Импортируем необходимые библиотеки: убрано наверх \n",
    "#     from sklearn.ensemble import RandomForestRegressor # инструмент для создания и обучения модели  \n",
    "#     from sklearn import metrics # инструменты для оценки точности модели  \n",
    "      \n",
    "    # Создаём модель  \n",
    "regr = RandomForestRegressor(n_estimators=100)  \n",
    "      \n",
    "    # Обучаем модель на тестовом наборе данных  \n",
    "regr.fit(X_train, y_train)  \n",
    "      \n",
    "    # Используем обученную модель для предсказания рейтинга ресторанов в тестовой выборке.  \n",
    "    # Предсказанные значения записываем в переменную y_pred  \n",
    "y_pred = regr.predict(X_test)  "
   ]
  },
  {
   "cell_type": "code",
   "execution_count": 79,
   "metadata": {},
   "outputs": [
    {
     "name": "stdout",
     "output_type": "stream",
     "text": [
      "MAE: 0.42369834812409807\n"
     ]
    }
   ],
   "source": [
    "# Сравниваем предсказанные значения (y_pred) с реальными (y_test), и смотрим насколько они в среднем отличаются  \n",
    "# Метрика называется Mean Absolute Error (MAE) и показывает среднее отклонение предсказанных значений от фактических.  \n",
    "print('MAE:', metrics.mean_absolute_error(y_test, y_pred))  "
   ]
  },
  {
   "cell_type": "markdown",
   "metadata": {},
   "source": [
    " 4.1 Вопросы о ценах\n",
    "\n",
    "Сколько вариантов непустых значений встречается в столбце Price Range?"
   ]
  },
  {
   "cell_type": "code",
   "execution_count": 80,
   "metadata": {},
   "outputs": [],
   "source": [
    "df_4 = main_task.copy()"
   ]
  },
  {
   "cell_type": "code",
   "execution_count": 81,
   "metadata": {},
   "outputs": [
    {
     "data": {
      "text/plain": [
       "3"
      ]
     },
     "metadata": {},
     "output_type": "display_data"
    },
    {
     "data": {
      "text/plain": [
       "['$$ - $$$', '$$$$', '$']"
      ]
     },
     "metadata": {},
     "output_type": "display_data"
    }
   ],
   "source": [
    "variants = [element for element in(df.price_range.unique()) if type(element) == str]\n",
    "display(len(variants),variants)"
   ]
  },
  {
   "cell_type": "code",
   "execution_count": 82,
   "metadata": {},
   "outputs": [
    {
     "data": {
      "text/html": [
       "<div>\n",
       "<style scoped>\n",
       "    .dataframe tbody tr th:only-of-type {\n",
       "        vertical-align: middle;\n",
       "    }\n",
       "\n",
       "    .dataframe tbody tr th {\n",
       "        vertical-align: top;\n",
       "    }\n",
       "\n",
       "    .dataframe thead th {\n",
       "        text-align: right;\n",
       "    }\n",
       "</style>\n",
       "<table border=\"1\" class=\"dataframe\">\n",
       "  <thead>\n",
       "    <tr style=\"text-align: right;\">\n",
       "      <th></th>\n",
       "      <th>restaurant_id</th>\n",
       "      <th>city</th>\n",
       "      <th>cuisine_style</th>\n",
       "      <th>ranking</th>\n",
       "      <th>rating</th>\n",
       "      <th>price_range</th>\n",
       "      <th>number_of_reviews</th>\n",
       "      <th>reviews</th>\n",
       "      <th>URL_TA</th>\n",
       "      <th>ID_TA</th>\n",
       "    </tr>\n",
       "  </thead>\n",
       "  <tbody>\n",
       "    <tr>\n",
       "      <th>38019</th>\n",
       "      <td>id_2135</td>\n",
       "      <td>Munich</td>\n",
       "      <td>['Indian', 'Asian', 'Vegetarian Friendly']</td>\n",
       "      <td>2151.0</td>\n",
       "      <td>3.5</td>\n",
       "      <td>$$ - $$$</td>\n",
       "      <td>175.0</td>\n",
       "      <td>[['Authentic Indian Food', 'Good food and serv...</td>\n",
       "      <td>/Restaurant_Review-g187309-d1872950-Reviews-Ga...</td>\n",
       "      <td>d1872950</td>\n",
       "    </tr>\n",
       "  </tbody>\n",
       "</table>\n",
       "</div>"
      ],
      "text/plain": [
       "      restaurant_id    city                               cuisine_style  \\\n",
       "38019       id_2135  Munich  ['Indian', 'Asian', 'Vegetarian Friendly']   \n",
       "\n",
       "       ranking  rating price_range  number_of_reviews  \\\n",
       "38019   2151.0     3.5    $$ - $$$              175.0   \n",
       "\n",
       "                                                 reviews  \\\n",
       "38019  [['Authentic Indian Food', 'Good food and serv...   \n",
       "\n",
       "                                                  URL_TA     ID_TA  \n",
       "38019  /Restaurant_Review-g187309-d1872950-Reviews-Ga...  d1872950  "
      ]
     },
     "execution_count": 82,
     "metadata": {},
     "output_type": "execute_result"
    }
   ],
   "source": [
    "df.sample()"
   ]
  },
  {
   "cell_type": "markdown",
   "metadata": {},
   "source": [
    "Сколько ресторанов относятся к среднему ценовому сегменту?"
   ]
  },
  {
   "cell_type": "code",
   "execution_count": 83,
   "metadata": {},
   "outputs": [
    {
     "data": {
      "text/plain": [
       "18412"
      ]
     },
     "execution_count": 83,
     "metadata": {},
     "output_type": "execute_result"
    }
   ],
   "source": [
    "len(df[df.price_range == '$$ - $$$'])"
   ]
  },
  {
   "cell_type": "markdown",
   "metadata": {},
   "source": [
    " 4.2 Вопрос о городах  \n",
    "1 point possible (graded)  \n",
    "Сколько городов представлено в наборе данных?"
   ]
  },
  {
   "cell_type": "code",
   "execution_count": 84,
   "metadata": {},
   "outputs": [
    {
     "data": {
      "text/plain": [
       "31"
      ]
     },
     "execution_count": 84,
     "metadata": {},
     "output_type": "execute_result"
    }
   ],
   "source": [
    "len(df.city.unique())"
   ]
  },
  {
   "cell_type": "markdown",
   "metadata": {},
   "source": [
    "## 4.3 Вопросы о кухнях\n",
    "\n",
    "Сколько типов кухонь представлено в наборе данных?"
   ]
  },
  {
   "cell_type": "code",
   "execution_count": 85,
   "metadata": {},
   "outputs": [
    {
     "data": {
      "text/html": [
       "<div>\n",
       "<style scoped>\n",
       "    .dataframe tbody tr th:only-of-type {\n",
       "        vertical-align: middle;\n",
       "    }\n",
       "\n",
       "    .dataframe tbody tr th {\n",
       "        vertical-align: top;\n",
       "    }\n",
       "\n",
       "    .dataframe thead th {\n",
       "        text-align: right;\n",
       "    }\n",
       "</style>\n",
       "<table border=\"1\" class=\"dataframe\">\n",
       "  <thead>\n",
       "    <tr style=\"text-align: right;\">\n",
       "      <th></th>\n",
       "      <th>restaurant_id</th>\n",
       "      <th>city</th>\n",
       "      <th>cuisine_style</th>\n",
       "      <th>ranking</th>\n",
       "      <th>rating</th>\n",
       "      <th>price_range</th>\n",
       "      <th>number_of_reviews</th>\n",
       "      <th>reviews</th>\n",
       "      <th>URL_TA</th>\n",
       "      <th>ID_TA</th>\n",
       "    </tr>\n",
       "  </thead>\n",
       "  <tbody>\n",
       "    <tr>\n",
       "      <th>0</th>\n",
       "      <td>id_5569</td>\n",
       "      <td>Paris</td>\n",
       "      <td>European</td>\n",
       "      <td>5570.0</td>\n",
       "      <td>3.5</td>\n",
       "      <td>$$ - $$$</td>\n",
       "      <td>194.0</td>\n",
       "      <td>[['Good food at your doorstep', 'A good hotel ...</td>\n",
       "      <td>/Restaurant_Review-g187147-d1912643-Reviews-R_...</td>\n",
       "      <td>d1912643</td>\n",
       "    </tr>\n",
       "    <tr>\n",
       "      <th>0</th>\n",
       "      <td>id_5569</td>\n",
       "      <td>Paris</td>\n",
       "      <td>French</td>\n",
       "      <td>5570.0</td>\n",
       "      <td>3.5</td>\n",
       "      <td>$$ - $$$</td>\n",
       "      <td>194.0</td>\n",
       "      <td>[['Good food at your doorstep', 'A good hotel ...</td>\n",
       "      <td>/Restaurant_Review-g187147-d1912643-Reviews-R_...</td>\n",
       "      <td>d1912643</td>\n",
       "    </tr>\n",
       "    <tr>\n",
       "      <th>0</th>\n",
       "      <td>id_5569</td>\n",
       "      <td>Paris</td>\n",
       "      <td>International</td>\n",
       "      <td>5570.0</td>\n",
       "      <td>3.5</td>\n",
       "      <td>$$ - $$$</td>\n",
       "      <td>194.0</td>\n",
       "      <td>[['Good food at your doorstep', 'A good hotel ...</td>\n",
       "      <td>/Restaurant_Review-g187147-d1912643-Reviews-R_...</td>\n",
       "      <td>d1912643</td>\n",
       "    </tr>\n",
       "    <tr>\n",
       "      <th>1</th>\n",
       "      <td>id_1535</td>\n",
       "      <td>Stockholm</td>\n",
       "      <td>NaN</td>\n",
       "      <td>1537.0</td>\n",
       "      <td>4.0</td>\n",
       "      <td>NaN</td>\n",
       "      <td>10.0</td>\n",
       "      <td>[['Unique cuisine', 'Delicious Nepalese food']...</td>\n",
       "      <td>/Restaurant_Review-g189852-d7992032-Reviews-Bu...</td>\n",
       "      <td>d7992032</td>\n",
       "    </tr>\n",
       "    <tr>\n",
       "      <th>2</th>\n",
       "      <td>id_352</td>\n",
       "      <td>London</td>\n",
       "      <td>Japanese</td>\n",
       "      <td>353.0</td>\n",
       "      <td>4.5</td>\n",
       "      <td>$$$$</td>\n",
       "      <td>688.0</td>\n",
       "      <td>[['Catch up with friends', 'Not exceptional'],...</td>\n",
       "      <td>/Restaurant_Review-g186338-d8632781-Reviews-RO...</td>\n",
       "      <td>d8632781</td>\n",
       "    </tr>\n",
       "  </tbody>\n",
       "</table>\n",
       "</div>"
      ],
      "text/plain": [
       "  restaurant_id       city  cuisine_style  ranking  rating price_range  \\\n",
       "0       id_5569      Paris       European   5570.0     3.5    $$ - $$$   \n",
       "0       id_5569      Paris         French   5570.0     3.5    $$ - $$$   \n",
       "0       id_5569      Paris  International   5570.0     3.5    $$ - $$$   \n",
       "1       id_1535  Stockholm            NaN   1537.0     4.0         NaN   \n",
       "2        id_352     London       Japanese    353.0     4.5        $$$$   \n",
       "\n",
       "   number_of_reviews                                            reviews  \\\n",
       "0              194.0  [['Good food at your doorstep', 'A good hotel ...   \n",
       "0              194.0  [['Good food at your doorstep', 'A good hotel ...   \n",
       "0              194.0  [['Good food at your doorstep', 'A good hotel ...   \n",
       "1               10.0  [['Unique cuisine', 'Delicious Nepalese food']...   \n",
       "2              688.0  [['Catch up with friends', 'Not exceptional'],...   \n",
       "\n",
       "                                              URL_TA     ID_TA  \n",
       "0  /Restaurant_Review-g187147-d1912643-Reviews-R_...  d1912643  \n",
       "0  /Restaurant_Review-g187147-d1912643-Reviews-R_...  d1912643  \n",
       "0  /Restaurant_Review-g187147-d1912643-Reviews-R_...  d1912643  \n",
       "1  /Restaurant_Review-g189852-d7992032-Reviews-Bu...  d7992032  \n",
       "2  /Restaurant_Review-g186338-d8632781-Reviews-RO...  d8632781  "
      ]
     },
     "execution_count": 85,
     "metadata": {},
     "output_type": "execute_result"
    }
   ],
   "source": [
    "df = main_task.copy()\n",
    "df.cuisine_style = df.cuisine_style.str.replace(\"'\", '')\n",
    "df.cuisine_style = df.cuisine_style.str.replace(\"[\", '')\n",
    "df.cuisine_style = df.cuisine_style.str.replace(\"]\", '')\n",
    "df.cuisine_style = df.cuisine_style.str.replace(\" \", '')\n",
    "df.cuisine_style = df.cuisine_style.str.split(',')\n",
    "df = df.explode('cuisine_style')\n",
    "df.head()"
   ]
  },
  {
   "cell_type": "code",
   "execution_count": 86,
   "metadata": {},
   "outputs": [
    {
     "data": {
      "text/plain": [
       "str"
      ]
     },
     "metadata": {},
     "output_type": "display_data"
    },
    {
     "data": {
      "text/plain": [
       "\"European', 'French', 'International\""
      ]
     },
     "execution_count": 86,
     "metadata": {},
     "output_type": "execute_result"
    }
   ],
   "source": [
    "# не работает, пока что\n",
    "df_4 = main_task.copy()\n",
    "\n",
    "# df_4.cuisine_style = df_4.cuisine_style.str.replace((\"'\",\"[\",\"]\",\" \"), '')\n",
    "df_4.cuisine_style = df_4.cuisine_style.str.strip(\"'' []\")\n",
    "\n",
    "# df_4.cuisine_style = df_4.cuisine_style.str.strip()\n",
    "# df_4.cuisine_style = df_4.cuisine_style.str.split(',')\n",
    "# df_4 = df_4.explode('cuisine_style')\n",
    "display(type(df_4.cuisine_style.loc[0]))\n",
    "df_4.cuisine_style.loc[0]"
   ]
  },
  {
   "cell_type": "code",
   "execution_count": 87,
   "metadata": {},
   "outputs": [
    {
     "data": {
      "text/plain": [
       "125"
      ]
     },
     "metadata": {},
     "output_type": "display_data"
    },
    {
     "data": {
      "text/plain": [
       "VegetarianFriendly    11189\n",
       "European              10060\n",
       "Mediterranean          6277\n",
       "Italian                5964\n",
       "VeganOptions           4486\n",
       "                      ...  \n",
       "Xinjiang                  1\n",
       "Yunnan                    1\n",
       "Latvian                   1\n",
       "Burmese                   1\n",
       "Salvadoran                1\n",
       "Name: cuisine_style, Length: 125, dtype: int64"
      ]
     },
     "execution_count": 87,
     "metadata": {},
     "output_type": "execute_result"
    }
   ],
   "source": [
    "cuisine = [element for element in (df.cuisine_style.unique()) if type(element) == str]\n",
    "display(len(cuisine))\n",
    "df.cuisine_style.value_counts()"
   ]
  },
  {
   "cell_type": "markdown",
   "metadata": {},
   "source": [
    "Какое среднее количество кухонь предлагается в одном ресторане? Если в данных отсутствует информация о типах кухонь, то считайте, что в этом ресторане предлагается только один тип кухни. Ответ округлите до одного знака после запятой."
   ]
  },
  {
   "cell_type": "code",
   "execution_count": 88,
   "metadata": {},
   "outputs": [
    {
     "data": {
      "text/plain": [
       "2.6"
      ]
     },
     "execution_count": 88,
     "metadata": {},
     "output_type": "execute_result"
    }
   ],
   "source": [
    "df4 = main_task.copy()\n",
    "df4.cuisine_style = df4.cuisine_style.str.replace(\"'\", '')\n",
    "df4.cuisine_style = df4.cuisine_style.str.replace(\"[\", '')\n",
    "df4.cuisine_style = df4.cuisine_style.str.replace(\"]\", '')\n",
    "df4.cuisine_style = df4.cuisine_style.str.replace(\" \", '')\n",
    "df4.cuisine_style = df4.cuisine_style.str.split(',')\n",
    "\n",
    "def return_count(value):\n",
    "    if type(value) == list:\n",
    "        return len(value)\n",
    "    else: return 1\n",
    "df4['cuisine_number'] = df4.cuisine_style.apply(return_count)\n",
    "round(df4.cuisine_number.mean(),1)"
   ]
  },
  {
   "cell_type": "markdown",
   "metadata": {},
   "source": [
    "## 4.4 Вопросы об отзывах\n",
    "\n",
    "Когда был оставлен самый свежий отзыв? Введите ответ в формате yyyy-mm-dd.\n"
   ]
  },
  {
   "cell_type": "code",
   "execution_count": 89,
   "metadata": {},
   "outputs": [
    {
     "data": {
      "text/html": [
       "<div>\n",
       "<style scoped>\n",
       "    .dataframe tbody tr th:only-of-type {\n",
       "        vertical-align: middle;\n",
       "    }\n",
       "\n",
       "    .dataframe tbody tr th {\n",
       "        vertical-align: top;\n",
       "    }\n",
       "\n",
       "    .dataframe thead th {\n",
       "        text-align: right;\n",
       "    }\n",
       "</style>\n",
       "<table border=\"1\" class=\"dataframe\">\n",
       "  <thead>\n",
       "    <tr style=\"text-align: right;\">\n",
       "      <th></th>\n",
       "      <th>restaurant_id</th>\n",
       "      <th>city</th>\n",
       "      <th>cuisine_style</th>\n",
       "      <th>ranking</th>\n",
       "      <th>rating</th>\n",
       "      <th>price_range</th>\n",
       "      <th>number_of_reviews</th>\n",
       "      <th>reviews</th>\n",
       "      <th>URL_TA</th>\n",
       "      <th>ID_TA</th>\n",
       "    </tr>\n",
       "  </thead>\n",
       "  <tbody>\n",
       "    <tr>\n",
       "      <th>25822</th>\n",
       "      <td>id_6037</td>\n",
       "      <td>Barcelona</td>\n",
       "      <td>['Mediterranean', 'Spanish', 'Vegetarian Frien...</td>\n",
       "      <td>6038.0</td>\n",
       "      <td>4.0</td>\n",
       "      <td>$$ - $$$</td>\n",
       "      <td>22.0</td>\n",
       "      <td>[['Decent option in this particular neighborh....</td>\n",
       "      <td>/Restaurant_Review-g187497-d6706007-Reviews-Ab...</td>\n",
       "      <td>d6706007</td>\n",
       "    </tr>\n",
       "  </tbody>\n",
       "</table>\n",
       "</div>"
      ],
      "text/plain": [
       "      restaurant_id       city  \\\n",
       "25822       id_6037  Barcelona   \n",
       "\n",
       "                                           cuisine_style  ranking  rating  \\\n",
       "25822  ['Mediterranean', 'Spanish', 'Vegetarian Frien...   6038.0     4.0   \n",
       "\n",
       "      price_range  number_of_reviews  \\\n",
       "25822    $$ - $$$               22.0   \n",
       "\n",
       "                                                 reviews  \\\n",
       "25822  [['Decent option in this particular neighborh....   \n",
       "\n",
       "                                                  URL_TA     ID_TA  \n",
       "25822  /Restaurant_Review-g187497-d6706007-Reviews-Ab...  d6706007  "
      ]
     },
     "metadata": {},
     "output_type": "display_data"
    },
    {
     "data": {
      "text/plain": [
       "\"[['Good food at your doorstep', 'A good hotel restaurant'], ['12/31/2017', '11/20/2017']]\""
      ]
     },
     "execution_count": 89,
     "metadata": {},
     "output_type": "execute_result"
    }
   ],
   "source": [
    "df = main_task.copy()\n",
    "display(df.sample())\n",
    "df.reviews.loc[0]\n"
   ]
  },
  {
   "cell_type": "code",
   "execution_count": 90,
   "metadata": {},
   "outputs": [
    {
     "data": {
      "text/plain": [
       "['12/31/2017', '11/20/2017']"
      ]
     },
     "execution_count": 90,
     "metadata": {},
     "output_type": "execute_result"
    }
   ],
   "source": [
    "pattern = re.compile('\\d+\\W\\d+\\W\\d\\d\\d\\d')\n",
    "df['reviews_date'] = df.reviews.apply(lambda x: pattern.findall(str(x)))\n",
    "# df['reviews_date'] = df.reviews.str.replace(pattern, '')\n",
    "df.reviews_date.loc[0]"
   ]
  },
  {
   "cell_type": "code",
   "execution_count": 91,
   "metadata": {},
   "outputs": [
    {
     "data": {
      "text/plain": [
       "[]"
      ]
     },
     "execution_count": 91,
     "metadata": {},
     "output_type": "execute_result"
    }
   ],
   "source": [
    "df.reviews_date.loc[8]"
   ]
  },
  {
   "cell_type": "code",
   "execution_count": 92,
   "metadata": {},
   "outputs": [],
   "source": [
    "r_date = pd.DataFrame(df.reviews_date.explode())\n",
    "r_date.reviews_date = pd.to_datetime(r_date.reviews_date)"
   ]
  },
  {
   "cell_type": "code",
   "execution_count": 93,
   "metadata": {},
   "outputs": [
    {
     "data": {
      "text/plain": [
       "Timestamp('2018-02-26 00:00:00')"
      ]
     },
     "execution_count": 93,
     "metadata": {},
     "output_type": "execute_result"
    }
   ],
   "source": [
    "r_date.reviews_date.max()"
   ]
  },
  {
   "cell_type": "markdown",
   "metadata": {},
   "source": [
    "Какое максимальное количество дней отделяет даты публикации отзывов, размещённых на сайте ресторана? Введите количество дней в виде целого числа."
   ]
  },
  {
   "cell_type": "code",
   "execution_count": 94,
   "metadata": {},
   "outputs": [
    {
     "data": {
      "text/plain": [
       "reviews_date   3207 days\n",
       "dtype: timedelta64[ns]"
      ]
     },
     "execution_count": 94,
     "metadata": {},
     "output_type": "execute_result"
    }
   ],
   "source": [
    "first_review = r_date.groupby(r_date.index).min()\n",
    "last_review = r_date.groupby(r_date.index).max()\n",
    "delta_time = last_review - first_review\n",
    "delta_time.max()"
   ]
  },
  {
   "cell_type": "markdown",
   "metadata": {},
   "source": [
    "# Добавим к датафрейму три переменные: время публикации последнего отзыва, время публиккации предпоследнего отзыва и разницу в днях между ними."
   ]
  },
  {
   "cell_type": "code",
   "execution_count": 95,
   "metadata": {},
   "outputs": [
    {
     "data": {
      "text/html": [
       "<div>\n",
       "<style scoped>\n",
       "    .dataframe tbody tr th:only-of-type {\n",
       "        vertical-align: middle;\n",
       "    }\n",
       "\n",
       "    .dataframe tbody tr th {\n",
       "        vertical-align: top;\n",
       "    }\n",
       "\n",
       "    .dataframe thead th {\n",
       "        text-align: right;\n",
       "    }\n",
       "</style>\n",
       "<table border=\"1\" class=\"dataframe\">\n",
       "  <thead>\n",
       "    <tr style=\"text-align: right;\">\n",
       "      <th></th>\n",
       "      <th>restaurant_id</th>\n",
       "      <th>city</th>\n",
       "      <th>cuisine_style</th>\n",
       "      <th>ranking</th>\n",
       "      <th>rating</th>\n",
       "      <th>price_range</th>\n",
       "      <th>number_of_reviews</th>\n",
       "      <th>reviews</th>\n",
       "      <th>URL_TA</th>\n",
       "      <th>ID_TA</th>\n",
       "      <th>reviews_date</th>\n",
       "      <th>delta_reviews_time</th>\n",
       "      <th>first_review_time</th>\n",
       "      <th>last_review_time</th>\n",
       "    </tr>\n",
       "  </thead>\n",
       "  <tbody>\n",
       "    <tr>\n",
       "      <th>13775</th>\n",
       "      <td>id_1426</td>\n",
       "      <td>Oporto</td>\n",
       "      <td>['Mediterranean', 'European', 'Portuguese']</td>\n",
       "      <td>1427.0</td>\n",
       "      <td>3.0</td>\n",
       "      <td>$$ - $$$</td>\n",
       "      <td>268.0</td>\n",
       "      <td>[['Ok, nothing special', 'No. Just no.'], ['07...</td>\n",
       "      <td>/Restaurant_Review-g189180-d3403744-Reviews-Fi...</td>\n",
       "      <td>d3403744</td>\n",
       "      <td>[07/03/2017, 02/20/2018]</td>\n",
       "      <td>232 days</td>\n",
       "      <td>2017-07-03</td>\n",
       "      <td>2018-02-20</td>\n",
       "    </tr>\n",
       "  </tbody>\n",
       "</table>\n",
       "</div>"
      ],
      "text/plain": [
       "      restaurant_id    city                                cuisine_style  \\\n",
       "13775       id_1426  Oporto  ['Mediterranean', 'European', 'Portuguese']   \n",
       "\n",
       "       ranking  rating price_range  number_of_reviews  \\\n",
       "13775   1427.0     3.0    $$ - $$$              268.0   \n",
       "\n",
       "                                                 reviews  \\\n",
       "13775  [['Ok, nothing special', 'No. Just no.'], ['07...   \n",
       "\n",
       "                                                  URL_TA     ID_TA  \\\n",
       "13775  /Restaurant_Review-g189180-d3403744-Reviews-Fi...  d3403744   \n",
       "\n",
       "                   reviews_date delta_reviews_time first_review_time  \\\n",
       "13775  [07/03/2017, 02/20/2018]           232 days        2017-07-03   \n",
       "\n",
       "      last_review_time  \n",
       "13775       2018-02-20  "
      ]
     },
     "metadata": {},
     "output_type": "display_data"
    },
    {
     "name": "stdout",
     "output_type": "stream",
     "text": [
      "<class 'pandas.core.frame.DataFrame'>\n",
      "RangeIndex: 40000 entries, 0 to 39999\n",
      "Data columns (total 14 columns):\n",
      " #   Column              Non-Null Count  Dtype          \n",
      "---  ------              --------------  -----          \n",
      " 0   restaurant_id       40000 non-null  object         \n",
      " 1   city                40000 non-null  object         \n",
      " 2   cuisine_style       30717 non-null  object         \n",
      " 3   ranking             40000 non-null  float64        \n",
      " 4   rating              40000 non-null  float64        \n",
      " 5   price_range         26114 non-null  object         \n",
      " 6   number_of_reviews   37457 non-null  float64        \n",
      " 7   reviews             40000 non-null  object         \n",
      " 8   URL_TA              40000 non-null  object         \n",
      " 9   ID_TA               40000 non-null  object         \n",
      " 10  reviews_date        40000 non-null  object         \n",
      " 11  delta_reviews_time  33529 non-null  timedelta64[ns]\n",
      " 12  first_review_time   33529 non-null  datetime64[ns] \n",
      " 13  last_review_time    33529 non-null  datetime64[ns] \n",
      "dtypes: datetime64[ns](2), float64(3), object(8), timedelta64[ns](1)\n",
      "memory usage: 4.3+ MB\n"
     ]
    }
   ],
   "source": [
    "df['delta_reviews_time'] = delta_time.reviews_date\n",
    "df['first_review_time'] = first_review.reviews_date\n",
    "df['last_review_time'] = last_review.reviews_date\n",
    "\n",
    "df.reviews.loc[df.delta_reviews_time == df.delta_reviews_time.max()]\n",
    "display(df.sample())\n",
    "df.info()"
   ]
  },
  {
   "cell_type": "code",
   "execution_count": 96,
   "metadata": {},
   "outputs": [
    {
     "data": {
      "text/html": [
       "<div>\n",
       "<style scoped>\n",
       "    .dataframe tbody tr th:only-of-type {\n",
       "        vertical-align: middle;\n",
       "    }\n",
       "\n",
       "    .dataframe tbody tr th {\n",
       "        vertical-align: top;\n",
       "    }\n",
       "\n",
       "    .dataframe thead th {\n",
       "        text-align: right;\n",
       "    }\n",
       "</style>\n",
       "<table border=\"1\" class=\"dataframe\">\n",
       "  <thead>\n",
       "    <tr style=\"text-align: right;\">\n",
       "      <th></th>\n",
       "      <th>restaurant_id</th>\n",
       "      <th>city</th>\n",
       "      <th>cuisine_style</th>\n",
       "      <th>ranking</th>\n",
       "      <th>rating</th>\n",
       "      <th>price_range</th>\n",
       "      <th>number_of_reviews</th>\n",
       "      <th>reviews</th>\n",
       "      <th>URL_TA</th>\n",
       "      <th>ID_TA</th>\n",
       "      <th>reviews_date</th>\n",
       "      <th>delta_reviews_time</th>\n",
       "      <th>first_review_time</th>\n",
       "      <th>last_review_time</th>\n",
       "    </tr>\n",
       "  </thead>\n",
       "  <tbody>\n",
       "    <tr>\n",
       "      <th>3</th>\n",
       "      <td>id_3456</td>\n",
       "      <td>Berlin</td>\n",
       "      <td>NaN</td>\n",
       "      <td>3458.0</td>\n",
       "      <td>5.0</td>\n",
       "      <td>NaN</td>\n",
       "      <td>3.0</td>\n",
       "      <td>[[], []]</td>\n",
       "      <td>/Restaurant_Review-g187323-d1358776-Reviews-Es...</td>\n",
       "      <td>d1358776</td>\n",
       "      <td>[]</td>\n",
       "      <td>NaT</td>\n",
       "      <td>NaT</td>\n",
       "      <td>NaT</td>\n",
       "    </tr>\n",
       "    <tr>\n",
       "      <th>8</th>\n",
       "      <td>id_2690</td>\n",
       "      <td>Vienna</td>\n",
       "      <td>NaN</td>\n",
       "      <td>2692.0</td>\n",
       "      <td>4.0</td>\n",
       "      <td>NaN</td>\n",
       "      <td>NaN</td>\n",
       "      <td>[[], []]</td>\n",
       "      <td>/Restaurant_Review-g190454-d12845029-Reviews-G...</td>\n",
       "      <td>d12845029</td>\n",
       "      <td>[]</td>\n",
       "      <td>NaT</td>\n",
       "      <td>NaT</td>\n",
       "      <td>NaT</td>\n",
       "    </tr>\n",
       "    <tr>\n",
       "      <th>10</th>\n",
       "      <td>id_6578</td>\n",
       "      <td>Barcelona</td>\n",
       "      <td>NaN</td>\n",
       "      <td>6579.0</td>\n",
       "      <td>3.0</td>\n",
       "      <td>NaN</td>\n",
       "      <td>6.0</td>\n",
       "      <td>[[], []]</td>\n",
       "      <td>/Restaurant_Review-g187497-d10696479-Reviews-R...</td>\n",
       "      <td>d10696479</td>\n",
       "      <td>[]</td>\n",
       "      <td>NaT</td>\n",
       "      <td>NaT</td>\n",
       "      <td>NaT</td>\n",
       "    </tr>\n",
       "    <tr>\n",
       "      <th>14</th>\n",
       "      <td>id_4773</td>\n",
       "      <td>Madrid</td>\n",
       "      <td>['Mediterranean', 'Spanish', 'Healthy']</td>\n",
       "      <td>4776.0</td>\n",
       "      <td>4.0</td>\n",
       "      <td>$$ - $$$</td>\n",
       "      <td>7.0</td>\n",
       "      <td>[[], []]</td>\n",
       "      <td>/Restaurant_Review-g187514-d10859423-Reviews-B...</td>\n",
       "      <td>d10859423</td>\n",
       "      <td>[]</td>\n",
       "      <td>NaT</td>\n",
       "      <td>NaT</td>\n",
       "      <td>NaT</td>\n",
       "    </tr>\n",
       "    <tr>\n",
       "      <th>21</th>\n",
       "      <td>id_5844</td>\n",
       "      <td>Madrid</td>\n",
       "      <td>NaN</td>\n",
       "      <td>5847.0</td>\n",
       "      <td>4.0</td>\n",
       "      <td>NaN</td>\n",
       "      <td>NaN</td>\n",
       "      <td>[[], []]</td>\n",
       "      <td>/Restaurant_Review-g187514-d10058810-Reviews-B...</td>\n",
       "      <td>d10058810</td>\n",
       "      <td>[]</td>\n",
       "      <td>NaT</td>\n",
       "      <td>NaT</td>\n",
       "      <td>NaT</td>\n",
       "    </tr>\n",
       "    <tr>\n",
       "      <th>...</th>\n",
       "      <td>...</td>\n",
       "      <td>...</td>\n",
       "      <td>...</td>\n",
       "      <td>...</td>\n",
       "      <td>...</td>\n",
       "      <td>...</td>\n",
       "      <td>...</td>\n",
       "      <td>...</td>\n",
       "      <td>...</td>\n",
       "      <td>...</td>\n",
       "      <td>...</td>\n",
       "      <td>...</td>\n",
       "      <td>...</td>\n",
       "      <td>...</td>\n",
       "    </tr>\n",
       "    <tr>\n",
       "      <th>39981</th>\n",
       "      <td>id_924</td>\n",
       "      <td>Lyon</td>\n",
       "      <td>NaN</td>\n",
       "      <td>925.0</td>\n",
       "      <td>4.0</td>\n",
       "      <td>NaN</td>\n",
       "      <td>29.0</td>\n",
       "      <td>[[], []]</td>\n",
       "      <td>/Restaurant_Review-g187265-d5850306-Reviews-Re...</td>\n",
       "      <td>d5850306</td>\n",
       "      <td>[]</td>\n",
       "      <td>NaT</td>\n",
       "      <td>NaT</td>\n",
       "      <td>NaT</td>\n",
       "    </tr>\n",
       "    <tr>\n",
       "      <th>39986</th>\n",
       "      <td>id_7274</td>\n",
       "      <td>Madrid</td>\n",
       "      <td>NaN</td>\n",
       "      <td>7279.0</td>\n",
       "      <td>3.0</td>\n",
       "      <td>NaN</td>\n",
       "      <td>NaN</td>\n",
       "      <td>[[], []]</td>\n",
       "      <td>/Restaurant_Review-g187514-d12182212-Reviews-C...</td>\n",
       "      <td>d12182212</td>\n",
       "      <td>[]</td>\n",
       "      <td>NaT</td>\n",
       "      <td>NaT</td>\n",
       "      <td>NaT</td>\n",
       "    </tr>\n",
       "    <tr>\n",
       "      <th>39988</th>\n",
       "      <td>id_4968</td>\n",
       "      <td>Berlin</td>\n",
       "      <td>NaN</td>\n",
       "      <td>4970.0</td>\n",
       "      <td>4.0</td>\n",
       "      <td>NaN</td>\n",
       "      <td>NaN</td>\n",
       "      <td>[[], []]</td>\n",
       "      <td>/Restaurant_Review-g187323-d7761701-Reviews-Ar...</td>\n",
       "      <td>d7761701</td>\n",
       "      <td>[]</td>\n",
       "      <td>NaT</td>\n",
       "      <td>NaT</td>\n",
       "      <td>NaT</td>\n",
       "    </tr>\n",
       "    <tr>\n",
       "      <th>39991</th>\n",
       "      <td>id_6655</td>\n",
       "      <td>Paris</td>\n",
       "      <td>['French', 'Contemporary', 'Fusion', 'Gastropub']</td>\n",
       "      <td>6656.0</td>\n",
       "      <td>5.0</td>\n",
       "      <td>$$ - $$$</td>\n",
       "      <td>5.0</td>\n",
       "      <td>[[], []]</td>\n",
       "      <td>/Restaurant_Review-g187147-d13224611-Reviews-L...</td>\n",
       "      <td>d13224611</td>\n",
       "      <td>[]</td>\n",
       "      <td>NaT</td>\n",
       "      <td>NaT</td>\n",
       "      <td>NaT</td>\n",
       "    </tr>\n",
       "    <tr>\n",
       "      <th>39994</th>\n",
       "      <td>id_7074</td>\n",
       "      <td>Paris</td>\n",
       "      <td>['French', 'Fast Food', 'Mediterranean', 'Heal...</td>\n",
       "      <td>7075.0</td>\n",
       "      <td>4.5</td>\n",
       "      <td>$$ - $$$</td>\n",
       "      <td>6.0</td>\n",
       "      <td>[[], []]</td>\n",
       "      <td>/Restaurant_Review-g187147-d12621988-Reviews-C...</td>\n",
       "      <td>d12621988</td>\n",
       "      <td>[]</td>\n",
       "      <td>NaT</td>\n",
       "      <td>NaT</td>\n",
       "      <td>NaT</td>\n",
       "    </tr>\n",
       "  </tbody>\n",
       "</table>\n",
       "<p>6471 rows × 14 columns</p>\n",
       "</div>"
      ],
      "text/plain": [
       "      restaurant_id       city  \\\n",
       "3           id_3456     Berlin   \n",
       "8           id_2690     Vienna   \n",
       "10          id_6578  Barcelona   \n",
       "14          id_4773     Madrid   \n",
       "21          id_5844     Madrid   \n",
       "...             ...        ...   \n",
       "39981        id_924       Lyon   \n",
       "39986       id_7274     Madrid   \n",
       "39988       id_4968     Berlin   \n",
       "39991       id_6655      Paris   \n",
       "39994       id_7074      Paris   \n",
       "\n",
       "                                           cuisine_style  ranking  rating  \\\n",
       "3                                                    NaN   3458.0     5.0   \n",
       "8                                                    NaN   2692.0     4.0   \n",
       "10                                                   NaN   6579.0     3.0   \n",
       "14               ['Mediterranean', 'Spanish', 'Healthy']   4776.0     4.0   \n",
       "21                                                   NaN   5847.0     4.0   \n",
       "...                                                  ...      ...     ...   \n",
       "39981                                                NaN    925.0     4.0   \n",
       "39986                                                NaN   7279.0     3.0   \n",
       "39988                                                NaN   4970.0     4.0   \n",
       "39991  ['French', 'Contemporary', 'Fusion', 'Gastropub']   6656.0     5.0   \n",
       "39994  ['French', 'Fast Food', 'Mediterranean', 'Heal...   7075.0     4.5   \n",
       "\n",
       "      price_range  number_of_reviews   reviews  \\\n",
       "3             NaN                3.0  [[], []]   \n",
       "8             NaN                NaN  [[], []]   \n",
       "10            NaN                6.0  [[], []]   \n",
       "14       $$ - $$$                7.0  [[], []]   \n",
       "21            NaN                NaN  [[], []]   \n",
       "...           ...                ...       ...   \n",
       "39981         NaN               29.0  [[], []]   \n",
       "39986         NaN                NaN  [[], []]   \n",
       "39988         NaN                NaN  [[], []]   \n",
       "39991    $$ - $$$                5.0  [[], []]   \n",
       "39994    $$ - $$$                6.0  [[], []]   \n",
       "\n",
       "                                                  URL_TA      ID_TA  \\\n",
       "3      /Restaurant_Review-g187323-d1358776-Reviews-Es...   d1358776   \n",
       "8      /Restaurant_Review-g190454-d12845029-Reviews-G...  d12845029   \n",
       "10     /Restaurant_Review-g187497-d10696479-Reviews-R...  d10696479   \n",
       "14     /Restaurant_Review-g187514-d10859423-Reviews-B...  d10859423   \n",
       "21     /Restaurant_Review-g187514-d10058810-Reviews-B...  d10058810   \n",
       "...                                                  ...        ...   \n",
       "39981  /Restaurant_Review-g187265-d5850306-Reviews-Re...   d5850306   \n",
       "39986  /Restaurant_Review-g187514-d12182212-Reviews-C...  d12182212   \n",
       "39988  /Restaurant_Review-g187323-d7761701-Reviews-Ar...   d7761701   \n",
       "39991  /Restaurant_Review-g187147-d13224611-Reviews-L...  d13224611   \n",
       "39994  /Restaurant_Review-g187147-d12621988-Reviews-C...  d12621988   \n",
       "\n",
       "      reviews_date delta_reviews_time first_review_time last_review_time  \n",
       "3               []                NaT               NaT              NaT  \n",
       "8               []                NaT               NaT              NaT  \n",
       "10              []                NaT               NaT              NaT  \n",
       "14              []                NaT               NaT              NaT  \n",
       "21              []                NaT               NaT              NaT  \n",
       "...            ...                ...               ...              ...  \n",
       "39981           []                NaT               NaT              NaT  \n",
       "39986           []                NaT               NaT              NaT  \n",
       "39988           []                NaT               NaT              NaT  \n",
       "39991           []                NaT               NaT              NaT  \n",
       "39994           []                NaT               NaT              NaT  \n",
       "\n",
       "[6471 rows x 14 columns]"
      ]
     },
     "execution_count": 96,
     "metadata": {},
     "output_type": "execute_result"
    }
   ],
   "source": [
    "df[df.delta_reviews_time.isna()]"
   ]
  },
  {
   "cell_type": "code",
   "execution_count": 97,
   "metadata": {},
   "outputs": [
    {
     "data": {
      "text/plain": [
       "'41 days 00:00:00'"
      ]
     },
     "execution_count": 97,
     "metadata": {},
     "output_type": "execute_result"
    }
   ],
   "source": [
    "str(df.loc[0,'delta_reviews_time'])"
   ]
  },
  {
   "cell_type": "markdown",
   "metadata": {},
   "source": [
    "# Приведём переменную delta_reviews_time из типа pandas._libs.tslibs.timedeltas.Timedelta в int"
   ]
  },
  {
   "cell_type": "code",
   "execution_count": 98,
   "metadata": {},
   "outputs": [
    {
     "name": "stdout",
     "output_type": "stream",
     "text": [
      "<class 'pandas.core.frame.DataFrame'>\n",
      "RangeIndex: 40000 entries, 0 to 39999\n",
      "Data columns (total 14 columns):\n",
      " #   Column              Non-Null Count  Dtype         \n",
      "---  ------              --------------  -----         \n",
      " 0   restaurant_id       40000 non-null  object        \n",
      " 1   city                40000 non-null  object        \n",
      " 2   cuisine_style       30717 non-null  object        \n",
      " 3   ranking             40000 non-null  float64       \n",
      " 4   rating              40000 non-null  float64       \n",
      " 5   price_range         26114 non-null  object        \n",
      " 6   number_of_reviews   37457 non-null  float64       \n",
      " 7   reviews             40000 non-null  object        \n",
      " 8   URL_TA              40000 non-null  object        \n",
      " 9   ID_TA               40000 non-null  object        \n",
      " 10  reviews_date        40000 non-null  object        \n",
      " 11  delta_reviews_time  40000 non-null  int64         \n",
      " 12  first_review_time   33529 non-null  datetime64[ns]\n",
      " 13  last_review_time    33529 non-null  datetime64[ns]\n",
      "dtypes: datetime64[ns](2), float64(3), int64(1), object(8)\n",
      "memory usage: 4.3+ MB\n"
     ]
    }
   ],
   "source": [
    "df_ = df.copy()\n",
    "df_.delta_reviews_time = df_.delta_reviews_time.apply(lambda x: str(x)).str.split(' ',expand=True)\n",
    "df_.delta_reviews_time = df_.delta_reviews_time.replace('NaT',0) # здесь пустые значения мы заменяем на ноль.\n",
    "df_.delta_reviews_time = df_.delta_reviews_time.astype(int)\n",
    "\n",
    "df_.info()"
   ]
  },
  {
   "cell_type": "markdown",
   "metadata": {},
   "source": [
    "# стандартизируем delta_reviews_time "
   ]
  },
  {
   "cell_type": "code",
   "execution_count": 99,
   "metadata": {},
   "outputs": [
    {
     "data": {
      "text/plain": [
       "0         -61.645675\n",
       "1         279.354325\n",
       "2        -100.645675\n",
       "3        -102.645675\n",
       "4         169.354325\n",
       "            ...     \n",
       "39995     -68.645675\n",
       "39996     -93.645675\n",
       "39997    3024.354325\n",
       "39998     -79.645675\n",
       "39999    1203.354325\n",
       "Name: delta_reviews_time, Length: 40000, dtype: float64"
      ]
     },
     "execution_count": 99,
     "metadata": {},
     "output_type": "execute_result"
    }
   ],
   "source": [
    "# центрирование\n",
    "delta_centr = df_.delta_reviews_time - df_.delta_reviews_time.mean()\n",
    "delta_centr"
   ]
  },
  {
   "cell_type": "code",
   "execution_count": 100,
   "metadata": {},
   "outputs": [
    {
     "data": {
      "text/plain": [
       "0       -0.001552\n",
       "1        0.007033\n",
       "2       -0.002534\n",
       "3       -0.002584\n",
       "4        0.004264\n",
       "           ...   \n",
       "39995   -0.001728\n",
       "39996   -0.002358\n",
       "39997    0.076145\n",
       "39998   -0.002005\n",
       "39999    0.030297\n",
       "Name: d_reviews_time_st, Length: 40000, dtype: float64"
      ]
     },
     "execution_count": 100,
     "metadata": {},
     "output_type": "execute_result"
    }
   ],
   "source": [
    "# стандартизирование\n",
    "df_['d_reviews_time_st'] = delta_centr / np.linalg.norm(delta_centr)\n",
    "df_['d_reviews_time_st']"
   ]
  },
  {
   "cell_type": "code",
   "execution_count": 101,
   "metadata": {},
   "outputs": [
    {
     "data": {
      "text/plain": [
       "0.07815920636706375"
      ]
     },
     "execution_count": 101,
     "metadata": {},
     "output_type": "execute_result"
    }
   ],
   "source": [
    "df_['d_reviews_time_st'].max()"
   ]
  },
  {
   "cell_type": "code",
   "execution_count": 102,
   "metadata": {},
   "outputs": [],
   "source": [
    "df_ = df_.drop(['delta_reviews_time','reviews','reviews_date'], axis=1)"
   ]
  },
  {
   "cell_type": "code",
   "execution_count": null,
   "metadata": {},
   "outputs": [],
   "source": []
  },
  {
   "cell_type": "code",
   "execution_count": null,
   "metadata": {},
   "outputs": [],
   "source": []
  },
  {
   "cell_type": "code",
   "execution_count": 103,
   "metadata": {},
   "outputs": [
    {
     "data": {
      "text/html": [
       "<div>\n",
       "<style scoped>\n",
       "    .dataframe tbody tr th:only-of-type {\n",
       "        vertical-align: middle;\n",
       "    }\n",
       "\n",
       "    .dataframe tbody tr th {\n",
       "        vertical-align: top;\n",
       "    }\n",
       "\n",
       "    .dataframe thead th {\n",
       "        text-align: right;\n",
       "    }\n",
       "</style>\n",
       "<table border=\"1\" class=\"dataframe\">\n",
       "  <thead>\n",
       "    <tr style=\"text-align: right;\">\n",
       "      <th></th>\n",
       "      <th>restaurant_id</th>\n",
       "      <th>city</th>\n",
       "      <th>cuisine_style</th>\n",
       "      <th>ranking</th>\n",
       "      <th>rating</th>\n",
       "      <th>price_range</th>\n",
       "      <th>number_of_reviews</th>\n",
       "      <th>URL_TA</th>\n",
       "      <th>ID_TA</th>\n",
       "      <th>first_review_time</th>\n",
       "      <th>last_review_time</th>\n",
       "      <th>d_reviews_time_st</th>\n",
       "    </tr>\n",
       "  </thead>\n",
       "  <tbody>\n",
       "    <tr>\n",
       "      <th>32064</th>\n",
       "      <td>id_539</td>\n",
       "      <td>Luxembourg</td>\n",
       "      <td>['Chinese']</td>\n",
       "      <td>540.0</td>\n",
       "      <td>3.5</td>\n",
       "      <td>$$ - $$$</td>\n",
       "      <td>14.0</td>\n",
       "      <td>/Restaurant_Review-g190356-d1060871-Reviews-La...</td>\n",
       "      <td>d1060871</td>\n",
       "      <td>2008-06-13</td>\n",
       "      <td>2015-03-15</td>\n",
       "      <td>0.059503</td>\n",
       "    </tr>\n",
       "  </tbody>\n",
       "</table>\n",
       "</div>"
      ],
      "text/plain": [
       "      restaurant_id        city cuisine_style  ranking  rating price_range  \\\n",
       "32064        id_539  Luxembourg   ['Chinese']    540.0     3.5    $$ - $$$   \n",
       "\n",
       "       number_of_reviews                                             URL_TA  \\\n",
       "32064               14.0  /Restaurant_Review-g190356-d1060871-Reviews-La...   \n",
       "\n",
       "          ID_TA first_review_time last_review_time  d_reviews_time_st  \n",
       "32064  d1060871        2008-06-13       2015-03-15           0.059503  "
      ]
     },
     "execution_count": 103,
     "metadata": {},
     "output_type": "execute_result"
    }
   ],
   "source": [
    "df_.sample()"
   ]
  },
  {
   "cell_type": "code",
   "execution_count": 104,
   "metadata": {},
   "outputs": [
    {
     "data": {
      "text/plain": [
       "0        20.0\n",
       "1        19.0\n",
       "2         6.0\n",
       "3         NaN\n",
       "4        19.0\n",
       "         ... \n",
       "39995    12.0\n",
       "39996    12.0\n",
       "39997    12.0\n",
       "39998    18.0\n",
       "39999     4.0\n",
       "Name: first_review_time, Length: 40000, dtype: float64"
      ]
     },
     "execution_count": 104,
     "metadata": {},
     "output_type": "execute_result"
    }
   ],
   "source": [
    "df_.first_review_time.dt.day"
   ]
  },
  {
   "cell_type": "markdown",
   "metadata": {},
   "source": [
    "# Приведём Price Range в числовой вид"
   ]
  },
  {
   "cell_type": "code",
   "execution_count": 105,
   "metadata": {},
   "outputs": [
    {
     "data": {
      "text/plain": [
       "$$ - $$$    18412\n",
       "$            6279\n",
       "$$$$         1423\n",
       "Name: price_range, dtype: int64"
      ]
     },
     "metadata": {},
     "output_type": "display_data"
    },
    {
     "data": {
      "text/plain": [
       "array(['$$ - $$$', nan, '$$$$', '$'], dtype=object)"
      ]
     },
     "metadata": {},
     "output_type": "display_data"
    }
   ],
   "source": [
    "display(df_.price_range.value_counts())\n",
    "display(df_.price_range.unique())"
   ]
  },
  {
   "cell_type": "code",
   "execution_count": 106,
   "metadata": {},
   "outputs": [
    {
     "data": {
      "text/plain": [
       "'$$ - $$$'"
      ]
     },
     "execution_count": 106,
     "metadata": {},
     "output_type": "execute_result"
    }
   ],
   "source": [
    "df_.loc[0,'price_range']"
   ]
  },
  {
   "cell_type": "code",
   "execution_count": 107,
   "metadata": {},
   "outputs": [
    {
     "data": {
      "text/html": [
       "<div>\n",
       "<style scoped>\n",
       "    .dataframe tbody tr th:only-of-type {\n",
       "        vertical-align: middle;\n",
       "    }\n",
       "\n",
       "    .dataframe tbody tr th {\n",
       "        vertical-align: top;\n",
       "    }\n",
       "\n",
       "    .dataframe thead th {\n",
       "        text-align: right;\n",
       "    }\n",
       "</style>\n",
       "<table border=\"1\" class=\"dataframe\">\n",
       "  <thead>\n",
       "    <tr style=\"text-align: right;\">\n",
       "      <th></th>\n",
       "      <th>restaurant_id</th>\n",
       "      <th>city</th>\n",
       "      <th>cuisine_style</th>\n",
       "      <th>ranking</th>\n",
       "      <th>rating</th>\n",
       "      <th>price_range</th>\n",
       "      <th>number_of_reviews</th>\n",
       "      <th>URL_TA</th>\n",
       "      <th>ID_TA</th>\n",
       "      <th>first_review_time</th>\n",
       "      <th>last_review_time</th>\n",
       "      <th>d_reviews_time_st</th>\n",
       "    </tr>\n",
       "  </thead>\n",
       "  <tbody>\n",
       "    <tr>\n",
       "      <th>31458</th>\n",
       "      <td>id_7886</td>\n",
       "      <td>London</td>\n",
       "      <td>['British', 'Gluten Free Options']</td>\n",
       "      <td>7895.0</td>\n",
       "      <td>4.0</td>\n",
       "      <td>2.0</td>\n",
       "      <td>125.0</td>\n",
       "      <td>/Restaurant_Review-g186338-d1457274-Reviews-Th...</td>\n",
       "      <td>d1457274</td>\n",
       "      <td>2017-03-19</td>\n",
       "      <td>2017-04-26</td>\n",
       "      <td>-0.001628</td>\n",
       "    </tr>\n",
       "  </tbody>\n",
       "</table>\n",
       "</div>"
      ],
      "text/plain": [
       "      restaurant_id    city                       cuisine_style  ranking  \\\n",
       "31458       id_7886  London  ['British', 'Gluten Free Options']   7895.0   \n",
       "\n",
       "       rating  price_range  number_of_reviews  \\\n",
       "31458     4.0          2.0              125.0   \n",
       "\n",
       "                                                  URL_TA     ID_TA  \\\n",
       "31458  /Restaurant_Review-g186338-d1457274-Reviews-Th...  d1457274   \n",
       "\n",
       "      first_review_time last_review_time  d_reviews_time_st  \n",
       "31458        2017-03-19       2017-04-26          -0.001628  "
      ]
     },
     "execution_count": 107,
     "metadata": {},
     "output_type": "execute_result"
    }
   ],
   "source": [
    "df_.price_range = df_.price_range.apply(price_range_convector)\n",
    "df_.sample()"
   ]
  },
  {
   "cell_type": "code",
   "execution_count": 108,
   "metadata": {},
   "outputs": [
    {
     "data": {
      "text/plain": [
       "array([ 2., nan,  3.,  1.])"
      ]
     },
     "metadata": {},
     "output_type": "display_data"
    },
    {
     "data": {
      "image/png": "[encoded data removed]",
      "text/plain": [
       "<Figure size 432x288 with 1 Axes>"
      ]
     },
     "metadata": {
      "needs_background": "light"
     },
     "output_type": "display_data"
    }
   ],
   "source": [
    "df_.price_range.hist()\n",
    "display(df_.price_range.unique())"
   ]
  },
  {
   "cell_type": "code",
   "execution_count": 109,
   "metadata": {},
   "outputs": [],
   "source": [
    "# заменим NaN на моду\n",
    "df_.price_range = df_.price_range.fillna(df_.price_range.mode()[0])\n",
    "# df_.price_range.mode()[0]"
   ]
  },
  {
   "cell_type": "code",
   "execution_count": 110,
   "metadata": {},
   "outputs": [
    {
     "data": {
      "text/plain": [
       "array([2., 3., 1.])"
      ]
     },
     "metadata": {},
     "output_type": "display_data"
    },
    {
     "data": {
      "image/png": "[encoded data removed]",
      "text/plain": [
       "<Figure size 432x288 with 1 Axes>"
      ]
     },
     "metadata": {
      "needs_background": "light"
     },
     "output_type": "display_data"
    }
   ],
   "source": [
    "df_.price_range.hist(bins=5)\n",
    "display(df_.price_range.unique())"
   ]
  },
  {
   "cell_type": "code",
   "execution_count": 111,
   "metadata": {},
   "outputs": [
    {
     "name": "stdout",
     "output_type": "stream",
     "text": [
      "<class 'pandas.core.frame.DataFrame'>\n",
      "RangeIndex: 40000 entries, 0 to 39999\n",
      "Data columns (total 12 columns):\n",
      " #   Column             Non-Null Count  Dtype         \n",
      "---  ------             --------------  -----         \n",
      " 0   restaurant_id      40000 non-null  object        \n",
      " 1   city               40000 non-null  object        \n",
      " 2   cuisine_style      30717 non-null  object        \n",
      " 3   ranking            40000 non-null  float64       \n",
      " 4   rating             40000 non-null  float64       \n",
      " 5   price_range        40000 non-null  float64       \n",
      " 6   number_of_reviews  37457 non-null  float64       \n",
      " 7   URL_TA             40000 non-null  object        \n",
      " 8   ID_TA              40000 non-null  object        \n",
      " 9   first_review_time  33529 non-null  datetime64[ns]\n",
      " 10  last_review_time   33529 non-null  datetime64[ns]\n",
      " 11  d_reviews_time_st  40000 non-null  float64       \n",
      "dtypes: datetime64[ns](2), float64(5), object(5)\n",
      "memory usage: 3.7+ MB\n"
     ]
    },
    {
     "data": {
      "text/plain": [
       "None"
      ]
     },
     "metadata": {},
     "output_type": "display_data"
    },
    {
     "data": {
      "text/html": [
       "<div>\n",
       "<style scoped>\n",
       "    .dataframe tbody tr th:only-of-type {\n",
       "        vertical-align: middle;\n",
       "    }\n",
       "\n",
       "    .dataframe tbody tr th {\n",
       "        vertical-align: top;\n",
       "    }\n",
       "\n",
       "    .dataframe thead th {\n",
       "        text-align: right;\n",
       "    }\n",
       "</style>\n",
       "<table border=\"1\" class=\"dataframe\">\n",
       "  <thead>\n",
       "    <tr style=\"text-align: right;\">\n",
       "      <th></th>\n",
       "      <th>restaurant_id</th>\n",
       "      <th>city</th>\n",
       "      <th>cuisine_style</th>\n",
       "      <th>ranking</th>\n",
       "      <th>rating</th>\n",
       "      <th>price_range</th>\n",
       "      <th>number_of_reviews</th>\n",
       "      <th>URL_TA</th>\n",
       "      <th>ID_TA</th>\n",
       "      <th>first_review_time</th>\n",
       "      <th>last_review_time</th>\n",
       "      <th>d_reviews_time_st</th>\n",
       "    </tr>\n",
       "  </thead>\n",
       "  <tbody>\n",
       "    <tr>\n",
       "      <th>0</th>\n",
       "      <td>id_5569</td>\n",
       "      <td>Paris</td>\n",
       "      <td>['European', 'French', 'International']</td>\n",
       "      <td>5570.0</td>\n",
       "      <td>3.5</td>\n",
       "      <td>2.0</td>\n",
       "      <td>194.0</td>\n",
       "      <td>/Restaurant_Review-g187147-d1912643-Reviews-R_...</td>\n",
       "      <td>d1912643</td>\n",
       "      <td>2017-11-20</td>\n",
       "      <td>2017-12-31</td>\n",
       "      <td>-0.001552</td>\n",
       "    </tr>\n",
       "    <tr>\n",
       "      <th>1</th>\n",
       "      <td>id_1535</td>\n",
       "      <td>Stockholm</td>\n",
       "      <td>NaN</td>\n",
       "      <td>1537.0</td>\n",
       "      <td>4.0</td>\n",
       "      <td>2.0</td>\n",
       "      <td>10.0</td>\n",
       "      <td>/Restaurant_Review-g189852-d7992032-Reviews-Bu...</td>\n",
       "      <td>d7992032</td>\n",
       "      <td>2016-06-19</td>\n",
       "      <td>2017-07-06</td>\n",
       "      <td>0.007033</td>\n",
       "    </tr>\n",
       "    <tr>\n",
       "      <th>2</th>\n",
       "      <td>id_352</td>\n",
       "      <td>London</td>\n",
       "      <td>['Japanese', 'Sushi', 'Asian', 'Grill', 'Veget...</td>\n",
       "      <td>353.0</td>\n",
       "      <td>4.5</td>\n",
       "      <td>3.0</td>\n",
       "      <td>688.0</td>\n",
       "      <td>/Restaurant_Review-g186338-d8632781-Reviews-RO...</td>\n",
       "      <td>d8632781</td>\n",
       "      <td>2018-01-06</td>\n",
       "      <td>2018-01-08</td>\n",
       "      <td>-0.002534</td>\n",
       "    </tr>\n",
       "    <tr>\n",
       "      <th>3</th>\n",
       "      <td>id_3456</td>\n",
       "      <td>Berlin</td>\n",
       "      <td>NaN</td>\n",
       "      <td>3458.0</td>\n",
       "      <td>5.0</td>\n",
       "      <td>2.0</td>\n",
       "      <td>3.0</td>\n",
       "      <td>/Restaurant_Review-g187323-d1358776-Reviews-Es...</td>\n",
       "      <td>d1358776</td>\n",
       "      <td>NaT</td>\n",
       "      <td>NaT</td>\n",
       "      <td>-0.002584</td>\n",
       "    </tr>\n",
       "    <tr>\n",
       "      <th>4</th>\n",
       "      <td>id_615</td>\n",
       "      <td>Munich</td>\n",
       "      <td>['German', 'Central European', 'Vegetarian Fri...</td>\n",
       "      <td>621.0</td>\n",
       "      <td>4.0</td>\n",
       "      <td>2.0</td>\n",
       "      <td>84.0</td>\n",
       "      <td>/Restaurant_Review-g187309-d6864963-Reviews-Au...</td>\n",
       "      <td>d6864963</td>\n",
       "      <td>2017-02-19</td>\n",
       "      <td>2017-11-18</td>\n",
       "      <td>0.004264</td>\n",
       "    </tr>\n",
       "  </tbody>\n",
       "</table>\n",
       "</div>"
      ],
      "text/plain": [
       "  restaurant_id       city                                      cuisine_style  \\\n",
       "0       id_5569      Paris            ['European', 'French', 'International']   \n",
       "1       id_1535  Stockholm                                                NaN   \n",
       "2        id_352     London  ['Japanese', 'Sushi', 'Asian', 'Grill', 'Veget...   \n",
       "3       id_3456     Berlin                                                NaN   \n",
       "4        id_615     Munich  ['German', 'Central European', 'Vegetarian Fri...   \n",
       "\n",
       "   ranking  rating  price_range  number_of_reviews  \\\n",
       "0   5570.0     3.5          2.0              194.0   \n",
       "1   1537.0     4.0          2.0               10.0   \n",
       "2    353.0     4.5          3.0              688.0   \n",
       "3   3458.0     5.0          2.0                3.0   \n",
       "4    621.0     4.0          2.0               84.0   \n",
       "\n",
       "                                              URL_TA     ID_TA  \\\n",
       "0  /Restaurant_Review-g187147-d1912643-Reviews-R_...  d1912643   \n",
       "1  /Restaurant_Review-g189852-d7992032-Reviews-Bu...  d7992032   \n",
       "2  /Restaurant_Review-g186338-d8632781-Reviews-RO...  d8632781   \n",
       "3  /Restaurant_Review-g187323-d1358776-Reviews-Es...  d1358776   \n",
       "4  /Restaurant_Review-g187309-d6864963-Reviews-Au...  d6864963   \n",
       "\n",
       "  first_review_time last_review_time  d_reviews_time_st  \n",
       "0        2017-11-20       2017-12-31          -0.001552  \n",
       "1        2016-06-19       2017-07-06           0.007033  \n",
       "2        2018-01-06       2018-01-08          -0.002534  \n",
       "3               NaT              NaT          -0.002584  \n",
       "4        2017-02-19       2017-11-18           0.004264  "
      ]
     },
     "execution_count": 111,
     "metadata": {},
     "output_type": "execute_result"
    }
   ],
   "source": [
    "display(df_.info())\n",
    "df_.head()"
   ]
  },
  {
   "cell_type": "markdown",
   "metadata": {},
   "source": [
    "# посчитаем количество кухонь Cuisine style"
   ]
  },
  {
   "cell_type": "code",
   "execution_count": 112,
   "metadata": {},
   "outputs": [
    {
     "data": {
      "text/plain": [
       "\"['European', 'French', 'International']\""
      ]
     },
     "execution_count": 112,
     "metadata": {},
     "output_type": "execute_result"
    }
   ],
   "source": [
    "df_.loc[0, 'cuisine_style']"
   ]
  },
  {
   "cell_type": "code",
   "execution_count": 113,
   "metadata": {},
   "outputs": [],
   "source": [
    "df_.cuisine_style = df_.cuisine_style.fillna(\"['mystery']\")\n",
    "df_.cuisine_style = df_.cuisine_style.apply(lambda x: eval(x))"
   ]
  },
  {
   "cell_type": "code",
   "execution_count": 114,
   "metadata": {},
   "outputs": [
    {
     "data": {
      "text/plain": [
       "['European', 'French', 'International']"
      ]
     },
     "execution_count": 114,
     "metadata": {},
     "output_type": "execute_result"
    }
   ],
   "source": [
    "df_.loc[0, 'cuisine_style']"
   ]
  },
  {
   "cell_type": "code",
   "execution_count": 115,
   "metadata": {},
   "outputs": [
    {
     "data": {
      "text/html": [
       "<div>\n",
       "<style scoped>\n",
       "    .dataframe tbody tr th:only-of-type {\n",
       "        vertical-align: middle;\n",
       "    }\n",
       "\n",
       "    .dataframe tbody tr th {\n",
       "        vertical-align: top;\n",
       "    }\n",
       "\n",
       "    .dataframe thead th {\n",
       "        text-align: right;\n",
       "    }\n",
       "</style>\n",
       "<table border=\"1\" class=\"dataframe\">\n",
       "  <thead>\n",
       "    <tr style=\"text-align: right;\">\n",
       "      <th></th>\n",
       "      <th>restaurant_id</th>\n",
       "      <th>city</th>\n",
       "      <th>cuisine_style</th>\n",
       "      <th>ranking</th>\n",
       "      <th>rating</th>\n",
       "      <th>price_range</th>\n",
       "      <th>number_of_reviews</th>\n",
       "      <th>URL_TA</th>\n",
       "      <th>ID_TA</th>\n",
       "      <th>first_review_time</th>\n",
       "      <th>last_review_time</th>\n",
       "      <th>d_reviews_time_st</th>\n",
       "      <th>n_cuisine</th>\n",
       "    </tr>\n",
       "  </thead>\n",
       "  <tbody>\n",
       "    <tr>\n",
       "      <th>0</th>\n",
       "      <td>id_5569</td>\n",
       "      <td>Paris</td>\n",
       "      <td>[European, French, International]</td>\n",
       "      <td>5570.0</td>\n",
       "      <td>3.5</td>\n",
       "      <td>2.0</td>\n",
       "      <td>194.0</td>\n",
       "      <td>/Restaurant_Review-g187147-d1912643-Reviews-R_...</td>\n",
       "      <td>d1912643</td>\n",
       "      <td>2017-11-20</td>\n",
       "      <td>2017-12-31</td>\n",
       "      <td>-0.001552</td>\n",
       "      <td>3</td>\n",
       "    </tr>\n",
       "    <tr>\n",
       "      <th>1</th>\n",
       "      <td>id_1535</td>\n",
       "      <td>Stockholm</td>\n",
       "      <td>[mystery]</td>\n",
       "      <td>1537.0</td>\n",
       "      <td>4.0</td>\n",
       "      <td>2.0</td>\n",
       "      <td>10.0</td>\n",
       "      <td>/Restaurant_Review-g189852-d7992032-Reviews-Bu...</td>\n",
       "      <td>d7992032</td>\n",
       "      <td>2016-06-19</td>\n",
       "      <td>2017-07-06</td>\n",
       "      <td>0.007033</td>\n",
       "      <td>1</td>\n",
       "    </tr>\n",
       "    <tr>\n",
       "      <th>2</th>\n",
       "      <td>id_352</td>\n",
       "      <td>London</td>\n",
       "      <td>[Japanese, Sushi, Asian, Grill, Vegetarian Fri...</td>\n",
       "      <td>353.0</td>\n",
       "      <td>4.5</td>\n",
       "      <td>3.0</td>\n",
       "      <td>688.0</td>\n",
       "      <td>/Restaurant_Review-g186338-d8632781-Reviews-RO...</td>\n",
       "      <td>d8632781</td>\n",
       "      <td>2018-01-06</td>\n",
       "      <td>2018-01-08</td>\n",
       "      <td>-0.002534</td>\n",
       "      <td>7</td>\n",
       "    </tr>\n",
       "    <tr>\n",
       "      <th>3</th>\n",
       "      <td>id_3456</td>\n",
       "      <td>Berlin</td>\n",
       "      <td>[mystery]</td>\n",
       "      <td>3458.0</td>\n",
       "      <td>5.0</td>\n",
       "      <td>2.0</td>\n",
       "      <td>3.0</td>\n",
       "      <td>/Restaurant_Review-g187323-d1358776-Reviews-Es...</td>\n",
       "      <td>d1358776</td>\n",
       "      <td>NaT</td>\n",
       "      <td>NaT</td>\n",
       "      <td>-0.002584</td>\n",
       "      <td>1</td>\n",
       "    </tr>\n",
       "    <tr>\n",
       "      <th>4</th>\n",
       "      <td>id_615</td>\n",
       "      <td>Munich</td>\n",
       "      <td>[German, Central European, Vegetarian Friendly]</td>\n",
       "      <td>621.0</td>\n",
       "      <td>4.0</td>\n",
       "      <td>2.0</td>\n",
       "      <td>84.0</td>\n",
       "      <td>/Restaurant_Review-g187309-d6864963-Reviews-Au...</td>\n",
       "      <td>d6864963</td>\n",
       "      <td>2017-02-19</td>\n",
       "      <td>2017-11-18</td>\n",
       "      <td>0.004264</td>\n",
       "      <td>3</td>\n",
       "    </tr>\n",
       "  </tbody>\n",
       "</table>\n",
       "</div>"
      ],
      "text/plain": [
       "  restaurant_id       city                                      cuisine_style  \\\n",
       "0       id_5569      Paris                  [European, French, International]   \n",
       "1       id_1535  Stockholm                                          [mystery]   \n",
       "2        id_352     London  [Japanese, Sushi, Asian, Grill, Vegetarian Fri...   \n",
       "3       id_3456     Berlin                                          [mystery]   \n",
       "4        id_615     Munich    [German, Central European, Vegetarian Friendly]   \n",
       "\n",
       "   ranking  rating  price_range  number_of_reviews  \\\n",
       "0   5570.0     3.5          2.0              194.0   \n",
       "1   1537.0     4.0          2.0               10.0   \n",
       "2    353.0     4.5          3.0              688.0   \n",
       "3   3458.0     5.0          2.0                3.0   \n",
       "4    621.0     4.0          2.0               84.0   \n",
       "\n",
       "                                              URL_TA     ID_TA  \\\n",
       "0  /Restaurant_Review-g187147-d1912643-Reviews-R_...  d1912643   \n",
       "1  /Restaurant_Review-g189852-d7992032-Reviews-Bu...  d7992032   \n",
       "2  /Restaurant_Review-g186338-d8632781-Reviews-RO...  d8632781   \n",
       "3  /Restaurant_Review-g187323-d1358776-Reviews-Es...  d1358776   \n",
       "4  /Restaurant_Review-g187309-d6864963-Reviews-Au...  d6864963   \n",
       "\n",
       "  first_review_time last_review_time  d_reviews_time_st  n_cuisine  \n",
       "0        2017-11-20       2017-12-31          -0.001552          3  \n",
       "1        2016-06-19       2017-07-06           0.007033          1  \n",
       "2        2018-01-06       2018-01-08          -0.002534          7  \n",
       "3               NaT              NaT          -0.002584          1  \n",
       "4        2017-02-19       2017-11-18           0.004264          3  "
      ]
     },
     "execution_count": 115,
     "metadata": {},
     "output_type": "execute_result"
    }
   ],
   "source": [
    "df_['n_cuisine'] = df_.cuisine_style.apply(lambda x: len(x))\n",
    "df_.head()"
   ]
  },
  {
   "cell_type": "markdown",
   "metadata": {},
   "source": [
    "\n",
    "* Restaurant_id — идентификационный номер ресторана / сети ресторанов;\n",
    "* City — город, в котором находится ресторан;\n",
    "* Cuisine Style — кухня или кухни, к которым можно отнести блюда, предлагаемые в ресторане;\n",
    "* Ranking — место, которое занимает данный ресторан среди всех ресторанов своего города;\n",
    "* Rating — рейтинг ресторана по данным TripAdvisor (именно это значение должна будет предсказывать модель);\n",
    "* Price Range — диапазон цен в ресторане;\n",
    "* Number of Reviews — количество отзывов о ресторане;\n",
    "* Reviews — данные о двух отзывах, которые отображаются на сайте ресторана;\n",
    "* URL_TA — URL страницы ресторана на TripAdvisor;\n",
    "* ID_TA — идентификатор ресторана в базе данных TripAdvisor.\n",
    "\n"
   ]
  },
  {
   "cell_type": "code",
   "execution_count": 116,
   "metadata": {},
   "outputs": [
    {
     "data": {
      "text/html": [
       "<div>\n",
       "<style scoped>\n",
       "    .dataframe tbody tr th:only-of-type {\n",
       "        vertical-align: middle;\n",
       "    }\n",
       "\n",
       "    .dataframe tbody tr th {\n",
       "        vertical-align: top;\n",
       "    }\n",
       "\n",
       "    .dataframe thead th {\n",
       "        text-align: right;\n",
       "    }\n",
       "</style>\n",
       "<table border=\"1\" class=\"dataframe\">\n",
       "  <thead>\n",
       "    <tr style=\"text-align: right;\">\n",
       "      <th></th>\n",
       "      <th>restaurant_id</th>\n",
       "      <th>city</th>\n",
       "      <th>cuisine_style</th>\n",
       "      <th>ranking</th>\n",
       "      <th>rating</th>\n",
       "      <th>price_range</th>\n",
       "      <th>number_of_reviews</th>\n",
       "      <th>URL_TA</th>\n",
       "      <th>ID_TA</th>\n",
       "      <th>first_review_time</th>\n",
       "      <th>last_review_time</th>\n",
       "      <th>d_reviews_time_st</th>\n",
       "      <th>n_cuisine</th>\n",
       "    </tr>\n",
       "  </thead>\n",
       "  <tbody>\n",
       "    <tr>\n",
       "      <th>8</th>\n",
       "      <td>id_2690</td>\n",
       "      <td>Vienna</td>\n",
       "      <td>[mystery]</td>\n",
       "      <td>2692.0</td>\n",
       "      <td>4.0</td>\n",
       "      <td>2.0</td>\n",
       "      <td>NaN</td>\n",
       "      <td>/Restaurant_Review-g190454-d12845029-Reviews-G...</td>\n",
       "      <td>d12845029</td>\n",
       "      <td>NaT</td>\n",
       "      <td>NaT</td>\n",
       "      <td>-0.002584</td>\n",
       "      <td>1</td>\n",
       "    </tr>\n",
       "    <tr>\n",
       "      <th>21</th>\n",
       "      <td>id_5844</td>\n",
       "      <td>Madrid</td>\n",
       "      <td>[mystery]</td>\n",
       "      <td>5847.0</td>\n",
       "      <td>4.0</td>\n",
       "      <td>2.0</td>\n",
       "      <td>NaN</td>\n",
       "      <td>/Restaurant_Review-g187514-d10058810-Reviews-B...</td>\n",
       "      <td>d10058810</td>\n",
       "      <td>NaT</td>\n",
       "      <td>NaT</td>\n",
       "      <td>-0.002584</td>\n",
       "      <td>1</td>\n",
       "    </tr>\n",
       "    <tr>\n",
       "      <th>32</th>\n",
       "      <td>id_1327</td>\n",
       "      <td>Budapest</td>\n",
       "      <td>[mystery]</td>\n",
       "      <td>1328.0</td>\n",
       "      <td>5.0</td>\n",
       "      <td>2.0</td>\n",
       "      <td>NaN</td>\n",
       "      <td>/Restaurant_Review-g274887-d8791087-Reviews-Bu...</td>\n",
       "      <td>d8791087</td>\n",
       "      <td>2015-10-26</td>\n",
       "      <td>2015-10-26</td>\n",
       "      <td>-0.002584</td>\n",
       "      <td>1</td>\n",
       "    </tr>\n",
       "    <tr>\n",
       "      <th>102</th>\n",
       "      <td>id_1409</td>\n",
       "      <td>Budapest</td>\n",
       "      <td>[French, European, Hungarian]</td>\n",
       "      <td>1410.0</td>\n",
       "      <td>5.0</td>\n",
       "      <td>2.0</td>\n",
       "      <td>NaN</td>\n",
       "      <td>/Restaurant_Review-g274887-d13197631-Reviews-L...</td>\n",
       "      <td>d13197631</td>\n",
       "      <td>NaT</td>\n",
       "      <td>NaT</td>\n",
       "      <td>-0.002584</td>\n",
       "      <td>3</td>\n",
       "    </tr>\n",
       "    <tr>\n",
       "      <th>108</th>\n",
       "      <td>id_2047</td>\n",
       "      <td>Prague</td>\n",
       "      <td>[Italian, Mediterranean]</td>\n",
       "      <td>2050.0</td>\n",
       "      <td>5.0</td>\n",
       "      <td>2.0</td>\n",
       "      <td>NaN</td>\n",
       "      <td>/Restaurant_Review-g274707-d12243659-Reviews-T...</td>\n",
       "      <td>d12243659</td>\n",
       "      <td>NaT</td>\n",
       "      <td>NaT</td>\n",
       "      <td>-0.002584</td>\n",
       "      <td>2</td>\n",
       "    </tr>\n",
       "    <tr>\n",
       "      <th>...</th>\n",
       "      <td>...</td>\n",
       "      <td>...</td>\n",
       "      <td>...</td>\n",
       "      <td>...</td>\n",
       "      <td>...</td>\n",
       "      <td>...</td>\n",
       "      <td>...</td>\n",
       "      <td>...</td>\n",
       "      <td>...</td>\n",
       "      <td>...</td>\n",
       "      <td>...</td>\n",
       "      <td>...</td>\n",
       "      <td>...</td>\n",
       "    </tr>\n",
       "    <tr>\n",
       "      <th>39965</th>\n",
       "      <td>id_5720</td>\n",
       "      <td>Rome</td>\n",
       "      <td>[mystery]</td>\n",
       "      <td>5722.0</td>\n",
       "      <td>5.0</td>\n",
       "      <td>2.0</td>\n",
       "      <td>NaN</td>\n",
       "      <td>/Restaurant_Review-g187791-d793376-Reviews-Wes...</td>\n",
       "      <td>d793376</td>\n",
       "      <td>NaT</td>\n",
       "      <td>NaT</td>\n",
       "      <td>-0.002584</td>\n",
       "      <td>1</td>\n",
       "    </tr>\n",
       "    <tr>\n",
       "      <th>39972</th>\n",
       "      <td>id_2009</td>\n",
       "      <td>Prague</td>\n",
       "      <td>[Cafe, Delicatessen, Healthy, Wine Bar, Street...</td>\n",
       "      <td>2012.0</td>\n",
       "      <td>5.0</td>\n",
       "      <td>1.0</td>\n",
       "      <td>NaN</td>\n",
       "      <td>/Restaurant_Review-g274707-d12981295-Reviews-M...</td>\n",
       "      <td>d12981295</td>\n",
       "      <td>2017-10-27</td>\n",
       "      <td>2017-10-27</td>\n",
       "      <td>-0.002584</td>\n",
       "      <td>5</td>\n",
       "    </tr>\n",
       "    <tr>\n",
       "      <th>39986</th>\n",
       "      <td>id_7274</td>\n",
       "      <td>Madrid</td>\n",
       "      <td>[mystery]</td>\n",
       "      <td>7279.0</td>\n",
       "      <td>3.0</td>\n",
       "      <td>2.0</td>\n",
       "      <td>NaN</td>\n",
       "      <td>/Restaurant_Review-g187514-d12182212-Reviews-C...</td>\n",
       "      <td>d12182212</td>\n",
       "      <td>NaT</td>\n",
       "      <td>NaT</td>\n",
       "      <td>-0.002584</td>\n",
       "      <td>1</td>\n",
       "    </tr>\n",
       "    <tr>\n",
       "      <th>39988</th>\n",
       "      <td>id_4968</td>\n",
       "      <td>Berlin</td>\n",
       "      <td>[mystery]</td>\n",
       "      <td>4970.0</td>\n",
       "      <td>4.0</td>\n",
       "      <td>2.0</td>\n",
       "      <td>NaN</td>\n",
       "      <td>/Restaurant_Review-g187323-d7761701-Reviews-Ar...</td>\n",
       "      <td>d7761701</td>\n",
       "      <td>NaT</td>\n",
       "      <td>NaT</td>\n",
       "      <td>-0.002584</td>\n",
       "      <td>1</td>\n",
       "    </tr>\n",
       "    <tr>\n",
       "      <th>39989</th>\n",
       "      <td>id_8887</td>\n",
       "      <td>London</td>\n",
       "      <td>[International]</td>\n",
       "      <td>8896.0</td>\n",
       "      <td>5.0</td>\n",
       "      <td>2.0</td>\n",
       "      <td>NaN</td>\n",
       "      <td>/Restaurant_Review-g186338-d5550626-Reviews-Th...</td>\n",
       "      <td>d5550626</td>\n",
       "      <td>2015-08-24</td>\n",
       "      <td>2015-08-24</td>\n",
       "      <td>-0.002584</td>\n",
       "      <td>1</td>\n",
       "    </tr>\n",
       "  </tbody>\n",
       "</table>\n",
       "<p>2543 rows × 13 columns</p>\n",
       "</div>"
      ],
      "text/plain": [
       "      restaurant_id      city  \\\n",
       "8           id_2690    Vienna   \n",
       "21          id_5844    Madrid   \n",
       "32          id_1327  Budapest   \n",
       "102         id_1409  Budapest   \n",
       "108         id_2047    Prague   \n",
       "...             ...       ...   \n",
       "39965       id_5720      Rome   \n",
       "39972       id_2009    Prague   \n",
       "39986       id_7274    Madrid   \n",
       "39988       id_4968    Berlin   \n",
       "39989       id_8887    London   \n",
       "\n",
       "                                           cuisine_style  ranking  rating  \\\n",
       "8                                              [mystery]   2692.0     4.0   \n",
       "21                                             [mystery]   5847.0     4.0   \n",
       "32                                             [mystery]   1328.0     5.0   \n",
       "102                        [French, European, Hungarian]   1410.0     5.0   \n",
       "108                             [Italian, Mediterranean]   2050.0     5.0   \n",
       "...                                                  ...      ...     ...   \n",
       "39965                                          [mystery]   5722.0     5.0   \n",
       "39972  [Cafe, Delicatessen, Healthy, Wine Bar, Street...   2012.0     5.0   \n",
       "39986                                          [mystery]   7279.0     3.0   \n",
       "39988                                          [mystery]   4970.0     4.0   \n",
       "39989                                    [International]   8896.0     5.0   \n",
       "\n",
       "       price_range  number_of_reviews  \\\n",
       "8              2.0                NaN   \n",
       "21             2.0                NaN   \n",
       "32             2.0                NaN   \n",
       "102            2.0                NaN   \n",
       "108            2.0                NaN   \n",
       "...            ...                ...   \n",
       "39965          2.0                NaN   \n",
       "39972          1.0                NaN   \n",
       "39986          2.0                NaN   \n",
       "39988          2.0                NaN   \n",
       "39989          2.0                NaN   \n",
       "\n",
       "                                                  URL_TA      ID_TA  \\\n",
       "8      /Restaurant_Review-g190454-d12845029-Reviews-G...  d12845029   \n",
       "21     /Restaurant_Review-g187514-d10058810-Reviews-B...  d10058810   \n",
       "32     /Restaurant_Review-g274887-d8791087-Reviews-Bu...   d8791087   \n",
       "102    /Restaurant_Review-g274887-d13197631-Reviews-L...  d13197631   \n",
       "108    /Restaurant_Review-g274707-d12243659-Reviews-T...  d12243659   \n",
       "...                                                  ...        ...   \n",
       "39965  /Restaurant_Review-g187791-d793376-Reviews-Wes...    d793376   \n",
       "39972  /Restaurant_Review-g274707-d12981295-Reviews-M...  d12981295   \n",
       "39986  /Restaurant_Review-g187514-d12182212-Reviews-C...  d12182212   \n",
       "39988  /Restaurant_Review-g187323-d7761701-Reviews-Ar...   d7761701   \n",
       "39989  /Restaurant_Review-g186338-d5550626-Reviews-Th...   d5550626   \n",
       "\n",
       "      first_review_time last_review_time  d_reviews_time_st  n_cuisine  \n",
       "8                   NaT              NaT          -0.002584          1  \n",
       "21                  NaT              NaT          -0.002584          1  \n",
       "32           2015-10-26       2015-10-26          -0.002584          1  \n",
       "102                 NaT              NaT          -0.002584          3  \n",
       "108                 NaT              NaT          -0.002584          2  \n",
       "...                 ...              ...                ...        ...  \n",
       "39965               NaT              NaT          -0.002584          1  \n",
       "39972        2017-10-27       2017-10-27          -0.002584          5  \n",
       "39986               NaT              NaT          -0.002584          1  \n",
       "39988               NaT              NaT          -0.002584          1  \n",
       "39989        2015-08-24       2015-08-24          -0.002584          1  \n",
       "\n",
       "[2543 rows x 13 columns]"
      ]
     },
     "execution_count": 116,
     "metadata": {},
     "output_type": "execute_result"
    }
   ],
   "source": [
    "df_[df_.number_of_reviews.isna()]"
   ]
  },
  {
   "cell_type": "markdown",
   "metadata": {},
   "source": [
    "# Проверим, что получилось с текущими изменениями"
   ]
  },
  {
   "cell_type": "code",
   "execution_count": 117,
   "metadata": {},
   "outputs": [
    {
     "name": "stdout",
     "output_type": "stream",
     "text": [
      "<class 'pandas.core.frame.DataFrame'>\n",
      "RangeIndex: 40000 entries, 0 to 39999\n",
      "Data columns (total 6 columns):\n",
      " #   Column             Non-Null Count  Dtype  \n",
      "---  ------             --------------  -----  \n",
      " 0   ranking            40000 non-null  float64\n",
      " 1   rating             40000 non-null  float64\n",
      " 2   price_range        40000 non-null  float64\n",
      " 3   number_of_reviews  40000 non-null  float64\n",
      " 4   d_reviews_time_st  40000 non-null  float64\n",
      " 5   n_cuisine          40000 non-null  int64  \n",
      "dtypes: float64(5), int64(1)\n",
      "memory usage: 1.8 MB\n"
     ]
    },
    {
     "data": {
      "text/plain": [
       "None"
      ]
     },
     "metadata": {},
     "output_type": "display_data"
    },
    {
     "data": {
      "text/html": [
       "<div>\n",
       "<style scoped>\n",
       "    .dataframe tbody tr th:only-of-type {\n",
       "        vertical-align: middle;\n",
       "    }\n",
       "\n",
       "    .dataframe tbody tr th {\n",
       "        vertical-align: top;\n",
       "    }\n",
       "\n",
       "    .dataframe thead th {\n",
       "        text-align: right;\n",
       "    }\n",
       "</style>\n",
       "<table border=\"1\" class=\"dataframe\">\n",
       "  <thead>\n",
       "    <tr style=\"text-align: right;\">\n",
       "      <th></th>\n",
       "      <th>restaurant_id</th>\n",
       "      <th>city</th>\n",
       "      <th>cuisine_style</th>\n",
       "      <th>ranking</th>\n",
       "      <th>rating</th>\n",
       "      <th>price_range</th>\n",
       "      <th>number_of_reviews</th>\n",
       "      <th>reviews</th>\n",
       "      <th>URL_TA</th>\n",
       "      <th>ID_TA</th>\n",
       "      <th>reviews_date</th>\n",
       "      <th>delta_reviews_time</th>\n",
       "      <th>first_review_time</th>\n",
       "      <th>last_review_time</th>\n",
       "    </tr>\n",
       "  </thead>\n",
       "  <tbody>\n",
       "  </tbody>\n",
       "</table>\n",
       "</div>"
      ],
      "text/plain": [
       "Empty DataFrame\n",
       "Columns: [restaurant_id, city, cuisine_style, ranking, rating, price_range, number_of_reviews, reviews, URL_TA, ID_TA, reviews_date, delta_reviews_time, first_review_time, last_review_time]\n",
       "Index: []"
      ]
     },
     "execution_count": 117,
     "metadata": {},
     "output_type": "execute_result"
    }
   ],
   "source": [
    "df_test = df_.copy()\n",
    "df_test = df_test.drop([column  for column in df_test.columns if df_test[column].dtype == 'O' or df_test[column].dtype == '<M8[ns]'],axis=1)\n",
    "df_test.number_of_reviews = df_1.number_of_reviews.fillna(0)\n",
    "display(df_test.info())\n",
    "df[df_test.number_of_reviews.isna()]  # выведем все нулевые значения"
   ]
  },
  {
   "cell_type": "code",
   "execution_count": 122,
   "metadata": {},
   "outputs": [
    {
     "data": {
      "text/html": [
       "<div>\n",
       "<style scoped>\n",
       "    .dataframe tbody tr th:only-of-type {\n",
       "        vertical-align: middle;\n",
       "    }\n",
       "\n",
       "    .dataframe tbody tr th {\n",
       "        vertical-align: top;\n",
       "    }\n",
       "\n",
       "    .dataframe thead th {\n",
       "        text-align: right;\n",
       "    }\n",
       "</style>\n",
       "<table border=\"1\" class=\"dataframe\">\n",
       "  <thead>\n",
       "    <tr style=\"text-align: right;\">\n",
       "      <th></th>\n",
       "      <th>ranking</th>\n",
       "      <th>rating</th>\n",
       "      <th>price_range</th>\n",
       "      <th>number_of_reviews</th>\n",
       "      <th>d_reviews_time_st</th>\n",
       "      <th>n_cuisine</th>\n",
       "    </tr>\n",
       "  </thead>\n",
       "  <tbody>\n",
       "    <tr>\n",
       "      <th>0</th>\n",
       "      <td>5570.0</td>\n",
       "      <td>3.5</td>\n",
       "      <td>2.0</td>\n",
       "      <td>194.0</td>\n",
       "      <td>-0.001552</td>\n",
       "      <td>3</td>\n",
       "    </tr>\n",
       "    <tr>\n",
       "      <th>1</th>\n",
       "      <td>1537.0</td>\n",
       "      <td>4.0</td>\n",
       "      <td>2.0</td>\n",
       "      <td>10.0</td>\n",
       "      <td>0.007033</td>\n",
       "      <td>1</td>\n",
       "    </tr>\n",
       "    <tr>\n",
       "      <th>2</th>\n",
       "      <td>353.0</td>\n",
       "      <td>4.5</td>\n",
       "      <td>3.0</td>\n",
       "      <td>688.0</td>\n",
       "      <td>-0.002534</td>\n",
       "      <td>7</td>\n",
       "    </tr>\n",
       "    <tr>\n",
       "      <th>3</th>\n",
       "      <td>3458.0</td>\n",
       "      <td>5.0</td>\n",
       "      <td>2.0</td>\n",
       "      <td>3.0</td>\n",
       "      <td>-0.002584</td>\n",
       "      <td>1</td>\n",
       "    </tr>\n",
       "    <tr>\n",
       "      <th>4</th>\n",
       "      <td>621.0</td>\n",
       "      <td>4.0</td>\n",
       "      <td>2.0</td>\n",
       "      <td>84.0</td>\n",
       "      <td>0.004264</td>\n",
       "      <td>3</td>\n",
       "    </tr>\n",
       "  </tbody>\n",
       "</table>\n",
       "</div>"
      ],
      "text/plain": [
       "   ranking  rating  price_range  number_of_reviews  d_reviews_time_st  \\\n",
       "0   5570.0     3.5          2.0              194.0          -0.001552   \n",
       "1   1537.0     4.0          2.0               10.0           0.007033   \n",
       "2    353.0     4.5          3.0              688.0          -0.002534   \n",
       "3   3458.0     5.0          2.0                3.0          -0.002584   \n",
       "4    621.0     4.0          2.0               84.0           0.004264   \n",
       "\n",
       "   n_cuisine  \n",
       "0          3  \n",
       "1          1  \n",
       "2          7  \n",
       "3          1  \n",
       "4          3  "
      ]
     },
     "execution_count": 122,
     "metadata": {},
     "output_type": "execute_result"
    }
   ],
   "source": [
    "df_test.head()"
   ]
  },
  {
   "cell_type": "code",
   "execution_count": 121,
   "metadata": {},
   "outputs": [
    {
     "name": "stdout",
     "output_type": "stream",
     "text": [
      "MAE: 0.38381885416666667\n"
     ]
    }
   ],
   "source": [
    "# Разбиваем датафрейм на части, необходимые для обучения и тестирования модели  \n",
    "    # Х - данные с информацией о ресторанах, у - целевая переменная (рейтинги ресторанов)  \n",
    "# X = df.drop(['restaurant_id', 'rating'], axis = 1)  \n",
    "X = df_test.drop(['rating'], axis = 1)  \n",
    "\n",
    "y = df_test['rating']  \n",
    "      \n",
    "    # Загружаем специальный инструмент для разбивки:  убрано наверх\n",
    "#     from sklearn.model_selection import train_test_split   \n",
    "    \n",
    "      \n",
    "    # Наборы данных с меткой \"train\" будут использоваться для обучения модели, \"test\" - для тестирования.  \n",
    "    # Для тестирования мы будем использовать 25% от исходного датасета.  \n",
    "X_train, X_test, y_train, y_test = train_test_split(X, y, test_size=0.25)\n",
    "\n",
    "\n",
    "# Импортируем необходимые библиотеки: убрано наверх \n",
    "#     from sklearn.ensemble import RandomForestRegressor # инструмент для создания и обучения модели  \n",
    "#     from sklearn import metrics # инструменты для оценки точности модели  \n",
    "      \n",
    "    # Создаём модель  \n",
    "regr = RandomForestRegressor(n_estimators=100)  \n",
    "      \n",
    "    # Обучаем модель на тестовом наборе данных  \n",
    "regr.fit(X_train, y_train)  \n",
    "      \n",
    "    # Используем обученную модель для предсказания рейтинга ресторанов в тестовой выборке.  \n",
    "    # Предсказанные значения записываем в переменную y_pred  \n",
    "y_pred = regr.predict(X_test) \n",
    "\n",
    "# Сравниваем предсказанные значения (y_pred) с реальными (y_test), и смотрим насколько они в среднем отличаются  \n",
    "# Метрика называется Mean Absolute Error (MAE) и показывает среднее отклонение предсказанных значений от фактических.  \n",
    "print('MAE:', metrics.mean_absolute_error(y_test, y_pred))  "
   ]
  },
  {
   "cell_type": "code",
   "execution_count": 119,
   "metadata": {},
   "outputs": [
    {
     "data": {
      "text/plain": [
       "0.38354679126984126"
      ]
     },
     "execution_count": 119,
     "metadata": {},
     "output_type": "execute_result"
    }
   ],
   "source": [
    "0.38354679126984126"
   ]
  },
  {
   "cell_type": "markdown",
   "metadata": {},
   "source": [
    "* Отнормировать признаки. \n",
    "* Проверить наличие выбросов."
   ]
  }
 ],
 "metadata": {
  "kernelspec": {
   "display_name": "Python 3",
   "language": "python",
   "name": "python3"
  },
  "language_info": {
   "codemirror_mode": {
    "name": "ipython",
    "version": 3
   },
   "file_extension": ".py",
   "mimetype": "text/x-python",
   "name": "python",
   "nbconvert_exporter": "python",
   "pygments_lexer": "ipython3",
   "version": "3.8.3"
  }
 },
 "nbformat": 4,
 "nbformat_minor": 4
}
