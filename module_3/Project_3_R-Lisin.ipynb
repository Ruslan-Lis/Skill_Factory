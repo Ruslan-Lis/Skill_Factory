{
 "cells": [
  {
   "cell_type": "code",
   "execution_count": 1,
   "metadata": {},
   "outputs": [],
   "source": [
    "import numpy as np\n",
    "import matplotlib.pyplot as plt\n",
    "import pandas as pd\n",
    "import re \n",
    "import seaborn as sns\n",
    "from collections import ChainMap\n",
    "from collections import Counter\n",
    "from datetime import datetime\n",
    "from itertools import combinations\n",
    "from scipy.stats import ttest_ind\n",
    "from sklearn import metrics # инструменты для оценки точности модели  \n",
    "from sklearn.ensemble import RandomForestRegressor # инструмент для создания и обучения модели  \n",
    "from sklearn.model_selection import train_test_split  # Загружаем специальный инструмент для разбивки: \n",
    "from statsmodels.stats import weightstats\n",
    "\n",
    "pd.set_option('display.max_rows', 50)  # показывать больше строк\n",
    "pd.set_option('display.max_columns', 50)  # показывать больше колонок"
   ]
  },
  {
   "cell_type": "code",
   "execution_count": 2,
   "metadata": {},
   "outputs": [],
   "source": [
    "main_task = pd.read_csv('main_task.csv')\n"
   ]
  },
  {
   "cell_type": "code",
   "execution_count": 3,
   "metadata": {},
   "outputs": [],
   "source": [
    "#  предобработка\n",
    "# для удобства переименуем переменные\n",
    "main_task.columns = ['restaurant_id', 'city', 'cuisine_style', 'ranking', 'rating',\n",
    "              'price_range', 'number_of_reviews', 'reviews', 'URL_TA', 'ID_TA']\n",
    "\n",
    "df = main_task.copy()\n"
   ]
  },
  {
   "cell_type": "markdown",
   "metadata": {},
   "source": [
    "\n",
    "*  Restaurant_id — идентификационный номер ресторана / сети ресторанов;\n",
    "*   City — город, в котором находится ресторан;\n",
    "*  Cuisine Style — кухня или кухни, к которым можно отнести блюда, предлагаемые в ресторане;\n",
    "*  Ranking — место, которое занимает данный ресторан среди всех ресторанов своего города;\n",
    "* Rating — рейтинг ресторана по данным TripAdvisor (именно это значение должна будет предсказывать модель);\n",
    "*    Price Range — диапазон цен в ресторане;\n",
    "*   Number of Reviews — количество отзывов о ресторане;\n",
    "*  Reviews — данные о двух отзывах, которые отображаются на сайте ресторана;\n",
    "* URL_TA — URL страницы ресторана на TripAdvisor;\n",
    "* ID_TA — идентификатор ресторана в базе данных TripAdvisor.\n"
   ]
  },
  {
   "cell_type": "code",
   "execution_count": 4,
   "metadata": {},
   "outputs": [
    {
     "name": "stdout",
     "output_type": "stream",
     "text": [
      "<class 'pandas.core.frame.DataFrame'>\n",
      "RangeIndex: 40000 entries, 0 to 39999\n",
      "Data columns (total 10 columns):\n",
      " #   Column             Non-Null Count  Dtype  \n",
      "---  ------             --------------  -----  \n",
      " 0   restaurant_id      40000 non-null  object \n",
      " 1   city               40000 non-null  object \n",
      " 2   cuisine_style      30717 non-null  object \n",
      " 3   ranking            40000 non-null  float64\n",
      " 4   rating             40000 non-null  float64\n",
      " 5   price_range        26114 non-null  object \n",
      " 6   number_of_reviews  37457 non-null  float64\n",
      " 7   reviews            40000 non-null  object \n",
      " 8   URL_TA             40000 non-null  object \n",
      " 9   ID_TA              40000 non-null  object \n",
      "dtypes: float64(3), object(7)\n",
      "memory usage: 3.1+ MB\n"
     ]
    }
   ],
   "source": [
    "df.info()"
   ]
  },
  {
   "cell_type": "code",
   "execution_count": 5,
   "metadata": {
    "scrolled": false
   },
   "outputs": [
    {
     "data": {
      "text/html": [
       "<div>\n",
       "<style scoped>\n",
       "    .dataframe tbody tr th:only-of-type {\n",
       "        vertical-align: middle;\n",
       "    }\n",
       "\n",
       "    .dataframe tbody tr th {\n",
       "        vertical-align: top;\n",
       "    }\n",
       "\n",
       "    .dataframe thead th {\n",
       "        text-align: right;\n",
       "    }\n",
       "</style>\n",
       "<table border=\"1\" class=\"dataframe\">\n",
       "  <thead>\n",
       "    <tr style=\"text-align: right;\">\n",
       "      <th></th>\n",
       "      <th>restaurant_id</th>\n",
       "      <th>city</th>\n",
       "      <th>cuisine_style</th>\n",
       "      <th>ranking</th>\n",
       "      <th>rating</th>\n",
       "      <th>price_range</th>\n",
       "      <th>number_of_reviews</th>\n",
       "      <th>reviews</th>\n",
       "      <th>URL_TA</th>\n",
       "      <th>ID_TA</th>\n",
       "    </tr>\n",
       "  </thead>\n",
       "  <tbody>\n",
       "    <tr>\n",
       "      <th>32217</th>\n",
       "      <td>id_460</td>\n",
       "      <td>Warsaw</td>\n",
       "      <td>['Italian', 'Mediterranean']</td>\n",
       "      <td>461.0</td>\n",
       "      <td>4.5</td>\n",
       "      <td>$$ - $$$</td>\n",
       "      <td>23.0</td>\n",
       "      <td>[['Amazing', 'Ignore the other reviews.'], ['0...</td>\n",
       "      <td>/Restaurant_Review-g274856-d10429587-Reviews-P...</td>\n",
       "      <td>d10429587</td>\n",
       "    </tr>\n",
       "    <tr>\n",
       "      <th>39782</th>\n",
       "      <td>id_7485</td>\n",
       "      <td>London</td>\n",
       "      <td>['Wine Bar', 'British']</td>\n",
       "      <td>7494.0</td>\n",
       "      <td>4.0</td>\n",
       "      <td>$$ - $$$</td>\n",
       "      <td>19.0</td>\n",
       "      <td>[['Brokers Wine Bar', 'Great little place in t...</td>\n",
       "      <td>/Restaurant_Review-g186338-d6834397-Reviews-Br...</td>\n",
       "      <td>d6834397</td>\n",
       "    </tr>\n",
       "    <tr>\n",
       "      <th>26663</th>\n",
       "      <td>id_1040</td>\n",
       "      <td>Hamburg</td>\n",
       "      <td>NaN</td>\n",
       "      <td>1042.0</td>\n",
       "      <td>4.5</td>\n",
       "      <td>NaN</td>\n",
       "      <td>9.0</td>\n",
       "      <td>[['One of the best breakfast places in Hambur....</td>\n",
       "      <td>/Restaurant_Review-g187331-d12096070-Reviews-B...</td>\n",
       "      <td>d12096070</td>\n",
       "    </tr>\n",
       "    <tr>\n",
       "      <th>27516</th>\n",
       "      <td>id_3192</td>\n",
       "      <td>Berlin</td>\n",
       "      <td>NaN</td>\n",
       "      <td>3194.0</td>\n",
       "      <td>5.0</td>\n",
       "      <td>NaN</td>\n",
       "      <td>4.0</td>\n",
       "      <td>[['Excellent food'], ['01/03/2017']]</td>\n",
       "      <td>/Restaurant_Review-g187323-d10860258-Reviews-B...</td>\n",
       "      <td>d10860258</td>\n",
       "    </tr>\n",
       "    <tr>\n",
       "      <th>13008</th>\n",
       "      <td>id_4435</td>\n",
       "      <td>London</td>\n",
       "      <td>['Italian', 'Pizza', 'Vegetarian Friendly', 'G...</td>\n",
       "      <td>4442.0</td>\n",
       "      <td>4.0</td>\n",
       "      <td>$$ - $$$</td>\n",
       "      <td>225.0</td>\n",
       "      <td>[['Great pizza from a wood-fired oven', 'Excel...</td>\n",
       "      <td>/Restaurant_Review-g186338-d720402-Reviews-Red...</td>\n",
       "      <td>d720402</td>\n",
       "    </tr>\n",
       "  </tbody>\n",
       "</table>\n",
       "</div>"
      ],
      "text/plain": [
       "      restaurant_id     city  \\\n",
       "32217        id_460   Warsaw   \n",
       "39782       id_7485   London   \n",
       "26663       id_1040  Hamburg   \n",
       "27516       id_3192   Berlin   \n",
       "13008       id_4435   London   \n",
       "\n",
       "                                           cuisine_style  ranking  rating  \\\n",
       "32217                       ['Italian', 'Mediterranean']    461.0     4.5   \n",
       "39782                            ['Wine Bar', 'British']   7494.0     4.0   \n",
       "26663                                                NaN   1042.0     4.5   \n",
       "27516                                                NaN   3194.0     5.0   \n",
       "13008  ['Italian', 'Pizza', 'Vegetarian Friendly', 'G...   4442.0     4.0   \n",
       "\n",
       "      price_range  number_of_reviews  \\\n",
       "32217    $$ - $$$               23.0   \n",
       "39782    $$ - $$$               19.0   \n",
       "26663         NaN                9.0   \n",
       "27516         NaN                4.0   \n",
       "13008    $$ - $$$              225.0   \n",
       "\n",
       "                                                 reviews  \\\n",
       "32217  [['Amazing', 'Ignore the other reviews.'], ['0...   \n",
       "39782  [['Brokers Wine Bar', 'Great little place in t...   \n",
       "26663  [['One of the best breakfast places in Hambur....   \n",
       "27516               [['Excellent food'], ['01/03/2017']]   \n",
       "13008  [['Great pizza from a wood-fired oven', 'Excel...   \n",
       "\n",
       "                                                  URL_TA      ID_TA  \n",
       "32217  /Restaurant_Review-g274856-d10429587-Reviews-P...  d10429587  \n",
       "39782  /Restaurant_Review-g186338-d6834397-Reviews-Br...   d6834397  \n",
       "26663  /Restaurant_Review-g187331-d12096070-Reviews-B...  d12096070  \n",
       "27516  /Restaurant_Review-g187323-d10860258-Reviews-B...  d10860258  \n",
       "13008  /Restaurant_Review-g186338-d720402-Reviews-Red...    d720402  "
      ]
     },
     "execution_count": 5,
     "metadata": {},
     "output_type": "execute_result"
    }
   ],
   "source": [
    "df.sample(5)"
   ]
  },
  {
   "cell_type": "code",
   "execution_count": 6,
   "metadata": {},
   "outputs": [
    {
     "data": {
      "text/plain": [
       "str"
      ]
     },
     "execution_count": 6,
     "metadata": {},
     "output_type": "execute_result"
    }
   ],
   "source": [
    "type(df.loc[0,'reviews'])\n",
    "# data.loc[0,'reviews']"
   ]
  },
  {
   "cell_type": "markdown",
   "metadata": {},
   "source": [
    "На первом этапе для создания такого датафрейма давайте просто удалим столбцы, содержащие данные типа __object__, и заполним пропущенные значения (__None__ или __NaN__) каким-то одним значением (нулём или средним арифметическим) для всего столбца."
   ]
  },
  {
   "cell_type": "code",
   "execution_count": 7,
   "metadata": {},
   "outputs": [
    {
     "name": "stdout",
     "output_type": "stream",
     "text": [
      "<class 'pandas.core.frame.DataFrame'>\n",
      "RangeIndex: 40000 entries, 0 to 39999\n",
      "Data columns (total 10 columns):\n",
      " #   Column             Non-Null Count  Dtype  \n",
      "---  ------             --------------  -----  \n",
      " 0   restaurant_id      40000 non-null  object \n",
      " 1   city               40000 non-null  object \n",
      " 2   cuisine_style      30717 non-null  object \n",
      " 3   ranking            40000 non-null  float64\n",
      " 4   rating             40000 non-null  float64\n",
      " 5   price_range        26114 non-null  object \n",
      " 6   number_of_reviews  37457 non-null  float64\n",
      " 7   reviews            40000 non-null  object \n",
      " 8   URL_TA             40000 non-null  object \n",
      " 9   ID_TA              40000 non-null  object \n",
      "dtypes: float64(3), object(7)\n",
      "memory usage: 3.1+ MB\n"
     ]
    },
    {
     "data": {
      "text/plain": [
       "None"
      ]
     },
     "metadata": {},
     "output_type": "display_data"
    },
    {
     "data": {
      "text/html": [
       "<div>\n",
       "<style scoped>\n",
       "    .dataframe tbody tr th:only-of-type {\n",
       "        vertical-align: middle;\n",
       "    }\n",
       "\n",
       "    .dataframe tbody tr th {\n",
       "        vertical-align: top;\n",
       "    }\n",
       "\n",
       "    .dataframe thead th {\n",
       "        text-align: right;\n",
       "    }\n",
       "</style>\n",
       "<table border=\"1\" class=\"dataframe\">\n",
       "  <thead>\n",
       "    <tr style=\"text-align: right;\">\n",
       "      <th></th>\n",
       "      <th>restaurant_id</th>\n",
       "      <th>city</th>\n",
       "      <th>cuisine_style</th>\n",
       "      <th>ranking</th>\n",
       "      <th>rating</th>\n",
       "      <th>price_range</th>\n",
       "      <th>number_of_reviews</th>\n",
       "      <th>reviews</th>\n",
       "      <th>URL_TA</th>\n",
       "      <th>ID_TA</th>\n",
       "    </tr>\n",
       "  </thead>\n",
       "  <tbody>\n",
       "    <tr>\n",
       "      <th>8</th>\n",
       "      <td>id_2690</td>\n",
       "      <td>Vienna</td>\n",
       "      <td>NaN</td>\n",
       "      <td>2692.0</td>\n",
       "      <td>4.0</td>\n",
       "      <td>NaN</td>\n",
       "      <td>NaN</td>\n",
       "      <td>[[], []]</td>\n",
       "      <td>/Restaurant_Review-g190454-d12845029-Reviews-G...</td>\n",
       "      <td>d12845029</td>\n",
       "    </tr>\n",
       "    <tr>\n",
       "      <th>21</th>\n",
       "      <td>id_5844</td>\n",
       "      <td>Madrid</td>\n",
       "      <td>NaN</td>\n",
       "      <td>5847.0</td>\n",
       "      <td>4.0</td>\n",
       "      <td>NaN</td>\n",
       "      <td>NaN</td>\n",
       "      <td>[[], []]</td>\n",
       "      <td>/Restaurant_Review-g187514-d10058810-Reviews-B...</td>\n",
       "      <td>d10058810</td>\n",
       "    </tr>\n",
       "    <tr>\n",
       "      <th>32</th>\n",
       "      <td>id_1327</td>\n",
       "      <td>Budapest</td>\n",
       "      <td>NaN</td>\n",
       "      <td>1328.0</td>\n",
       "      <td>5.0</td>\n",
       "      <td>NaN</td>\n",
       "      <td>NaN</td>\n",
       "      <td>[['Absolutely amazing, tasty, fresh, cheap Ch....</td>\n",
       "      <td>/Restaurant_Review-g274887-d8791087-Reviews-Bu...</td>\n",
       "      <td>d8791087</td>\n",
       "    </tr>\n",
       "    <tr>\n",
       "      <th>102</th>\n",
       "      <td>id_1409</td>\n",
       "      <td>Budapest</td>\n",
       "      <td>['French', 'European', 'Hungarian']</td>\n",
       "      <td>1410.0</td>\n",
       "      <td>5.0</td>\n",
       "      <td>NaN</td>\n",
       "      <td>NaN</td>\n",
       "      <td>[[], []]</td>\n",
       "      <td>/Restaurant_Review-g274887-d13197631-Reviews-L...</td>\n",
       "      <td>d13197631</td>\n",
       "    </tr>\n",
       "    <tr>\n",
       "      <th>108</th>\n",
       "      <td>id_2047</td>\n",
       "      <td>Prague</td>\n",
       "      <td>['Italian', 'Mediterranean']</td>\n",
       "      <td>2050.0</td>\n",
       "      <td>5.0</td>\n",
       "      <td>$$ - $$$</td>\n",
       "      <td>NaN</td>\n",
       "      <td>[[], []]</td>\n",
       "      <td>/Restaurant_Review-g274707-d12243659-Reviews-T...</td>\n",
       "      <td>d12243659</td>\n",
       "    </tr>\n",
       "    <tr>\n",
       "      <th>...</th>\n",
       "      <td>...</td>\n",
       "      <td>...</td>\n",
       "      <td>...</td>\n",
       "      <td>...</td>\n",
       "      <td>...</td>\n",
       "      <td>...</td>\n",
       "      <td>...</td>\n",
       "      <td>...</td>\n",
       "      <td>...</td>\n",
       "      <td>...</td>\n",
       "    </tr>\n",
       "    <tr>\n",
       "      <th>39965</th>\n",
       "      <td>id_5720</td>\n",
       "      <td>Rome</td>\n",
       "      <td>NaN</td>\n",
       "      <td>5722.0</td>\n",
       "      <td>5.0</td>\n",
       "      <td>NaN</td>\n",
       "      <td>NaN</td>\n",
       "      <td>[[], []]</td>\n",
       "      <td>/Restaurant_Review-g187791-d793376-Reviews-Wes...</td>\n",
       "      <td>d793376</td>\n",
       "    </tr>\n",
       "    <tr>\n",
       "      <th>39972</th>\n",
       "      <td>id_2009</td>\n",
       "      <td>Prague</td>\n",
       "      <td>['Cafe', 'Delicatessen', 'Healthy', 'Wine Bar'...</td>\n",
       "      <td>2012.0</td>\n",
       "      <td>5.0</td>\n",
       "      <td>$</td>\n",
       "      <td>NaN</td>\n",
       "      <td>[['Personal expirence'], ['10/27/2017']]</td>\n",
       "      <td>/Restaurant_Review-g274707-d12981295-Reviews-M...</td>\n",
       "      <td>d12981295</td>\n",
       "    </tr>\n",
       "    <tr>\n",
       "      <th>39986</th>\n",
       "      <td>id_7274</td>\n",
       "      <td>Madrid</td>\n",
       "      <td>NaN</td>\n",
       "      <td>7279.0</td>\n",
       "      <td>3.0</td>\n",
       "      <td>NaN</td>\n",
       "      <td>NaN</td>\n",
       "      <td>[[], []]</td>\n",
       "      <td>/Restaurant_Review-g187514-d12182212-Reviews-C...</td>\n",
       "      <td>d12182212</td>\n",
       "    </tr>\n",
       "    <tr>\n",
       "      <th>39988</th>\n",
       "      <td>id_4968</td>\n",
       "      <td>Berlin</td>\n",
       "      <td>NaN</td>\n",
       "      <td>4970.0</td>\n",
       "      <td>4.0</td>\n",
       "      <td>NaN</td>\n",
       "      <td>NaN</td>\n",
       "      <td>[[], []]</td>\n",
       "      <td>/Restaurant_Review-g187323-d7761701-Reviews-Ar...</td>\n",
       "      <td>d7761701</td>\n",
       "    </tr>\n",
       "    <tr>\n",
       "      <th>39989</th>\n",
       "      <td>id_8887</td>\n",
       "      <td>London</td>\n",
       "      <td>['International']</td>\n",
       "      <td>8896.0</td>\n",
       "      <td>5.0</td>\n",
       "      <td>NaN</td>\n",
       "      <td>NaN</td>\n",
       "      <td>[['I love this place!'], ['08/24/2015']]</td>\n",
       "      <td>/Restaurant_Review-g186338-d5550626-Reviews-Th...</td>\n",
       "      <td>d5550626</td>\n",
       "    </tr>\n",
       "  </tbody>\n",
       "</table>\n",
       "<p>2543 rows × 10 columns</p>\n",
       "</div>"
      ],
      "text/plain": [
       "      restaurant_id      city  \\\n",
       "8           id_2690    Vienna   \n",
       "21          id_5844    Madrid   \n",
       "32          id_1327  Budapest   \n",
       "102         id_1409  Budapest   \n",
       "108         id_2047    Prague   \n",
       "...             ...       ...   \n",
       "39965       id_5720      Rome   \n",
       "39972       id_2009    Prague   \n",
       "39986       id_7274    Madrid   \n",
       "39988       id_4968    Berlin   \n",
       "39989       id_8887    London   \n",
       "\n",
       "                                           cuisine_style  ranking  rating  \\\n",
       "8                                                    NaN   2692.0     4.0   \n",
       "21                                                   NaN   5847.0     4.0   \n",
       "32                                                   NaN   1328.0     5.0   \n",
       "102                  ['French', 'European', 'Hungarian']   1410.0     5.0   \n",
       "108                         ['Italian', 'Mediterranean']   2050.0     5.0   \n",
       "...                                                  ...      ...     ...   \n",
       "39965                                                NaN   5722.0     5.0   \n",
       "39972  ['Cafe', 'Delicatessen', 'Healthy', 'Wine Bar'...   2012.0     5.0   \n",
       "39986                                                NaN   7279.0     3.0   \n",
       "39988                                                NaN   4970.0     4.0   \n",
       "39989                                  ['International']   8896.0     5.0   \n",
       "\n",
       "      price_range  number_of_reviews  \\\n",
       "8             NaN                NaN   \n",
       "21            NaN                NaN   \n",
       "32            NaN                NaN   \n",
       "102           NaN                NaN   \n",
       "108      $$ - $$$                NaN   \n",
       "...           ...                ...   \n",
       "39965         NaN                NaN   \n",
       "39972           $                NaN   \n",
       "39986         NaN                NaN   \n",
       "39988         NaN                NaN   \n",
       "39989         NaN                NaN   \n",
       "\n",
       "                                                 reviews  \\\n",
       "8                                               [[], []]   \n",
       "21                                              [[], []]   \n",
       "32     [['Absolutely amazing, tasty, fresh, cheap Ch....   \n",
       "102                                             [[], []]   \n",
       "108                                             [[], []]   \n",
       "...                                                  ...   \n",
       "39965                                           [[], []]   \n",
       "39972           [['Personal expirence'], ['10/27/2017']]   \n",
       "39986                                           [[], []]   \n",
       "39988                                           [[], []]   \n",
       "39989           [['I love this place!'], ['08/24/2015']]   \n",
       "\n",
       "                                                  URL_TA      ID_TA  \n",
       "8      /Restaurant_Review-g190454-d12845029-Reviews-G...  d12845029  \n",
       "21     /Restaurant_Review-g187514-d10058810-Reviews-B...  d10058810  \n",
       "32     /Restaurant_Review-g274887-d8791087-Reviews-Bu...   d8791087  \n",
       "102    /Restaurant_Review-g274887-d13197631-Reviews-L...  d13197631  \n",
       "108    /Restaurant_Review-g274707-d12243659-Reviews-T...  d12243659  \n",
       "...                                                  ...        ...  \n",
       "39965  /Restaurant_Review-g187791-d793376-Reviews-Wes...    d793376  \n",
       "39972  /Restaurant_Review-g274707-d12981295-Reviews-M...  d12981295  \n",
       "39986  /Restaurant_Review-g187514-d12182212-Reviews-C...  d12182212  \n",
       "39988  /Restaurant_Review-g187323-d7761701-Reviews-Ar...   d7761701  \n",
       "39989  /Restaurant_Review-g186338-d5550626-Reviews-Th...   d5550626  \n",
       "\n",
       "[2543 rows x 10 columns]"
      ]
     },
     "execution_count": 7,
     "metadata": {},
     "output_type": "execute_result"
    }
   ],
   "source": [
    "df_1 = df.copy()\n",
    "display(df_1.info())\n",
    "df_1[df_1.number_of_reviews.isna()]"
   ]
  },
  {
   "cell_type": "code",
   "execution_count": 8,
   "metadata": {},
   "outputs": [
    {
     "name": "stdout",
     "output_type": "stream",
     "text": [
      "<class 'pandas.core.frame.DataFrame'>\n",
      "RangeIndex: 40000 entries, 0 to 39999\n",
      "Data columns (total 3 columns):\n",
      " #   Column             Non-Null Count  Dtype  \n",
      "---  ------             --------------  -----  \n",
      " 0   ranking            40000 non-null  float64\n",
      " 1   rating             40000 non-null  float64\n",
      " 2   number_of_reviews  40000 non-null  float64\n",
      "dtypes: float64(3)\n",
      "memory usage: 937.6 KB\n"
     ]
    },
    {
     "data": {
      "text/plain": [
       "None"
      ]
     },
     "metadata": {},
     "output_type": "display_data"
    },
    {
     "data": {
      "text/html": [
       "<div>\n",
       "<style scoped>\n",
       "    .dataframe tbody tr th:only-of-type {\n",
       "        vertical-align: middle;\n",
       "    }\n",
       "\n",
       "    .dataframe tbody tr th {\n",
       "        vertical-align: top;\n",
       "    }\n",
       "\n",
       "    .dataframe thead th {\n",
       "        text-align: right;\n",
       "    }\n",
       "</style>\n",
       "<table border=\"1\" class=\"dataframe\">\n",
       "  <thead>\n",
       "    <tr style=\"text-align: right;\">\n",
       "      <th></th>\n",
       "      <th>restaurant_id</th>\n",
       "      <th>city</th>\n",
       "      <th>cuisine_style</th>\n",
       "      <th>ranking</th>\n",
       "      <th>rating</th>\n",
       "      <th>price_range</th>\n",
       "      <th>number_of_reviews</th>\n",
       "      <th>reviews</th>\n",
       "      <th>URL_TA</th>\n",
       "      <th>ID_TA</th>\n",
       "    </tr>\n",
       "  </thead>\n",
       "  <tbody>\n",
       "  </tbody>\n",
       "</table>\n",
       "</div>"
      ],
      "text/plain": [
       "Empty DataFrame\n",
       "Columns: [restaurant_id, city, cuisine_style, ranking, rating, price_range, number_of_reviews, reviews, URL_TA, ID_TA]\n",
       "Index: []"
      ]
     },
     "execution_count": 8,
     "metadata": {},
     "output_type": "execute_result"
    }
   ],
   "source": [
    "#  удалим все нечисловые колонки\n",
    "\n",
    "df_1 = df_1.drop([column  for column in df_1.columns if df_1[column].dtype == 'O'],axis=1)\n",
    "df_1.number_of_reviews = df_1.number_of_reviews.fillna(0)\n",
    "display(df_1.info())\n",
    "df[df_1.number_of_reviews.isna()]  # выведем все нулевые значения"
   ]
  },
  {
   "cell_type": "markdown",
   "metadata": {},
   "source": [
    "нулевых значений нет"
   ]
  },
  {
   "cell_type": "code",
   "execution_count": 9,
   "metadata": {},
   "outputs": [],
   "source": [
    "# Разбиваем датафрейм на части, необходимые для обучения и тестирования модели  \n",
    "    # Х - данные с информацией о ресторанах, у - целевая переменная (рейтинги ресторанов)  \n",
    "# X = df.drop(['restaurant_id', 'rating'], axis = 1)  \n",
    "X = df_1.drop(['rating'], axis = 1)  \n",
    "\n",
    "y = df_1['rating']  \n",
    "      \n",
    "    # Загружаем специальный инструмент для разбивки:  убрано наверх\n",
    "#     from sklearn.model_selection import train_test_split   \n",
    "    \n",
    "      \n",
    "    # Наборы данных с меткой \"train\" будут использоваться для обучения модели, \"test\" - для тестирования.  \n",
    "    # Для тестирования мы будем использовать 25% от исходного датасета.  \n",
    "X_train, X_test, y_train, y_test = train_test_split(X, y, test_size=0.25)\n",
    "    "
   ]
  },
  {
   "cell_type": "code",
   "execution_count": 10,
   "metadata": {},
   "outputs": [],
   "source": [
    "# Импортируем необходимые библиотеки: убрано наверх \n",
    "#     from sklearn.ensemble import RandomForestRegressor # инструмент для создания и обучения модели  \n",
    "#     from sklearn import metrics # инструменты для оценки точности модели  \n",
    "      \n",
    "    # Создаём модель  \n",
    "regr = RandomForestRegressor(n_estimators=100)  \n",
    "      \n",
    "    # Обучаем модель на тестовом наборе данных  \n",
    "regr.fit(X_train, y_train)  \n",
    "      \n",
    "    # Используем обученную модель для предсказания рейтинга ресторанов в тестовой выборке.  \n",
    "    # Предсказанные значения записываем в переменную y_pred  \n",
    "y_pred = regr.predict(X_test)  "
   ]
  },
  {
   "cell_type": "code",
   "execution_count": 11,
   "metadata": {},
   "outputs": [
    {
     "name": "stdout",
     "output_type": "stream",
     "text": [
      "MAE: 0.4268390017857143\n"
     ]
    }
   ],
   "source": [
    "# Сравниваем предсказанные значения (y_pred) с реальными (y_test), и смотрим насколько они в среднем отличаются  \n",
    "# Метрика называется Mean Absolute Error (MAE) и показывает среднее отклонение предсказанных значений от фактических.  \n",
    "print('MAE:', metrics.mean_absolute_error(y_test, y_pred))  "
   ]
  },
  {
   "cell_type": "markdown",
   "metadata": {},
   "source": [
    " 4.1 Вопросы о ценах\n",
    "\n",
    "Сколько вариантов непустых значений встречается в столбце Price Range?"
   ]
  },
  {
   "cell_type": "code",
   "execution_count": 12,
   "metadata": {},
   "outputs": [],
   "source": [
    "df_4 = main_task.copy()"
   ]
  },
  {
   "cell_type": "code",
   "execution_count": 13,
   "metadata": {},
   "outputs": [
    {
     "data": {
      "text/plain": [
       "3"
      ]
     },
     "metadata": {},
     "output_type": "display_data"
    },
    {
     "data": {
      "text/plain": [
       "['$$ - $$$', '$$$$', '$']"
      ]
     },
     "metadata": {},
     "output_type": "display_data"
    }
   ],
   "source": [
    "variants = [element for element in(df.price_range.unique()) if type(element) == str]\n",
    "display(len(variants),variants)"
   ]
  },
  {
   "cell_type": "code",
   "execution_count": 14,
   "metadata": {},
   "outputs": [
    {
     "data": {
      "text/html": [
       "<div>\n",
       "<style scoped>\n",
       "    .dataframe tbody tr th:only-of-type {\n",
       "        vertical-align: middle;\n",
       "    }\n",
       "\n",
       "    .dataframe tbody tr th {\n",
       "        vertical-align: top;\n",
       "    }\n",
       "\n",
       "    .dataframe thead th {\n",
       "        text-align: right;\n",
       "    }\n",
       "</style>\n",
       "<table border=\"1\" class=\"dataframe\">\n",
       "  <thead>\n",
       "    <tr style=\"text-align: right;\">\n",
       "      <th></th>\n",
       "      <th>restaurant_id</th>\n",
       "      <th>city</th>\n",
       "      <th>cuisine_style</th>\n",
       "      <th>ranking</th>\n",
       "      <th>rating</th>\n",
       "      <th>price_range</th>\n",
       "      <th>number_of_reviews</th>\n",
       "      <th>reviews</th>\n",
       "      <th>URL_TA</th>\n",
       "      <th>ID_TA</th>\n",
       "    </tr>\n",
       "  </thead>\n",
       "  <tbody>\n",
       "    <tr>\n",
       "      <th>10400</th>\n",
       "      <td>id_3001</td>\n",
       "      <td>Vienna</td>\n",
       "      <td>['Asian']</td>\n",
       "      <td>3003.0</td>\n",
       "      <td>3.5</td>\n",
       "      <td>NaN</td>\n",
       "      <td>5.0</td>\n",
       "      <td>[['What Chinese place does not serve rice.', '...</td>\n",
       "      <td>/Restaurant_Review-g190454-d3648199-Reviews-Fe...</td>\n",
       "      <td>d3648199</td>\n",
       "    </tr>\n",
       "  </tbody>\n",
       "</table>\n",
       "</div>"
      ],
      "text/plain": [
       "      restaurant_id    city cuisine_style  ranking  rating price_range  \\\n",
       "10400       id_3001  Vienna     ['Asian']   3003.0     3.5         NaN   \n",
       "\n",
       "       number_of_reviews                                            reviews  \\\n",
       "10400                5.0  [['What Chinese place does not serve rice.', '...   \n",
       "\n",
       "                                                  URL_TA     ID_TA  \n",
       "10400  /Restaurant_Review-g190454-d3648199-Reviews-Fe...  d3648199  "
      ]
     },
     "execution_count": 14,
     "metadata": {},
     "output_type": "execute_result"
    }
   ],
   "source": [
    "df.sample()"
   ]
  },
  {
   "cell_type": "markdown",
   "metadata": {},
   "source": [
    "Сколько ресторанов относятся к среднему ценовому сегменту?"
   ]
  },
  {
   "cell_type": "code",
   "execution_count": 15,
   "metadata": {},
   "outputs": [
    {
     "data": {
      "text/plain": [
       "18412"
      ]
     },
     "execution_count": 15,
     "metadata": {},
     "output_type": "execute_result"
    }
   ],
   "source": [
    "len(df[df.price_range == '$$ - $$$'])"
   ]
  },
  {
   "cell_type": "markdown",
   "metadata": {},
   "source": [
    " 4.2 Вопрос о городах  \n",
    "1 point possible (graded)  \n",
    "Сколько городов представлено в наборе данных?"
   ]
  },
  {
   "cell_type": "code",
   "execution_count": 16,
   "metadata": {},
   "outputs": [
    {
     "data": {
      "text/plain": [
       "31"
      ]
     },
     "execution_count": 16,
     "metadata": {},
     "output_type": "execute_result"
    }
   ],
   "source": [
    "len(df.city.unique())"
   ]
  },
  {
   "cell_type": "markdown",
   "metadata": {},
   "source": [
    "## 4.3 Вопросы о кухнях\n",
    "\n",
    "Сколько типов кухонь представлено в наборе данных?"
   ]
  },
  {
   "cell_type": "code",
   "execution_count": 17,
   "metadata": {},
   "outputs": [
    {
     "data": {
      "text/html": [
       "<div>\n",
       "<style scoped>\n",
       "    .dataframe tbody tr th:only-of-type {\n",
       "        vertical-align: middle;\n",
       "    }\n",
       "\n",
       "    .dataframe tbody tr th {\n",
       "        vertical-align: top;\n",
       "    }\n",
       "\n",
       "    .dataframe thead th {\n",
       "        text-align: right;\n",
       "    }\n",
       "</style>\n",
       "<table border=\"1\" class=\"dataframe\">\n",
       "  <thead>\n",
       "    <tr style=\"text-align: right;\">\n",
       "      <th></th>\n",
       "      <th>restaurant_id</th>\n",
       "      <th>city</th>\n",
       "      <th>cuisine_style</th>\n",
       "      <th>ranking</th>\n",
       "      <th>rating</th>\n",
       "      <th>price_range</th>\n",
       "      <th>number_of_reviews</th>\n",
       "      <th>reviews</th>\n",
       "      <th>URL_TA</th>\n",
       "      <th>ID_TA</th>\n",
       "    </tr>\n",
       "  </thead>\n",
       "  <tbody>\n",
       "    <tr>\n",
       "      <th>0</th>\n",
       "      <td>id_5569</td>\n",
       "      <td>Paris</td>\n",
       "      <td>European</td>\n",
       "      <td>5570.0</td>\n",
       "      <td>3.5</td>\n",
       "      <td>$$ - $$$</td>\n",
       "      <td>194.0</td>\n",
       "      <td>[['Good food at your doorstep', 'A good hotel ...</td>\n",
       "      <td>/Restaurant_Review-g187147-d1912643-Reviews-R_...</td>\n",
       "      <td>d1912643</td>\n",
       "    </tr>\n",
       "    <tr>\n",
       "      <th>0</th>\n",
       "      <td>id_5569</td>\n",
       "      <td>Paris</td>\n",
       "      <td>French</td>\n",
       "      <td>5570.0</td>\n",
       "      <td>3.5</td>\n",
       "      <td>$$ - $$$</td>\n",
       "      <td>194.0</td>\n",
       "      <td>[['Good food at your doorstep', 'A good hotel ...</td>\n",
       "      <td>/Restaurant_Review-g187147-d1912643-Reviews-R_...</td>\n",
       "      <td>d1912643</td>\n",
       "    </tr>\n",
       "    <tr>\n",
       "      <th>0</th>\n",
       "      <td>id_5569</td>\n",
       "      <td>Paris</td>\n",
       "      <td>International</td>\n",
       "      <td>5570.0</td>\n",
       "      <td>3.5</td>\n",
       "      <td>$$ - $$$</td>\n",
       "      <td>194.0</td>\n",
       "      <td>[['Good food at your doorstep', 'A good hotel ...</td>\n",
       "      <td>/Restaurant_Review-g187147-d1912643-Reviews-R_...</td>\n",
       "      <td>d1912643</td>\n",
       "    </tr>\n",
       "    <tr>\n",
       "      <th>1</th>\n",
       "      <td>id_1535</td>\n",
       "      <td>Stockholm</td>\n",
       "      <td>NaN</td>\n",
       "      <td>1537.0</td>\n",
       "      <td>4.0</td>\n",
       "      <td>NaN</td>\n",
       "      <td>10.0</td>\n",
       "      <td>[['Unique cuisine', 'Delicious Nepalese food']...</td>\n",
       "      <td>/Restaurant_Review-g189852-d7992032-Reviews-Bu...</td>\n",
       "      <td>d7992032</td>\n",
       "    </tr>\n",
       "    <tr>\n",
       "      <th>2</th>\n",
       "      <td>id_352</td>\n",
       "      <td>London</td>\n",
       "      <td>Japanese</td>\n",
       "      <td>353.0</td>\n",
       "      <td>4.5</td>\n",
       "      <td>$$$$</td>\n",
       "      <td>688.0</td>\n",
       "      <td>[['Catch up with friends', 'Not exceptional'],...</td>\n",
       "      <td>/Restaurant_Review-g186338-d8632781-Reviews-RO...</td>\n",
       "      <td>d8632781</td>\n",
       "    </tr>\n",
       "  </tbody>\n",
       "</table>\n",
       "</div>"
      ],
      "text/plain": [
       "  restaurant_id       city  cuisine_style  ranking  rating price_range  \\\n",
       "0       id_5569      Paris       European   5570.0     3.5    $$ - $$$   \n",
       "0       id_5569      Paris         French   5570.0     3.5    $$ - $$$   \n",
       "0       id_5569      Paris  International   5570.0     3.5    $$ - $$$   \n",
       "1       id_1535  Stockholm            NaN   1537.0     4.0         NaN   \n",
       "2        id_352     London       Japanese    353.0     4.5        $$$$   \n",
       "\n",
       "   number_of_reviews                                            reviews  \\\n",
       "0              194.0  [['Good food at your doorstep', 'A good hotel ...   \n",
       "0              194.0  [['Good food at your doorstep', 'A good hotel ...   \n",
       "0              194.0  [['Good food at your doorstep', 'A good hotel ...   \n",
       "1               10.0  [['Unique cuisine', 'Delicious Nepalese food']...   \n",
       "2              688.0  [['Catch up with friends', 'Not exceptional'],...   \n",
       "\n",
       "                                              URL_TA     ID_TA  \n",
       "0  /Restaurant_Review-g187147-d1912643-Reviews-R_...  d1912643  \n",
       "0  /Restaurant_Review-g187147-d1912643-Reviews-R_...  d1912643  \n",
       "0  /Restaurant_Review-g187147-d1912643-Reviews-R_...  d1912643  \n",
       "1  /Restaurant_Review-g189852-d7992032-Reviews-Bu...  d7992032  \n",
       "2  /Restaurant_Review-g186338-d8632781-Reviews-RO...  d8632781  "
      ]
     },
     "execution_count": 17,
     "metadata": {},
     "output_type": "execute_result"
    }
   ],
   "source": [
    "df = main_task.copy()\n",
    "df.cuisine_style = df.cuisine_style.str.replace(\"'\", '')\n",
    "df.cuisine_style = df.cuisine_style.str.replace(\"[\", '')\n",
    "df.cuisine_style = df.cuisine_style.str.replace(\"]\", '')\n",
    "df.cuisine_style = df.cuisine_style.str.replace(\" \", '')\n",
    "df.cuisine_style = df.cuisine_style.str.split(',')\n",
    "df = df.explode('cuisine_style')\n",
    "df.head()"
   ]
  },
  {
   "cell_type": "code",
   "execution_count": 18,
   "metadata": {},
   "outputs": [
    {
     "data": {
      "text/plain": [
       "str"
      ]
     },
     "metadata": {},
     "output_type": "display_data"
    },
    {
     "data": {
      "text/plain": [
       "\"European', 'French', 'International\""
      ]
     },
     "execution_count": 18,
     "metadata": {},
     "output_type": "execute_result"
    }
   ],
   "source": [
    "# не работает, пока что\n",
    "df_4 = main_task.copy()\n",
    "\n",
    "# df_4.cuisine_style = df_4.cuisine_style.str.replace((\"'\",\"[\",\"]\",\" \"), '')\n",
    "df_4.cuisine_style = df_4.cuisine_style.str.strip(\"'' []\")\n",
    "\n",
    "# df_4.cuisine_style = df_4.cuisine_style.str.strip()\n",
    "# df_4.cuisine_style = df_4.cuisine_style.str.split(',')\n",
    "# df_4 = df_4.explode('cuisine_style')\n",
    "display(type(df_4.cuisine_style.loc[0]))\n",
    "df_4.cuisine_style.loc[0]"
   ]
  },
  {
   "cell_type": "code",
   "execution_count": 19,
   "metadata": {},
   "outputs": [
    {
     "data": {
      "text/plain": [
       "125"
      ]
     },
     "metadata": {},
     "output_type": "display_data"
    },
    {
     "data": {
      "text/plain": [
       "VegetarianFriendly    11189\n",
       "European              10060\n",
       "Mediterranean          6277\n",
       "Italian                5964\n",
       "VeganOptions           4486\n",
       "                      ...  \n",
       "Yunnan                    1\n",
       "Xinjiang                  1\n",
       "Salvadoran                1\n",
       "Burmese                   1\n",
       "Latvian                   1\n",
       "Name: cuisine_style, Length: 125, dtype: int64"
      ]
     },
     "execution_count": 19,
     "metadata": {},
     "output_type": "execute_result"
    }
   ],
   "source": [
    "cuisine = [element for element in (df.cuisine_style.unique()) if type(element) == str]\n",
    "display(len(cuisine))\n",
    "df.cuisine_style.value_counts()"
   ]
  },
  {
   "cell_type": "markdown",
   "metadata": {},
   "source": [
    "Какое среднее количество кухонь предлагается в одном ресторане? Если в данных отсутствует информация о типах кухонь, то считайте, что в этом ресторане предлагается только один тип кухни. Ответ округлите до одного знака после запятой."
   ]
  },
  {
   "cell_type": "code",
   "execution_count": 20,
   "metadata": {},
   "outputs": [
    {
     "data": {
      "text/plain": [
       "2.6"
      ]
     },
     "execution_count": 20,
     "metadata": {},
     "output_type": "execute_result"
    }
   ],
   "source": [
    "df4 = main_task.copy()\n",
    "df4.cuisine_style = df4.cuisine_style.str.replace(\"'\", '')\n",
    "df4.cuisine_style = df4.cuisine_style.str.replace(\"[\", '')\n",
    "df4.cuisine_style = df4.cuisine_style.str.replace(\"]\", '')\n",
    "df4.cuisine_style = df4.cuisine_style.str.replace(\" \", '')\n",
    "df4.cuisine_style = df4.cuisine_style.str.split(',')\n",
    "\n",
    "def return_count(value):\n",
    "    if type(value) == list:\n",
    "        return len(value)\n",
    "    else: return 1\n",
    "df4['cuisine_number'] = df4.cuisine_style.apply(return_count)\n",
    "round(df4.cuisine_number.mean(),1)"
   ]
  },
  {
   "cell_type": "markdown",
   "metadata": {},
   "source": [
    "## 4.4 Вопросы об отзывах\n",
    "\n",
    "Когда был оставлен самый свежий отзыв? Введите ответ в формате yyyy-mm-dd.\n"
   ]
  },
  {
   "cell_type": "code",
   "execution_count": 41,
   "metadata": {},
   "outputs": [
    {
     "data": {
      "text/html": [
       "<div>\n",
       "<style scoped>\n",
       "    .dataframe tbody tr th:only-of-type {\n",
       "        vertical-align: middle;\n",
       "    }\n",
       "\n",
       "    .dataframe tbody tr th {\n",
       "        vertical-align: top;\n",
       "    }\n",
       "\n",
       "    .dataframe thead th {\n",
       "        text-align: right;\n",
       "    }\n",
       "</style>\n",
       "<table border=\"1\" class=\"dataframe\">\n",
       "  <thead>\n",
       "    <tr style=\"text-align: right;\">\n",
       "      <th></th>\n",
       "      <th>restaurant_id</th>\n",
       "      <th>city</th>\n",
       "      <th>cuisine_style</th>\n",
       "      <th>ranking</th>\n",
       "      <th>rating</th>\n",
       "      <th>price_range</th>\n",
       "      <th>number_of_reviews</th>\n",
       "      <th>reviews</th>\n",
       "      <th>URL_TA</th>\n",
       "      <th>ID_TA</th>\n",
       "    </tr>\n",
       "  </thead>\n",
       "  <tbody>\n",
       "    <tr>\n",
       "      <th>31432</th>\n",
       "      <td>id_3524</td>\n",
       "      <td>Barcelona</td>\n",
       "      <td>['Mediterranean', 'European', 'Spanish']</td>\n",
       "      <td>3525.0</td>\n",
       "      <td>3.5</td>\n",
       "      <td>$$$$</td>\n",
       "      <td>231.0</td>\n",
       "      <td>[['Nice terrace', 'Good location and atmospher...</td>\n",
       "      <td>/Restaurant_Review-g187497-d1028624-Reviews-El...</td>\n",
       "      <td>d1028624</td>\n",
       "    </tr>\n",
       "  </tbody>\n",
       "</table>\n",
       "</div>"
      ],
      "text/plain": [
       "      restaurant_id       city                             cuisine_style  \\\n",
       "31432       id_3524  Barcelona  ['Mediterranean', 'European', 'Spanish']   \n",
       "\n",
       "       ranking  rating price_range  number_of_reviews  \\\n",
       "31432   3525.0     3.5        $$$$              231.0   \n",
       "\n",
       "                                                 reviews  \\\n",
       "31432  [['Nice terrace', 'Good location and atmospher...   \n",
       "\n",
       "                                                  URL_TA     ID_TA  \n",
       "31432  /Restaurant_Review-g187497-d1028624-Reviews-El...  d1028624  "
      ]
     },
     "metadata": {},
     "output_type": "display_data"
    },
    {
     "data": {
      "text/plain": [
       "\"[['Good food at your doorstep', 'A good hotel restaurant'], ['12/31/2017', '11/20/2017']]\""
      ]
     },
     "execution_count": 41,
     "metadata": {},
     "output_type": "execute_result"
    }
   ],
   "source": [
    "df = main_task.copy()\n",
    "display(df.sample())\n",
    "df.reviews.loc[0]\n"
   ]
  },
  {
   "cell_type": "code",
   "execution_count": 42,
   "metadata": {},
   "outputs": [
    {
     "data": {
      "text/plain": [
       "['12/31/2017', '11/20/2017']"
      ]
     },
     "execution_count": 42,
     "metadata": {},
     "output_type": "execute_result"
    }
   ],
   "source": [
    "pattern = re.compile('\\d+\\W\\d+\\W\\d\\d\\d\\d')\n",
    "df['reviews_date'] = df.reviews.apply(lambda x: pattern.findall(str(x)))\n",
    "# df['reviews_date'] = df.reviews.str.replace(pattern, '')\n",
    "df.reviews_date.loc[0]"
   ]
  },
  {
   "cell_type": "code",
   "execution_count": 43,
   "metadata": {},
   "outputs": [
    {
     "data": {
      "text/plain": [
       "[]"
      ]
     },
     "execution_count": 43,
     "metadata": {},
     "output_type": "execute_result"
    }
   ],
   "source": [
    "df.reviews_date.loc[8]"
   ]
  },
  {
   "cell_type": "code",
   "execution_count": 44,
   "metadata": {},
   "outputs": [],
   "source": [
    "r_date = pd.DataFrame(df.reviews_date.explode())\n",
    "r_date.reviews_date = pd.to_datetime(r_date.reviews_date)"
   ]
  },
  {
   "cell_type": "code",
   "execution_count": 45,
   "metadata": {},
   "outputs": [
    {
     "data": {
      "text/plain": [
       "Timestamp('2018-02-26 00:00:00')"
      ]
     },
     "execution_count": 45,
     "metadata": {},
     "output_type": "execute_result"
    }
   ],
   "source": [
    "r_date.reviews_date.max()"
   ]
  },
  {
   "cell_type": "markdown",
   "metadata": {},
   "source": [
    "Какое максимальное количество дней отделяет даты публикации отзывов, размещённых на сайте ресторана? Введите количество дней в виде целого числа."
   ]
  },
  {
   "cell_type": "code",
   "execution_count": 46,
   "metadata": {},
   "outputs": [
    {
     "data": {
      "text/plain": [
       "reviews_date   3207 days\n",
       "dtype: timedelta64[ns]"
      ]
     },
     "execution_count": 46,
     "metadata": {},
     "output_type": "execute_result"
    }
   ],
   "source": [
    "first_review = r_date.groupby(r_date.index).min()\n",
    "last_review = r_date.groupby(r_date.index).max()\n",
    "delta_time = last_review - first_review\n",
    "delta_time.max()"
   ]
  },
  {
   "cell_type": "code",
   "execution_count": null,
   "metadata": {},
   "outputs": [],
   "source": [
    "Добавим к датафрейму три переменные: время публикации последнего отзыва, время публиккации предпоследнего отзыва и разницу в днях между ними."
   ]
  },
  {
   "cell_type": "code",
   "execution_count": 47,
   "metadata": {},
   "outputs": [
    {
     "name": "stdout",
     "output_type": "stream",
     "text": [
      "<class 'pandas.core.frame.DataFrame'>\n",
      "RangeIndex: 40000 entries, 0 to 39999\n",
      "Data columns (total 14 columns):\n",
      " #   Column              Non-Null Count  Dtype          \n",
      "---  ------              --------------  -----          \n",
      " 0   restaurant_id       40000 non-null  object         \n",
      " 1   city                40000 non-null  object         \n",
      " 2   cuisine_style       30717 non-null  object         \n",
      " 3   ranking             40000 non-null  float64        \n",
      " 4   rating              40000 non-null  float64        \n",
      " 5   price_range         26114 non-null  object         \n",
      " 6   number_of_reviews   37457 non-null  float64        \n",
      " 7   reviews             40000 non-null  object         \n",
      " 8   URL_TA              40000 non-null  object         \n",
      " 9   ID_TA               40000 non-null  object         \n",
      " 10  reviews_date        40000 non-null  object         \n",
      " 11  delta_reviews_time  33529 non-null  timedelta64[ns]\n",
      " 12  first_review_time   33529 non-null  datetime64[ns] \n",
      " 13  last_review_time    33529 non-null  datetime64[ns] \n",
      "dtypes: datetime64[ns](2), float64(3), object(8), timedelta64[ns](1)\n",
      "memory usage: 4.3+ MB\n"
     ]
    }
   ],
   "source": [
    "df['delta_reviews_time'] = delta_time.reviews_date\n",
    "df['first_review_time'] = first_review.reviews_date\n",
    "df['last_review_time'] = last_review.reviews_date\n",
    "\n",
    "df.reviews.loc[df.delta_reviews_time == df.delta_reviews_time.max()]\n",
    "# df\n",
    "df.info()"
   ]
  },
  {
   "cell_type": "code",
   "execution_count": 48,
   "metadata": {},
   "outputs": [
    {
     "data": {
      "text/html": [
       "<div>\n",
       "<style scoped>\n",
       "    .dataframe tbody tr th:only-of-type {\n",
       "        vertical-align: middle;\n",
       "    }\n",
       "\n",
       "    .dataframe tbody tr th {\n",
       "        vertical-align: top;\n",
       "    }\n",
       "\n",
       "    .dataframe thead th {\n",
       "        text-align: right;\n",
       "    }\n",
       "</style>\n",
       "<table border=\"1\" class=\"dataframe\">\n",
       "  <thead>\n",
       "    <tr style=\"text-align: right;\">\n",
       "      <th></th>\n",
       "      <th>restaurant_id</th>\n",
       "      <th>city</th>\n",
       "      <th>cuisine_style</th>\n",
       "      <th>ranking</th>\n",
       "      <th>rating</th>\n",
       "      <th>price_range</th>\n",
       "      <th>number_of_reviews</th>\n",
       "      <th>reviews</th>\n",
       "      <th>URL_TA</th>\n",
       "      <th>ID_TA</th>\n",
       "      <th>reviews_date</th>\n",
       "      <th>delta_reviews_time</th>\n",
       "      <th>first_review_time</th>\n",
       "      <th>last_review_time</th>\n",
       "    </tr>\n",
       "  </thead>\n",
       "  <tbody>\n",
       "    <tr>\n",
       "      <th>3</th>\n",
       "      <td>id_3456</td>\n",
       "      <td>Berlin</td>\n",
       "      <td>NaN</td>\n",
       "      <td>3458.0</td>\n",
       "      <td>5.0</td>\n",
       "      <td>NaN</td>\n",
       "      <td>3.0</td>\n",
       "      <td>[[], []]</td>\n",
       "      <td>/Restaurant_Review-g187323-d1358776-Reviews-Es...</td>\n",
       "      <td>d1358776</td>\n",
       "      <td>[]</td>\n",
       "      <td>NaT</td>\n",
       "      <td>NaT</td>\n",
       "      <td>NaT</td>\n",
       "    </tr>\n",
       "    <tr>\n",
       "      <th>8</th>\n",
       "      <td>id_2690</td>\n",
       "      <td>Vienna</td>\n",
       "      <td>NaN</td>\n",
       "      <td>2692.0</td>\n",
       "      <td>4.0</td>\n",
       "      <td>NaN</td>\n",
       "      <td>NaN</td>\n",
       "      <td>[[], []]</td>\n",
       "      <td>/Restaurant_Review-g190454-d12845029-Reviews-G...</td>\n",
       "      <td>d12845029</td>\n",
       "      <td>[]</td>\n",
       "      <td>NaT</td>\n",
       "      <td>NaT</td>\n",
       "      <td>NaT</td>\n",
       "    </tr>\n",
       "    <tr>\n",
       "      <th>10</th>\n",
       "      <td>id_6578</td>\n",
       "      <td>Barcelona</td>\n",
       "      <td>NaN</td>\n",
       "      <td>6579.0</td>\n",
       "      <td>3.0</td>\n",
       "      <td>NaN</td>\n",
       "      <td>6.0</td>\n",
       "      <td>[[], []]</td>\n",
       "      <td>/Restaurant_Review-g187497-d10696479-Reviews-R...</td>\n",
       "      <td>d10696479</td>\n",
       "      <td>[]</td>\n",
       "      <td>NaT</td>\n",
       "      <td>NaT</td>\n",
       "      <td>NaT</td>\n",
       "    </tr>\n",
       "    <tr>\n",
       "      <th>14</th>\n",
       "      <td>id_4773</td>\n",
       "      <td>Madrid</td>\n",
       "      <td>['Mediterranean', 'Spanish', 'Healthy']</td>\n",
       "      <td>4776.0</td>\n",
       "      <td>4.0</td>\n",
       "      <td>$$ - $$$</td>\n",
       "      <td>7.0</td>\n",
       "      <td>[[], []]</td>\n",
       "      <td>/Restaurant_Review-g187514-d10859423-Reviews-B...</td>\n",
       "      <td>d10859423</td>\n",
       "      <td>[]</td>\n",
       "      <td>NaT</td>\n",
       "      <td>NaT</td>\n",
       "      <td>NaT</td>\n",
       "    </tr>\n",
       "    <tr>\n",
       "      <th>21</th>\n",
       "      <td>id_5844</td>\n",
       "      <td>Madrid</td>\n",
       "      <td>NaN</td>\n",
       "      <td>5847.0</td>\n",
       "      <td>4.0</td>\n",
       "      <td>NaN</td>\n",
       "      <td>NaN</td>\n",
       "      <td>[[], []]</td>\n",
       "      <td>/Restaurant_Review-g187514-d10058810-Reviews-B...</td>\n",
       "      <td>d10058810</td>\n",
       "      <td>[]</td>\n",
       "      <td>NaT</td>\n",
       "      <td>NaT</td>\n",
       "      <td>NaT</td>\n",
       "    </tr>\n",
       "    <tr>\n",
       "      <th>...</th>\n",
       "      <td>...</td>\n",
       "      <td>...</td>\n",
       "      <td>...</td>\n",
       "      <td>...</td>\n",
       "      <td>...</td>\n",
       "      <td>...</td>\n",
       "      <td>...</td>\n",
       "      <td>...</td>\n",
       "      <td>...</td>\n",
       "      <td>...</td>\n",
       "      <td>...</td>\n",
       "      <td>...</td>\n",
       "      <td>...</td>\n",
       "      <td>...</td>\n",
       "    </tr>\n",
       "    <tr>\n",
       "      <th>39981</th>\n",
       "      <td>id_924</td>\n",
       "      <td>Lyon</td>\n",
       "      <td>NaN</td>\n",
       "      <td>925.0</td>\n",
       "      <td>4.0</td>\n",
       "      <td>NaN</td>\n",
       "      <td>29.0</td>\n",
       "      <td>[[], []]</td>\n",
       "      <td>/Restaurant_Review-g187265-d5850306-Reviews-Re...</td>\n",
       "      <td>d5850306</td>\n",
       "      <td>[]</td>\n",
       "      <td>NaT</td>\n",
       "      <td>NaT</td>\n",
       "      <td>NaT</td>\n",
       "    </tr>\n",
       "    <tr>\n",
       "      <th>39986</th>\n",
       "      <td>id_7274</td>\n",
       "      <td>Madrid</td>\n",
       "      <td>NaN</td>\n",
       "      <td>7279.0</td>\n",
       "      <td>3.0</td>\n",
       "      <td>NaN</td>\n",
       "      <td>NaN</td>\n",
       "      <td>[[], []]</td>\n",
       "      <td>/Restaurant_Review-g187514-d12182212-Reviews-C...</td>\n",
       "      <td>d12182212</td>\n",
       "      <td>[]</td>\n",
       "      <td>NaT</td>\n",
       "      <td>NaT</td>\n",
       "      <td>NaT</td>\n",
       "    </tr>\n",
       "    <tr>\n",
       "      <th>39988</th>\n",
       "      <td>id_4968</td>\n",
       "      <td>Berlin</td>\n",
       "      <td>NaN</td>\n",
       "      <td>4970.0</td>\n",
       "      <td>4.0</td>\n",
       "      <td>NaN</td>\n",
       "      <td>NaN</td>\n",
       "      <td>[[], []]</td>\n",
       "      <td>/Restaurant_Review-g187323-d7761701-Reviews-Ar...</td>\n",
       "      <td>d7761701</td>\n",
       "      <td>[]</td>\n",
       "      <td>NaT</td>\n",
       "      <td>NaT</td>\n",
       "      <td>NaT</td>\n",
       "    </tr>\n",
       "    <tr>\n",
       "      <th>39991</th>\n",
       "      <td>id_6655</td>\n",
       "      <td>Paris</td>\n",
       "      <td>['French', 'Contemporary', 'Fusion', 'Gastropub']</td>\n",
       "      <td>6656.0</td>\n",
       "      <td>5.0</td>\n",
       "      <td>$$ - $$$</td>\n",
       "      <td>5.0</td>\n",
       "      <td>[[], []]</td>\n",
       "      <td>/Restaurant_Review-g187147-d13224611-Reviews-L...</td>\n",
       "      <td>d13224611</td>\n",
       "      <td>[]</td>\n",
       "      <td>NaT</td>\n",
       "      <td>NaT</td>\n",
       "      <td>NaT</td>\n",
       "    </tr>\n",
       "    <tr>\n",
       "      <th>39994</th>\n",
       "      <td>id_7074</td>\n",
       "      <td>Paris</td>\n",
       "      <td>['French', 'Fast Food', 'Mediterranean', 'Heal...</td>\n",
       "      <td>7075.0</td>\n",
       "      <td>4.5</td>\n",
       "      <td>$$ - $$$</td>\n",
       "      <td>6.0</td>\n",
       "      <td>[[], []]</td>\n",
       "      <td>/Restaurant_Review-g187147-d12621988-Reviews-C...</td>\n",
       "      <td>d12621988</td>\n",
       "      <td>[]</td>\n",
       "      <td>NaT</td>\n",
       "      <td>NaT</td>\n",
       "      <td>NaT</td>\n",
       "    </tr>\n",
       "  </tbody>\n",
       "</table>\n",
       "<p>6471 rows × 14 columns</p>\n",
       "</div>"
      ],
      "text/plain": [
       "      restaurant_id       city  \\\n",
       "3           id_3456     Berlin   \n",
       "8           id_2690     Vienna   \n",
       "10          id_6578  Barcelona   \n",
       "14          id_4773     Madrid   \n",
       "21          id_5844     Madrid   \n",
       "...             ...        ...   \n",
       "39981        id_924       Lyon   \n",
       "39986       id_7274     Madrid   \n",
       "39988       id_4968     Berlin   \n",
       "39991       id_6655      Paris   \n",
       "39994       id_7074      Paris   \n",
       "\n",
       "                                           cuisine_style  ranking  rating  \\\n",
       "3                                                    NaN   3458.0     5.0   \n",
       "8                                                    NaN   2692.0     4.0   \n",
       "10                                                   NaN   6579.0     3.0   \n",
       "14               ['Mediterranean', 'Spanish', 'Healthy']   4776.0     4.0   \n",
       "21                                                   NaN   5847.0     4.0   \n",
       "...                                                  ...      ...     ...   \n",
       "39981                                                NaN    925.0     4.0   \n",
       "39986                                                NaN   7279.0     3.0   \n",
       "39988                                                NaN   4970.0     4.0   \n",
       "39991  ['French', 'Contemporary', 'Fusion', 'Gastropub']   6656.0     5.0   \n",
       "39994  ['French', 'Fast Food', 'Mediterranean', 'Heal...   7075.0     4.5   \n",
       "\n",
       "      price_range  number_of_reviews   reviews  \\\n",
       "3             NaN                3.0  [[], []]   \n",
       "8             NaN                NaN  [[], []]   \n",
       "10            NaN                6.0  [[], []]   \n",
       "14       $$ - $$$                7.0  [[], []]   \n",
       "21            NaN                NaN  [[], []]   \n",
       "...           ...                ...       ...   \n",
       "39981         NaN               29.0  [[], []]   \n",
       "39986         NaN                NaN  [[], []]   \n",
       "39988         NaN                NaN  [[], []]   \n",
       "39991    $$ - $$$                5.0  [[], []]   \n",
       "39994    $$ - $$$                6.0  [[], []]   \n",
       "\n",
       "                                                  URL_TA      ID_TA  \\\n",
       "3      /Restaurant_Review-g187323-d1358776-Reviews-Es...   d1358776   \n",
       "8      /Restaurant_Review-g190454-d12845029-Reviews-G...  d12845029   \n",
       "10     /Restaurant_Review-g187497-d10696479-Reviews-R...  d10696479   \n",
       "14     /Restaurant_Review-g187514-d10859423-Reviews-B...  d10859423   \n",
       "21     /Restaurant_Review-g187514-d10058810-Reviews-B...  d10058810   \n",
       "...                                                  ...        ...   \n",
       "39981  /Restaurant_Review-g187265-d5850306-Reviews-Re...   d5850306   \n",
       "39986  /Restaurant_Review-g187514-d12182212-Reviews-C...  d12182212   \n",
       "39988  /Restaurant_Review-g187323-d7761701-Reviews-Ar...   d7761701   \n",
       "39991  /Restaurant_Review-g187147-d13224611-Reviews-L...  d13224611   \n",
       "39994  /Restaurant_Review-g187147-d12621988-Reviews-C...  d12621988   \n",
       "\n",
       "      reviews_date delta_reviews_time first_review_time last_review_time  \n",
       "3               []                NaT               NaT              NaT  \n",
       "8               []                NaT               NaT              NaT  \n",
       "10              []                NaT               NaT              NaT  \n",
       "14              []                NaT               NaT              NaT  \n",
       "21              []                NaT               NaT              NaT  \n",
       "...            ...                ...               ...              ...  \n",
       "39981           []                NaT               NaT              NaT  \n",
       "39986           []                NaT               NaT              NaT  \n",
       "39988           []                NaT               NaT              NaT  \n",
       "39991           []                NaT               NaT              NaT  \n",
       "39994           []                NaT               NaT              NaT  \n",
       "\n",
       "[6471 rows x 14 columns]"
      ]
     },
     "execution_count": 48,
     "metadata": {},
     "output_type": "execute_result"
    }
   ],
   "source": [
    "df[df.delta_reviews_time.isna()]"
   ]
  },
  {
   "cell_type": "code",
   "execution_count": 62,
   "metadata": {},
   "outputs": [
    {
     "data": {
      "text/plain": [
       "'41 days 00:00:00'"
      ]
     },
     "execution_count": 62,
     "metadata": {},
     "output_type": "execute_result"
    }
   ],
   "source": [
    "# df.delta_reviews_time = df.delta_reviews_time.datetime.timestamp()\n",
    "# df.first_review_time = df.first_review_time.dt.timestamp()\n",
    "# df.last_review_time = df.last_review_time.dt.timestamp() \n",
    "# datetime.timestamp() timestamp()\n",
    "str(df.loc[0,'delta_reviews_time'])\n",
    "# type(df.loc[4,'delta_reviews_time'])"
   ]
  },
  {
   "cell_type": "markdown",
   "metadata": {},
   "source": [
    "Приведём переменную delta_reviews_time из типа pandas._libs.tslibs.timedeltas.Timedelta в int"
   ]
  },
  {
   "cell_type": "code",
   "execution_count": 89,
   "metadata": {},
   "outputs": [
    {
     "name": "stdout",
     "output_type": "stream",
     "text": [
      "<class 'pandas.core.frame.DataFrame'>\n",
      "RangeIndex: 40000 entries, 0 to 39999\n",
      "Data columns (total 14 columns):\n",
      " #   Column              Non-Null Count  Dtype         \n",
      "---  ------              --------------  -----         \n",
      " 0   restaurant_id       40000 non-null  object        \n",
      " 1   city                40000 non-null  object        \n",
      " 2   cuisine_style       30717 non-null  object        \n",
      " 3   ranking             40000 non-null  float64       \n",
      " 4   rating              40000 non-null  float64       \n",
      " 5   price_range         26114 non-null  object        \n",
      " 6   number_of_reviews   37457 non-null  float64       \n",
      " 7   reviews             40000 non-null  object        \n",
      " 8   URL_TA              40000 non-null  object        \n",
      " 9   ID_TA               40000 non-null  object        \n",
      " 10  reviews_date        40000 non-null  object        \n",
      " 11  delta_reviews_time  40000 non-null  int64         \n",
      " 12  first_review_time   33529 non-null  datetime64[ns]\n",
      " 13  last_review_time    33529 non-null  datetime64[ns]\n",
      "dtypes: datetime64[ns](2), float64(3), int64(1), object(8)\n",
      "memory usage: 4.3+ MB\n"
     ]
    }
   ],
   "source": [
    "df_ = df.copy()\n",
    "df_.delta_reviews_time = df_.delta_reviews_time.apply(lambda x: str(x)).str.split(' ',expand=True)\n",
    "df_.delta_reviews_time = df_.delta_reviews_time.replace('NaT',0)\n",
    "df_.delta_reviews_time = df_.delta_reviews_time.astype(int)\n",
    "\n",
    "df_.info()"
   ]
  },
  {
   "cell_type": "code",
   "execution_count": 92,
   "metadata": {},
   "outputs": [
    {
     "data": {
      "text/plain": [
       "0        20.0\n",
       "1        19.0\n",
       "2         6.0\n",
       "3         NaN\n",
       "4        19.0\n",
       "         ... \n",
       "39995    12.0\n",
       "39996    12.0\n",
       "39997    12.0\n",
       "39998    18.0\n",
       "39999     4.0\n",
       "Name: first_review_time, Length: 40000, dtype: float64"
      ]
     },
     "execution_count": 92,
     "metadata": {},
     "output_type": "execute_result"
    }
   ],
   "source": [
    "df_.first_review_time.dt.day"
   ]
  },
  {
   "cell_type": "markdown",
   "metadata": {},
   "source": [
    "\n",
    "* Restaurant_id — идентификационный номер ресторана / сети ресторанов;\n",
    "* City — город, в котором находится ресторан;\n",
    "* Cuisine Style — кухня или кухни, к которым можно отнести блюда, предлагаемые в ресторане;\n",
    "* Ranking — место, которое занимает данный ресторан среди всех ресторанов своего города;\n",
    "* Rating — рейтинг ресторана по данным TripAdvisor (именно это значение должна будет предсказывать модель);\n",
    "* Price Range — диапазон цен в ресторане;\n",
    "* Number of Reviews — количество отзывов о ресторане;\n",
    "* Reviews — данные о двух отзывах, которые отображаются на сайте ресторана;\n",
    "* URL_TA — URL страницы ресторана на TripAdvisor;\n",
    "* ID_TA — идентификатор ресторана в базе данных TripAdvisor.\n",
    "\n"
   ]
  }
 ],
 "metadata": {
  "kernelspec": {
   "display_name": "Python 3",
   "language": "python",
   "name": "python3"
  },
  "language_info": {
   "codemirror_mode": {
    "name": "ipython",
    "version": 3
   },
   "file_extension": ".py",
   "mimetype": "text/x-python",
   "name": "python",
   "nbconvert_exporter": "python",
   "pygments_lexer": "ipython3",
   "version": "3.8.3"
  }
 },
 "nbformat": 4,
 "nbformat_minor": 4
}
